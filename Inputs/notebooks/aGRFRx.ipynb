{
 "cells": [
  {
   "cell_type": "markdown",
   "metadata": {},
   "source": [
    "# Occurrence Records from GBIF\n",
    "This notebook is a tool for exploring data sets requested from GBIF (and eventually other sources), and mostly for developing criteria for filtering records (filter sets).  When the entire notebook is run, it retrieves records according to the filter sets specified and saves the results (records and some summary tables) in an sqlite database.  Some information is pulled from the parameters.sqlite database that is saved in this repository."
   ]
  },
  {
   "cell_type": "markdown",
   "metadata": {},
   "source": [
    "### Set Variables - fill out stuff in this cell.  \n",
    "Notes:\n",
    "default_coordUncertainty -- coordinateUncertaintyInMeters is often not provided.  Here is an option to use a default.  If you don't want anything entered, set this equal to False (boolean, not string)."
   ]
  },
  {
   "cell_type": "code",
   "execution_count": 1,
   "metadata": {},
   "outputs": [],
   "source": [
    "species_id = 'agrfrx0'\n",
    "summary_name = 'Green Frog'\n",
    "gbif_req_id = 'EvalGBIFRequest'\n",
    "gbif_filter_id = 'EvalGBIFFilter'\n",
    "default_coordUncertainty = False       # Note above.\n",
    "workDir = 'D:/USGS Analyses/GAP-Habitat-Map-Assessment/'   # Be sure to create folders named \"Inputs\" and \"Outputs\" here.\n",
    "codeDir = workDir + 'Scripts/'\n",
    "dbDir = workDir + 'db/'\n",
    "paramdb = dbDir + 'wildlife-wrangler.sqlite'\n",
    "configDir = workDir  # Path to folder where saved your wildlifeconfig file."
   ]
  },
  {
   "cell_type": "markdown",
   "metadata": {},
   "source": [
    "### Setup - nothing to fill out in this cell"
   ]
  },
  {
   "cell_type": "code",
   "execution_count": 2,
   "metadata": {},
   "outputs": [
    {
     "name": "stdout",
     "output_type": "stream",
     "text": [
      "Notebook run 2020-04-23 08:27:58.875330\n",
      "D:/USGS Analyses/GAP-Habitat-Map-Assessment/Outputs/agrfrx0EvalGBIFRequestEvalGBIFFilter.sqlite\n"
     ]
    }
   ],
   "source": [
    "%matplotlib inline\n",
    "import sqlite3\n",
    "import pprint\n",
    "import json\n",
    "import pandas as pd\n",
    "import numpy as np\n",
    "pd.set_option('display.width', 600)\n",
    "pd.set_option('display.max_colwidth', 30)\n",
    "pd.set_option('display.max_rows', 150)\n",
    "from IPython.display import Image\n",
    "from pygbif import occurrences\n",
    "import matplotlib.pyplot as plt\n",
    "import os\n",
    "from datetime import datetime\n",
    "t1 = datetime.now()\n",
    "import sys\n",
    "sys.path.append(configDir)\n",
    "import config\n",
    "sys.path.append(codeDir)\n",
    "import repo_functions as functions\n",
    "inDir = workDir + 'Inputs/'\n",
    "outDir = workDir + 'Outputs/'\n",
    "spdb = outDir + species_id + gbif_req_id + gbif_filter_id + '.sqlite'\n",
    "username = config.gbif_username\n",
    "password = config.gbif_password\n",
    "email = config.gbif_email\n",
    "print(\"Notebook run \" + str(t1))\n",
    "print(spdb)\n",
    "connjup = sqlite3.connect(paramdb)\n",
    "cursorjup = connjup.cursor()\n",
    "# Get some variables\n",
    "years = connjup.execute(\"\"\"SELECT years_range \n",
    "                           FROM gbif_requests WHERE request_id = '{0}'\"\"\".format(gbif_req_id)).fetchone()[0]\n",
    "gap_id = connjup.execute(\"\"\"SELECT gap_id\n",
    "                            FROM species_concepts WHERE species_id = '{0}'\"\"\".format(species_id)).fetchone()[0]\n",
    "common_name = connjup.execute(\"\"\"SELECT common_name\n",
    "                                 FROM species_concepts WHERE species_id = '{0}'\"\"\".format(species_id)).fetchone()[0]"
   ]
  },
  {
   "cell_type": "markdown",
   "metadata": {},
   "source": [
    "# Species Concept\n",
    "Display information on the species from the parameters.sqlite database."
   ]
  },
  {
   "cell_type": "code",
   "execution_count": 3,
   "metadata": {},
   "outputs": [
    {
     "name": "stdout",
     "output_type": "stream",
     "text": [
      "SPECIES CONCEPT RECORD\n",
      "                                                   VALUE\n",
      "ATTRIBUTE                                               \n",
      "species_id                                       agrfrx0\n",
      "fws_id                                              None\n",
      "gap_id                                            aGRFRx\n",
      "itis_tsn                                              NA\n",
      "gbif_id                                          2427172\n",
      "bcb_id                                              None\n",
      "ebird_id                                            None\n",
      "common_name                                   Green Frog\n",
      "scientific_name                     Lithobates clamitans\n",
      "start_year                                          1801\n",
      "split_from                                          None\n",
      "end_year                                            None\n",
      "lumped_into                                         None\n",
      "geometry                                            None\n",
      "detection_distance_meters                              0\n",
      "vetted_how                                  NS,GBIF,IUCN\n",
      "vetted_who                                     M. Rubino\n",
      "vetted_date                                   04/22/2020\n",
      "notes                      Basionym: Rana clamitans L...\n"
     ]
    }
   ],
   "source": [
    "vals = cursorjup.execute(\"SELECT * FROM species_concepts WHERE species_id = '{0}';\".format(species_id)).fetchall()[0]\n",
    "cols = [x[1] for x in cursorjup.execute(\"PRAGMA table_info('species_concepts')\").fetchall()]\n",
    "sp_dict = dict(zip(cols, vals))\n",
    "sp_df = pd.DataFrame.from_dict(sp_dict, orient='index', columns=['VALUE'])\n",
    "sp_df.index.name = 'ATTRIBUTE'\n",
    "print(\"SPECIES CONCEPT RECORD\")\n",
    "print(sp_df)"
   ]
  },
  {
   "cell_type": "markdown",
   "metadata": {},
   "source": [
    "# Filters\n",
    "Display the parameters of the request filter set.  These are deployed during the step where records are retrieved from the API."
   ]
  },
  {
   "cell_type": "code",
   "execution_count": 4,
   "metadata": {},
   "outputs": [
    {
     "name": "stdout",
     "output_type": "stream",
     "text": [
      "THE REQUEST FILTER SET\n",
      "request_id                    EvalGBIFRequest\n",
      "source                                   GBIF\n",
      "lat_range                                None\n",
      "lon_range                                None\n",
      "years_range                         1999,2020\n",
      "months_range                             1,12\n",
      "geoissue                                False\n",
      "coordinate                               True\n",
      "country                                    US\n",
      "geometry                                 None\n",
      "creator                             M. Rubino\n",
      "notes           amphibian evaluation reque...\n",
      "Name: 0, dtype: object\n"
     ]
    }
   ],
   "source": [
    "request_df = pd.read_sql_query(sql=\"SELECT * FROM gbif_requests WHERE request_id = '{0}'\".format(gbif_req_id), con=connjup)\n",
    "print(\"THE REQUEST FILTER SET\")\n",
    "print(request_df.loc[0])"
   ]
  },
  {
   "cell_type": "markdown",
   "metadata": {},
   "source": [
    "Display the parameters of the post-request filter set.  These are deployed after the records are retrieved from the API, but before they are stored in the occurrence record sqlite database."
   ]
  },
  {
   "cell_type": "code",
   "execution_count": 5,
   "metadata": {},
   "outputs": [
    {
     "name": "stdout",
     "output_type": "stream",
     "text": [
      "THE POST REQUEST FILTER SET\n",
      "filter_id                                    EvalGBIFFilter\n",
      "dataset                                                GBIF\n",
      "institutions_omit                                      None\n",
      "collection_codes_omit                                  None\n",
      "datasets_omit                                          None\n",
      "has_coordinate_uncertainty                                1\n",
      "max_coordinate_uncertainty                            10000\n",
      "bases_omit                                  FOSSIL_SPECIMEN\n",
      "sampling_protocols_omit                                None\n",
      "issues_omit                                            None\n",
      "duplicates_OK                                         False\n",
      "creator                                           M. Rubino\n",
      "notes                         amphibian evaluation filte...\n",
      "Name: 0, dtype: object\n"
     ]
    }
   ],
   "source": [
    "filter_df = pd.read_sql_query(sql=\"SELECT * FROM gbif_filters WHERE filter_id = '{0}'\".format(gbif_filter_id), con=connjup)\n",
    "print(\"THE POST REQUEST FILTER SET\")\n",
    "print(filter_df.loc[0])"
   ]
  },
  {
   "cell_type": "code",
   "execution_count": 6,
   "metadata": {
    "scrolled": false
   },
   "outputs": [
    {
     "name": "stdout",
     "output_type": "stream",
     "text": [
      "SPATIALITE_SECURITY set to relaxed\n",
      "Created occurrence db: 0:00:00.250017\n",
      "Got request params and sorted out geometry constraints: 0:00:00\n",
      "13151 records available\n",
      "Downloaded records: 0:01:26.953054\n",
      "Summarized fields returned: 0:11:02.878098\n",
      "Created summary table of request results: 0:00:00.062532\n",
      "Performed post-request filtering: 0:00:00.046880\n",
      "Calculated new columns, deleted some too: 0:00:00.062503\n",
      "252 duplicate records dropped: 0:00:04.015844\n",
      "Inserted records into table: 0:00:00.187508\n",
      "Summarized unique values retained: 0:00:00\n",
      "Updated occurrences table geometry column: 0:00:00.890673\n",
      "Buffered points: 0:00:03.977817\n"
     ]
    }
   ],
   "source": [
    "functions.retrieve_gbif_occurrences(codeDir, species_id, inDir, paramdb, spdb, gbif_req_id, gbif_filter_id, \n",
    "                                    default_coordUncertainty, outDir, summary_name, username,\n",
    "                                   password, email)"
   ]
  },
  {
   "cell_type": "code",
   "execution_count": 7,
   "metadata": {},
   "outputs": [
    {
     "name": "stdout",
     "output_type": "stream",
     "text": [
      "codeDir: D:/USGS Analyses/GAP-Habitat-Map-Assessment/Scripts/\n",
      " species_id: agrfrx0\n",
      " inDir: D:/USGS Analyses/GAP-Habitat-Map-Assessment/Inputs/\n",
      " paramdb: D:/USGS Analyses/GAP-Habitat-Map-Assessment/db/wildlife-wrangler.sqlite\n",
      " spdb: D:/USGS Analyses/GAP-Habitat-Map-Assessment/Outputs/agrfrx0EvalGBIFRequestEvalGBIFFilter.sqlite\n",
      " gbif_req_id: EvalGBIFRequest\n",
      " gbif_filter_id: EvalGBIFFilter\n",
      " default_coordUncertainty: False\n",
      " outDir: D:/USGS Analyses/GAP-Habitat-Map-Assessment/Outputs/\n",
      " summary_name: Green Frog\n",
      " username: gapper\n",
      " password: metspirates\n",
      " email: pythonprocessing@gmail.com\n"
     ]
    }
   ],
   "source": [
    "print('codeDir: '+codeDir+'\\n', \n",
    "'species_id: '+species_id+'\\n', \n",
    "'inDir: '+inDir+'\\n', \n",
    "'paramdb: '+paramdb+'\\n', \n",
    "'spdb: '+spdb+'\\n', \n",
    "'gbif_req_id: '+gbif_req_id+'\\n', \n",
    "'gbif_filter_id: '+gbif_filter_id+'\\n', \n",
    "'default_coordUncertainty: '+str(default_coordUncertainty)+'\\n', \n",
    "'outDir: '+outDir+'\\n', \n",
    "'summary_name: '+summary_name+'\\n', \n",
    "'username: '+username+'\\n',\n",
    "'password: '+password+'\\n', \n",
    "'email: '+email)"
   ]
  },
  {
   "cell_type": "markdown",
   "metadata": {},
   "source": [
    "### Connect to output database, record species and filter info."
   ]
  },
  {
   "cell_type": "code",
   "execution_count": 8,
   "metadata": {},
   "outputs": [],
   "source": [
    "conn_occ= sqlite3.connect(spdb)\n",
    "curs_occ = conn_occ.cursor()\n",
    "sp_df.to_sql(name='species_concept', con=conn_occ, if_exists='replace')\n",
    "request_df.to_sql(name=gbif_req_id, con=conn_occ, if_exists='replace')\n",
    "filter_df.to_sql(name=gbif_filter_id, con=conn_occ, if_exists='replace')"
   ]
  },
  {
   "cell_type": "markdown",
   "metadata": {},
   "source": [
    "### How many records made it through the filters?\n",
    "This is the number that was actually saved in the occurrence record sqlite database."
   ]
  },
  {
   "cell_type": "code",
   "execution_count": 9,
   "metadata": {},
   "outputs": [
    {
     "name": "stdout",
     "output_type": "stream",
     "text": [
      "5815 records\n"
     ]
    }
   ],
   "source": [
    "record_count = curs_occ.execute(\"SELECT COUNT(occ_id) FROM occurrences WHERE species_id = '{0}'\".format(species_id)).fetchone()\n",
    "print(str(record_count[0]) + \" records\")"
   ]
  },
  {
   "cell_type": "markdown",
   "metadata": {},
   "source": [
    "# Sources\n",
    "#### Pre-filters"
   ]
  },
  {
   "cell_type": "code",
   "execution_count": 10,
   "metadata": {},
   "outputs": [
    {
     "name": "stdout",
     "output_type": "stream",
     "text": [
      "GBIF\n",
      "                  institutionCode                 collectionCode                    datasetName     0\n",
      "0                             AUM                          Herps                        UNKNOWN    28\n",
      "1   BSC; Bird Studies Canada -...  MMP; Marsh Monitoring Prog...                        UNKNOWN   916\n",
      "2   Borror Laboratory of Bioac...                     Recordings                        UNKNOWN     8\n",
      "3                             CAS                           HERP                        UNKNOWN     3\n",
      "4                             CLO                             ML                        UNKNOWN    17\n",
      "5                            CUMV                          Herps                        UNKNOWN     9\n",
      "6                            FHSM                           HERP                        UNKNOWN    21\n",
      "7                             GSU                       GSU-Herp  Georgia Southern Universit...     2\n",
      "8                              KU                            KUH  University of Kansas Biodi...    21\n",
      "9                            LACM                          Herps               LACM Vertebrates     6\n",
      "10                          LSUMZ                          Herps                        UNKNOWN     2\n",
      "11                           MCNH                     Amphibians                        UNKNOWN     1\n",
      "12                            MCZ                           Herp                        UNKNOWN   149\n",
      "13                            MPM                              H                        UNKNOWN    15\n",
      "14                            MSB  Amphibian and reptile spec...                        UNKNOWN    12\n",
      "15                            MVZ  Amphibian and reptile spec...                        UNKNOWN     2\n",
      "16                           NCSM                           Herp    NCSM Herpetology Collection   242\n",
      "17                           OMNH                     Amphibians                        UNKNOWN   122\n",
      "18                           OMNH                           OCGR  Oklahoma Collection of Gen...    92\n",
      "19                            ROM        Reptiles and Amphibians                    Herpetology     1\n",
      "20                            SLU                          Herps                        UNKNOWN     3\n",
      "21                           TCWC                    Herpetology                        UNKNOWN   931\n",
      "22                             UF                           Herp                        UNKNOWN    81\n",
      "23                        UNKNOWN                        UNKNOWN                        UNKNOWN    27\n",
      "24                           USNM          Amphibians & Reptiles            NMNH Extant Biology    88\n",
      "25                           UTEP  Amphibian and reptile spec...                        UNKNOWN    18\n",
      "26                            YPM                             VZ                        UNKNOWN  2679\n",
      "27                    iNaturalist                   Observations  iNaturalist research-grade...  7653\n",
      "28                    naturgucker                    naturgucker                        UNKNOWN     2\n"
     ]
    }
   ],
   "source": [
    "tables = cursorjup.execute(\"SELECT table_name FROM table_descriptions\").fetchall()\n",
    "tables = [x[0] for x in tables]\n",
    "\n",
    "filter_sets = [gbif_req_id, gbif_filter_id]\n",
    "\n",
    "sources = []\n",
    "for s in filter_sets:\n",
    "    s = s.strip()\n",
    "    for tab in tables:\n",
    "        columns = cursorjup.execute(\"SELECT column_name FROM column_descriptions WHERE table_name = '{0}'\".format(tab)).fetchall()\n",
    "        columns = [x[0] for x in columns]\n",
    "        for col in columns:\n",
    "            try:\n",
    "                a = cursorjup.execute(\"SELECT source FROM {1} WHERE {2} = '{0}'\".format(s, tab, col)).fetchone()[0]\n",
    "                sources.append(a)\n",
    "            except:\n",
    "                pass\n",
    "print(list(set(sources))[0])\n",
    "\n",
    "sources = pd.read_sql(sql=\"SELECT * FROM pre_filter_source_counts;\", con=conn_occ)\n",
    "print(sources)"
   ]
  },
  {
   "cell_type": "markdown",
   "metadata": {},
   "source": [
    "#### Post-filters"
   ]
  },
  {
   "cell_type": "code",
   "execution_count": 11,
   "metadata": {},
   "outputs": [
    {
     "name": "stdout",
     "output_type": "stream",
     "text": [
      "GBIF\n",
      "   institutionCode                 collectionCode                    datasetName  COUNT(occ_id)\n",
      "0             CUMV                          Herps                        UNKNOWN              5\n",
      "1              MCZ                           Herp                        UNKNOWN            102\n",
      "2              MVZ  Amphibian and reptile spec...                        UNKNOWN              1\n",
      "3             NCSM                           Herp    NCSM Herpetology Collection             62\n",
      "4             OMNH                     Amphibians                        UNKNOWN              5\n",
      "5               UF                           Herp                        UNKNOWN             45\n",
      "6             USNM          Amphibians & Reptiles            NMNH Extant Biology             33\n",
      "7             UTEP  Amphibian and reptile spec...                        UNKNOWN             10\n",
      "8              YPM                             VZ                        UNKNOWN             80\n",
      "9      iNaturalist                   Observations  iNaturalist research-grade...           5470\n",
      "10     naturgucker                    naturgucker                        UNKNOWN              2\n"
     ]
    }
   ],
   "source": [
    "tables = cursorjup.execute(\"SELECT table_name FROM table_descriptions\").fetchall()\n",
    "tables = [x[0] for x in tables]\n",
    "\n",
    "filter_sets = [gbif_req_id, gbif_filter_id]\n",
    "\n",
    "sources = []\n",
    "for s in filter_sets:\n",
    "    s = s.strip()\n",
    "    for tab in tables:\n",
    "        columns = cursorjup.execute(\"SELECT column_name FROM column_descriptions WHERE table_name = '{0}'\".format(tab)).fetchall()\n",
    "        columns = [x[0] for x in columns]\n",
    "        for col in columns:\n",
    "            try:\n",
    "                a = cursorjup.execute(\"SELECT source FROM {1} WHERE {2} = '{0}'\".format(s, tab, col)).fetchone()[0]\n",
    "                sources.append(a)\n",
    "            except:\n",
    "                pass\n",
    "print(list(set(sources))[0])\n",
    "\n",
    "sql = \"SELECT institutionCode, collectionCode, datasetName, COUNT(occ_id) FROM occurrences GROUP BY institutionCode, collectionCode, datasetName;\"\n",
    "sources = pd.read_sql(sql=sql, con=conn_occ)\n",
    "print(sources)"
   ]
  },
  {
   "cell_type": "markdown",
   "metadata": {},
   "source": [
    "# Bases\n",
    "#### Pre-filter"
   ]
  },
  {
   "cell_type": "code",
   "execution_count": 12,
   "metadata": {},
   "outputs": [
    {
     "name": "stdout",
     "output_type": "stream",
     "text": [
      "         basisOfRecord  count\n",
      "0    HUMAN_OBSERVATION   7666\n",
      "1  MACHINE_OBSERVATION     35\n",
      "2      MATERIAL_SAMPLE      3\n",
      "3          OBSERVATION    916\n",
      "4   PRESERVED_SPECIMEN   4531\n"
     ]
    }
   ],
   "source": [
    "bases = pd.read_sql(sql=\"SELECT value as basisOfRecord, count FROM pre_filter_value_counts WHERE attribute = 'bases';\", con=conn_occ)\n",
    "print(bases)"
   ]
  },
  {
   "cell_type": "markdown",
   "metadata": {},
   "source": [
    "#### Post-filters"
   ]
  },
  {
   "cell_type": "code",
   "execution_count": 13,
   "metadata": {
    "scrolled": true
   },
   "outputs": [
    {
     "name": "stdout",
     "output_type": "stream",
     "text": [
      "         basisOfRecord  count\n",
      "0    HUMAN_OBSERVATION   5472\n",
      "1  MACHINE_OBSERVATION      9\n",
      "2   PRESERVED_SPECIMEN    334\n"
     ]
    }
   ],
   "source": [
    "sql = \"SELECT basisOfRecord, COUNT(occ_id) as count FROM occurrences GROUP BY basisOfRecord;\"\n",
    "bases = pd.read_sql(sql=sql, con=conn_occ)\n",
    "print(bases)"
   ]
  },
  {
   "cell_type": "markdown",
   "metadata": {},
   "source": [
    "# Protocols\n",
    "#### Pre-filters"
   ]
  },
  {
   "cell_type": "code",
   "execution_count": 14,
   "metadata": {
    "scrolled": true
   },
   "outputs": [
    {
     "name": "stdout",
     "output_type": "stream",
     "text": [
      "  samplingProtocol  count\n",
      "0          UNKNOWN  13132\n",
      "1    alive on road      9\n",
      "2     dead on road      2\n",
      "3   none specified      8\n"
     ]
    }
   ],
   "source": [
    "protocol = pd.read_sql(sql=\"SELECT value as samplingProtocol, count FROM pre_filter_value_counts WHERE attribute = 'samplingProtocols';\", con=conn_occ)\n",
    "print(protocol)"
   ]
  },
  {
   "cell_type": "markdown",
   "metadata": {},
   "source": [
    "#### Post-filters"
   ]
  },
  {
   "cell_type": "code",
   "execution_count": 15,
   "metadata": {},
   "outputs": [
    {
     "name": "stdout",
     "output_type": "stream",
     "text": [
      "  samplingProtocol  count\n",
      "0          UNKNOWN   5809\n",
      "1    alive on road      5\n",
      "2     dead on road      1\n"
     ]
    }
   ],
   "source": [
    "sql = \"SELECT samplingProtocol, COUNT(occ_id) as count FROM occurrences GROUP BY samplingProtocol;\"\n",
    "print(pd.read_sql(sql=sql, con=conn_occ))"
   ]
  },
  {
   "cell_type": "markdown",
   "metadata": {},
   "source": [
    "# Issues\n",
    "#### Pre-filters"
   ]
  },
  {
   "cell_type": "code",
   "execution_count": 16,
   "metadata": {
    "scrolled": true
   },
   "outputs": [
    {
     "name": "stdout",
     "output_type": "stream",
     "text": [
      "                                                                             issues  count\n",
      "0                                                        ['COORDINATE_REPROJECTED']      1\n",
      "1        ['COORDINATE_ROUNDED', 'COORDINATE_REPROJECTED', 'TAXON_MATCH_HIGHERRANK']      8\n",
      "2                                  ['COORDINATE_ROUNDED', 'COORDINATE_REPROJECTED']     50\n",
      "3   ['COORDINATE_ROUNDED', 'GEODETIC_DATUM_ASSUMED_WGS84', 'COORDINATE_UNCERTAIN...      6\n",
      "4                            ['COORDINATE_ROUNDED', 'GEODETIC_DATUM_ASSUMED_WGS84']   6630\n",
      "5   ['COORDINATE_ROUNDED', 'GEODETIC_DATUM_INVALID', 'GEODETIC_DATUM_ASSUMED_WGS...     25\n",
      "6   ['COORDINATE_ROUNDED', 'GEODETIC_DATUM_INVALID', 'GEODETIC_DATUM_ASSUMED_WGS...    117\n",
      "7                                ['COORDINATE_ROUNDED', 'INDIVIDUAL_COUNT_INVALID']      1\n",
      "8                              ['COORDINATE_ROUNDED', 'PRESUMED_NEGATED_LONGITUDE']      2\n",
      "9                                  ['COORDINATE_ROUNDED', 'TAXON_MATCH_HIGHERRANK']     27\n",
      "10                                                           ['COORDINATE_ROUNDED']   1859\n",
      "11                                             ['COUNTRY_DERIVED_FROM_COORDINATES']      4\n",
      "12             ['GEODETIC_DATUM_ASSUMED_WGS84', 'COUNTRY_DERIVED_FROM_COORDINATES']     23\n",
      "13                       ['GEODETIC_DATUM_ASSUMED_WGS84', 'RECORDED_DATE_MISMATCH']      1\n",
      "14                                                 ['GEODETIC_DATUM_ASSUMED_WGS84']   2492\n",
      "15  ['GEODETIC_DATUM_INVALID', 'GEODETIC_DATUM_ASSUMED_WGS84', 'COORDINATE_UNCER...      4\n",
      "16                       ['GEODETIC_DATUM_INVALID', 'GEODETIC_DATUM_ASSUMED_WGS84']      7\n",
      "17                                                   ['PRESUMED_NEGATED_LONGITUDE']      5\n",
      "18                                                       ['TAXON_MATCH_HIGHERRANK']     15\n",
      "19                                                                               []   1874\n"
     ]
    }
   ],
   "source": [
    "iss = pd.read_sql(sql=\"SELECT value as issues, count FROM pre_filter_value_counts WHERE attribute = 'issues';\", con=conn_occ)\n",
    "pd.set_option('display.max_colwidth', 80)\n",
    "print(iss)"
   ]
  },
  {
   "cell_type": "markdown",
   "metadata": {},
   "source": [
    "#### Post-filters"
   ]
  },
  {
   "cell_type": "code",
   "execution_count": 17,
   "metadata": {
    "scrolled": true
   },
   "outputs": [
    {
     "name": "stdout",
     "output_type": "stream",
     "text": [
      "                                                                   issues  count\n",
      "0                                                                             86\n",
      "1                                                      COORDINATE_ROUNDED    119\n",
      "2                         COORDINATE_ROUNDED;GEODETIC_DATUM_ASSUMED_WGS84   4754\n",
      "3  COORDINATE_ROUNDED;GEODETIC_DATUM_INVALID;GEODETIC_DATUM_ASSUMED_WGS84     97\n",
      "4                             COORDINATE_ROUNDED;INDIVIDUAL_COUNT_INVALID      1\n",
      "5                               COORDINATE_ROUNDED;TAXON_MATCH_HIGHERRANK      5\n",
      "6                                            GEODETIC_DATUM_ASSUMED_WGS84    752\n",
      "7                                                  TAXON_MATCH_HIGHERRANK      1\n"
     ]
    }
   ],
   "source": [
    "sql = \"SELECT issues, COUNT(occ_id) as count FROM occurrences GROUP BY issues;\"\n",
    "print(pd.read_sql(sql=sql, con=conn_occ))"
   ]
  },
  {
   "cell_type": "markdown",
   "metadata": {},
   "source": [
    "# Descriptions of filtered records"
   ]
  },
  {
   "cell_type": "markdown",
   "metadata": {},
   "source": [
    "### Years represented"
   ]
  },
  {
   "cell_type": "code",
   "execution_count": 18,
   "metadata": {},
   "outputs": [
    {
     "data": {
      "text/plain": [
       "Text(0.5, 1.0, 'Occurrences per Year')"
      ]
     },
     "execution_count": 18,
     "metadata": {},
     "output_type": "execute_result"
    },
    {
     "data": {
      "image/png": "[encoded data removed]",
      "text/plain": [
       "<Figure size 432x288 with 1 Axes>"
      ]
     },
     "metadata": {
      "needs_background": "light"
     },
     "output_type": "display_data"
    }
   ],
   "source": [
    "occ_years = [int(x[0]) for x in curs_occ.execute(\"SELECT strftime('%Y', occurrenceDate) FROM occurrences\").fetchall()]\n",
    "years = connjup.execute(\"SELECT years_range FROM gbif_requests WHERE request_id = '{0}'\".format(gbif_req_id)).fetchone()[0]\n",
    "years = years.split(',')\n",
    "yearsrng = list(range(int(years[0]), int(years[1]), 1))\n",
    "binsnum = int(years[1]) - int(years[0])\n",
    "plt.hist(occ_years, bins=binsnum)\n",
    "plt.ylabel(\"number of records\")\n",
    "plt.xlabel(\"year\")\n",
    "plt.xticks(yearsrng, rotation=90)\n",
    "plt.title(\"Occurrences per Year\")"
   ]
  },
  {
   "cell_type": "markdown",
   "metadata": {},
   "source": [
    "### Months represented"
   ]
  },
  {
   "cell_type": "code",
   "execution_count": 19,
   "metadata": {},
   "outputs": [
    {
     "data": {
      "text/plain": [
       "Text(0.5, 1.0, 'Occurrences per Month')"
      ]
     },
     "execution_count": 19,
     "metadata": {},
     "output_type": "execute_result"
    },
    {
     "data": {
      "image/png": "[encoded data removed]",
      "text/plain": [
       "<Figure size 432x288 with 1 Axes>"
      ]
     },
     "metadata": {
      "needs_background": "light"
     },
     "output_type": "display_data"
    }
   ],
   "source": [
    "occ_months = [int(x[0]) for x in curs_occ.execute(\"SELECT strftime('%m', occurrenceDate) FROM occurrences\").fetchall()]\n",
    "plt.hist(occ_months, bins=range(1, 14), color=\"g\")\n",
    "plt.ylabel(\"number of records\")\n",
    "plt.xlabel(\"month\")\n",
    "plt.xticks(range(1, 13))\n",
    "plt.title(\"Occurrences per Month\")"
   ]
  },
  {
   "cell_type": "markdown",
   "metadata": {},
   "source": [
    "### Distribution of coordinate uncertainty values"
   ]
  },
  {
   "cell_type": "code",
   "execution_count": 20,
   "metadata": {
    "scrolled": true
   },
   "outputs": [
    {
     "data": {
      "text/plain": [
       "Text(0.5, 1.0, 'Coordinate Uncertainty')"
      ]
     },
     "execution_count": 20,
     "metadata": {},
     "output_type": "execute_result"
    },
    {
     "data": {
      "image/png": "[encoded data removed]",
      "text/plain": [
       "<Figure size 1152x288 with 1 Axes>"
      ]
     },
     "metadata": {
      "needs_background": "light"
     },
     "output_type": "display_data"
    }
   ],
   "source": [
    "occ_cert = [int(x[0]) for x in curs_occ.execute(\"SELECT coordinateUncertaintyInMeters FROM occurrences\").fetchall()]\n",
    "maxi = np.max(occ_cert)\n",
    "plt.figure(figsize=(16,4))\n",
    "plt.hist(occ_cert, bins=50, color=\"r\")\n",
    "plt.xticks(range(0, maxi, int(maxi/50)), rotation=90)\n",
    "plt.ylabel(\"number of records\")\n",
    "plt.xlabel(\"coordinate uncertainty\")\n",
    "plt.title(\"Coordinate Uncertainty\")"
   ]
  },
  {
   "cell_type": "code",
   "execution_count": 21,
   "metadata": {},
   "outputs": [
    {
     "data": {
      "text/plain": [
       "Text(0.5, 1.0, 'Coordinate Uncertainty - Zoomed In')"
      ]
     },
     "execution_count": 21,
     "metadata": {},
     "output_type": "execute_result"
    },
    {
     "data": {
      "image/png": "[encoded data removed]",
      "text/plain": [
       "<Figure size 864x288 with 1 Axes>"
      ]
     },
     "metadata": {
      "needs_background": "light"
     },
     "output_type": "display_data"
    }
   ],
   "source": [
    "rng_max = 2000\n",
    "occ_cert2 = [x for x in occ_cert if x <= rng_max]\n",
    "plt.figure(figsize=(12,4))\n",
    "plt.hist(occ_cert2, bins=30, color=\"m\", align='mid')\n",
    "plt.xticks(range(0, rng_max + 100, int(rng_max/30.)), rotation=90)\n",
    "plt.ylabel(\"number of records\")\n",
    "plt.xlabel(\"coordinate uncertainty\")\n",
    "plt.title(\"Coordinate Uncertainty - Zoomed In\")"
   ]
  },
  {
   "cell_type": "markdown",
   "metadata": {},
   "source": [
    "### Establishment means reported"
   ]
  },
  {
   "cell_type": "code",
   "execution_count": 22,
   "metadata": {},
   "outputs": [
    {
     "name": "stdout",
     "output_type": "stream",
     "text": [
      "NATIVE, UNKNOWN\n"
     ]
    }
   ],
   "source": [
    "establishment = curs_occ.execute(\"SELECT vals FROM unique_values WHERE field = 'establishment' AND step = 'filter';\").fetchall()[0]\n",
    "for est in establishment:\n",
    "    est = est.replace('[', '').strip().replace(']', '').replace(\"'\", \"\")\n",
    "    print(est)"
   ]
  },
  {
   "cell_type": "markdown",
   "metadata": {},
   "source": [
    "### Identification qualifiers included"
   ]
  },
  {
   "cell_type": "code",
   "execution_count": 23,
   "metadata": {},
   "outputs": [
    {
     "name": "stdout",
     "output_type": "stream",
     "text": [
      "A, UNKNOWN\n"
     ]
    }
   ],
   "source": [
    "quali = curs_occ.execute(\"SELECT DISTINCT vals FROM unique_values WHERE field = 'IDqualifier' AND step = 'filter';\").fetchall()[0]\n",
    "for q in quali:\n",
    "    q = q.replace('[', '').strip().replace(']', '').replace(\"'\", \"\")\n",
    "    print(q)"
   ]
  },
  {
   "cell_type": "markdown",
   "metadata": {},
   "source": [
    "### Remarks included"
   ]
  },
  {
   "cell_type": "code",
   "execution_count": 24,
   "metadata": {
    "scrolled": true
   },
   "outputs": [
    {
     "name": "stdout",
     "output_type": "stream",
     "text": [
      "More than 20 remarks, consult the occurrence database.\n"
     ]
    }
   ],
   "source": [
    "remarks = curs_occ.execute(\"SELECT DISTINCT remarks FROM occurrences;\").fetchall()\n",
    "if len(remarks) <= 20:\n",
    "    try:\n",
    "        for rem in remarks:\n",
    "            if rem[0][0:1] == ';':\n",
    "                print(rem[0][2:])\n",
    "            else:\n",
    "                print(rem[0])\n",
    "    except:\n",
    "        pass\n",
    "else:\n",
    "    print(\"More than 20 remarks, consult the occurrence database.\")"
   ]
  },
  {
   "cell_type": "markdown",
   "metadata": {},
   "source": [
    "### Attributes returned for the records in the request (pre-filters)"
   ]
  },
  {
   "cell_type": "code",
   "execution_count": 25,
   "metadata": {
    "scrolled": false
   },
   "outputs": [
    {
     "name": "stdout",
     "output_type": "stream",
     "text": [
      "                                               attribute  included(n)  populated(n)\n",
      "Field                                                                              \n",
      "0                                 acceptedScientificName        13151         13151\n",
      "1                                       acceptedTaxonKey        13151         13151\n",
      "2                                           accessRights         4009          4009\n",
      "3                                  associatedOccurrences            1             1\n",
      "4                                   associatedReferences          853           853\n",
      "5                                    associatedSequences           76            76\n",
      "6                                         associatedTaxa            9             9\n",
      "7                                          basisOfRecord        13151         13151\n",
      "8                                               behavior           11            11\n",
      "9                                  bibliographicCitation         3895          3895\n",
      "10                                         catalogNumber        13122         13122\n",
      "11                                                 class        13151         13151\n",
      "12                                              classKey        13151         13151\n",
      "13                                        collectionCode        13124         13124\n",
      "14                                          collectionID         1101          1101\n",
      "15                                             continent         4419          4419\n",
      "16                         coordinateUncertaintyInMeters         6687          6687\n",
      "17                                               country        13151         13151\n",
      "18                                           countryCode        13151         13151\n",
      "19                                                county         4539          4539\n",
      "20                                               crawlId        13151         13151\n",
      "21                                               created           23            23\n",
      "22                                   dataGeneralizations            3             3\n",
      "23                                             datasetID          242           242\n",
      "24                                            datasetKey        13151         13151\n",
      "25                                           datasetName         8105          8105\n",
      "26                                        dateIdentified         7909          7909\n",
      "27                                                   day        13134         13134\n",
      "28                                       decimalLatitude        13151         13151\n",
      "29                                      decimalLongitude        13151         13151\n",
      "30                                                 depth            2             2\n",
      "31                                           disposition          391           391\n",
      "32                                     dynamicProperties         2841          2841\n",
      "33                                             elevation           49            49\n",
      "34                                     elevationAccuracy           43            43\n",
      "35                                          endDayOfYear         1142          1142\n",
      "36                                    establishmentMeans         1034          1034\n",
      "37                                             eventDate        13151         13151\n",
      "38                                          eventRemarks           19            19\n",
      "39                                             eventTime         6937          6937\n",
      "40                                            extensions        13151             0\n",
      "41                                                 facts        13151             0\n",
      "42                                                family        13151         13151\n",
      "43                                             familyKey        13151         13151\n",
      "44                                            fieldNotes            8             8\n",
      "45                                           fieldNumber         2805          2805\n",
      "46                                                gbifID        13151         13151\n",
      "47                                           genericName        13151         13151\n",
      "48                                                 genus        13151         13151\n",
      "49                                              genusKey        13151         13151\n",
      "50                                         geodeticDatum        13151         13151\n",
      "51                                  georeferenceProtocol         2631          2631\n",
      "52                                   georeferenceRemarks          396           396\n",
      "53                                   georeferenceSources         2934          2934\n",
      "54                        georeferenceVerificationStatus         1320          1320\n",
      "55                                       georeferencedBy         2434          2434\n",
      "56                                     georeferencedDate          267           267\n",
      "57                                               habitat           27            27\n",
      "58                                  higherClassification         3992          3992\n",
      "59                                       higherGeography         4088          4088\n",
      "60         http://rs.tdwg.org/dwc/terms/organismQuantity            4             4\n",
      "61     http://rs.tdwg.org/dwc/terms/organismQuantityType            6             6\n",
      "62                           http://unknown.org/language            1             1\n",
      "63                               http://unknown.org/nick         7653          7653\n",
      "64                  http://unknown.org/occurrenceDetails         7653          7653\n",
      "65                             http://unknown.org/rights            1             1\n",
      "66                       http://unknown.org/rightsHolder            1             1\n",
      "67                                      identificationID         7328          7328\n",
      "68                               identificationQualifier           32            32\n",
      "69                              identificationReferences          442           442\n",
      "70                                 identificationRemarks          120           120\n",
      "71                      identificationVerificationStatus           32            32\n",
      "72                                          identifiedBy         1172          1172\n",
      "73                                       identifiedByIDs        13151            99\n",
      "74                                            identifier        13149         13149\n",
      "75                                           identifiers        13151             0\n",
      "76                                       individualCount         3263          3263\n",
      "77                                   informationWithheld          744           744\n",
      "78                                  infraspecificEpithet         1385          1385\n",
      "79                                       installationKey        13151         13151\n",
      "80                                       institutionCode        13124         13124\n",
      "81                                         institutionID         1552          1552\n",
      "82                                                issues        13151         11277\n",
      "83                                                   key        13151         13151\n",
      "84                                               kingdom        13151         13151\n",
      "85                                            kingdomKey        13151         13151\n",
      "86                                              language         4274          4274\n",
      "87                                           lastCrawled        13151         13151\n",
      "88                                       lastInterpreted        13151         13151\n",
      "89                                            lastParsed        13151         13151\n",
      "90                                               license        13151         13151\n",
      "91                                             lifeStage          948           948\n",
      "92                                              locality         5472          5472\n",
      "93                                   locationAccordingTo           32            32\n",
      "94                                            locationID           28            28\n",
      "95                                       locationRemarks          132           132\n",
      "96                                                 media        13151          7414\n",
      "97                                              modified        12020         12020\n",
      "98                                                 month        13151         13151\n",
      "99                                          municipality         2675          2675\n",
      "100                                          networkKeys           32            32\n",
      "101                                    nomenclaturalCode         3895          3895\n",
      "102                                         occurrenceID        12233         12233\n",
      "103                                    occurrenceRemarks         4202          4202\n",
      "104                                     occurrenceStatus         1037          1037\n",
      "105                                                order        13151         13151\n",
      "106                                             orderKey        13151         13151\n",
      "107                                           organismID           32            32\n",
      "108                                     organismQuantity            4             4\n",
      "109                                 organismQuantityType            6             6\n",
      "110                                  otherCatalogNumbers          349           349\n",
      "111                                 ownerInstitutionCode         3070          3070\n",
      "112                                               phylum        13151         13151\n",
      "113                                            phylumKey        13151         13151\n",
      "114                                         preparations         4249          4249\n",
      "115                              previousIdentifications         2711          2711\n",
      "116                                             protocol        13151         13151\n",
      "117                                    publishingCountry        13150         13150\n",
      "118                                     publishingOrgKey        13151         13151\n",
      "119                                         recordNumber          702           702\n",
      "120                                           recordedBy        12777         12777\n",
      "121                                        recordedByIDs        13151            98\n",
      "122                                           references        11815         11815\n",
      "123                                            relations        13151             0\n",
      "124                                reproductiveCondition            2             2\n",
      "125                                               rights         7670          7670\n",
      "126                                         rightsHolder        10724         10724\n",
      "127                                     samplingProtocol           19            19\n",
      "128                                       scientificName        13151         13151\n",
      "129                                     scientificNameID            8             8\n",
      "130                                                  sex          994           994\n",
      "131                                              species        13151         13151\n",
      "132                                           speciesKey        13151         13151\n",
      "133                                      specificEpithet        13150         13150\n",
      "134                                       startDayOfYear         1259          1259\n",
      "135                                        stateProvince        13123         13123\n",
      "136                                       taxonConceptID            1             1\n",
      "137                                              taxonID         7677          7677\n",
      "138                                             taxonKey        13151         13151\n",
      "139                                            taxonRank        13151         13151\n",
      "140                                         taxonRemarks         2680          2680\n",
      "141                                      taxonomicStatus        13151         13151\n",
      "142                                                 type         4250          4250\n",
      "143                                           typeStatus          442           442\n",
      "144                             verbatimCoordinateSystem          202           202\n",
      "145                                        verbatimDepth            2             2\n",
      "146                                    verbatimElevation          213           213\n",
      "147                                    verbatimEventDate         8914          8914\n",
      "148                                     verbatimLocality         8854          8854\n",
      "149                                          verbatimSRS            6             6\n",
      "150                                       vernacularName         3026          3026\n",
      "151                                                 year        13151         13151\n"
     ]
    }
   ],
   "source": [
    "fields_summary = pd.read_sql(\"SELECT * FROM gbif_fields_returned\", conn_occ)#, index_col='index')\n",
    "fields_summary.index.name = 'Field'\n",
    "pd.set_option('display.max_rows', 250)\n",
    "print(fields_summary)"
   ]
  },
  {
   "cell_type": "markdown",
   "metadata": {},
   "source": [
    "### Runtime"
   ]
  },
  {
   "cell_type": "code",
   "execution_count": 26,
   "metadata": {},
   "outputs": [
    {
     "name": "stdout",
     "output_type": "stream",
     "text": [
      "0:13:02.640912\n"
     ]
    }
   ],
   "source": [
    "t2 = datetime.now()\n",
    "print(t2 - t1)"
   ]
  },
  {
   "cell_type": "code",
   "execution_count": null,
   "metadata": {},
   "outputs": [],
   "source": []
  }
 ],
 "metadata": {
  "kernelspec": {
   "display_name": "Python 3",
   "language": "python",
   "name": "python3"
  },
  "language_info": {
   "codemirror_mode": {
    "name": "ipython",
    "version": 3
   },
   "file_extension": ".py",
   "mimetype": "text/x-python",
   "name": "python",
   "nbconvert_exporter": "python",
   "pygments_lexer": "ipython3",
   "version": "3.6.5"
  }
 },
 "nbformat": 4,
 "nbformat_minor": 2
}
