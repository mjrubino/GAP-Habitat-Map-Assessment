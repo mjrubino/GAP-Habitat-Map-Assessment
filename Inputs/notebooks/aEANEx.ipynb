{
 "cells": [
  {
   "cell_type": "markdown",
   "metadata": {},
   "source": [
    "# Occurrence Records from GBIF\n",
    "This notebook is a tool for exploring data sets requested from GBIF (and eventually other sources), and mostly for developing criteria for filtering records (filter sets).  When the entire notebook is run, it retrieves records according to the filter sets specified and saves the results (records and some summary tables) in an sqlite database.  Some information is pulled from the parameters.sqlite database that is saved in this repository."
   ]
  },
  {
   "cell_type": "markdown",
   "metadata": {},
   "source": [
    "### Set Variables - fill out stuff in this cell.  \n",
    "Notes:\n",
    "default_coordUncertainty -- coordinateUncertaintyInMeters is often not provided.  Here is an option to use a default.  If you don't want anything entered, set this equal to False (boolean, not string)."
   ]
  },
  {
   "cell_type": "code",
   "execution_count": 1,
   "metadata": {},
   "outputs": [],
   "source": [
    "species_id = 'aeanex0'\n",
    "summary_name = 'Eastern Newt'\n",
    "gbif_req_id = 'EvalGBIFRequest'\n",
    "gbif_filter_id = 'EvalGBIFFilter'\n",
    "default_coordUncertainty = False       # Note above.\n",
    "workDir = 'D:/USGS Analyses/GAP-Habitat-Map-Assessment/'   # Be sure to create folders named \"Inputs\" and \"Outputs\" here.\n",
    "codeDir = workDir + 'Scripts/'\n",
    "dbDir = workDir + 'db/'\n",
    "paramdb = dbDir + 'wildlife-wrangler.sqlite'\n",
    "configDir = workDir  # Path to folder where saved your wildlifeconfig file."
   ]
  },
  {
   "cell_type": "markdown",
   "metadata": {},
   "source": [
    "### Setup - nothing to fill out in this cell"
   ]
  },
  {
   "cell_type": "code",
   "execution_count": 2,
   "metadata": {},
   "outputs": [
    {
     "name": "stdout",
     "output_type": "stream",
     "text": [
      "Notebook run 2020-04-21 13:03:12.779384\n",
      "D:/USGS Analyses/GAP-Habitat-Map-Assessment/Outputs/aeanex0EvalGBIFRequestEvalGBIFFilter.sqlite\n"
     ]
    }
   ],
   "source": [
    "%matplotlib inline\n",
    "import sqlite3\n",
    "import pprint\n",
    "import json\n",
    "import pandas as pd\n",
    "import numpy as np\n",
    "pd.set_option('display.width', 600)\n",
    "pd.set_option('display.max_colwidth', 30)\n",
    "pd.set_option('display.max_rows', 150)\n",
    "from IPython.display import Image\n",
    "from pygbif import occurrences\n",
    "import matplotlib.pyplot as plt\n",
    "import os\n",
    "from datetime import datetime\n",
    "t1 = datetime.now()\n",
    "import sys\n",
    "sys.path.append(configDir)\n",
    "import config\n",
    "sys.path.append(codeDir)\n",
    "import repo_functions as functions\n",
    "inDir = workDir + 'Inputs/'\n",
    "outDir = workDir + 'Outputs/'\n",
    "spdb = outDir + species_id + gbif_req_id + gbif_filter_id + '.sqlite'\n",
    "username = config.gbif_username\n",
    "password = config.gbif_password\n",
    "email = config.gbif_email\n",
    "print(\"Notebook run \" + str(t1))\n",
    "print(spdb)\n",
    "connjup = sqlite3.connect(paramdb)\n",
    "cursorjup = connjup.cursor()\n",
    "# Get some variables\n",
    "years = connjup.execute(\"\"\"SELECT years_range \n",
    "                           FROM gbif_requests WHERE request_id = '{0}'\"\"\".format(gbif_req_id)).fetchone()[0]\n",
    "gap_id = connjup.execute(\"\"\"SELECT gap_id\n",
    "                            FROM species_concepts WHERE species_id = '{0}'\"\"\".format(species_id)).fetchone()[0]\n",
    "common_name = connjup.execute(\"\"\"SELECT common_name\n",
    "                                 FROM species_concepts WHERE species_id = '{0}'\"\"\".format(species_id)).fetchone()[0]"
   ]
  },
  {
   "cell_type": "markdown",
   "metadata": {},
   "source": [
    "# Species Concept\n",
    "Display information on the species from the parameters.sqlite database."
   ]
  },
  {
   "cell_type": "code",
   "execution_count": 3,
   "metadata": {},
   "outputs": [
    {
     "name": "stdout",
     "output_type": "stream",
     "text": [
      "SPECIES CONCEPT RECORD\n",
      "                                                   VALUE\n",
      "ATTRIBUTE                                               \n",
      "species_id                                       aeanex0\n",
      "fws_id                                              None\n",
      "gap_id                                            aEANEx\n",
      "itis_tsn                                          173615\n",
      "gbif_id                                          5218390\n",
      "bcb_id                                              None\n",
      "ebird_id                                            None\n",
      "common_name                                 Eastern Newt\n",
      "scientific_name                Notophthalmus viridescens\n",
      "start_year                                          1820\n",
      "split_from                                          None\n",
      "end_year                                            None\n",
      "lumped_into                                         None\n",
      "geometry                                            None\n",
      "detection_distance_meters                              0\n",
      "vetted_how                                  NS,GBIF,IUCN\n",
      "vetted_who                                     M. Rubino\n",
      "vetted_date                                   04/21/2020\n",
      "notes                      Gabor and Nice (2004) anal...\n"
     ]
    }
   ],
   "source": [
    "vals = cursorjup.execute(\"SELECT * FROM species_concepts WHERE species_id = '{0}';\".format(species_id)).fetchall()[0]\n",
    "cols = [x[1] for x in cursorjup.execute(\"PRAGMA table_info('species_concepts')\").fetchall()]\n",
    "sp_dict = dict(zip(cols, vals))\n",
    "sp_df = pd.DataFrame.from_dict(sp_dict, orient='index', columns=['VALUE'])\n",
    "sp_df.index.name = 'ATTRIBUTE'\n",
    "print(\"SPECIES CONCEPT RECORD\")\n",
    "print(sp_df)"
   ]
  },
  {
   "cell_type": "markdown",
   "metadata": {},
   "source": [
    "# Filters\n",
    "Display the parameters of the request filter set.  These are deployed during the step where records are retrieved from the API."
   ]
  },
  {
   "cell_type": "code",
   "execution_count": 4,
   "metadata": {},
   "outputs": [
    {
     "name": "stdout",
     "output_type": "stream",
     "text": [
      "THE REQUEST FILTER SET\n",
      "request_id                    EvalGBIFRequest\n",
      "source                                   GBIF\n",
      "lat_range                                None\n",
      "lon_range                                None\n",
      "years_range                         1999,2020\n",
      "months_range                             1,12\n",
      "geoissue                                False\n",
      "coordinate                               True\n",
      "country                                    US\n",
      "geometry                                 None\n",
      "creator                             M. Rubino\n",
      "notes           amphibian evaluation reque...\n",
      "Name: 0, dtype: object\n"
     ]
    }
   ],
   "source": [
    "request_df = pd.read_sql_query(sql=\"SELECT * FROM gbif_requests WHERE request_id = '{0}'\".format(gbif_req_id), con=connjup)\n",
    "print(\"THE REQUEST FILTER SET\")\n",
    "print(request_df.loc[0])"
   ]
  },
  {
   "cell_type": "markdown",
   "metadata": {},
   "source": [
    "Display the parameters of the post-request filter set.  These are deployed after the records are retrieved from the API, but before they are stored in the occurrence record sqlite database."
   ]
  },
  {
   "cell_type": "code",
   "execution_count": 5,
   "metadata": {},
   "outputs": [
    {
     "name": "stdout",
     "output_type": "stream",
     "text": [
      "THE POST REQUEST FILTER SET\n",
      "filter_id                                    EvalGBIFFilter\n",
      "dataset                                                GBIF\n",
      "institutions_omit                                      None\n",
      "collection_codes_omit                                  None\n",
      "datasets_omit                                          None\n",
      "has_coordinate_uncertainty                                1\n",
      "max_coordinate_uncertainty                            10000\n",
      "bases_omit                                  FOSSIL_SPECIMEN\n",
      "sampling_protocols_omit                                None\n",
      "issues_omit                                            None\n",
      "duplicates_OK                                         False\n",
      "creator                                           M. Rubino\n",
      "notes                         amphibian evaluation filte...\n",
      "Name: 0, dtype: object\n"
     ]
    }
   ],
   "source": [
    "filter_df = pd.read_sql_query(sql=\"SELECT * FROM gbif_filters WHERE filter_id = '{0}'\".format(gbif_filter_id), con=connjup)\n",
    "print(\"THE POST REQUEST FILTER SET\")\n",
    "print(filter_df.loc[0])"
   ]
  },
  {
   "cell_type": "code",
   "execution_count": 6,
   "metadata": {
    "scrolled": false
   },
   "outputs": [
    {
     "name": "stdout",
     "output_type": "stream",
     "text": [
      "SPATIALITE_SECURITY set to relaxed\n",
      "Created occurrence db: 0:00:00.216935\n",
      "Got request params and sorted out geometry constraints: 0:00:00.002002\n",
      "7352 records available\n",
      "Downloaded records: 0:01:21.609970\n",
      "Summarized fields returned: 0:06:11.579319\n",
      "Created summary table of request results: 0:00:00.053665\n",
      "Performed post-request filtering: 0:00:00.038041\n",
      "Calculated new columns, deleted some too: 0:00:00.046055\n",
      "272 duplicate records dropped: 0:00:02.887411\n",
      "Inserted records into table: 0:00:00.122082\n",
      "Summarized unique values retained: 0:00:00.005005\n",
      "Updated occurrences table geometry column: 0:00:00.596517\n",
      "Buffered points: 0:00:02.661981\n"
     ]
    }
   ],
   "source": [
    "functions.retrieve_gbif_occurrences(codeDir, species_id, inDir, paramdb, spdb, gbif_req_id, gbif_filter_id, \n",
    "                                    default_coordUncertainty, outDir, summary_name, username,\n",
    "                                   password, email)"
   ]
  },
  {
   "cell_type": "code",
   "execution_count": 7,
   "metadata": {},
   "outputs": [
    {
     "name": "stdout",
     "output_type": "stream",
     "text": [
      "codeDir: D:/USGS Analyses/GAP-Habitat-Map-Assessment/Scripts/\n",
      " species_id: aeanex0\n",
      " inDir: D:/USGS Analyses/GAP-Habitat-Map-Assessment/Inputs/\n",
      " paramdb: D:/USGS Analyses/GAP-Habitat-Map-Assessment/db/wildlife-wrangler.sqlite\n",
      " spdb: D:/USGS Analyses/GAP-Habitat-Map-Assessment/Outputs/aeanex0EvalGBIFRequestEvalGBIFFilter.sqlite\n",
      " gbif_req_id: EvalGBIFRequest\n",
      " gbif_filter_id: EvalGBIFFilter\n",
      " default_coordUncertainty: False\n",
      " outDir: D:/USGS Analyses/GAP-Habitat-Map-Assessment/Outputs/\n",
      " summary_name: Eastern Newt\n",
      " username: gapper\n",
      " password: metspirates\n",
      " email: pythonprocessing@gmail.com\n"
     ]
    }
   ],
   "source": [
    "print('codeDir: '+codeDir+'\\n', \n",
    "'species_id: '+species_id+'\\n', \n",
    "'inDir: '+inDir+'\\n', \n",
    "'paramdb: '+paramdb+'\\n', \n",
    "'spdb: '+spdb+'\\n', \n",
    "'gbif_req_id: '+gbif_req_id+'\\n', \n",
    "'gbif_filter_id: '+gbif_filter_id+'\\n', \n",
    "'default_coordUncertainty: '+str(default_coordUncertainty)+'\\n', \n",
    "'outDir: '+outDir+'\\n', \n",
    "'summary_name: '+summary_name+'\\n', \n",
    "'username: '+username+'\\n',\n",
    "'password: '+password+'\\n', \n",
    "'email: '+email)"
   ]
  },
  {
   "cell_type": "markdown",
   "metadata": {},
   "source": [
    "### Connect to output database, record species and filter info."
   ]
  },
  {
   "cell_type": "code",
   "execution_count": 8,
   "metadata": {},
   "outputs": [],
   "source": [
    "conn_occ= sqlite3.connect(spdb)\n",
    "curs_occ = conn_occ.cursor()\n",
    "sp_df.to_sql(name='species_concept', con=conn_occ, if_exists='replace')\n",
    "request_df.to_sql(name=gbif_req_id, con=conn_occ, if_exists='replace')\n",
    "filter_df.to_sql(name=gbif_filter_id, con=conn_occ, if_exists='replace')"
   ]
  },
  {
   "cell_type": "markdown",
   "metadata": {},
   "source": [
    "### How many records made it through the filters?\n",
    "This is the number that was actually saved in the occurrence record sqlite database."
   ]
  },
  {
   "cell_type": "code",
   "execution_count": 9,
   "metadata": {},
   "outputs": [
    {
     "name": "stdout",
     "output_type": "stream",
     "text": [
      "3929 records\n"
     ]
    }
   ],
   "source": [
    "record_count = curs_occ.execute(\"SELECT COUNT(occ_id) FROM occurrences WHERE species_id = '{0}'\".format(species_id)).fetchone()\n",
    "print(str(record_count[0]) + \" records\")"
   ]
  },
  {
   "cell_type": "markdown",
   "metadata": {},
   "source": [
    "# Sources\n",
    "#### Pre-filters"
   ]
  },
  {
   "cell_type": "code",
   "execution_count": 10,
   "metadata": {},
   "outputs": [
    {
     "name": "stdout",
     "output_type": "stream",
     "text": [
      "GBIF\n",
      "   institutionCode                 collectionCode                    datasetName     0\n",
      "0              AUM                          Herps                        UNKNOWN    17\n",
      "1            BISON  USGS SESC - Big Cypress - ...  USGS SESC - Big Cypress - ...     4\n",
      "2            BISON  USGS SESC - Everglades - H...  USGS SESC - Everglades - H...     6\n",
      "3            BISON  USGS SESC - Everglades - H...  USGS SESC - Everglades - H...    10\n",
      "4              CAS                           HERP                        UNKNOWN     4\n",
      "5              CLO                             ML                        UNKNOWN     2\n",
      "6               CM                          Herps                        UNKNOWN     1\n",
      "7             FHSM                           HERP                        UNKNOWN    23\n",
      "8              GSU                       GSU-Herp  Georgia Southern Universit...    10\n",
      "9            LSUMZ                          Herps                        UNKNOWN     5\n",
      "10             MCZ                           Herp                        UNKNOWN    42\n",
      "11             MCZ                        HerpOBS                        UNKNOWN     1\n",
      "12             MPM                              H                        UNKNOWN    14\n",
      "13             MSB  Amphibian and reptile spec...                        UNKNOWN     2\n",
      "14             MVZ  Amphibian and reptile spec...                        UNKNOWN     1\n",
      "15            NCSM                           Herp    NCSM Herpetology Collection   130\n",
      "16            NEON                      HEVC-GBTS                        UNKNOWN     4\n",
      "17            OMNH                     Amphibians                        UNKNOWN   377\n",
      "18            OMNH                           OCGR  Oklahoma Collection of Gen...   200\n",
      "19             SLU                          Herps                        UNKNOWN    16\n",
      "20            SMNS                SMNS-Z-herpcoll                        UNKNOWN     3\n",
      "21            TCWC                    Herpetology                        UNKNOWN    55\n",
      "22              UF                           Herp                        UNKNOWN   115\n",
      "23         UNKNOWN                        UNKNOWN                        UNKNOWN     9\n",
      "24            USNM          Amphibians & Reptiles            NMNH Extant Biology    16\n",
      "25             YPM                             VZ                        UNKNOWN   242\n",
      "26     iNaturalist                   Observations  iNaturalist research-grade...  6043\n"
     ]
    }
   ],
   "source": [
    "tables = cursorjup.execute(\"SELECT table_name FROM table_descriptions\").fetchall()\n",
    "tables = [x[0] for x in tables]\n",
    "\n",
    "filter_sets = [gbif_req_id, gbif_filter_id]\n",
    "\n",
    "sources = []\n",
    "for s in filter_sets:\n",
    "    s = s.strip()\n",
    "    for tab in tables:\n",
    "        columns = cursorjup.execute(\"SELECT column_name FROM column_descriptions WHERE table_name = '{0}'\".format(tab)).fetchall()\n",
    "        columns = [x[0] for x in columns]\n",
    "        for col in columns:\n",
    "            try:\n",
    "                a = cursorjup.execute(\"SELECT source FROM {1} WHERE {2} = '{0}'\".format(s, tab, col)).fetchone()[0]\n",
    "                sources.append(a)\n",
    "            except:\n",
    "                pass\n",
    "print(list(set(sources))[0])\n",
    "\n",
    "sources = pd.read_sql(sql=\"SELECT * FROM pre_filter_source_counts;\", con=conn_occ)\n",
    "print(sources)"
   ]
  },
  {
   "cell_type": "markdown",
   "metadata": {},
   "source": [
    "#### Post-filters"
   ]
  },
  {
   "cell_type": "code",
   "execution_count": 11,
   "metadata": {},
   "outputs": [
    {
     "name": "stdout",
     "output_type": "stream",
     "text": [
      "GBIF\n",
      "   institutionCode                 collectionCode                    datasetName  COUNT(occ_id)\n",
      "0               CM                          Herps                        UNKNOWN              1\n",
      "1              MCZ                           Herp                        UNKNOWN             32\n",
      "2              MCZ                        HerpOBS                        UNKNOWN              1\n",
      "3              MVZ  Amphibian and reptile spec...                        UNKNOWN              1\n",
      "4             NCSM                           Herp    NCSM Herpetology Collection             23\n",
      "5             NEON                      HEVC-GBTS                        UNKNOWN              4\n",
      "6             OMNH                     Amphibians                        UNKNOWN              8\n",
      "7               UF                           Herp                        UNKNOWN             77\n",
      "8             USNM          Amphibians & Reptiles            NMNH Extant Biology              1\n",
      "9              YPM                             VZ                        UNKNOWN             48\n",
      "10     iNaturalist                   Observations  iNaturalist research-grade...           3733\n"
     ]
    }
   ],
   "source": [
    "tables = cursorjup.execute(\"SELECT table_name FROM table_descriptions\").fetchall()\n",
    "tables = [x[0] for x in tables]\n",
    "\n",
    "filter_sets = [gbif_req_id, gbif_filter_id]\n",
    "\n",
    "sources = []\n",
    "for s in filter_sets:\n",
    "    s = s.strip()\n",
    "    for tab in tables:\n",
    "        columns = cursorjup.execute(\"SELECT column_name FROM column_descriptions WHERE table_name = '{0}'\".format(tab)).fetchall()\n",
    "        columns = [x[0] for x in columns]\n",
    "        for col in columns:\n",
    "            try:\n",
    "                a = cursorjup.execute(\"SELECT source FROM {1} WHERE {2} = '{0}'\".format(s, tab, col)).fetchone()[0]\n",
    "                sources.append(a)\n",
    "            except:\n",
    "                pass\n",
    "print(list(set(sources))[0])\n",
    "\n",
    "sql = \"SELECT institutionCode, collectionCode, datasetName, COUNT(occ_id) FROM occurrences GROUP BY institutionCode, collectionCode, datasetName;\"\n",
    "sources = pd.read_sql(sql=sql, con=conn_occ)\n",
    "print(sources)"
   ]
  },
  {
   "cell_type": "markdown",
   "metadata": {},
   "source": [
    "# Bases\n",
    "#### Pre-filter"
   ]
  },
  {
   "cell_type": "code",
   "execution_count": 12,
   "metadata": {},
   "outputs": [
    {
     "name": "stdout",
     "output_type": "stream",
     "text": [
      "         basisOfRecord  count\n",
      "0    HUMAN_OBSERVATION   6065\n",
      "1  MACHINE_OBSERVATION     22\n",
      "2      MATERIAL_SAMPLE      1\n",
      "3   PRESERVED_SPECIMEN   1263\n",
      "4              UNKNOWN      1\n"
     ]
    }
   ],
   "source": [
    "bases = pd.read_sql(sql=\"SELECT value as basisOfRecord, count FROM pre_filter_value_counts WHERE attribute = 'bases';\", con=conn_occ)\n",
    "print(bases)"
   ]
  },
  {
   "cell_type": "markdown",
   "metadata": {},
   "source": [
    "#### Post-filters"
   ]
  },
  {
   "cell_type": "code",
   "execution_count": 13,
   "metadata": {
    "scrolled": true
   },
   "outputs": [
    {
     "name": "stdout",
     "output_type": "stream",
     "text": [
      "         basisOfRecord  count\n",
      "0    HUMAN_OBSERVATION   3733\n",
      "1  MACHINE_OBSERVATION     20\n",
      "2   PRESERVED_SPECIMEN    175\n",
      "3              UNKNOWN      1\n"
     ]
    }
   ],
   "source": [
    "sql = \"SELECT basisOfRecord, COUNT(occ_id) as count FROM occurrences GROUP BY basisOfRecord;\"\n",
    "bases = pd.read_sql(sql=sql, con=conn_occ)\n",
    "print(bases)"
   ]
  },
  {
   "cell_type": "markdown",
   "metadata": {},
   "source": [
    "# Protocols\n",
    "#### Pre-filters"
   ]
  },
  {
   "cell_type": "code",
   "execution_count": 14,
   "metadata": {
    "scrolled": true
   },
   "outputs": [
    {
     "name": "stdout",
     "output_type": "stream",
     "text": [
      "          samplingProtocol  count\n",
      "0              Drift Fence      3\n",
      "1              Funnel Trap      1\n",
      "2  Opportunistic Encounter      3\n",
      "3                 Trapping     10\n",
      "4                  UNKNOWN   7332\n",
      "5         Visual Encounter      3\n"
     ]
    }
   ],
   "source": [
    "protocol = pd.read_sql(sql=\"SELECT value as samplingProtocol, count FROM pre_filter_value_counts WHERE attribute = 'samplingProtocols';\", con=conn_occ)\n",
    "print(protocol)"
   ]
  },
  {
   "cell_type": "markdown",
   "metadata": {},
   "source": [
    "#### Post-filters"
   ]
  },
  {
   "cell_type": "code",
   "execution_count": 15,
   "metadata": {},
   "outputs": [
    {
     "name": "stdout",
     "output_type": "stream",
     "text": [
      "  samplingProtocol  count\n",
      "0          UNKNOWN   3929\n"
     ]
    }
   ],
   "source": [
    "sql = \"SELECT samplingProtocol, COUNT(occ_id) as count FROM occurrences GROUP BY samplingProtocol;\"\n",
    "print(pd.read_sql(sql=sql, con=conn_occ))"
   ]
  },
  {
   "cell_type": "markdown",
   "metadata": {},
   "source": [
    "# Issues\n",
    "#### Pre-filters"
   ]
  },
  {
   "cell_type": "code",
   "execution_count": 16,
   "metadata": {
    "scrolled": true
   },
   "outputs": [
    {
     "name": "stdout",
     "output_type": "stream",
     "text": [
      "                                                                             issues  count\n",
      "0        ['COORDINATE_ROUNDED', 'COORDINATE_REPROJECTED', 'TAXON_MATCH_HIGHERRANK']      6\n",
      "1                                  ['COORDINATE_ROUNDED', 'COORDINATE_REPROJECTED']     39\n",
      "2   ['COORDINATE_ROUNDED', 'GEODETIC_DATUM_ASSUMED_WGS84', 'COORDINATE_UNCERTAIN...     10\n",
      "3                            ['COORDINATE_ROUNDED', 'GEODETIC_DATUM_ASSUMED_WGS84']   5184\n",
      "4   ['COORDINATE_ROUNDED', 'GEODETIC_DATUM_INVALID', 'GEODETIC_DATUM_ASSUMED_WGS...      5\n",
      "5   ['COORDINATE_ROUNDED', 'GEODETIC_DATUM_INVALID', 'GEODETIC_DATUM_ASSUMED_WGS...     31\n",
      "6                                  ['COORDINATE_ROUNDED', 'TAXON_MATCH_HIGHERRANK']      4\n",
      "7                                                            ['COORDINATE_ROUNDED']    339\n",
      "8         ['GEODETIC_DATUM_ASSUMED_WGS84', 'COORDINATE_UNCERTAINTY_METERS_INVALID']      2\n",
      "9              ['GEODETIC_DATUM_ASSUMED_WGS84', 'COUNTRY_DERIVED_FROM_COORDINATES']      7\n",
      "10                            ['GEODETIC_DATUM_ASSUMED_WGS84', 'TAXON_MATCH_FUZZY']     43\n",
      "11                                                 ['GEODETIC_DATUM_ASSUMED_WGS84']   1401\n",
      "12                       ['GEODETIC_DATUM_INVALID', 'GEODETIC_DATUM_ASSUMED_WGS84']      2\n",
      "13                                                   ['PRESUMED_NEGATED_LONGITUDE']     12\n",
      "14                                                       ['TAXON_MATCH_HIGHERRANK']      6\n",
      "15                                                                               []    261\n"
     ]
    }
   ],
   "source": [
    "iss = pd.read_sql(sql=\"SELECT value as issues, count FROM pre_filter_value_counts WHERE attribute = 'issues';\", con=conn_occ)\n",
    "pd.set_option('display.max_colwidth', 80)\n",
    "print(iss)"
   ]
  },
  {
   "cell_type": "markdown",
   "metadata": {},
   "source": [
    "#### Post-filters"
   ]
  },
  {
   "cell_type": "code",
   "execution_count": 17,
   "metadata": {
    "scrolled": true
   },
   "outputs": [
    {
     "name": "stdout",
     "output_type": "stream",
     "text": [
      "                                                                   issues  count\n",
      "0                                                                            110\n",
      "1                                                      COORDINATE_ROUNDED     50\n",
      "2                         COORDINATE_ROUNDED;GEODETIC_DATUM_ASSUMED_WGS84   3202\n",
      "3  COORDINATE_ROUNDED;GEODETIC_DATUM_INVALID;GEODETIC_DATUM_ASSUMED_WGS84     27\n",
      "4                               COORDINATE_ROUNDED;TAXON_MATCH_HIGHERRANK      2\n",
      "5                                            GEODETIC_DATUM_ASSUMED_WGS84    532\n",
      "6                                              PRESUMED_NEGATED_LONGITUDE      1\n",
      "7                                                  TAXON_MATCH_HIGHERRANK      5\n"
     ]
    }
   ],
   "source": [
    "sql = \"SELECT issues, COUNT(occ_id) as count FROM occurrences GROUP BY issues;\"\n",
    "print(pd.read_sql(sql=sql, con=conn_occ))"
   ]
  },
  {
   "cell_type": "markdown",
   "metadata": {},
   "source": [
    "# Descriptions of filtered records"
   ]
  },
  {
   "cell_type": "markdown",
   "metadata": {},
   "source": [
    "### Years represented"
   ]
  },
  {
   "cell_type": "code",
   "execution_count": 18,
   "metadata": {},
   "outputs": [
    {
     "data": {
      "text/plain": [
       "Text(0.5, 1.0, 'Occurrences per Year')"
      ]
     },
     "execution_count": 18,
     "metadata": {},
     "output_type": "execute_result"
    },
    {
     "data": {
      "image/png": "[encoded data removed]",
      "text/plain": [
       "<Figure size 432x288 with 1 Axes>"
      ]
     },
     "metadata": {
      "needs_background": "light"
     },
     "output_type": "display_data"
    }
   ],
   "source": [
    "occ_years = [int(x[0]) for x in curs_occ.execute(\"SELECT strftime('%Y', occurrenceDate) FROM occurrences\").fetchall()]\n",
    "years = connjup.execute(\"SELECT years_range FROM gbif_requests WHERE request_id = '{0}'\".format(gbif_req_id)).fetchone()[0]\n",
    "years = years.split(',')\n",
    "yearsrng = list(range(int(years[0]), int(years[1]), 1))\n",
    "binsnum = int(years[1]) - int(years[0])\n",
    "plt.hist(occ_years, bins=binsnum)\n",
    "plt.ylabel(\"number of records\")\n",
    "plt.xlabel(\"year\")\n",
    "plt.xticks(yearsrng, rotation=90)\n",
    "plt.title(\"Occurrences per Year\")"
   ]
  },
  {
   "cell_type": "markdown",
   "metadata": {},
   "source": [
    "### Months represented"
   ]
  },
  {
   "cell_type": "code",
   "execution_count": 19,
   "metadata": {},
   "outputs": [
    {
     "data": {
      "text/plain": [
       "Text(0.5, 1.0, 'Occurrences per Month')"
      ]
     },
     "execution_count": 19,
     "metadata": {},
     "output_type": "execute_result"
    },
    {
     "data": {
      "image/png": "[encoded data removed]",
      "text/plain": [
       "<Figure size 432x288 with 1 Axes>"
      ]
     },
     "metadata": {
      "needs_background": "light"
     },
     "output_type": "display_data"
    }
   ],
   "source": [
    "occ_months = [int(x[0]) for x in curs_occ.execute(\"SELECT strftime('%m', occurrenceDate) FROM occurrences\").fetchall()]\n",
    "plt.hist(occ_months, bins=range(1, 14), color=\"g\")\n",
    "plt.ylabel(\"number of records\")\n",
    "plt.xlabel(\"month\")\n",
    "plt.xticks(range(1, 13))\n",
    "plt.title(\"Occurrences per Month\")"
   ]
  },
  {
   "cell_type": "markdown",
   "metadata": {},
   "source": [
    "### Distribution of coordinate uncertainty values"
   ]
  },
  {
   "cell_type": "code",
   "execution_count": 20,
   "metadata": {
    "scrolled": true
   },
   "outputs": [
    {
     "data": {
      "text/plain": [
       "Text(0.5, 1.0, 'Coordinate Uncertainty')"
      ]
     },
     "execution_count": 20,
     "metadata": {},
     "output_type": "execute_result"
    },
    {
     "data": {
      "image/png": "[encoded data removed]",
      "text/plain": [
       "<Figure size 1152x288 with 1 Axes>"
      ]
     },
     "metadata": {
      "needs_background": "light"
     },
     "output_type": "display_data"
    }
   ],
   "source": [
    "occ_cert = [int(x[0]) for x in curs_occ.execute(\"SELECT coordinateUncertaintyInMeters FROM occurrences\").fetchall()]\n",
    "maxi = np.max(occ_cert)\n",
    "plt.figure(figsize=(16,4))\n",
    "plt.hist(occ_cert, bins=50, color=\"r\")\n",
    "plt.xticks(range(0, maxi, int(maxi/50)), rotation=90)\n",
    "plt.ylabel(\"number of records\")\n",
    "plt.xlabel(\"coordinate uncertainty\")\n",
    "plt.title(\"Coordinate Uncertainty\")"
   ]
  },
  {
   "cell_type": "code",
   "execution_count": 21,
   "metadata": {},
   "outputs": [
    {
     "data": {
      "text/plain": [
       "Text(0.5, 1.0, 'Coordinate Uncertainty - Zoomed In')"
      ]
     },
     "execution_count": 21,
     "metadata": {},
     "output_type": "execute_result"
    },
    {
     "data": {
      "image/png": "[encoded data removed]",
      "text/plain": [
       "<Figure size 864x288 with 1 Axes>"
      ]
     },
     "metadata": {
      "needs_background": "light"
     },
     "output_type": "display_data"
    }
   ],
   "source": [
    "rng_max = 2000\n",
    "occ_cert2 = [x for x in occ_cert if x <= rng_max]\n",
    "plt.figure(figsize=(12,4))\n",
    "plt.hist(occ_cert2, bins=30, color=\"m\", align='mid')\n",
    "plt.xticks(range(0, rng_max + 100, int(rng_max/30.)), rotation=90)\n",
    "plt.ylabel(\"number of records\")\n",
    "plt.xlabel(\"coordinate uncertainty\")\n",
    "plt.title(\"Coordinate Uncertainty - Zoomed In\")"
   ]
  },
  {
   "cell_type": "markdown",
   "metadata": {},
   "source": [
    "### Establishment means reported"
   ]
  },
  {
   "cell_type": "code",
   "execution_count": 22,
   "metadata": {},
   "outputs": [
    {
     "name": "stdout",
     "output_type": "stream",
     "text": [
      "UNKNOWN, NATIVE\n"
     ]
    }
   ],
   "source": [
    "establishment = curs_occ.execute(\"SELECT vals FROM unique_values WHERE field = 'establishment' AND step = 'filter';\").fetchall()[0]\n",
    "for est in establishment:\n",
    "    est = est.replace('[', '').strip().replace(']', '').replace(\"'\", \"\")\n",
    "    print(est)"
   ]
  },
  {
   "cell_type": "markdown",
   "metadata": {},
   "source": [
    "### Identification qualifiers included"
   ]
  },
  {
   "cell_type": "code",
   "execution_count": 23,
   "metadata": {},
   "outputs": [
    {
     "name": "stdout",
     "output_type": "stream",
     "text": [
      "UNKNOWN, A\n"
     ]
    }
   ],
   "source": [
    "quali = curs_occ.execute(\"SELECT DISTINCT vals FROM unique_values WHERE field = 'IDqualifier' AND step = 'filter';\").fetchall()[0]\n",
    "for q in quali:\n",
    "    q = q.replace('[', '').strip().replace(']', '').replace(\"'\", \"\")\n",
    "    print(q)"
   ]
  },
  {
   "cell_type": "markdown",
   "metadata": {},
   "source": [
    "### Remarks included"
   ]
  },
  {
   "cell_type": "code",
   "execution_count": 24,
   "metadata": {
    "scrolled": true
   },
   "outputs": [
    {
     "name": "stdout",
     "output_type": "stream",
     "text": [
      "More than 20 remarks, consult the occurrence database.\n"
     ]
    }
   ],
   "source": [
    "remarks = curs_occ.execute(\"SELECT DISTINCT remarks FROM occurrences;\").fetchall()\n",
    "if len(remarks) <= 20:\n",
    "    try:\n",
    "        for rem in remarks:\n",
    "            if rem[0][0:1] == ';':\n",
    "                print(rem[0][2:])\n",
    "            else:\n",
    "                print(rem[0])\n",
    "    except:\n",
    "        pass\n",
    "else:\n",
    "    print(\"More than 20 remarks, consult the occurrence database.\")"
   ]
  },
  {
   "cell_type": "markdown",
   "metadata": {},
   "source": [
    "### Attributes returned for the records in the request (pre-filters)"
   ]
  },
  {
   "cell_type": "code",
   "execution_count": 25,
   "metadata": {
    "scrolled": false
   },
   "outputs": [
    {
     "name": "stdout",
     "output_type": "stream",
     "text": [
      "                                  attribute  included(n)  populated(n)\n",
      "Field                                                                 \n",
      "0                    acceptedScientificName         7352          7352\n",
      "1                          acceptedTaxonKey         7352          7352\n",
      "2                              accessRights          518           518\n",
      "3                      associatedReferences           33            33\n",
      "4                       associatedSequences          300           300\n",
      "5                             basisOfRecord         7352          7352\n",
      "6                                  behavior            2             2\n",
      "7                     bibliographicCitation          444           444\n",
      "8                             catalogNumber         7344          7344\n",
      "9                                     class         7352          7352\n",
      "10                                 classKey         7352          7352\n",
      "11                           collectionCode         7343          7343\n",
      "12                             collectionID          459           459\n",
      "13                                continent          896           896\n",
      "14            coordinateUncertaintyInMeters         4865          4865\n",
      "15                                  country         7352          7352\n",
      "16                              countryCode         7352          7352\n",
      "17                                   county         1275          1275\n",
      "18                                  crawlId         7352          7352\n",
      "19                                  created            7             7\n",
      "20                      dataGeneralizations            1             1\n",
      "21                                datasetID          150           150\n",
      "22                               datasetKey         7352          7352\n",
      "23                              datasetName         6419          6419\n",
      "24                           dateIdentified         5942          5942\n",
      "25                                      day         7349          7349\n",
      "26                          decimalLatitude         7352          7352\n",
      "27                         decimalLongitude         7352          7352\n",
      "28                                    depth            1             1\n",
      "29                              disposition          173           173\n",
      "30                        dynamicProperties          287           287\n",
      "31                                elevation           17            17\n",
      "32                        elevationAccuracy           13            13\n",
      "33                             endDayOfYear          162           162\n",
      "34                       establishmentMeans          143           143\n",
      "35                                eventDate         7352          7352\n",
      "36                             eventRemarks           20            20\n",
      "37                                eventTime         5408          5408\n",
      "38                               extensions         7352             0\n",
      "39                                    facts         7352             0\n",
      "40                                   family         7352          7352\n",
      "41                                familyKey         7352          7352\n",
      "42                              fieldNumber          689           689\n",
      "43                                   gbifID         7352          7352\n",
      "44                              genericName         7352          7352\n",
      "45                                    genus         7352          7352\n",
      "46                                 genusKey         7352          7352\n",
      "47                            geodeticDatum         7352          7352\n",
      "48                     georeferenceProtocol          362           362\n",
      "49                      georeferenceRemarks          260           260\n",
      "50                      georeferenceSources          500           500\n",
      "51           georeferenceVerificationStatus          387           387\n",
      "52                          georeferencedBy          241           241\n",
      "53                        georeferencedDate          137           137\n",
      "54                                  habitat           29            29\n",
      "55                     higherClassification          456           456\n",
      "56                          higherGeography          566           566\n",
      "57              http://unknown.org/language            1             1\n",
      "58                  http://unknown.org/nick         6043          6043\n",
      "59     http://unknown.org/occurrenceDetails         6043          6043\n",
      "60              http://unknown.org/recordId            4             4\n",
      "61                http://unknown.org/rights            1             1\n",
      "62          http://unknown.org/rightsHolder            1             1\n",
      "63                         identificationID         5778          5778\n",
      "64                  identificationQualifier            3             3\n",
      "65                    identificationRemarks           40            40\n",
      "66         identificationVerificationStatus            3             3\n",
      "67                             identifiedBy          326           326\n",
      "68                          identifiedByIDs         7352            99\n",
      "69                               identifier         7349          7349\n",
      "70                              identifiers         7352             0\n",
      "71                          individualCount          517           517\n",
      "72                      informationWithheld          719           719\n",
      "73                     infraspecificEpithet         1676          1676\n",
      "74                          installationKey         7352          7352\n",
      "75                          institutionCode         7343          7343\n",
      "76                            institutionID          335           335\n",
      "77                                   island            1             1\n",
      "78                                   issues         7352          7091\n",
      "79                                      key         7352          7352\n",
      "80                                  kingdom         7352          7352\n",
      "81                               kingdomKey         7352          7352\n",
      "82                                 language          962           962\n",
      "83                              lastCrawled         7352          7352\n",
      "84                          lastInterpreted         7352          7352\n",
      "85                               lastParsed         7352          7352\n",
      "86                                  license         7352          7352\n",
      "87                                lifeStage          289           289\n",
      "88                                 locality         1273          1273\n",
      "89                      locationAccordingTo            3             3\n",
      "90                               locationID           17            17\n",
      "91                          locationRemarks           31            31\n",
      "92                                    media         7352          5668\n",
      "93                                 modified         7094          7094\n",
      "94                                    month         7352          7352\n",
      "95                             municipality          237           237\n",
      "96                          nameAccordingTo           20            20\n",
      "97                        nameAccordingToID           20            20\n",
      "98                              networkKeys            3             3\n",
      "99                        nomenclaturalCode          431           431\n",
      "100                            occurrenceID         7350          7350\n",
      "101                       occurrenceRemarks         1463          1463\n",
      "102                        occurrenceStatus          144           144\n",
      "103                                   order         7352          7352\n",
      "104                                orderKey         7352          7352\n",
      "105                              organismID            3             3\n",
      "106                     otherCatalogNumbers           91            91\n",
      "107                    ownerInstitutionCode          415           415\n",
      "108                                  phylum         7352          7352\n",
      "109                               phylumKey         7352          7352\n",
      "110                            preparations         1134          1134\n",
      "111                 previousIdentifications          245           245\n",
      "112                                protocol         7352          7352\n",
      "113                       publishingCountry         7351          7351\n",
      "114                        publishingOrgKey         7352          7352\n",
      "115                            recordNumber          305           305\n",
      "116                              recordedBy         7198          7198\n",
      "117                           recordedByIDs         7352           100\n",
      "118                              references         6616          6616\n",
      "119                               relations         7352             0\n",
      "120                   reproductiveCondition            3             3\n",
      "121                                  rights         6049          6049\n",
      "122                            rightsHolder         6458          6458\n",
      "123                        samplingProtocol           20            20\n",
      "124                          scientificName         7352          7352\n",
      "125                                     sex          304           304\n",
      "126                                 species         7352          7352\n",
      "127                              speciesKey         7352          7352\n",
      "128                         specificEpithet         7352          7352\n",
      "129                          startDayOfYear          202           202\n",
      "130                           stateProvince         7320          7320\n",
      "131                                 taxonID         6074          6074\n",
      "132                                taxonKey         7352          7352\n",
      "133                               taxonRank         7352          7352\n",
      "134                            taxonRemarks          252           252\n",
      "135                         taxonomicStatus         7352          7352\n",
      "136                                    type          601           601\n",
      "137                verbatimCoordinateSystem           90            90\n",
      "138                           verbatimDepth            1             1\n",
      "139                       verbatimElevation          381           381\n",
      "140                       verbatimEventDate         6189          6189\n",
      "141                        verbatimLocality         6210          6210\n",
      "142                             verbatimSRS           77            77\n",
      "143                          vernacularName          582           582\n",
      "144                                    year         7352          7352\n"
     ]
    }
   ],
   "source": [
    "fields_summary = pd.read_sql(\"SELECT * FROM gbif_fields_returned\", conn_occ)#, index_col='index')\n",
    "fields_summary.index.name = 'Field'\n",
    "pd.set_option('display.max_rows', 250)\n",
    "print(fields_summary)"
   ]
  },
  {
   "cell_type": "markdown",
   "metadata": {},
   "source": [
    "### Runtime"
   ]
  },
  {
   "cell_type": "code",
   "execution_count": 26,
   "metadata": {},
   "outputs": [
    {
     "name": "stdout",
     "output_type": "stream",
     "text": [
      "0:07:49.081738\n"
     ]
    }
   ],
   "source": [
    "t2 = datetime.now()\n",
    "print(t2 - t1)"
   ]
  },
  {
   "cell_type": "code",
   "execution_count": null,
   "metadata": {},
   "outputs": [],
   "source": []
  }
 ],
 "metadata": {
  "kernelspec": {
   "display_name": "Python 3",
   "language": "python",
   "name": "python3"
  },
  "language_info": {
   "codemirror_mode": {
    "name": "ipython",
    "version": 3
   },
   "file_extension": ".py",
   "mimetype": "text/x-python",
   "name": "python",
   "nbconvert_exporter": "python",
   "pygments_lexer": "ipython3",
   "version": "3.6.5"
  }
 },
 "nbformat": 4,
 "nbformat_minor": 2
}
