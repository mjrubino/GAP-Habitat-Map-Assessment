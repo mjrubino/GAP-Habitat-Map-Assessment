{
 "cells": [
  {
   "cell_type": "markdown",
   "metadata": {},
   "source": [
    "# Occurrence Records from GBIF\n",
    "This notebook is a tool for exploring data sets requested from GBIF (and eventually other sources), and mostly for developing criteria for filtering records (filter sets).  When the entire notebook is run, it retrieves records according to the filter sets specified and saves the results (records and some summary tables) in an sqlite database.  Some information is pulled from the parameters.sqlite database that is saved in this repository."
   ]
  },
  {
   "cell_type": "markdown",
   "metadata": {},
   "source": [
    "### Set Variables - fill out stuff in this cell.  \n",
    "Notes:\n",
    "default_coordUncertainty -- coordinateUncertaintyInMeters is often not provided.  Here is an option to use a default.  If you don't want anything entered, set this equal to False (boolean, not string)."
   ]
  },
  {
   "cell_type": "code",
   "execution_count": 1,
   "metadata": {},
   "outputs": [],
   "source": [
    "species_id = 'aenmtx0'\n",
    "summary_name = 'Eastern Narrow-mouthed Toad'\n",
    "gbif_req_id = 'EvalGBIFRequest'\n",
    "gbif_filter_id = 'EvalGBIFFilter'\n",
    "default_coordUncertainty = False       # Note above.\n",
    "workDir = 'D:/USGS Analyses/GAP-Habitat-Map-Assessment/'   # Be sure to create folders named \"Inputs\" and \"Outputs\" here.\n",
    "codeDir = workDir + 'Scripts/'\n",
    "dbDir = workDir + 'db/'\n",
    "paramdb = dbDir + 'wildlife-wrangler.sqlite'\n",
    "configDir = workDir  # Path to folder where saved your wildlifeconfig file."
   ]
  },
  {
   "cell_type": "markdown",
   "metadata": {},
   "source": [
    "### Setup - nothing to fill out in this cell"
   ]
  },
  {
   "cell_type": "code",
   "execution_count": 2,
   "metadata": {},
   "outputs": [
    {
     "name": "stdout",
     "output_type": "stream",
     "text": [
      "Notebook run 2020-04-21 13:18:52.616660\n",
      "D:/USGS Analyses/GAP-Habitat-Map-Assessment/Outputs/aenmtx0EvalGBIFRequestEvalGBIFFilter.sqlite\n"
     ]
    }
   ],
   "source": [
    "%matplotlib inline\n",
    "import sqlite3\n",
    "import pprint\n",
    "import json\n",
    "import pandas as pd\n",
    "import numpy as np\n",
    "pd.set_option('display.width', 600)\n",
    "pd.set_option('display.max_colwidth', 30)\n",
    "pd.set_option('display.max_rows', 150)\n",
    "from IPython.display import Image\n",
    "from pygbif import occurrences\n",
    "import matplotlib.pyplot as plt\n",
    "import os\n",
    "from datetime import datetime\n",
    "t1 = datetime.now()\n",
    "import sys\n",
    "sys.path.append(configDir)\n",
    "import config\n",
    "sys.path.append(codeDir)\n",
    "import repo_functions as functions\n",
    "inDir = workDir + 'Inputs/'\n",
    "outDir = workDir + 'Outputs/'\n",
    "spdb = outDir + species_id + gbif_req_id + gbif_filter_id + '.sqlite'\n",
    "username = config.gbif_username\n",
    "password = config.gbif_password\n",
    "email = config.gbif_email\n",
    "print(\"Notebook run \" + str(t1))\n",
    "print(spdb)\n",
    "connjup = sqlite3.connect(paramdb)\n",
    "cursorjup = connjup.cursor()\n",
    "# Get some variables\n",
    "years = connjup.execute(\"\"\"SELECT years_range \n",
    "                           FROM gbif_requests WHERE request_id = '{0}'\"\"\".format(gbif_req_id)).fetchone()[0]\n",
    "gap_id = connjup.execute(\"\"\"SELECT gap_id\n",
    "                            FROM species_concepts WHERE species_id = '{0}'\"\"\".format(species_id)).fetchone()[0]\n",
    "common_name = connjup.execute(\"\"\"SELECT common_name\n",
    "                                 FROM species_concepts WHERE species_id = '{0}'\"\"\".format(species_id)).fetchone()[0]"
   ]
  },
  {
   "cell_type": "markdown",
   "metadata": {},
   "source": [
    "# Species Concept\n",
    "Display information on the species from the parameters.sqlite database."
   ]
  },
  {
   "cell_type": "code",
   "execution_count": 3,
   "metadata": {},
   "outputs": [
    {
     "name": "stdout",
     "output_type": "stream",
     "text": [
      "SPECIES CONCEPT RECORD\n",
      "                                                   VALUE\n",
      "ATTRIBUTE                                               \n",
      "species_id                                       aenmtx0\n",
      "fws_id                                              None\n",
      "gap_id                                            aENMTx\n",
      "itis_tsn                                          173467\n",
      "gbif_id                                          2421766\n",
      "bcb_id                                              None\n",
      "ebird_id                                            None\n",
      "common_name                  Eastern Narrow-mouthed Toad\n",
      "scientific_name                Gastrophryne carolinensis\n",
      "start_year                                          1835\n",
      "split_from                                          None\n",
      "end_year                                            None\n",
      "lumped_into                                         None\n",
      "geometry                                            None\n",
      "detection_distance_meters                              0\n",
      "vetted_how                                  NS,GBIF,IUCN\n",
      "vetted_who                                     M. Rubino\n",
      "vetted_date                                   04/21/2020\n",
      "notes                      Basionym: Engystoma caroli...\n"
     ]
    }
   ],
   "source": [
    "vals = cursorjup.execute(\"SELECT * FROM species_concepts WHERE species_id = '{0}';\".format(species_id)).fetchall()[0]\n",
    "cols = [x[1] for x in cursorjup.execute(\"PRAGMA table_info('species_concepts')\").fetchall()]\n",
    "sp_dict = dict(zip(cols, vals))\n",
    "sp_df = pd.DataFrame.from_dict(sp_dict, orient='index', columns=['VALUE'])\n",
    "sp_df.index.name = 'ATTRIBUTE'\n",
    "print(\"SPECIES CONCEPT RECORD\")\n",
    "print(sp_df)"
   ]
  },
  {
   "cell_type": "markdown",
   "metadata": {},
   "source": [
    "# Filters\n",
    "Display the parameters of the request filter set.  These are deployed during the step where records are retrieved from the API."
   ]
  },
  {
   "cell_type": "code",
   "execution_count": 4,
   "metadata": {},
   "outputs": [
    {
     "name": "stdout",
     "output_type": "stream",
     "text": [
      "THE REQUEST FILTER SET\n",
      "request_id                    EvalGBIFRequest\n",
      "source                                   GBIF\n",
      "lat_range                                None\n",
      "lon_range                                None\n",
      "years_range                         1999,2020\n",
      "months_range                             1,12\n",
      "geoissue                                False\n",
      "coordinate                               True\n",
      "country                                    US\n",
      "geometry                                 None\n",
      "creator                             M. Rubino\n",
      "notes           amphibian evaluation reque...\n",
      "Name: 0, dtype: object\n"
     ]
    }
   ],
   "source": [
    "request_df = pd.read_sql_query(sql=\"SELECT * FROM gbif_requests WHERE request_id = '{0}'\".format(gbif_req_id), con=connjup)\n",
    "print(\"THE REQUEST FILTER SET\")\n",
    "print(request_df.loc[0])"
   ]
  },
  {
   "cell_type": "markdown",
   "metadata": {},
   "source": [
    "Display the parameters of the post-request filter set.  These are deployed after the records are retrieved from the API, but before they are stored in the occurrence record sqlite database."
   ]
  },
  {
   "cell_type": "code",
   "execution_count": 5,
   "metadata": {},
   "outputs": [
    {
     "name": "stdout",
     "output_type": "stream",
     "text": [
      "THE POST REQUEST FILTER SET\n",
      "filter_id                                    EvalGBIFFilter\n",
      "dataset                                                GBIF\n",
      "institutions_omit                                      None\n",
      "collection_codes_omit                                  None\n",
      "datasets_omit                                          None\n",
      "has_coordinate_uncertainty                                1\n",
      "max_coordinate_uncertainty                            10000\n",
      "bases_omit                                  FOSSIL_SPECIMEN\n",
      "sampling_protocols_omit                                None\n",
      "issues_omit                                            None\n",
      "duplicates_OK                                         False\n",
      "creator                                           M. Rubino\n",
      "notes                         amphibian evaluation filte...\n",
      "Name: 0, dtype: object\n"
     ]
    }
   ],
   "source": [
    "filter_df = pd.read_sql_query(sql=\"SELECT * FROM gbif_filters WHERE filter_id = '{0}'\".format(gbif_filter_id), con=connjup)\n",
    "print(\"THE POST REQUEST FILTER SET\")\n",
    "print(filter_df.loc[0])"
   ]
  },
  {
   "cell_type": "code",
   "execution_count": 6,
   "metadata": {
    "scrolled": false
   },
   "outputs": [
    {
     "name": "stdout",
     "output_type": "stream",
     "text": [
      "SPATIALITE_SECURITY set to relaxed\n",
      "Created occurrence db: 0:00:00.257045\n",
      "Got request params and sorted out geometry constraints: 0:00:00.002010\n",
      "1354 records available\n",
      "Downloaded records: 0:00:10.390953\n",
      "Summarized fields returned: 0:01:16.569900\n",
      "Created summary table of request results: 0:00:00.036759\n",
      "Performed post-request filtering: 0:00:00.017014\n",
      "Calculated new columns, deleted some too: 0:00:00.039033\n",
      "21 duplicate records dropped: 0:00:00.560467\n",
      "Inserted records into table: 0:00:00.044822\n",
      "Summarized unique values retained: 0:00:00.003002\n",
      "Updated occurrences table geometry column: 0:00:00.105097\n",
      "Buffered points: 0:00:00.633115\n"
     ]
    }
   ],
   "source": [
    "functions.retrieve_gbif_occurrences(codeDir, species_id, inDir, paramdb, spdb, gbif_req_id, gbif_filter_id, \n",
    "                                    default_coordUncertainty, outDir, summary_name, username,\n",
    "                                   password, email)"
   ]
  },
  {
   "cell_type": "code",
   "execution_count": 7,
   "metadata": {},
   "outputs": [
    {
     "name": "stdout",
     "output_type": "stream",
     "text": [
      "codeDir: D:/USGS Analyses/GAP-Habitat-Map-Assessment/Scripts/\n",
      " species_id: aenmtx0\n",
      " inDir: D:/USGS Analyses/GAP-Habitat-Map-Assessment/Inputs/\n",
      " paramdb: D:/USGS Analyses/GAP-Habitat-Map-Assessment/db/wildlife-wrangler.sqlite\n",
      " spdb: D:/USGS Analyses/GAP-Habitat-Map-Assessment/Outputs/aenmtx0EvalGBIFRequestEvalGBIFFilter.sqlite\n",
      " gbif_req_id: EvalGBIFRequest\n",
      " gbif_filter_id: EvalGBIFFilter\n",
      " default_coordUncertainty: False\n",
      " outDir: D:/USGS Analyses/GAP-Habitat-Map-Assessment/Outputs/\n",
      " summary_name: Eastern Narrow-mouthed Toad\n",
      " username: gapper\n",
      " password: metspirates\n",
      " email: pythonprocessing@gmail.com\n"
     ]
    }
   ],
   "source": [
    "print('codeDir: '+codeDir+'\\n', \n",
    "'species_id: '+species_id+'\\n', \n",
    "'inDir: '+inDir+'\\n', \n",
    "'paramdb: '+paramdb+'\\n', \n",
    "'spdb: '+spdb+'\\n', \n",
    "'gbif_req_id: '+gbif_req_id+'\\n', \n",
    "'gbif_filter_id: '+gbif_filter_id+'\\n', \n",
    "'default_coordUncertainty: '+str(default_coordUncertainty)+'\\n', \n",
    "'outDir: '+outDir+'\\n', \n",
    "'summary_name: '+summary_name+'\\n', \n",
    "'username: '+username+'\\n',\n",
    "'password: '+password+'\\n', \n",
    "'email: '+email)"
   ]
  },
  {
   "cell_type": "markdown",
   "metadata": {},
   "source": [
    "### Connect to output database, record species and filter info."
   ]
  },
  {
   "cell_type": "code",
   "execution_count": 8,
   "metadata": {},
   "outputs": [],
   "source": [
    "conn_occ= sqlite3.connect(spdb)\n",
    "curs_occ = conn_occ.cursor()\n",
    "sp_df.to_sql(name='species_concept', con=conn_occ, if_exists='replace')\n",
    "request_df.to_sql(name=gbif_req_id, con=conn_occ, if_exists='replace')\n",
    "filter_df.to_sql(name=gbif_filter_id, con=conn_occ, if_exists='replace')"
   ]
  },
  {
   "cell_type": "markdown",
   "metadata": {},
   "source": [
    "### How many records made it through the filters?\n",
    "This is the number that was actually saved in the occurrence record sqlite database."
   ]
  },
  {
   "cell_type": "code",
   "execution_count": 9,
   "metadata": {},
   "outputs": [
    {
     "name": "stdout",
     "output_type": "stream",
     "text": [
      "678 records\n"
     ]
    }
   ],
   "source": [
    "record_count = curs_occ.execute(\"SELECT COUNT(occ_id) FROM occurrences WHERE species_id = '{0}'\".format(species_id)).fetchone()\n",
    "print(str(record_count[0]) + \" records\")"
   ]
  },
  {
   "cell_type": "markdown",
   "metadata": {},
   "source": [
    "# Sources\n",
    "#### Pre-filters"
   ]
  },
  {
   "cell_type": "code",
   "execution_count": 10,
   "metadata": {},
   "outputs": [
    {
     "name": "stdout",
     "output_type": "stream",
     "text": [
      "GBIF\n",
      "   institutionCode                 collectionCode                    datasetName    0\n",
      "0              AUM                          Herps                        UNKNOWN   11\n",
      "1            BISON  USGS SESC - Big Cypress - ...  USGS SESC - Big Cypress - ...   27\n",
      "2            BISON  USGS SESC - Biscayne - Her...  USGS SESC - Biscayne - Her...    3\n",
      "3            BISON  USGS SESC - Everglades - H...  USGS SESC - Everglades - H...   32\n",
      "4            BISON  USGS SESC - Everglades - H...  USGS SESC - Everglades - H...    7\n",
      "5              CAS                           HERP                        UNKNOWN    8\n",
      "6             FHSM                           HERP                        UNKNOWN   22\n",
      "7              GSU                       GSU-Herp  Georgia Southern Universit...    1\n",
      "8               KU                            KUH  University of Kansas Biodi...    5\n",
      "9             LACM                          Herps               LACM Vertebrates    3\n",
      "10           LSUMZ                          Herps                        UNKNOWN    1\n",
      "11            NCSM                           Herp    NCSM Herpetology Collection   24\n",
      "12            NEON                      HEVC-GBTS                        UNKNOWN   23\n",
      "13            OMNH                     Amphibians                        UNKNOWN   60\n",
      "14            OMNH                           OCGR  Oklahoma Collection of Gen...   44\n",
      "15             SLU                          Herps                        UNKNOWN    4\n",
      "16            TCWC                    Herpetology                        UNKNOWN   46\n",
      "17              UF                           Herp                        UNKNOWN   62\n",
      "18         UNKNOWN                        UNKNOWN                        UNKNOWN    7\n",
      "19            USNM          Amphibians & Reptiles            NMNH Extant Biology   12\n",
      "20            UTEP  Amphibian and reptile spec...                        UNKNOWN   17\n",
      "21             YPM                             VZ                        UNKNOWN    7\n",
      "22     iNaturalist                   Observations  iNaturalist research-grade...  928\n"
     ]
    }
   ],
   "source": [
    "tables = cursorjup.execute(\"SELECT table_name FROM table_descriptions\").fetchall()\n",
    "tables = [x[0] for x in tables]\n",
    "\n",
    "filter_sets = [gbif_req_id, gbif_filter_id]\n",
    "\n",
    "sources = []\n",
    "for s in filter_sets:\n",
    "    s = s.strip()\n",
    "    for tab in tables:\n",
    "        columns = cursorjup.execute(\"SELECT column_name FROM column_descriptions WHERE table_name = '{0}'\".format(tab)).fetchall()\n",
    "        columns = [x[0] for x in columns]\n",
    "        for col in columns:\n",
    "            try:\n",
    "                a = cursorjup.execute(\"SELECT source FROM {1} WHERE {2} = '{0}'\".format(s, tab, col)).fetchone()[0]\n",
    "                sources.append(a)\n",
    "            except:\n",
    "                pass\n",
    "print(list(set(sources))[0])\n",
    "\n",
    "sources = pd.read_sql(sql=\"SELECT * FROM pre_filter_source_counts;\", con=conn_occ)\n",
    "print(sources)"
   ]
  },
  {
   "cell_type": "markdown",
   "metadata": {},
   "source": [
    "#### Post-filters"
   ]
  },
  {
   "cell_type": "code",
   "execution_count": 11,
   "metadata": {},
   "outputs": [
    {
     "name": "stdout",
     "output_type": "stream",
     "text": [
      "GBIF\n",
      "  institutionCode                 collectionCode                    datasetName  COUNT(occ_id)\n",
      "0           BISON  USGS SESC - Biscayne - Her...  USGS SESC - Biscayne - Her...              3\n",
      "1            NCSM                           Herp    NCSM Herpetology Collection              8\n",
      "2            NEON                      HEVC-GBTS                        UNKNOWN             22\n",
      "3            OMNH                     Amphibians                        UNKNOWN              3\n",
      "4              UF                           Herp                        UNKNOWN             49\n",
      "5            USNM          Amphibians & Reptiles            NMNH Extant Biology              1\n",
      "6            UTEP  Amphibian and reptile spec...                        UNKNOWN             10\n",
      "7     iNaturalist                   Observations  iNaturalist research-grade...            582\n"
     ]
    }
   ],
   "source": [
    "tables = cursorjup.execute(\"SELECT table_name FROM table_descriptions\").fetchall()\n",
    "tables = [x[0] for x in tables]\n",
    "\n",
    "filter_sets = [gbif_req_id, gbif_filter_id]\n",
    "\n",
    "sources = []\n",
    "for s in filter_sets:\n",
    "    s = s.strip()\n",
    "    for tab in tables:\n",
    "        columns = cursorjup.execute(\"SELECT column_name FROM column_descriptions WHERE table_name = '{0}'\".format(tab)).fetchall()\n",
    "        columns = [x[0] for x in columns]\n",
    "        for col in columns:\n",
    "            try:\n",
    "                a = cursorjup.execute(\"SELECT source FROM {1} WHERE {2} = '{0}'\".format(s, tab, col)).fetchone()[0]\n",
    "                sources.append(a)\n",
    "            except:\n",
    "                pass\n",
    "print(list(set(sources))[0])\n",
    "\n",
    "sql = \"SELECT institutionCode, collectionCode, datasetName, COUNT(occ_id) FROM occurrences GROUP BY institutionCode, collectionCode, datasetName;\"\n",
    "sources = pd.read_sql(sql=sql, con=conn_occ)\n",
    "print(sources)"
   ]
  },
  {
   "cell_type": "markdown",
   "metadata": {},
   "source": [
    "# Bases\n",
    "#### Pre-filter"
   ]
  },
  {
   "cell_type": "code",
   "execution_count": 12,
   "metadata": {},
   "outputs": [
    {
     "name": "stdout",
     "output_type": "stream",
     "text": [
      "         basisOfRecord  count\n",
      "0    HUMAN_OBSERVATION    997\n",
      "1  MACHINE_OBSERVATION      5\n",
      "2      MATERIAL_SAMPLE      2\n",
      "3   PRESERVED_SPECIMEN    349\n",
      "4              UNKNOWN      1\n"
     ]
    }
   ],
   "source": [
    "bases = pd.read_sql(sql=\"SELECT value as basisOfRecord, count FROM pre_filter_value_counts WHERE attribute = 'bases';\", con=conn_occ)\n",
    "print(bases)"
   ]
  },
  {
   "cell_type": "markdown",
   "metadata": {},
   "source": [
    "#### Post-filters"
   ]
  },
  {
   "cell_type": "code",
   "execution_count": 13,
   "metadata": {
    "scrolled": true
   },
   "outputs": [
    {
     "name": "stdout",
     "output_type": "stream",
     "text": [
      "         basisOfRecord  count\n",
      "0    HUMAN_OBSERVATION    585\n",
      "1  MACHINE_OBSERVATION      4\n",
      "2   PRESERVED_SPECIMEN     88\n",
      "3              UNKNOWN      1\n"
     ]
    }
   ],
   "source": [
    "sql = \"SELECT basisOfRecord, COUNT(occ_id) as count FROM occurrences GROUP BY basisOfRecord;\"\n",
    "bases = pd.read_sql(sql=sql, con=conn_occ)\n",
    "print(bases)"
   ]
  },
  {
   "cell_type": "markdown",
   "metadata": {},
   "source": [
    "# Protocols\n",
    "#### Pre-filters"
   ]
  },
  {
   "cell_type": "code",
   "execution_count": 14,
   "metadata": {
    "scrolled": true
   },
   "outputs": [
    {
     "name": "stdout",
     "output_type": "stream",
     "text": [
      "          samplingProtocol  count\n",
      "0              Drift Fence      2\n",
      "1  Opportunistic Encounter      7\n",
      "2                  UNKNOWN   1285\n",
      "3         Visual Encounter     15\n",
      "4                    Vocal      7\n",
      "5             Vocalization     38\n"
     ]
    }
   ],
   "source": [
    "protocol = pd.read_sql(sql=\"SELECT value as samplingProtocol, count FROM pre_filter_value_counts WHERE attribute = 'samplingProtocols';\", con=conn_occ)\n",
    "print(protocol)"
   ]
  },
  {
   "cell_type": "markdown",
   "metadata": {},
   "source": [
    "#### Post-filters"
   ]
  },
  {
   "cell_type": "code",
   "execution_count": 15,
   "metadata": {},
   "outputs": [
    {
     "name": "stdout",
     "output_type": "stream",
     "text": [
      "          samplingProtocol  count\n",
      "0  Opportunistic Encounter      3\n",
      "1                  UNKNOWN    675\n"
     ]
    }
   ],
   "source": [
    "sql = \"SELECT samplingProtocol, COUNT(occ_id) as count FROM occurrences GROUP BY samplingProtocol;\"\n",
    "print(pd.read_sql(sql=sql, con=conn_occ))"
   ]
  },
  {
   "cell_type": "markdown",
   "metadata": {},
   "source": [
    "# Issues\n",
    "#### Pre-filters"
   ]
  },
  {
   "cell_type": "code",
   "execution_count": 16,
   "metadata": {
    "scrolled": true
   },
   "outputs": [
    {
     "name": "stdout",
     "output_type": "stream",
     "text": [
      "                                                                             issues  count\n",
      "0                                                        ['COORDINATE_REPROJECTED']      2\n",
      "1                                  ['COORDINATE_ROUNDED', 'COORDINATE_REPROJECTED']      1\n",
      "2   ['COORDINATE_ROUNDED', 'GEODETIC_DATUM_ASSUMED_WGS84', 'PRESUMED_NEGATED_LON...      3\n",
      "3                            ['COORDINATE_ROUNDED', 'GEODETIC_DATUM_ASSUMED_WGS84']    804\n",
      "4   ['COORDINATE_ROUNDED', 'GEODETIC_DATUM_INVALID', 'GEODETIC_DATUM_ASSUMED_WGS...      3\n",
      "5                              ['COORDINATE_ROUNDED', 'PRESUMED_NEGATED_LONGITUDE']      3\n",
      "6                                     ['COORDINATE_ROUNDED', 'TYPE_STATUS_INVALID']      4\n",
      "7                                                            ['COORDINATE_ROUNDED']     89\n",
      "8                                              ['COUNTRY_DERIVED_FROM_COORDINATES']      4\n",
      "9              ['GEODETIC_DATUM_ASSUMED_WGS84', 'COUNTRY_DERIVED_FROM_COORDINATES']      6\n",
      "10                     ['GEODETIC_DATUM_ASSUMED_WGS84', 'INDIVIDUAL_COUNT_INVALID']      1\n",
      "11                                                 ['GEODETIC_DATUM_ASSUMED_WGS84']    305\n",
      "12                                                   ['PRESUMED_NEGATED_LONGITUDE']      3\n",
      "13                                                                               []    126\n"
     ]
    }
   ],
   "source": [
    "iss = pd.read_sql(sql=\"SELECT value as issues, count FROM pre_filter_value_counts WHERE attribute = 'issues';\", con=conn_occ)\n",
    "pd.set_option('display.max_colwidth', 80)\n",
    "print(iss)"
   ]
  },
  {
   "cell_type": "markdown",
   "metadata": {},
   "source": [
    "#### Post-filters"
   ]
  },
  {
   "cell_type": "code",
   "execution_count": 17,
   "metadata": {
    "scrolled": true
   },
   "outputs": [
    {
     "name": "stdout",
     "output_type": "stream",
     "text": [
      "                                                                   issues  count\n",
      "0                                                                             70\n",
      "1                                                      COORDINATE_ROUNDED     18\n",
      "2                               COORDINATE_ROUNDED;COORDINATE_REPROJECTED      1\n",
      "3                         COORDINATE_ROUNDED;GEODETIC_DATUM_ASSUMED_WGS84    451\n",
      "4  COORDINATE_ROUNDED;GEODETIC_DATUM_INVALID;GEODETIC_DATUM_ASSUMED_WGS84      3\n",
      "5                                  COORDINATE_ROUNDED;TYPE_STATUS_INVALID      2\n",
      "6                                            GEODETIC_DATUM_ASSUMED_WGS84    133\n"
     ]
    }
   ],
   "source": [
    "sql = \"SELECT issues, COUNT(occ_id) as count FROM occurrences GROUP BY issues;\"\n",
    "print(pd.read_sql(sql=sql, con=conn_occ))"
   ]
  },
  {
   "cell_type": "markdown",
   "metadata": {},
   "source": [
    "# Descriptions of filtered records"
   ]
  },
  {
   "cell_type": "markdown",
   "metadata": {},
   "source": [
    "### Years represented"
   ]
  },
  {
   "cell_type": "code",
   "execution_count": 18,
   "metadata": {},
   "outputs": [
    {
     "data": {
      "text/plain": [
       "Text(0.5, 1.0, 'Occurrences per Year')"
      ]
     },
     "execution_count": 18,
     "metadata": {},
     "output_type": "execute_result"
    },
    {
     "data": {
      "image/png": "[encoded data removed]",
      "text/plain": [
       "<Figure size 432x288 with 1 Axes>"
      ]
     },
     "metadata": {
      "needs_background": "light"
     },
     "output_type": "display_data"
    }
   ],
   "source": [
    "occ_years = [int(x[0]) for x in curs_occ.execute(\"SELECT strftime('%Y', occurrenceDate) FROM occurrences\").fetchall()]\n",
    "years = connjup.execute(\"SELECT years_range FROM gbif_requests WHERE request_id = '{0}'\".format(gbif_req_id)).fetchone()[0]\n",
    "years = years.split(',')\n",
    "yearsrng = list(range(int(years[0]), int(years[1]), 1))\n",
    "binsnum = int(years[1]) - int(years[0])\n",
    "plt.hist(occ_years, bins=binsnum)\n",
    "plt.ylabel(\"number of records\")\n",
    "plt.xlabel(\"year\")\n",
    "plt.xticks(yearsrng, rotation=90)\n",
    "plt.title(\"Occurrences per Year\")"
   ]
  },
  {
   "cell_type": "markdown",
   "metadata": {},
   "source": [
    "### Months represented"
   ]
  },
  {
   "cell_type": "code",
   "execution_count": 19,
   "metadata": {},
   "outputs": [
    {
     "data": {
      "text/plain": [
       "Text(0.5, 1.0, 'Occurrences per Month')"
      ]
     },
     "execution_count": 19,
     "metadata": {},
     "output_type": "execute_result"
    },
    {
     "data": {
      "image/png": "[encoded data removed]",
      "text/plain": [
       "<Figure size 432x288 with 1 Axes>"
      ]
     },
     "metadata": {
      "needs_background": "light"
     },
     "output_type": "display_data"
    }
   ],
   "source": [
    "occ_months = [int(x[0]) for x in curs_occ.execute(\"SELECT strftime('%m', occurrenceDate) FROM occurrences\").fetchall()]\n",
    "plt.hist(occ_months, bins=range(1, 14), color=\"g\")\n",
    "plt.ylabel(\"number of records\")\n",
    "plt.xlabel(\"month\")\n",
    "plt.xticks(range(1, 13))\n",
    "plt.title(\"Occurrences per Month\")"
   ]
  },
  {
   "cell_type": "markdown",
   "metadata": {},
   "source": [
    "### Distribution of coordinate uncertainty values"
   ]
  },
  {
   "cell_type": "code",
   "execution_count": 20,
   "metadata": {
    "scrolled": true
   },
   "outputs": [
    {
     "data": {
      "text/plain": [
       "Text(0.5, 1.0, 'Coordinate Uncertainty')"
      ]
     },
     "execution_count": 20,
     "metadata": {},
     "output_type": "execute_result"
    },
    {
     "data": {
      "image/png": "[encoded data removed]",
      "text/plain": [
       "<Figure size 1152x288 with 1 Axes>"
      ]
     },
     "metadata": {
      "needs_background": "light"
     },
     "output_type": "display_data"
    }
   ],
   "source": [
    "occ_cert = [int(x[0]) for x in curs_occ.execute(\"SELECT coordinateUncertaintyInMeters FROM occurrences\").fetchall()]\n",
    "maxi = np.max(occ_cert)\n",
    "plt.figure(figsize=(16,4))\n",
    "plt.hist(occ_cert, bins=50, color=\"r\")\n",
    "plt.xticks(range(0, maxi, int(maxi/50)), rotation=90)\n",
    "plt.ylabel(\"number of records\")\n",
    "plt.xlabel(\"coordinate uncertainty\")\n",
    "plt.title(\"Coordinate Uncertainty\")"
   ]
  },
  {
   "cell_type": "code",
   "execution_count": 21,
   "metadata": {},
   "outputs": [
    {
     "data": {
      "text/plain": [
       "Text(0.5, 1.0, 'Coordinate Uncertainty - Zoomed In')"
      ]
     },
     "execution_count": 21,
     "metadata": {},
     "output_type": "execute_result"
    },
    {
     "data": {
      "image/png": "[encoded data removed]",
      "text/plain": [
       "<Figure size 864x288 with 1 Axes>"
      ]
     },
     "metadata": {
      "needs_background": "light"
     },
     "output_type": "display_data"
    }
   ],
   "source": [
    "rng_max = 2000\n",
    "occ_cert2 = [x for x in occ_cert if x <= rng_max]\n",
    "plt.figure(figsize=(12,4))\n",
    "plt.hist(occ_cert2, bins=30, color=\"m\", align='mid')\n",
    "plt.xticks(range(0, rng_max + 100, int(rng_max/30.)), rotation=90)\n",
    "plt.ylabel(\"number of records\")\n",
    "plt.xlabel(\"coordinate uncertainty\")\n",
    "plt.title(\"Coordinate Uncertainty - Zoomed In\")"
   ]
  },
  {
   "cell_type": "markdown",
   "metadata": {},
   "source": [
    "### Establishment means reported"
   ]
  },
  {
   "cell_type": "code",
   "execution_count": 22,
   "metadata": {},
   "outputs": [
    {
     "name": "stdout",
     "output_type": "stream",
     "text": [
      "UNKNOWN\n"
     ]
    }
   ],
   "source": [
    "establishment = curs_occ.execute(\"SELECT vals FROM unique_values WHERE field = 'establishment' AND step = 'filter';\").fetchall()[0]\n",
    "for est in establishment:\n",
    "    est = est.replace('[', '').strip().replace(']', '').replace(\"'\", \"\")\n",
    "    print(est)"
   ]
  },
  {
   "cell_type": "markdown",
   "metadata": {},
   "source": [
    "### Identification qualifiers included"
   ]
  },
  {
   "cell_type": "code",
   "execution_count": 23,
   "metadata": {},
   "outputs": [
    {
     "name": "stdout",
     "output_type": "stream",
     "text": [
      "A, UNKNOWN\n"
     ]
    }
   ],
   "source": [
    "quali = curs_occ.execute(\"SELECT DISTINCT vals FROM unique_values WHERE field = 'IDqualifier' AND step = 'filter';\").fetchall()[0]\n",
    "for q in quali:\n",
    "    q = q.replace('[', '').strip().replace(']', '').replace(\"'\", \"\")\n",
    "    print(q)"
   ]
  },
  {
   "cell_type": "markdown",
   "metadata": {},
   "source": [
    "### Remarks included"
   ]
  },
  {
   "cell_type": "code",
   "execution_count": 24,
   "metadata": {
    "scrolled": true
   },
   "outputs": [
    {
     "name": "stdout",
     "output_type": "stream",
     "text": [
      "More than 20 remarks, consult the occurrence database.\n"
     ]
    }
   ],
   "source": [
    "remarks = curs_occ.execute(\"SELECT DISTINCT remarks FROM occurrences;\").fetchall()\n",
    "if len(remarks) <= 20:\n",
    "    try:\n",
    "        for rem in remarks:\n",
    "            if rem[0][0:1] == ';':\n",
    "                print(rem[0][2:])\n",
    "            else:\n",
    "                print(rem[0])\n",
    "    except:\n",
    "        pass\n",
    "else:\n",
    "    print(\"More than 20 remarks, consult the occurrence database.\")"
   ]
  },
  {
   "cell_type": "markdown",
   "metadata": {},
   "source": [
    "### Attributes returned for the records in the request (pre-filters)"
   ]
  },
  {
   "cell_type": "code",
   "execution_count": 25,
   "metadata": {
    "scrolled": false
   },
   "outputs": [
    {
     "name": "stdout",
     "output_type": "stream",
     "text": [
      "                                               attribute  included(n)  populated(n)\n",
      "Field                                                                              \n",
      "0                                 acceptedScientificName         1354          1354\n",
      "1                                       acceptedTaxonKey         1354          1354\n",
      "2                                           accessRights          141           141\n",
      "3                                  associatedOccurrences            2             2\n",
      "4                                    associatedSequences           44            44\n",
      "5                                          basisOfRecord         1354          1354\n",
      "6                                               behavior            1             1\n",
      "7                                  bibliographicCitation           91            91\n",
      "8                                          catalogNumber         1347          1347\n",
      "9                                                  class         1354          1354\n",
      "10                                              classKey         1354          1354\n",
      "11                                        collectionCode         1347          1347\n",
      "12                                          collectionID          218           218\n",
      "13                                             continent          263           263\n",
      "14                                   coordinatePrecision            3             3\n",
      "15                         coordinateUncertaintyInMeters          878           878\n",
      "16                                               country         1354          1354\n",
      "17                                           countryCode         1354          1354\n",
      "18                                                county          350           350\n",
      "19                                               crawlId         1354          1354\n",
      "20                                               created            6             6\n",
      "21                                             datasetID           93            93\n",
      "22                                            datasetKey         1354          1354\n",
      "23                                           datasetName         1086          1086\n",
      "24                                        dateIdentified          963           963\n",
      "25                                                   day         1354          1354\n",
      "26                                       decimalLatitude         1354          1354\n",
      "27                                      decimalLongitude         1354          1354\n",
      "28                                           disposition           24            24\n",
      "29                                     dynamicProperties           22            22\n",
      "30                                             elevation           51            51\n",
      "31                                     elevationAccuracy           28            28\n",
      "32                                          endDayOfYear          117           117\n",
      "33                                    establishmentMeans           88            88\n",
      "34                                             eventDate         1354          1354\n",
      "35                                          eventRemarks           80            80\n",
      "36                                             eventTime          820           820\n",
      "37                                            extensions         1354             0\n",
      "38                                                 facts         1354             0\n",
      "39                                                family         1354          1354\n",
      "40                                             familyKey         1354          1354\n",
      "41                                           fieldNumber           92            92\n",
      "42                                                gbifID         1354          1354\n",
      "43                                           genericName         1354          1354\n",
      "44                                                 genus         1354          1354\n",
      "45                                              genusKey         1354          1354\n",
      "46                                         geodeticDatum         1354          1354\n",
      "47                                  georeferenceProtocol           31            31\n",
      "48                                   georeferenceRemarks           10            10\n",
      "49                                   georeferenceSources           79            79\n",
      "50                        georeferenceVerificationStatus          147           147\n",
      "51                                       georeferencedBy           26            26\n",
      "52                                     georeferencedDate           26            26\n",
      "53                                               habitat           45            45\n",
      "54                                  higherClassification          138           138\n",
      "55                                       higherGeography          199           199\n",
      "56         http://rs.tdwg.org/dwc/terms/organismQuantity            2             2\n",
      "57     http://rs.tdwg.org/dwc/terms/organismQuantityType            3             3\n",
      "58                           http://unknown.org/language            1             1\n",
      "59                               http://unknown.org/nick          928           928\n",
      "60                  http://unknown.org/occurrenceDetails          928           928\n",
      "61                           http://unknown.org/recordId           23            23\n",
      "62                             http://unknown.org/rights            1             1\n",
      "63                       http://unknown.org/rightsHolder            1             1\n",
      "64                                      identificationID          911           911\n",
      "65                               identificationQualifier           17            17\n",
      "66                                 identificationRemarks           19            19\n",
      "67                      identificationVerificationStatus           17            17\n",
      "68                                          identifiedBy           87            87\n",
      "69                                       identifiedByIDs         1354             4\n",
      "70                                            identifier         1354          1354\n",
      "71                                           identifiers         1354             0\n",
      "72                                       individualCount          172           172\n",
      "73                                   informationWithheld          183           183\n",
      "74                                       installationKey         1354          1354\n",
      "75                                       institutionCode         1347          1347\n",
      "76                                         institutionID          222           222\n",
      "77                                                island            4             4\n",
      "78                                                issues         1354          1228\n",
      "79                                                   key         1354          1354\n",
      "80                                               kingdom         1354          1354\n",
      "81                                            kingdomKey         1354          1354\n",
      "82                                              language          278           278\n",
      "83                                           lastCrawled         1354          1354\n",
      "84                                       lastInterpreted         1354          1354\n",
      "85                                            lastParsed         1354          1354\n",
      "86                                               license         1354          1354\n",
      "87                                             lifeStage           43            43\n",
      "88                                              locality          335           335\n",
      "89                                   locationAccordingTo           17            17\n",
      "90                                            locationID           11            11\n",
      "91                                       locationRemarks           13            13\n",
      "92                                                 media         1354           827\n",
      "93                                              modified         1217          1217\n",
      "94                                                 month         1354          1354\n",
      "95                                          municipality            7             7\n",
      "96                                       nameAccordingTo           69            69\n",
      "97                                     nameAccordingToID           69            69\n",
      "98                                           networkKeys           17            17\n",
      "99                                     nomenclaturalCode          112           112\n",
      "100                                         occurrenceID         1354          1354\n",
      "101                                    occurrenceRemarks          308           308\n",
      "102                                     occurrenceStatus           88            88\n",
      "103                                                order         1354          1354\n",
      "104                                             orderKey         1354          1354\n",
      "105                                           organismID           17            17\n",
      "106                                     organismQuantity            2             2\n",
      "107                                 organismQuantityType            3             3\n",
      "108                                  otherCatalogNumbers           62            62\n",
      "109                                 ownerInstitutionCode           31            31\n",
      "110                                               phylum         1354          1354\n",
      "111                                            phylumKey         1354          1354\n",
      "112                                         preparations          300           300\n",
      "113                              previousIdentifications           24            24\n",
      "114                                             protocol         1354          1354\n",
      "115                                    publishingCountry         1353          1353\n",
      "116                                     publishingOrgKey         1354          1354\n",
      "117                                         recordNumber           91            91\n",
      "118                                           recordedBy         1291          1291\n",
      "119                                        recordedByIDs         1354             3\n",
      "120                                           references         1093          1093\n",
      "121                                            relations         1354             0\n",
      "122                                reproductiveCondition            7             7\n",
      "123                                               rights          951           951\n",
      "124                                         rightsHolder          959           959\n",
      "125                                     samplingProtocol           69            69\n",
      "126                                       scientificName         1354          1354\n",
      "127                                                  sex           39            39\n",
      "128                                              species         1354          1354\n",
      "129                                           speciesKey         1354          1354\n",
      "130                                      specificEpithet         1353          1353\n",
      "131                                       startDayOfYear          100           100\n",
      "132                                        stateProvince         1279          1279\n",
      "133                                       taxonConceptID            1             1\n",
      "134                                              taxonID         1027          1027\n",
      "135                                             taxonKey         1354          1354\n",
      "136                                            taxonRank         1354          1354\n",
      "137                                         taxonRemarks           69            69\n",
      "138                                      taxonomicStatus         1354          1354\n",
      "139                                                 type          230           230\n",
      "140                             verbatimCoordinateSystem          110           110\n",
      "141                                    verbatimElevation           77            77\n",
      "142                                    verbatimEventDate         1035          1035\n",
      "143                                     verbatimLocality         1043          1043\n",
      "144                                          verbatimSRS            8             8\n",
      "145                                       vernacularName          133           133\n",
      "146                                                 year         1354          1354\n"
     ]
    }
   ],
   "source": [
    "fields_summary = pd.read_sql(\"SELECT * FROM gbif_fields_returned\", conn_occ)#, index_col='index')\n",
    "fields_summary.index.name = 'Field'\n",
    "pd.set_option('display.max_rows', 250)\n",
    "print(fields_summary)"
   ]
  },
  {
   "cell_type": "markdown",
   "metadata": {},
   "source": [
    "### Runtime"
   ]
  },
  {
   "cell_type": "code",
   "execution_count": 26,
   "metadata": {},
   "outputs": [
    {
     "name": "stdout",
     "output_type": "stream",
     "text": [
      "0:01:32.327741\n"
     ]
    }
   ],
   "source": [
    "t2 = datetime.now()\n",
    "print(t2 - t1)"
   ]
  },
  {
   "cell_type": "code",
   "execution_count": null,
   "metadata": {},
   "outputs": [],
   "source": []
  }
 ],
 "metadata": {
  "kernelspec": {
   "display_name": "Python 3",
   "language": "python",
   "name": "python3"
  },
  "language_info": {
   "codemirror_mode": {
    "name": "ipython",
    "version": 3
   },
   "file_extension": ".py",
   "mimetype": "text/x-python",
   "name": "python",
   "nbconvert_exporter": "python",
   "pygments_lexer": "ipython3",
   "version": "3.6.5"
  }
 },
 "nbformat": 4,
 "nbformat_minor": 2
}
