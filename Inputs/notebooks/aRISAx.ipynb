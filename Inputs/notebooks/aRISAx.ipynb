{
 "cells": [
  {
   "cell_type": "markdown",
   "metadata": {},
   "source": [
    "# Occurrence Records from GBIF\n",
    "This notebook is a tool for exploring data sets requested from GBIF (and eventually other sources), and mostly for developing criteria for filtering records (filter sets).  When the entire notebook is run, it retrieves records according to the filter sets specified and saves the results (records and some summary tables) in an sqlite database.  Some information is pulled from the parameters.sqlite database that is saved in this repository."
   ]
  },
  {
   "cell_type": "markdown",
   "metadata": {},
   "source": [
    "### Set Variables - fill out stuff in this cell.  \n",
    "Notes:\n",
    "default_coordUncertainty -- coordinateUncertaintyInMeters is often not provided.  Here is an option to use a default.  If you don't want anything entered, set this equal to False (boolean, not string)."
   ]
  },
  {
   "cell_type": "code",
   "execution_count": 53,
   "metadata": {},
   "outputs": [],
   "source": [
    "species_id = 'arisax0'\n",
    "summary_name = 'Ringed Salamander'\n",
    "gbif_req_id = 'EvalGBIFRequest4'\n",
    "gbif_filter_id = 'EvalGBIFFilter'\n",
    "default_coordUncertainty = False       # Note above.\n",
    "workDir = 'D:/USGS Analyses/GAP-Habitat-Map-Assessment/'   # Be sure to create folders named \"Inputs\" and \"Outputs\" here.\n",
    "codeDir = workDir + 'Scripts/'\n",
    "dbDir = workDir + 'db/'\n",
    "paramdb = dbDir + 'wildlife-wrangler.sqlite'\n",
    "configDir = workDir  # Path to folder where saved your wildlifeconfig file."
   ]
  },
  {
   "cell_type": "markdown",
   "metadata": {},
   "source": [
    "### Setup - nothing to fill out in this cell"
   ]
  },
  {
   "cell_type": "code",
   "execution_count": 54,
   "metadata": {},
   "outputs": [
    {
     "name": "stdout",
     "output_type": "stream",
     "text": [
      "Notebook run 2020-05-04 16:23:38.474128\n",
      "D:/USGS Analyses/GAP-Habitat-Map-Assessment/Outputs/arisax0EvalGBIFRequest4EvalGBIFFilter.sqlite\n"
     ]
    }
   ],
   "source": [
    "%matplotlib inline\n",
    "import sqlite3\n",
    "import pprint\n",
    "import json\n",
    "import pandas as pd\n",
    "import numpy as np\n",
    "pd.set_option('display.width', 600)\n",
    "pd.set_option('display.max_colwidth', 30)\n",
    "pd.set_option('display.max_rows', 150)\n",
    "from IPython.display import Image\n",
    "from pygbif import occurrences\n",
    "import matplotlib.pyplot as plt\n",
    "import os\n",
    "from datetime import datetime\n",
    "t1 = datetime.now()\n",
    "import sys\n",
    "sys.path.append(configDir)\n",
    "import config\n",
    "sys.path.append(codeDir)\n",
    "import repo_functions as functions\n",
    "inDir = workDir + 'Inputs/'\n",
    "outDir = workDir + 'Outputs/'\n",
    "spdb = outDir + species_id + gbif_req_id + gbif_filter_id + '.sqlite'\n",
    "username = config.gbif_username\n",
    "password = config.gbif_password\n",
    "email = config.gbif_email\n",
    "print(\"Notebook run \" + str(t1))\n",
    "print(spdb)\n",
    "connjup = sqlite3.connect(paramdb)\n",
    "cursorjup = connjup.cursor()\n",
    "# Get some variables\n",
    "years = connjup.execute(\"\"\"SELECT years_range \n",
    "                           FROM gbif_requests WHERE request_id = '{0}'\"\"\".format(gbif_req_id)).fetchone()[0]\n",
    "gap_id = connjup.execute(\"\"\"SELECT gap_id\n",
    "                            FROM species_concepts WHERE species_id = '{0}'\"\"\".format(species_id)).fetchone()[0]\n",
    "common_name = connjup.execute(\"\"\"SELECT common_name\n",
    "                                 FROM species_concepts WHERE species_id = '{0}'\"\"\".format(species_id)).fetchone()[0]"
   ]
  },
  {
   "cell_type": "markdown",
   "metadata": {},
   "source": [
    "# Species Concept\n",
    "Display information on the species from the parameters.sqlite database."
   ]
  },
  {
   "cell_type": "code",
   "execution_count": 55,
   "metadata": {},
   "outputs": [
    {
     "name": "stdout",
     "output_type": "stream",
     "text": [
      "SPECIES CONCEPT RECORD\n",
      "                                                   VALUE\n",
      "ATTRIBUTE                                               \n",
      "species_id                                       arisax0\n",
      "fws_id                                              None\n",
      "gap_id                                            aRISAx\n",
      "itis_tsn                                          173594\n",
      "gbif_id                                          2432009\n",
      "bcb_id                                              None\n",
      "ebird_id                                            None\n",
      "common_name                            Ringed Salamander\n",
      "scientific_name                      Ambystoma annulatum\n",
      "start_year                                          1886\n",
      "split_from                                          None\n",
      "end_year                                            None\n",
      "lumped_into                                         None\n",
      "geometry                                            None\n",
      "detection_distance_meters                              0\n",
      "vetted_how                                  NS,GBIF,IUCN\n",
      "vetted_who                                     M. Rubino\n",
      "vetted_date                                   05/01/2020\n",
      "notes                      Phillips et al. (2000) doc...\n"
     ]
    }
   ],
   "source": [
    "vals = cursorjup.execute(\"SELECT * FROM species_concepts WHERE species_id = '{0}';\".format(species_id)).fetchall()[0]\n",
    "cols = [x[1] for x in cursorjup.execute(\"PRAGMA table_info('species_concepts')\").fetchall()]\n",
    "sp_dict = dict(zip(cols, vals))\n",
    "sp_df = pd.DataFrame.from_dict(sp_dict, orient='index', columns=['VALUE'])\n",
    "sp_df.index.name = 'ATTRIBUTE'\n",
    "print(\"SPECIES CONCEPT RECORD\")\n",
    "print(sp_df)"
   ]
  },
  {
   "cell_type": "markdown",
   "metadata": {},
   "source": [
    "# Filters\n",
    "Display the parameters of the request filter set.  These are deployed during the step where records are retrieved from the API."
   ]
  },
  {
   "cell_type": "code",
   "execution_count": 56,
   "metadata": {},
   "outputs": [
    {
     "name": "stdout",
     "output_type": "stream",
     "text": [
      "THE REQUEST FILTER SET\n",
      "request_id                   EvalGBIFRequest4\n",
      "source                                   GBIF\n",
      "lat_range                                None\n",
      "lon_range                                None\n",
      "years_range                         1960,2020\n",
      "months_range                             1,12\n",
      "geoissue                                 None\n",
      "coordinate                               True\n",
      "country                                    US\n",
      "geometry                                 None\n",
      "creator                             M. Rubino\n",
      "notes           amphibian evaluation reque...\n",
      "Name: 0, dtype: object\n"
     ]
    }
   ],
   "source": [
    "request_df = pd.read_sql_query(sql=\"SELECT * FROM gbif_requests WHERE request_id = '{0}'\".format(gbif_req_id), con=connjup)\n",
    "print(\"THE REQUEST FILTER SET\")\n",
    "print(request_df.loc[0])"
   ]
  },
  {
   "cell_type": "markdown",
   "metadata": {},
   "source": [
    "Display the parameters of the post-request filter set.  These are deployed after the records are retrieved from the API, but before they are stored in the occurrence record sqlite database."
   ]
  },
  {
   "cell_type": "code",
   "execution_count": 57,
   "metadata": {},
   "outputs": [
    {
     "name": "stdout",
     "output_type": "stream",
     "text": [
      "THE POST REQUEST FILTER SET\n",
      "filter_id                                    EvalGBIFFilter\n",
      "dataset                                                GBIF\n",
      "institutions_omit                                      None\n",
      "collection_codes_omit                                  None\n",
      "datasets_omit                                          None\n",
      "has_coordinate_uncertainty                                1\n",
      "max_coordinate_uncertainty                            10000\n",
      "bases_omit                                  FOSSIL_SPECIMEN\n",
      "sampling_protocols_omit                                None\n",
      "issues_omit                                            None\n",
      "duplicates_OK                                         False\n",
      "creator                                           M. Rubino\n",
      "notes                         amphibian evaluation filte...\n",
      "Name: 0, dtype: object\n"
     ]
    }
   ],
   "source": [
    "filter_df = pd.read_sql_query(sql=\"SELECT * FROM gbif_filters WHERE filter_id = '{0}'\".format(gbif_filter_id), con=connjup)\n",
    "print(\"THE POST REQUEST FILTER SET\")\n",
    "print(filter_df.loc[0])"
   ]
  },
  {
   "cell_type": "code",
   "execution_count": 58,
   "metadata": {
    "scrolled": false
   },
   "outputs": [
    {
     "name": "stdout",
     "output_type": "stream",
     "text": [
      "SPATIALITE_SECURITY set to relaxed\n",
      "Created occurrence db: 0:00:00.281330\n",
      "Got request params and sorted out geometry constraints: 0:00:00\n",
      "230 records available\n",
      "Downloaded records: 0:00:02.828300\n",
      "Summarized fields returned: 0:00:11.469394\n",
      "Created summary table of request results: 0:00:00.031262\n",
      "Performed post-request filtering: 0:00:00.015620\n",
      "Calculated new columns, deleted some too: 0:00:00.015636\n",
      "16 duplicate records dropped: 0:00:00.046883\n",
      "Inserted records into table: 0:00:00.046876\n",
      "Summarized unique values retained: 0:00:00\n",
      "Updated occurrences table geometry column: 0:00:00\n",
      "Buffered points: 0:00:00.218753\n"
     ]
    }
   ],
   "source": [
    "functions.retrieve_gbif_occurrences(codeDir, species_id, inDir, paramdb, spdb, gbif_req_id, gbif_filter_id, \n",
    "                                    default_coordUncertainty, outDir, summary_name, username,\n",
    "                                   password, email)"
   ]
  },
  {
   "cell_type": "code",
   "execution_count": 59,
   "metadata": {},
   "outputs": [
    {
     "name": "stdout",
     "output_type": "stream",
     "text": [
      "codeDir: D:/USGS Analyses/GAP-Habitat-Map-Assessment/Scripts/\n",
      " species_id: arisax0\n",
      " inDir: D:/USGS Analyses/GAP-Habitat-Map-Assessment/Inputs/\n",
      " paramdb: D:/USGS Analyses/GAP-Habitat-Map-Assessment/db/wildlife-wrangler.sqlite\n",
      " spdb: D:/USGS Analyses/GAP-Habitat-Map-Assessment/Outputs/arisax0EvalGBIFRequest4EvalGBIFFilter.sqlite\n",
      " gbif_req_id: EvalGBIFRequest4\n",
      " gbif_filter_id: EvalGBIFFilter\n",
      " default_coordUncertainty: False\n",
      " outDir: D:/USGS Analyses/GAP-Habitat-Map-Assessment/Outputs/\n",
      " summary_name: Ringed Salamander\n",
      " username: gapper\n",
      " password: metspirates\n",
      " email: pythonprocessing@gmail.com\n"
     ]
    }
   ],
   "source": [
    "print('codeDir: '+codeDir+'\\n', \n",
    "'species_id: '+species_id+'\\n', \n",
    "'inDir: '+inDir+'\\n', \n",
    "'paramdb: '+paramdb+'\\n', \n",
    "'spdb: '+spdb+'\\n', \n",
    "'gbif_req_id: '+gbif_req_id+'\\n', \n",
    "'gbif_filter_id: '+gbif_filter_id+'\\n', \n",
    "'default_coordUncertainty: '+str(default_coordUncertainty)+'\\n', \n",
    "'outDir: '+outDir+'\\n', \n",
    "'summary_name: '+summary_name+'\\n', \n",
    "'username: '+username+'\\n',\n",
    "'password: '+password+'\\n', \n",
    "'email: '+email)"
   ]
  },
  {
   "cell_type": "markdown",
   "metadata": {},
   "source": [
    "### Connect to output database, record species and filter info."
   ]
  },
  {
   "cell_type": "code",
   "execution_count": 60,
   "metadata": {},
   "outputs": [],
   "source": [
    "conn_occ= sqlite3.connect(spdb)\n",
    "curs_occ = conn_occ.cursor()\n",
    "sp_df.to_sql(name='species_concept', con=conn_occ, if_exists='replace')\n",
    "request_df.to_sql(name=gbif_req_id, con=conn_occ, if_exists='replace')\n",
    "filter_df.to_sql(name=gbif_filter_id, con=conn_occ, if_exists='replace')"
   ]
  },
  {
   "cell_type": "markdown",
   "metadata": {},
   "source": [
    "### How many records made it through the filters?\n",
    "This is the number that was actually saved in the occurrence record sqlite database."
   ]
  },
  {
   "cell_type": "code",
   "execution_count": 61,
   "metadata": {},
   "outputs": [
    {
     "name": "stdout",
     "output_type": "stream",
     "text": [
      "10 records\n"
     ]
    }
   ],
   "source": [
    "record_count = curs_occ.execute(\"SELECT COUNT(occ_id) FROM occurrences WHERE species_id = '{0}'\".format(species_id)).fetchone()\n",
    "print(str(record_count[0]) + \" records\")"
   ]
  },
  {
   "cell_type": "markdown",
   "metadata": {},
   "source": [
    "# Sources\n",
    "#### Pre-filters"
   ]
  },
  {
   "cell_type": "code",
   "execution_count": 62,
   "metadata": {},
   "outputs": [
    {
     "name": "stdout",
     "output_type": "stream",
     "text": [
      "GBIF\n",
      "                  institutionCode                 collectionCode                    datasetName    0\n",
      "0                             BYU                           Main  BYU Monte L. Bean Museum H...    2\n",
      "1                             CAS                           HERP                        UNKNOWN    5\n",
      "2                              KU                            KUH  University of Kansas Biodi...    3\n",
      "3                             MCZ                           Herp                        UNKNOWN    2\n",
      "4                             MVZ  Amphibian and reptile spec...                        UNKNOWN   11\n",
      "5                            NCSM                           Herp    NCSM Herpetology Collection    3\n",
      "6                            OMNH                     Amphibians                        UNKNOWN   17\n",
      "7                            OMNH                           OCGR  Oklahoma Collection of Gen...   14\n",
      "8   Ohio State University - Am...                     Amphibians                        UNKNOWN    1\n",
      "9                             ROM        Reptiles and Amphibians                    Herpetology    4\n",
      "10                           USNM          Amphibians & Reptiles            NMNH Extant Biology    2\n",
      "11                           UTEP  Amphibian and reptile spec...                        UNKNOWN    3\n",
      "12                    iNaturalist                   Observations  iNaturalist research-grade...  163\n"
     ]
    }
   ],
   "source": [
    "tables = cursorjup.execute(\"SELECT table_name FROM table_descriptions\").fetchall()\n",
    "tables = [x[0] for x in tables]\n",
    "\n",
    "filter_sets = [gbif_req_id, gbif_filter_id]\n",
    "\n",
    "sources = []\n",
    "for s in filter_sets:\n",
    "    s = s.strip()\n",
    "    for tab in tables:\n",
    "        columns = cursorjup.execute(\"SELECT column_name FROM column_descriptions WHERE table_name = '{0}'\".format(tab)).fetchall()\n",
    "        columns = [x[0] for x in columns]\n",
    "        for col in columns:\n",
    "            try:\n",
    "                a = cursorjup.execute(\"SELECT source FROM {1} WHERE {2} = '{0}'\".format(s, tab, col)).fetchone()[0]\n",
    "                sources.append(a)\n",
    "            except:\n",
    "                pass\n",
    "print(list(set(sources))[0])\n",
    "\n",
    "sources = pd.read_sql(sql=\"SELECT * FROM pre_filter_source_counts;\", con=conn_occ)\n",
    "print(sources)"
   ]
  },
  {
   "cell_type": "markdown",
   "metadata": {},
   "source": [
    "#### Post-filters"
   ]
  },
  {
   "cell_type": "code",
   "execution_count": 63,
   "metadata": {},
   "outputs": [
    {
     "name": "stdout",
     "output_type": "stream",
     "text": [
      "GBIF\n",
      "  institutionCode                 collectionCode                  datasetName  COUNT(occ_id)\n",
      "0             MCZ                           Herp                      UNKNOWN              1\n",
      "1             MVZ  Amphibian and reptile spec...                      UNKNOWN              2\n",
      "2            NCSM                           Herp  NCSM Herpetology Collection              2\n",
      "3            OMNH                     Amphibians                      UNKNOWN              2\n",
      "4             ROM        Reptiles and Amphibians                  Herpetology              1\n",
      "5            USNM          Amphibians & Reptiles          NMNH Extant Biology              1\n",
      "6            UTEP  Amphibian and reptile spec...                      UNKNOWN              1\n"
     ]
    }
   ],
   "source": [
    "tables = cursorjup.execute(\"SELECT table_name FROM table_descriptions\").fetchall()\n",
    "tables = [x[0] for x in tables]\n",
    "\n",
    "filter_sets = [gbif_req_id, gbif_filter_id]\n",
    "\n",
    "sources = []\n",
    "for s in filter_sets:\n",
    "    s = s.strip()\n",
    "    for tab in tables:\n",
    "        columns = cursorjup.execute(\"SELECT column_name FROM column_descriptions WHERE table_name = '{0}'\".format(tab)).fetchall()\n",
    "        columns = [x[0] for x in columns]\n",
    "        for col in columns:\n",
    "            try:\n",
    "                a = cursorjup.execute(\"SELECT source FROM {1} WHERE {2} = '{0}'\".format(s, tab, col)).fetchone()[0]\n",
    "                sources.append(a)\n",
    "            except:\n",
    "                pass\n",
    "print(list(set(sources))[0])\n",
    "\n",
    "sql = \"SELECT institutionCode, collectionCode, datasetName, COUNT(occ_id) FROM occurrences GROUP BY institutionCode, collectionCode, datasetName;\"\n",
    "sources = pd.read_sql(sql=sql, con=conn_occ)\n",
    "print(sources)"
   ]
  },
  {
   "cell_type": "markdown",
   "metadata": {},
   "source": [
    "# Bases\n",
    "#### Pre-filter"
   ]
  },
  {
   "cell_type": "code",
   "execution_count": 64,
   "metadata": {},
   "outputs": [
    {
     "name": "stdout",
     "output_type": "stream",
     "text": [
      "        basisOfRecord  count\n",
      "0   HUMAN_OBSERVATION    163\n",
      "1  PRESERVED_SPECIMEN     67\n"
     ]
    }
   ],
   "source": [
    "bases = pd.read_sql(sql=\"SELECT value as basisOfRecord, count FROM pre_filter_value_counts WHERE attribute = 'bases';\", con=conn_occ)\n",
    "print(bases)"
   ]
  },
  {
   "cell_type": "markdown",
   "metadata": {},
   "source": [
    "#### Post-filters"
   ]
  },
  {
   "cell_type": "code",
   "execution_count": 65,
   "metadata": {
    "scrolled": true
   },
   "outputs": [
    {
     "name": "stdout",
     "output_type": "stream",
     "text": [
      "        basisOfRecord  count\n",
      "0  PRESERVED_SPECIMEN     10\n"
     ]
    }
   ],
   "source": [
    "sql = \"SELECT basisOfRecord, COUNT(occ_id) as count FROM occurrences GROUP BY basisOfRecord;\"\n",
    "bases = pd.read_sql(sql=sql, con=conn_occ)\n",
    "print(bases)"
   ]
  },
  {
   "cell_type": "markdown",
   "metadata": {},
   "source": [
    "# Protocols\n",
    "#### Pre-filters"
   ]
  },
  {
   "cell_type": "code",
   "execution_count": 66,
   "metadata": {
    "scrolled": true
   },
   "outputs": [
    {
     "name": "stdout",
     "output_type": "stream",
     "text": [
      "  samplingProtocol  count\n",
      "0          UNKNOWN    229\n",
      "1   none specified      1\n"
     ]
    }
   ],
   "source": [
    "protocol = pd.read_sql(sql=\"SELECT value as samplingProtocol, count FROM pre_filter_value_counts WHERE attribute = 'samplingProtocols';\", con=conn_occ)\n",
    "print(protocol)"
   ]
  },
  {
   "cell_type": "markdown",
   "metadata": {},
   "source": [
    "#### Post-filters"
   ]
  },
  {
   "cell_type": "code",
   "execution_count": 67,
   "metadata": {},
   "outputs": [
    {
     "name": "stdout",
     "output_type": "stream",
     "text": [
      "  samplingProtocol  count\n",
      "0          UNKNOWN     10\n"
     ]
    }
   ],
   "source": [
    "sql = \"SELECT samplingProtocol, COUNT(occ_id) as count FROM occurrences GROUP BY samplingProtocol;\"\n",
    "print(pd.read_sql(sql=sql, con=conn_occ))"
   ]
  },
  {
   "cell_type": "markdown",
   "metadata": {},
   "source": [
    "# Issues\n",
    "#### Pre-filters"
   ]
  },
  {
   "cell_type": "code",
   "execution_count": 68,
   "metadata": {
    "scrolled": true
   },
   "outputs": [
    {
     "name": "stdout",
     "output_type": "stream",
     "text": [
      "                                                           issues  count\n",
      "0                                      ['COORDINATE_REPROJECTED']     12\n",
      "1                ['COORDINATE_ROUNDED', 'COORDINATE_REPROJECTED']      6\n",
      "2          ['COORDINATE_ROUNDED', 'GEODETIC_DATUM_ASSUMED_WGS84']    167\n",
      "3                                          ['COORDINATE_ROUNDED']     12\n",
      "4  ['GEODETIC_DATUM_ASSUMED_WGS84', 'PRESUMED_NEGATED_LONGITUDE']      1\n",
      "5         ['GEODETIC_DATUM_ASSUMED_WGS84', 'TYPE_STATUS_INVALID']      8\n",
      "6                                ['GEODETIC_DATUM_ASSUMED_WGS84']     20\n",
      "7                                                              []      4\n"
     ]
    }
   ],
   "source": [
    "iss = pd.read_sql(sql=\"SELECT value as issues, count FROM pre_filter_value_counts WHERE attribute = 'issues';\", con=conn_occ)\n",
    "pd.set_option('display.max_colwidth', 80)\n",
    "print(iss)"
   ]
  },
  {
   "cell_type": "markdown",
   "metadata": {},
   "source": [
    "#### Post-filters"
   ]
  },
  {
   "cell_type": "code",
   "execution_count": 69,
   "metadata": {
    "scrolled": true
   },
   "outputs": [
    {
     "name": "stdout",
     "output_type": "stream",
     "text": [
      "                                            issues  count\n",
      "0                                                       1\n",
      "1                           COORDINATE_REPROJECTED      2\n",
      "2                               COORDINATE_ROUNDED      5\n",
      "3        COORDINATE_ROUNDED;COORDINATE_REPROJECTED      1\n",
      "4  COORDINATE_ROUNDED;GEODETIC_DATUM_ASSUMED_WGS84      1\n"
     ]
    }
   ],
   "source": [
    "sql = \"SELECT issues, COUNT(occ_id) as count FROM occurrences GROUP BY issues;\"\n",
    "print(pd.read_sql(sql=sql, con=conn_occ))"
   ]
  },
  {
   "cell_type": "markdown",
   "metadata": {},
   "source": [
    "# Descriptions of filtered records"
   ]
  },
  {
   "cell_type": "markdown",
   "metadata": {},
   "source": [
    "### Years represented"
   ]
  },
  {
   "cell_type": "code",
   "execution_count": 70,
   "metadata": {},
   "outputs": [
    {
     "data": {
      "text/plain": [
       "Text(0.5, 1.0, 'Occurrences per Year')"
      ]
     },
     "execution_count": 70,
     "metadata": {},
     "output_type": "execute_result"
    },
    {
     "data": {
      "image/png": "[encoded data removed]",
      "text/plain": [
       "<Figure size 432x288 with 1 Axes>"
      ]
     },
     "metadata": {
      "needs_background": "light"
     },
     "output_type": "display_data"
    }
   ],
   "source": [
    "occ_years = [int(x[0]) for x in curs_occ.execute(\"SELECT strftime('%Y', occurrenceDate) FROM occurrences\").fetchall()]\n",
    "years = connjup.execute(\"SELECT years_range FROM gbif_requests WHERE request_id = '{0}'\".format(gbif_req_id)).fetchone()[0]\n",
    "years = years.split(',')\n",
    "yearsrng = list(range(int(years[0]), int(years[1]), 1))\n",
    "binsnum = int(years[1]) - int(years[0])\n",
    "plt.hist(occ_years, bins=binsnum)\n",
    "plt.ylabel(\"number of records\")\n",
    "plt.xlabel(\"year\")\n",
    "plt.xticks(yearsrng, rotation=90)\n",
    "plt.title(\"Occurrences per Year\")"
   ]
  },
  {
   "cell_type": "markdown",
   "metadata": {},
   "source": [
    "### Months represented"
   ]
  },
  {
   "cell_type": "code",
   "execution_count": 71,
   "metadata": {},
   "outputs": [
    {
     "data": {
      "text/plain": [
       "Text(0.5, 1.0, 'Occurrences per Month')"
      ]
     },
     "execution_count": 71,
     "metadata": {},
     "output_type": "execute_result"
    },
    {
     "data": {
      "image/png": "[encoded data removed]",
      "text/plain": [
       "<Figure size 432x288 with 1 Axes>"
      ]
     },
     "metadata": {
      "needs_background": "light"
     },
     "output_type": "display_data"
    }
   ],
   "source": [
    "occ_months = [int(x[0]) for x in curs_occ.execute(\"SELECT strftime('%m', occurrenceDate) FROM occurrences\").fetchall()]\n",
    "plt.hist(occ_months, bins=range(1, 14), color=\"g\")\n",
    "plt.ylabel(\"number of records\")\n",
    "plt.xlabel(\"month\")\n",
    "plt.xticks(range(1, 13))\n",
    "plt.title(\"Occurrences per Month\")"
   ]
  },
  {
   "cell_type": "markdown",
   "metadata": {},
   "source": [
    "### Distribution of coordinate uncertainty values"
   ]
  },
  {
   "cell_type": "code",
   "execution_count": 72,
   "metadata": {
    "scrolled": true
   },
   "outputs": [
    {
     "data": {
      "text/plain": [
       "Text(0.5, 1.0, 'Coordinate Uncertainty')"
      ]
     },
     "execution_count": 72,
     "metadata": {},
     "output_type": "execute_result"
    },
    {
     "data": {
      "image/png": "[encoded data removed]",
      "text/plain": [
       "<Figure size 1152x288 with 1 Axes>"
      ]
     },
     "metadata": {
      "needs_background": "light"
     },
     "output_type": "display_data"
    }
   ],
   "source": [
    "occ_cert = [int(x[0]) for x in curs_occ.execute(\"SELECT coordinateUncertaintyInMeters FROM occurrences\").fetchall()]\n",
    "maxi = np.max(occ_cert)\n",
    "plt.figure(figsize=(16,4))\n",
    "plt.hist(occ_cert, bins=50, color=\"r\")\n",
    "plt.xticks(range(0, maxi, int(maxi/50)), rotation=90)\n",
    "plt.ylabel(\"number of records\")\n",
    "plt.xlabel(\"coordinate uncertainty\")\n",
    "plt.title(\"Coordinate Uncertainty\")"
   ]
  },
  {
   "cell_type": "code",
   "execution_count": 73,
   "metadata": {},
   "outputs": [
    {
     "data": {
      "text/plain": [
       "Text(0.5, 1.0, 'Coordinate Uncertainty - Zoomed In')"
      ]
     },
     "execution_count": 73,
     "metadata": {},
     "output_type": "execute_result"
    },
    {
     "data": {
      "image/png": "[encoded data removed]",
      "text/plain": [
       "<Figure size 864x288 with 1 Axes>"
      ]
     },
     "metadata": {
      "needs_background": "light"
     },
     "output_type": "display_data"
    }
   ],
   "source": [
    "rng_max = 2000\n",
    "occ_cert2 = [x for x in occ_cert if x <= rng_max]\n",
    "plt.figure(figsize=(12,4))\n",
    "plt.hist(occ_cert2, bins=30, color=\"m\", align='mid')\n",
    "plt.xticks(range(0, rng_max + 100, int(rng_max/30.)), rotation=90)\n",
    "plt.ylabel(\"number of records\")\n",
    "plt.xlabel(\"coordinate uncertainty\")\n",
    "plt.title(\"Coordinate Uncertainty - Zoomed In\")"
   ]
  },
  {
   "cell_type": "markdown",
   "metadata": {},
   "source": [
    "### Establishment means reported"
   ]
  },
  {
   "cell_type": "code",
   "execution_count": 74,
   "metadata": {},
   "outputs": [
    {
     "name": "stdout",
     "output_type": "stream",
     "text": [
      "UNKNOWN\n"
     ]
    }
   ],
   "source": [
    "establishment = curs_occ.execute(\"SELECT vals FROM unique_values WHERE field = 'establishment' AND step = 'filter';\").fetchall()[0]\n",
    "for est in establishment:\n",
    "    est = est.replace('[', '').strip().replace(']', '').replace(\"'\", \"\")\n",
    "    print(est)"
   ]
  },
  {
   "cell_type": "markdown",
   "metadata": {},
   "source": [
    "### Identification qualifiers included"
   ]
  },
  {
   "cell_type": "code",
   "execution_count": 75,
   "metadata": {},
   "outputs": [
    {
     "name": "stdout",
     "output_type": "stream",
     "text": [
      "A, UNKNOWN\n"
     ]
    }
   ],
   "source": [
    "quali = curs_occ.execute(\"SELECT DISTINCT vals FROM unique_values WHERE field = 'IDqualifier' AND step = 'filter';\").fetchall()[0]\n",
    "for q in quali:\n",
    "    q = q.replace('[', '').strip().replace(']', '').replace(\"'\", \"\")\n",
    "    print(q)"
   ]
  },
  {
   "cell_type": "markdown",
   "metadata": {},
   "source": [
    "### Remarks included"
   ]
  },
  {
   "cell_type": "code",
   "execution_count": 76,
   "metadata": {
    "scrolled": true
   },
   "outputs": [
    {
     "name": "stdout",
     "output_type": "stream",
     "text": [
      "Washington University; Tyson Research Centre;UNKNOWN;UNKNOWN;UNKNOWN\n",
      "Reeds Spring;UNKNOWN;UNKNOWN;UNKNOWN\n",
      "USA: Missouri: [Stone]: Reeds Spring;UNKNOWN;UNKNOWN;UNKNOWN\n",
      "Reeds Spring;UNKNOWN;UNKNOWN;Died of heat 21-22 June 1982\n",
      "3 miles S of Reed's Spring, Hazel Powell's Property;named place: Reeds Spring/Hazel Powell Property, extent: 2mi, georeferencing remarks: Hazel Powell Property not located; georef uses an offset by air at heading indicated from designated center of Reeds Spring (= Spring Street at junction with Main St-Highway413-265);UNKNOWN;UNKNOWN\n",
      "Cattle Ponds along State Rd. \"Y\" near Reeds Spring (Township 23N, Range 23W, Section 8/18);Former verification status: checked by curator.;Unsure of how to interpret \"Section 8/18\". Because of this, simply georeferenced entire township and range of \"Township 23N, Range 23W\".;Chromosomal illustrations included in field notes. ~ 17 hrs. 0 degrees celsius (on ice); ~ 24 hrs .5% Colch (0 degrees celsius)\n",
      "0.25-0.5 mi. E Lake Hindsville;UNKNOWN;UNKNOWN;UNKNOWN\n",
      "8.0 mi W Fayetteville on Arkansas Rt 45;UNKNOWN;UNKNOWN;UNKNOWN\n",
      "Stilwell, 3 mi S of;UNKNOWN;UNKNOWN;UNKNOWN\n",
      "Cookson Hills Wildlife Management Area, 1.0 mi N main entrance on Headquarters Rd;UNKNOWN;UNKNOWN;UNKNOWN\n"
     ]
    }
   ],
   "source": [
    "remarks = curs_occ.execute(\"SELECT DISTINCT remarks FROM occurrences;\").fetchall()\n",
    "if len(remarks) <= 20:\n",
    "    try:\n",
    "        for rem in remarks:\n",
    "            if rem[0][0:1] == ';':\n",
    "                print(rem[0][2:])\n",
    "            else:\n",
    "                print(rem[0])\n",
    "    except:\n",
    "        pass\n",
    "else:\n",
    "    print(\"More than 20 remarks, consult the occurrence database.\")"
   ]
  },
  {
   "cell_type": "markdown",
   "metadata": {},
   "source": [
    "### Attributes returned for the records in the request (pre-filters)"
   ]
  },
  {
   "cell_type": "code",
   "execution_count": 77,
   "metadata": {
    "scrolled": false
   },
   "outputs": [
    {
     "name": "stdout",
     "output_type": "stream",
     "text": [
      "                                  attribute  included(n)  populated(n)\n",
      "Field                                                                 \n",
      "0                    acceptedScientificName          230           230\n",
      "1                          acceptedTaxonKey          230           230\n",
      "2                              accessRights           26            26\n",
      "3                       associatedSequences            6             6\n",
      "4                             basisOfRecord          230           230\n",
      "5                     bibliographicCitation            5             5\n",
      "6                             catalogNumber          230           230\n",
      "7                                     class          230           230\n",
      "8                                  classKey          230           230\n",
      "9                            collectionCode          230           230\n",
      "10                             collectionID           35            35\n",
      "11                                continent           49            49\n",
      "12            coordinateUncertaintyInMeters          191           191\n",
      "13                                  country          230           230\n",
      "14                              countryCode          230           230\n",
      "15                                   county           67            67\n",
      "16                                  crawlId          230           230\n",
      "17                                datasetID            3             3\n",
      "18                               datasetKey          230           230\n",
      "19                              datasetName          191           191\n",
      "20                           dateIdentified          184           184\n",
      "21                                      day          223           223\n",
      "22                          decimalLatitude          230           230\n",
      "23                         decimalLongitude          230           230\n",
      "24                              disposition            5             5\n",
      "25                        dynamicProperties           15            15\n",
      "26                                elevation            1             1\n",
      "27                             endDayOfYear           17            17\n",
      "28                       establishmentMeans            2             2\n",
      "29                                eventDate          230           230\n",
      "30                             eventRemarks            4             4\n",
      "31                                eventTime          151           151\n",
      "32                               extensions          230             0\n",
      "33                                    facts          230             0\n",
      "34                                   family          230           230\n",
      "35                                familyKey          230           230\n",
      "36                              fieldNumber           21            21\n",
      "37                                   gbifID          230           230\n",
      "38                              genericName          230           230\n",
      "39                                    genus          230           230\n",
      "40                                 genusKey          230           230\n",
      "41                            geodeticDatum          230           230\n",
      "42                     georeferenceProtocol           28            28\n",
      "43                      georeferenceRemarks            8             8\n",
      "44                      georeferenceSources           26            26\n",
      "45           georeferenceVerificationStatus           35            35\n",
      "46                          georeferencedBy           19            19\n",
      "47                        georeferencedDate           22            22\n",
      "48                     higherClassification           29            29\n",
      "49                          higherGeography           32            32\n",
      "50                  http://unknown.org/nick          163           163\n",
      "51     http://unknown.org/occurrenceDetails          163           163\n",
      "52                         identificationID          163           163\n",
      "53                  identificationQualifier           14            14\n",
      "54                    identificationRemarks           16            16\n",
      "55         identificationVerificationStatus           14            14\n",
      "56                             identifiedBy           37            37\n",
      "57                          identifiedByIDs          230             0\n",
      "58                               identifier          230           230\n",
      "59                              identifiers          230             0\n",
      "60                          individualCount           28            28\n",
      "61                      informationWithheld          166           166\n",
      "62                          installationKey          230           230\n",
      "63                          institutionCode          230           230\n",
      "64                            institutionID           31            31\n",
      "65                                   issues          230           226\n",
      "66                                      key          230           230\n",
      "67                                  kingdom          230           230\n",
      "68                               kingdomKey          230           230\n",
      "69                                 language           43            43\n",
      "70                              lastCrawled          230           230\n",
      "71                          lastInterpreted          230           230\n",
      "72                               lastParsed          230           230\n",
      "73                                  license          230           230\n",
      "74                                lifeStage           44            44\n",
      "75                                 locality           67            67\n",
      "76                      locationAccordingTo           14            14\n",
      "77                          locationRemarks            1             1\n",
      "78                                    media          230           154\n",
      "79                                 modified          214           214\n",
      "80                                    month          230           230\n",
      "81                              networkKeys           14            14\n",
      "82                        nomenclaturalCode           18            18\n",
      "83                             occurrenceID          230           230\n",
      "84                        occurrenceRemarks           24            24\n",
      "85                         occurrenceStatus            2             2\n",
      "86                                    order          230           230\n",
      "87                                 orderKey          230           230\n",
      "88                               organismID           14            14\n",
      "89                      otherCatalogNumbers           10            10\n",
      "90                     ownerInstitutionCode            5             5\n",
      "91                                   phylum          230           230\n",
      "92                                phylumKey          230           230\n",
      "93                             preparations           55            55\n",
      "94                  previousIdentifications           14            14\n",
      "95                                 protocol          230           230\n",
      "96                        publishingCountry          230           230\n",
      "97                         publishingOrgKey          230           230\n",
      "98                             recordNumber           17            17\n",
      "99                               recordedBy          221           221\n",
      "100                           recordedByIDs          230             0\n",
      "101                              references          184           184\n",
      "102                               relations          230             0\n",
      "103                                  rights          163           163\n",
      "104                            rightsHolder          172           172\n",
      "105                        samplingProtocol            1             1\n",
      "106                          scientificName          230           230\n",
      "107                        scientificNameID            1             1\n",
      "108                                 species          230           230\n",
      "109                              speciesKey          230           230\n",
      "110                         specificEpithet          230           230\n",
      "111                          startDayOfYear            6             6\n",
      "112                           stateProvince          230           230\n",
      "113                                 taxonID          163           163\n",
      "114                                taxonKey          230           230\n",
      "115                               taxonRank          230           230\n",
      "116                         taxonomicStatus          230           230\n",
      "117                                    type           35            35\n",
      "118                verbatimCoordinateSystem           16            16\n",
      "119                       verbatimElevation           12            12\n",
      "120                       verbatimEventDate          193           193\n",
      "121                        verbatimLocality          190           190\n",
      "122                             verbatimSRS            3             3\n",
      "123                          vernacularName           17            17\n",
      "124                                    year          230           230\n"
     ]
    }
   ],
   "source": [
    "fields_summary = pd.read_sql(\"SELECT * FROM gbif_fields_returned\", conn_occ)#, index_col='index')\n",
    "fields_summary.index.name = 'Field'\n",
    "pd.set_option('display.max_rows', 250)\n",
    "print(fields_summary)"
   ]
  },
  {
   "cell_type": "markdown",
   "metadata": {},
   "source": [
    "### Runtime"
   ]
  },
  {
   "cell_type": "code",
   "execution_count": 78,
   "metadata": {},
   "outputs": [
    {
     "name": "stdout",
     "output_type": "stream",
     "text": [
      "0:00:18.329241\n"
     ]
    }
   ],
   "source": [
    "t2 = datetime.now()\n",
    "print(t2 - t1)"
   ]
  },
  {
   "cell_type": "code",
   "execution_count": null,
   "metadata": {},
   "outputs": [],
   "source": []
  }
 ],
 "metadata": {
  "kernelspec": {
   "display_name": "Python 3",
   "language": "python",
   "name": "python3"
  },
  "language_info": {
   "codemirror_mode": {
    "name": "ipython",
    "version": 3
   },
   "file_extension": ".py",
   "mimetype": "text/x-python",
   "name": "python",
   "nbconvert_exporter": "python",
   "pygments_lexer": "ipython3",
   "version": "3.6.5"
  }
 },
 "nbformat": 4,
 "nbformat_minor": 2
}
