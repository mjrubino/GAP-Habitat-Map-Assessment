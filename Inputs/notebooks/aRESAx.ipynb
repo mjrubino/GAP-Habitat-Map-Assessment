{
 "cells": [
  {
   "cell_type": "markdown",
   "metadata": {},
   "source": [
    "# Occurrence Records from GBIF\n",
    "This notebook is a tool for exploring data sets requested from GBIF (and eventually other sources), and mostly for developing criteria for filtering records (filter sets).  When the entire notebook is run, it retrieves records according to the filter sets specified and saves the results (records and some summary tables) in an sqlite database.  Some information is pulled from the parameters.sqlite database that is saved in this repository."
   ]
  },
  {
   "cell_type": "markdown",
   "metadata": {},
   "source": [
    "### Set Variables - fill out stuff in this cell.  \n",
    "Notes:\n",
    "default_coordUncertainty -- coordinateUncertaintyInMeters is often not provided.  Here is an option to use a default.  If you don't want anything entered, set this equal to False (boolean, not string)."
   ]
  },
  {
   "cell_type": "code",
   "execution_count": 1,
   "metadata": {},
   "outputs": [],
   "source": [
    "species_id = 'aresax0'\n",
    "summary_name = 'Red Salamander'\n",
    "gbif_req_id = 'EvalGBIFRequest'\n",
    "gbif_filter_id = 'EvalGBIFFilter'\n",
    "default_coordUncertainty = False       # Note above.\n",
    "workDir = 'D:/USGS Analyses/GAP-Habitat-Map-Assessment/'   # Be sure to create folders named \"Inputs\" and \"Outputs\" here.\n",
    "codeDir = workDir + 'Scripts/'\n",
    "dbDir = workDir + 'db/'\n",
    "paramdb = dbDir + 'wildlife-wrangler.sqlite'\n",
    "configDir = workDir  # Path to folder where saved your wildlifeconfig file."
   ]
  },
  {
   "cell_type": "markdown",
   "metadata": {},
   "source": [
    "### Setup - nothing to fill out in this cell"
   ]
  },
  {
   "cell_type": "code",
   "execution_count": 2,
   "metadata": {},
   "outputs": [
    {
     "name": "stdout",
     "output_type": "stream",
     "text": [
      "Notebook run 2020-05-04 15:50:07.589276\n",
      "D:/USGS Analyses/GAP-Habitat-Map-Assessment/Outputs/aresax0EvalGBIFRequestEvalGBIFFilter.sqlite\n"
     ]
    }
   ],
   "source": [
    "%matplotlib inline\n",
    "import sqlite3\n",
    "import pprint\n",
    "import json\n",
    "import pandas as pd\n",
    "import numpy as np\n",
    "pd.set_option('display.width', 600)\n",
    "pd.set_option('display.max_colwidth', 30)\n",
    "pd.set_option('display.max_rows', 150)\n",
    "from IPython.display import Image\n",
    "from pygbif import occurrences\n",
    "import matplotlib.pyplot as plt\n",
    "import os\n",
    "from datetime import datetime\n",
    "t1 = datetime.now()\n",
    "import sys\n",
    "sys.path.append(configDir)\n",
    "import config\n",
    "sys.path.append(codeDir)\n",
    "import repo_functions as functions\n",
    "inDir = workDir + 'Inputs/'\n",
    "outDir = workDir + 'Outputs/'\n",
    "spdb = outDir + species_id + gbif_req_id + gbif_filter_id + '.sqlite'\n",
    "username = config.gbif_username\n",
    "password = config.gbif_password\n",
    "email = config.gbif_email\n",
    "print(\"Notebook run \" + str(t1))\n",
    "print(spdb)\n",
    "connjup = sqlite3.connect(paramdb)\n",
    "cursorjup = connjup.cursor()\n",
    "# Get some variables\n",
    "years = connjup.execute(\"\"\"SELECT years_range \n",
    "                           FROM gbif_requests WHERE request_id = '{0}'\"\"\".format(gbif_req_id)).fetchone()[0]\n",
    "gap_id = connjup.execute(\"\"\"SELECT gap_id\n",
    "                            FROM species_concepts WHERE species_id = '{0}'\"\"\".format(species_id)).fetchone()[0]\n",
    "common_name = connjup.execute(\"\"\"SELECT common_name\n",
    "                                 FROM species_concepts WHERE species_id = '{0}'\"\"\".format(species_id)).fetchone()[0]"
   ]
  },
  {
   "cell_type": "markdown",
   "metadata": {},
   "source": [
    "# Species Concept\n",
    "Display information on the species from the parameters.sqlite database."
   ]
  },
  {
   "cell_type": "code",
   "execution_count": 3,
   "metadata": {},
   "outputs": [
    {
     "name": "stdout",
     "output_type": "stream",
     "text": [
      "SPECIES CONCEPT RECORD\n",
      "                                        VALUE\n",
      "ATTRIBUTE                                    \n",
      "species_id                            aresax0\n",
      "fws_id                                   None\n",
      "gap_id                                 aRESAx\n",
      "itis_tsn                               173680\n",
      "gbif_id                               2431459\n",
      "bcb_id                                   None\n",
      "ebird_id                                 None\n",
      "common_name                    Red Salamander\n",
      "scientific_name            Pseudotriton ruber\n",
      "start_year                               1801\n",
      "split_from                               None\n",
      "end_year                                 None\n",
      "lumped_into                              None\n",
      "geometry                                 None\n",
      "detection_distance_meters                   0\n",
      "vetted_how                       NS,GBIF,IUCN\n",
      "vetted_who                          M. Rubino\n",
      "vetted_date                        05/01/2020\n",
      "notes                                        \n"
     ]
    }
   ],
   "source": [
    "vals = cursorjup.execute(\"SELECT * FROM species_concepts WHERE species_id = '{0}';\".format(species_id)).fetchall()[0]\n",
    "cols = [x[1] for x in cursorjup.execute(\"PRAGMA table_info('species_concepts')\").fetchall()]\n",
    "sp_dict = dict(zip(cols, vals))\n",
    "sp_df = pd.DataFrame.from_dict(sp_dict, orient='index', columns=['VALUE'])\n",
    "sp_df.index.name = 'ATTRIBUTE'\n",
    "print(\"SPECIES CONCEPT RECORD\")\n",
    "print(sp_df)"
   ]
  },
  {
   "cell_type": "markdown",
   "metadata": {},
   "source": [
    "# Filters\n",
    "Display the parameters of the request filter set.  These are deployed during the step where records are retrieved from the API."
   ]
  },
  {
   "cell_type": "code",
   "execution_count": 4,
   "metadata": {},
   "outputs": [
    {
     "name": "stdout",
     "output_type": "stream",
     "text": [
      "THE REQUEST FILTER SET\n",
      "request_id                    EvalGBIFRequest\n",
      "source                                   GBIF\n",
      "lat_range                                None\n",
      "lon_range                                None\n",
      "years_range                         1999,2020\n",
      "months_range                             1,12\n",
      "geoissue                                False\n",
      "coordinate                               True\n",
      "country                                    US\n",
      "geometry                                 None\n",
      "creator                             M. Rubino\n",
      "notes           amphibian evaluation reque...\n",
      "Name: 0, dtype: object\n"
     ]
    }
   ],
   "source": [
    "request_df = pd.read_sql_query(sql=\"SELECT * FROM gbif_requests WHERE request_id = '{0}'\".format(gbif_req_id), con=connjup)\n",
    "print(\"THE REQUEST FILTER SET\")\n",
    "print(request_df.loc[0])"
   ]
  },
  {
   "cell_type": "markdown",
   "metadata": {},
   "source": [
    "Display the parameters of the post-request filter set.  These are deployed after the records are retrieved from the API, but before they are stored in the occurrence record sqlite database."
   ]
  },
  {
   "cell_type": "code",
   "execution_count": 5,
   "metadata": {},
   "outputs": [
    {
     "name": "stdout",
     "output_type": "stream",
     "text": [
      "THE POST REQUEST FILTER SET\n",
      "filter_id                                    EvalGBIFFilter\n",
      "dataset                                                GBIF\n",
      "institutions_omit                                      None\n",
      "collection_codes_omit                                  None\n",
      "datasets_omit                                          None\n",
      "has_coordinate_uncertainty                                1\n",
      "max_coordinate_uncertainty                            10000\n",
      "bases_omit                                  FOSSIL_SPECIMEN\n",
      "sampling_protocols_omit                                None\n",
      "issues_omit                                            None\n",
      "duplicates_OK                                         False\n",
      "creator                                           M. Rubino\n",
      "notes                         amphibian evaluation filte...\n",
      "Name: 0, dtype: object\n"
     ]
    }
   ],
   "source": [
    "filter_df = pd.read_sql_query(sql=\"SELECT * FROM gbif_filters WHERE filter_id = '{0}'\".format(gbif_filter_id), con=connjup)\n",
    "print(\"THE POST REQUEST FILTER SET\")\n",
    "print(filter_df.loc[0])"
   ]
  },
  {
   "cell_type": "code",
   "execution_count": 6,
   "metadata": {
    "scrolled": false
   },
   "outputs": [
    {
     "name": "stdout",
     "output_type": "stream",
     "text": [
      "SPATIALITE_SECURITY set to relaxed\n",
      "Created occurrence db: 0:00:00.234382\n",
      "Got request params and sorted out geometry constraints: 0:00:00\n",
      "1049 records available\n",
      "Downloaded records: 0:00:08.047494\n",
      "Summarized fields returned: 0:00:52.049800\n",
      "Created summary table of request results: 0:00:00.046878\n",
      "Performed post-request filtering: 0:00:00.031252\n",
      "Calculated new columns, deleted some too: 0:00:00.046887\n",
      "22 duplicate records dropped: 0:00:00.437516\n",
      "Inserted records into table: 0:00:00.046888\n",
      "Summarized unique values retained: 0:00:00\n",
      "Updated occurrences table geometry column: 0:00:00.078139\n",
      "Buffered points: 0:00:00.484387\n"
     ]
    }
   ],
   "source": [
    "functions.retrieve_gbif_occurrences(codeDir, species_id, inDir, paramdb, spdb, gbif_req_id, gbif_filter_id, \n",
    "                                    default_coordUncertainty, outDir, summary_name, username,\n",
    "                                   password, email)"
   ]
  },
  {
   "cell_type": "code",
   "execution_count": 7,
   "metadata": {},
   "outputs": [
    {
     "name": "stdout",
     "output_type": "stream",
     "text": [
      "codeDir: D:/USGS Analyses/GAP-Habitat-Map-Assessment/Scripts/\n",
      " species_id: aresax0\n",
      " inDir: D:/USGS Analyses/GAP-Habitat-Map-Assessment/Inputs/\n",
      " paramdb: D:/USGS Analyses/GAP-Habitat-Map-Assessment/db/wildlife-wrangler.sqlite\n",
      " spdb: D:/USGS Analyses/GAP-Habitat-Map-Assessment/Outputs/aresax0EvalGBIFRequestEvalGBIFFilter.sqlite\n",
      " gbif_req_id: EvalGBIFRequest\n",
      " gbif_filter_id: EvalGBIFFilter\n",
      " default_coordUncertainty: False\n",
      " outDir: D:/USGS Analyses/GAP-Habitat-Map-Assessment/Outputs/\n",
      " summary_name: Red Salamander\n",
      " username: gapper\n",
      " password: metspirates\n",
      " email: pythonprocessing@gmail.com\n"
     ]
    }
   ],
   "source": [
    "print('codeDir: '+codeDir+'\\n', \n",
    "'species_id: '+species_id+'\\n', \n",
    "'inDir: '+inDir+'\\n', \n",
    "'paramdb: '+paramdb+'\\n', \n",
    "'spdb: '+spdb+'\\n', \n",
    "'gbif_req_id: '+gbif_req_id+'\\n', \n",
    "'gbif_filter_id: '+gbif_filter_id+'\\n', \n",
    "'default_coordUncertainty: '+str(default_coordUncertainty)+'\\n', \n",
    "'outDir: '+outDir+'\\n', \n",
    "'summary_name: '+summary_name+'\\n', \n",
    "'username: '+username+'\\n',\n",
    "'password: '+password+'\\n', \n",
    "'email: '+email)"
   ]
  },
  {
   "cell_type": "markdown",
   "metadata": {},
   "source": [
    "### Connect to output database, record species and filter info."
   ]
  },
  {
   "cell_type": "code",
   "execution_count": 8,
   "metadata": {},
   "outputs": [],
   "source": [
    "conn_occ= sqlite3.connect(spdb)\n",
    "curs_occ = conn_occ.cursor()\n",
    "sp_df.to_sql(name='species_concept', con=conn_occ, if_exists='replace')\n",
    "request_df.to_sql(name=gbif_req_id, con=conn_occ, if_exists='replace')\n",
    "filter_df.to_sql(name=gbif_filter_id, con=conn_occ, if_exists='replace')"
   ]
  },
  {
   "cell_type": "markdown",
   "metadata": {},
   "source": [
    "### How many records made it through the filters?\n",
    "This is the number that was actually saved in the occurrence record sqlite database."
   ]
  },
  {
   "cell_type": "code",
   "execution_count": 9,
   "metadata": {},
   "outputs": [
    {
     "name": "stdout",
     "output_type": "stream",
     "text": [
      "480 records\n"
     ]
    }
   ],
   "source": [
    "record_count = curs_occ.execute(\"SELECT COUNT(occ_id) FROM occurrences WHERE species_id = '{0}'\".format(species_id)).fetchone()\n",
    "print(str(record_count[0]) + \" records\")"
   ]
  },
  {
   "cell_type": "markdown",
   "metadata": {},
   "source": [
    "# Sources\n",
    "#### Pre-filters"
   ]
  },
  {
   "cell_type": "code",
   "execution_count": 10,
   "metadata": {},
   "outputs": [
    {
     "name": "stdout",
     "output_type": "stream",
     "text": [
      "GBIF\n",
      "   institutionCode                 collectionCode                    datasetName    0\n",
      "0              AUM                          Herps                        UNKNOWN   50\n",
      "1              CAS                           HERP                        UNKNOWN    3\n",
      "2             FHSM                           HERP                        UNKNOWN    3\n",
      "3              GSU                       GSU-Herp  Georgia Southern Universit...    4\n",
      "4              MCZ                           Herp                        UNKNOWN    1\n",
      "5              MSB  Amphibian and reptile spec...                        UNKNOWN    2\n",
      "6             NCSM                           Herp    NCSM Herpetology Collection   98\n",
      "7              SLU                          Herps                        UNKNOWN    2\n",
      "8             TCWC                    Herpetology                        UNKNOWN    3\n",
      "9               UF                           Herp                        UNKNOWN   33\n",
      "10         UNKNOWN                        UNKNOWN                        UNKNOWN    7\n",
      "11            USNM          Amphibians & Reptiles            NMNH Extant Biology    8\n",
      "12             YPM                             VZ                        UNKNOWN    6\n",
      "13     iNaturalist                   Observations  iNaturalist research-grade...  829\n"
     ]
    }
   ],
   "source": [
    "tables = cursorjup.execute(\"SELECT table_name FROM table_descriptions\").fetchall()\n",
    "tables = [x[0] for x in tables]\n",
    "\n",
    "filter_sets = [gbif_req_id, gbif_filter_id]\n",
    "\n",
    "sources = []\n",
    "for s in filter_sets:\n",
    "    s = s.strip()\n",
    "    for tab in tables:\n",
    "        columns = cursorjup.execute(\"SELECT column_name FROM column_descriptions WHERE table_name = '{0}'\".format(tab)).fetchall()\n",
    "        columns = [x[0] for x in columns]\n",
    "        for col in columns:\n",
    "            try:\n",
    "                a = cursorjup.execute(\"SELECT source FROM {1} WHERE {2} = '{0}'\".format(s, tab, col)).fetchone()[0]\n",
    "                sources.append(a)\n",
    "            except:\n",
    "                pass\n",
    "print(list(set(sources))[0])\n",
    "\n",
    "sources = pd.read_sql(sql=\"SELECT * FROM pre_filter_source_counts;\", con=conn_occ)\n",
    "print(sources)"
   ]
  },
  {
   "cell_type": "markdown",
   "metadata": {},
   "source": [
    "#### Post-filters"
   ]
  },
  {
   "cell_type": "code",
   "execution_count": 11,
   "metadata": {},
   "outputs": [
    {
     "name": "stdout",
     "output_type": "stream",
     "text": [
      "GBIF\n",
      "  institutionCode         collectionCode                    datasetName  COUNT(occ_id)\n",
      "0            NCSM                   Herp    NCSM Herpetology Collection             54\n",
      "1              UF                   Herp                        UNKNOWN             21\n",
      "2            USNM  Amphibians & Reptiles            NMNH Extant Biology              2\n",
      "3     iNaturalist           Observations  iNaturalist research-grade...            403\n"
     ]
    }
   ],
   "source": [
    "tables = cursorjup.execute(\"SELECT table_name FROM table_descriptions\").fetchall()\n",
    "tables = [x[0] for x in tables]\n",
    "\n",
    "filter_sets = [gbif_req_id, gbif_filter_id]\n",
    "\n",
    "sources = []\n",
    "for s in filter_sets:\n",
    "    s = s.strip()\n",
    "    for tab in tables:\n",
    "        columns = cursorjup.execute(\"SELECT column_name FROM column_descriptions WHERE table_name = '{0}'\".format(tab)).fetchall()\n",
    "        columns = [x[0] for x in columns]\n",
    "        for col in columns:\n",
    "            try:\n",
    "                a = cursorjup.execute(\"SELECT source FROM {1} WHERE {2} = '{0}'\".format(s, tab, col)).fetchone()[0]\n",
    "                sources.append(a)\n",
    "            except:\n",
    "                pass\n",
    "print(list(set(sources))[0])\n",
    "\n",
    "sql = \"SELECT institutionCode, collectionCode, datasetName, COUNT(occ_id) FROM occurrences GROUP BY institutionCode, collectionCode, datasetName;\"\n",
    "sources = pd.read_sql(sql=sql, con=conn_occ)\n",
    "print(sources)"
   ]
  },
  {
   "cell_type": "markdown",
   "metadata": {},
   "source": [
    "# Bases\n",
    "#### Pre-filter"
   ]
  },
  {
   "cell_type": "code",
   "execution_count": 12,
   "metadata": {},
   "outputs": [
    {
     "name": "stdout",
     "output_type": "stream",
     "text": [
      "         basisOfRecord  count\n",
      "0    HUMAN_OBSERVATION    829\n",
      "1  MACHINE_OBSERVATION      8\n",
      "2      MATERIAL_SAMPLE      3\n",
      "3   PRESERVED_SPECIMEN    209\n"
     ]
    }
   ],
   "source": [
    "bases = pd.read_sql(sql=\"SELECT value as basisOfRecord, count FROM pre_filter_value_counts WHERE attribute = 'bases';\", con=conn_occ)\n",
    "print(bases)"
   ]
  },
  {
   "cell_type": "markdown",
   "metadata": {},
   "source": [
    "#### Post-filters"
   ]
  },
  {
   "cell_type": "code",
   "execution_count": 13,
   "metadata": {
    "scrolled": true
   },
   "outputs": [
    {
     "name": "stdout",
     "output_type": "stream",
     "text": [
      "         basisOfRecord  count\n",
      "0    HUMAN_OBSERVATION    403\n",
      "1  MACHINE_OBSERVATION      8\n",
      "2   PRESERVED_SPECIMEN     69\n"
     ]
    }
   ],
   "source": [
    "sql = \"SELECT basisOfRecord, COUNT(occ_id) as count FROM occurrences GROUP BY basisOfRecord;\"\n",
    "bases = pd.read_sql(sql=sql, con=conn_occ)\n",
    "print(bases)"
   ]
  },
  {
   "cell_type": "markdown",
   "metadata": {},
   "source": [
    "# Protocols\n",
    "#### Pre-filters"
   ]
  },
  {
   "cell_type": "code",
   "execution_count": 14,
   "metadata": {
    "scrolled": true
   },
   "outputs": [
    {
     "name": "stdout",
     "output_type": "stream",
     "text": [
      "  samplingProtocol  count\n",
      "0          UNKNOWN   1049\n"
     ]
    }
   ],
   "source": [
    "protocol = pd.read_sql(sql=\"SELECT value as samplingProtocol, count FROM pre_filter_value_counts WHERE attribute = 'samplingProtocols';\", con=conn_occ)\n",
    "print(protocol)"
   ]
  },
  {
   "cell_type": "markdown",
   "metadata": {},
   "source": [
    "#### Post-filters"
   ]
  },
  {
   "cell_type": "code",
   "execution_count": 15,
   "metadata": {},
   "outputs": [
    {
     "name": "stdout",
     "output_type": "stream",
     "text": [
      "  samplingProtocol  count\n",
      "0          UNKNOWN    480\n"
     ]
    }
   ],
   "source": [
    "sql = \"SELECT samplingProtocol, COUNT(occ_id) as count FROM occurrences GROUP BY samplingProtocol;\"\n",
    "print(pd.read_sql(sql=sql, con=conn_occ))"
   ]
  },
  {
   "cell_type": "markdown",
   "metadata": {},
   "source": [
    "# Issues\n",
    "#### Pre-filters"
   ]
  },
  {
   "cell_type": "code",
   "execution_count": 16,
   "metadata": {
    "scrolled": true
   },
   "outputs": [
    {
     "name": "stdout",
     "output_type": "stream",
     "text": [
      "                                                                            issues  count\n",
      "0                                 ['COORDINATE_ROUNDED', 'COORDINATE_REPROJECTED']      1\n",
      "1                           ['COORDINATE_ROUNDED', 'GEODETIC_DATUM_ASSUMED_WGS84']    757\n",
      "2  ['COORDINATE_ROUNDED', 'GEODETIC_DATUM_INVALID', 'GEODETIC_DATUM_ASSUMED_WGS...      1\n",
      "3                                                           ['COORDINATE_ROUNDED']    107\n",
      "4                 ['GEODETIC_DATUM_ASSUMED_WGS84', 'COORDINATE_PRECISION_INVALID']      3\n",
      "5             ['GEODETIC_DATUM_ASSUMED_WGS84', 'COUNTRY_DERIVED_FROM_COORDINATES']      4\n",
      "6                                                 ['GEODETIC_DATUM_ASSUMED_WGS84']     81\n",
      "7                       ['GEODETIC_DATUM_INVALID', 'GEODETIC_DATUM_ASSUMED_WGS84']      2\n",
      "8                                                   ['PRESUMED_NEGATED_LONGITUDE']      3\n",
      "9                                                                               []     90\n"
     ]
    }
   ],
   "source": [
    "iss = pd.read_sql(sql=\"SELECT value as issues, count FROM pre_filter_value_counts WHERE attribute = 'issues';\", con=conn_occ)\n",
    "pd.set_option('display.max_colwidth', 80)\n",
    "print(iss)"
   ]
  },
  {
   "cell_type": "markdown",
   "metadata": {},
   "source": [
    "#### Post-filters"
   ]
  },
  {
   "cell_type": "code",
   "execution_count": 17,
   "metadata": {
    "scrolled": true
   },
   "outputs": [
    {
     "name": "stdout",
     "output_type": "stream",
     "text": [
      "                                            issues  count\n",
      "0                                                      21\n",
      "1                               COORDINATE_ROUNDED     56\n",
      "2  COORDINATE_ROUNDED;GEODETIC_DATUM_ASSUMED_WGS84    366\n",
      "3                     GEODETIC_DATUM_ASSUMED_WGS84     37\n"
     ]
    }
   ],
   "source": [
    "sql = \"SELECT issues, COUNT(occ_id) as count FROM occurrences GROUP BY issues;\"\n",
    "print(pd.read_sql(sql=sql, con=conn_occ))"
   ]
  },
  {
   "cell_type": "markdown",
   "metadata": {},
   "source": [
    "# Descriptions of filtered records"
   ]
  },
  {
   "cell_type": "markdown",
   "metadata": {},
   "source": [
    "### Years represented"
   ]
  },
  {
   "cell_type": "code",
   "execution_count": 18,
   "metadata": {},
   "outputs": [
    {
     "data": {
      "text/plain": [
       "Text(0.5, 1.0, 'Occurrences per Year')"
      ]
     },
     "execution_count": 18,
     "metadata": {},
     "output_type": "execute_result"
    },
    {
     "data": {
      "image/png": "[encoded data removed]",
      "text/plain": [
       "<Figure size 432x288 with 1 Axes>"
      ]
     },
     "metadata": {
      "needs_background": "light"
     },
     "output_type": "display_data"
    }
   ],
   "source": [
    "occ_years = [int(x[0]) for x in curs_occ.execute(\"SELECT strftime('%Y', occurrenceDate) FROM occurrences\").fetchall()]\n",
    "years = connjup.execute(\"SELECT years_range FROM gbif_requests WHERE request_id = '{0}'\".format(gbif_req_id)).fetchone()[0]\n",
    "years = years.split(',')\n",
    "yearsrng = list(range(int(years[0]), int(years[1]), 1))\n",
    "binsnum = int(years[1]) - int(years[0])\n",
    "plt.hist(occ_years, bins=binsnum)\n",
    "plt.ylabel(\"number of records\")\n",
    "plt.xlabel(\"year\")\n",
    "plt.xticks(yearsrng, rotation=90)\n",
    "plt.title(\"Occurrences per Year\")"
   ]
  },
  {
   "cell_type": "markdown",
   "metadata": {},
   "source": [
    "### Months represented"
   ]
  },
  {
   "cell_type": "code",
   "execution_count": 19,
   "metadata": {},
   "outputs": [
    {
     "data": {
      "text/plain": [
       "Text(0.5, 1.0, 'Occurrences per Month')"
      ]
     },
     "execution_count": 19,
     "metadata": {},
     "output_type": "execute_result"
    },
    {
     "data": {
      "image/png": "[encoded data removed]",
      "text/plain": [
       "<Figure size 432x288 with 1 Axes>"
      ]
     },
     "metadata": {
      "needs_background": "light"
     },
     "output_type": "display_data"
    }
   ],
   "source": [
    "occ_months = [int(x[0]) for x in curs_occ.execute(\"SELECT strftime('%m', occurrenceDate) FROM occurrences\").fetchall()]\n",
    "plt.hist(occ_months, bins=range(1, 14), color=\"g\")\n",
    "plt.ylabel(\"number of records\")\n",
    "plt.xlabel(\"month\")\n",
    "plt.xticks(range(1, 13))\n",
    "plt.title(\"Occurrences per Month\")"
   ]
  },
  {
   "cell_type": "markdown",
   "metadata": {},
   "source": [
    "### Distribution of coordinate uncertainty values"
   ]
  },
  {
   "cell_type": "code",
   "execution_count": 20,
   "metadata": {
    "scrolled": true
   },
   "outputs": [
    {
     "data": {
      "text/plain": [
       "Text(0.5, 1.0, 'Coordinate Uncertainty')"
      ]
     },
     "execution_count": 20,
     "metadata": {},
     "output_type": "execute_result"
    },
    {
     "data": {
      "image/png": "[encoded data removed]",
      "text/plain": [
       "<Figure size 1152x288 with 1 Axes>"
      ]
     },
     "metadata": {
      "needs_background": "light"
     },
     "output_type": "display_data"
    }
   ],
   "source": [
    "occ_cert = [int(x[0]) for x in curs_occ.execute(\"SELECT coordinateUncertaintyInMeters FROM occurrences\").fetchall()]\n",
    "maxi = np.max(occ_cert)\n",
    "plt.figure(figsize=(16,4))\n",
    "plt.hist(occ_cert, bins=50, color=\"r\")\n",
    "plt.xticks(range(0, maxi, int(maxi/50)), rotation=90)\n",
    "plt.ylabel(\"number of records\")\n",
    "plt.xlabel(\"coordinate uncertainty\")\n",
    "plt.title(\"Coordinate Uncertainty\")"
   ]
  },
  {
   "cell_type": "code",
   "execution_count": 21,
   "metadata": {},
   "outputs": [
    {
     "data": {
      "text/plain": [
       "Text(0.5, 1.0, 'Coordinate Uncertainty - Zoomed In')"
      ]
     },
     "execution_count": 21,
     "metadata": {},
     "output_type": "execute_result"
    },
    {
     "data": {
      "image/png": "[encoded data removed]",
      "text/plain": [
       "<Figure size 864x288 with 1 Axes>"
      ]
     },
     "metadata": {
      "needs_background": "light"
     },
     "output_type": "display_data"
    }
   ],
   "source": [
    "rng_max = 2000\n",
    "occ_cert2 = [x for x in occ_cert if x <= rng_max]\n",
    "plt.figure(figsize=(12,4))\n",
    "plt.hist(occ_cert2, bins=30, color=\"m\", align='mid')\n",
    "plt.xticks(range(0, rng_max + 100, int(rng_max/30.)), rotation=90)\n",
    "plt.ylabel(\"number of records\")\n",
    "plt.xlabel(\"coordinate uncertainty\")\n",
    "plt.title(\"Coordinate Uncertainty - Zoomed In\")"
   ]
  },
  {
   "cell_type": "markdown",
   "metadata": {},
   "source": [
    "### Establishment means reported"
   ]
  },
  {
   "cell_type": "code",
   "execution_count": 22,
   "metadata": {},
   "outputs": [
    {
     "name": "stdout",
     "output_type": "stream",
     "text": [
      "UNKNOWN\n"
     ]
    }
   ],
   "source": [
    "establishment = curs_occ.execute(\"SELECT vals FROM unique_values WHERE field = 'establishment' AND step = 'filter';\").fetchall()[0]\n",
    "for est in establishment:\n",
    "    est = est.replace('[', '').strip().replace(']', '').replace(\"'\", \"\")\n",
    "    print(est)"
   ]
  },
  {
   "cell_type": "markdown",
   "metadata": {},
   "source": [
    "### Identification qualifiers included"
   ]
  },
  {
   "cell_type": "code",
   "execution_count": 23,
   "metadata": {},
   "outputs": [
    {
     "name": "stdout",
     "output_type": "stream",
     "text": [
      "UNKNOWN\n"
     ]
    }
   ],
   "source": [
    "quali = curs_occ.execute(\"SELECT DISTINCT vals FROM unique_values WHERE field = 'IDqualifier' AND step = 'filter';\").fetchall()[0]\n",
    "for q in quali:\n",
    "    q = q.replace('[', '').strip().replace(']', '').replace(\"'\", \"\")\n",
    "    print(q)"
   ]
  },
  {
   "cell_type": "markdown",
   "metadata": {},
   "source": [
    "### Remarks included"
   ]
  },
  {
   "cell_type": "code",
   "execution_count": 24,
   "metadata": {
    "scrolled": true
   },
   "outputs": [
    {
     "name": "stdout",
     "output_type": "stream",
     "text": [
      "More than 20 remarks, consult the occurrence database.\n"
     ]
    }
   ],
   "source": [
    "remarks = curs_occ.execute(\"SELECT DISTINCT remarks FROM occurrences;\").fetchall()\n",
    "if len(remarks) <= 20:\n",
    "    try:\n",
    "        for rem in remarks:\n",
    "            if rem[0][0:1] == ';':\n",
    "                print(rem[0][2:])\n",
    "            else:\n",
    "                print(rem[0])\n",
    "    except:\n",
    "        pass\n",
    "else:\n",
    "    print(\"More than 20 remarks, consult the occurrence database.\")"
   ]
  },
  {
   "cell_type": "markdown",
   "metadata": {},
   "source": [
    "### Attributes returned for the records in the request (pre-filters)"
   ]
  },
  {
   "cell_type": "code",
   "execution_count": 25,
   "metadata": {
    "scrolled": false
   },
   "outputs": [
    {
     "name": "stdout",
     "output_type": "stream",
     "text": [
      "                                  attribute  included(n)  populated(n)\n",
      "Field                                                                 \n",
      "0                    acceptedScientificName         1049          1049\n",
      "1                          acceptedTaxonKey         1049          1049\n",
      "2                              accessRights          168           168\n",
      "3                      associatedReferences            3             3\n",
      "4                       associatedSequences            7             7\n",
      "5                             basisOfRecord         1049          1049\n",
      "6                     bibliographicCitation          157           157\n",
      "7                             catalogNumber         1045          1045\n",
      "8                                     class         1049          1049\n",
      "9                                  classKey         1049          1049\n",
      "10                           collectionCode         1042          1042\n",
      "11                             collectionID            5             5\n",
      "12                                continent          213           213\n",
      "13            coordinateUncertaintyInMeters          795           795\n",
      "14                                  country         1049          1049\n",
      "15                              countryCode         1049          1049\n",
      "16                                   county          212           212\n",
      "17                                  crawlId         1049          1049\n",
      "18                                  created            4             4\n",
      "19                                datasetID           98            98\n",
      "20                               datasetKey         1049          1049\n",
      "21                              datasetName          939           939\n",
      "22                           dateIdentified          808           808\n",
      "23                                      day         1046          1046\n",
      "24                          decimalLatitude         1049          1049\n",
      "25                         decimalLongitude         1049          1049\n",
      "26                              disposition           99            99\n",
      "27                        dynamicProperties           12            12\n",
      "28                                elevation           10            10\n",
      "29                        elevationAccuracy            9             9\n",
      "30                             endDayOfYear           72            72\n",
      "31                       establishmentMeans           62            62\n",
      "32                                eventDate         1049          1049\n",
      "33                             eventRemarks           13            13\n",
      "34                                eventTime          763           763\n",
      "35                               extensions         1049             0\n",
      "36                                    facts         1049             0\n",
      "37                                   family         1049          1049\n",
      "38                                familyKey         1049          1049\n",
      "39                              fieldNumber          103           103\n",
      "40                                   gbifID         1049          1049\n",
      "41                              genericName         1049          1049\n",
      "42                                    genus         1049          1049\n",
      "43                                 genusKey         1049          1049\n",
      "44                            geodeticDatum         1049          1049\n",
      "45                     georeferenceProtocol            6             6\n",
      "46                      georeferenceSources          109           109\n",
      "47           georeferenceVerificationStatus           65            65\n",
      "48                          georeferencedBy            8             8\n",
      "49                        georeferencedDate            2             2\n",
      "50                                  habitat           16            16\n",
      "51                     higherClassification           86            86\n",
      "52                          higherGeography          115           115\n",
      "53              http://unknown.org/language            3             3\n",
      "54                  http://unknown.org/nick          829           829\n",
      "55     http://unknown.org/occurrenceDetails          829           829\n",
      "56                http://unknown.org/rights            3             3\n",
      "57          http://unknown.org/rightsHolder            3             3\n",
      "58                         identificationID          802           802\n",
      "59                  identificationQualifier            2             2\n",
      "60                    identificationRemarks            7             7\n",
      "61         identificationVerificationStatus            2             2\n",
      "62                             identifiedBy           35            35\n",
      "63                          identifiedByIDs         1049             5\n",
      "64                               identifier         1049          1049\n",
      "65                              identifiers         1049             0\n",
      "66                          individualCount          118           118\n",
      "67                      informationWithheld          385           385\n",
      "68                     infraspecificEpithet          371           371\n",
      "69                          installationKey         1049          1049\n",
      "70                          institutionCode         1042          1042\n",
      "71                            institutionID          170           170\n",
      "72                                   issues         1049           959\n",
      "73                                      key         1049          1049\n",
      "74                                  kingdom         1049          1049\n",
      "75                               kingdomKey         1049          1049\n",
      "76                                 language          172           172\n",
      "77                              lastCrawled         1049          1049\n",
      "78                          lastInterpreted         1049          1049\n",
      "79                               lastParsed         1049          1049\n",
      "80                                  license         1049          1049\n",
      "81                                lifeStage          113           113\n",
      "82                                 locality          218           218\n",
      "83                      locationAccordingTo            2             2\n",
      "84                               locationID           50            50\n",
      "85                          locationRemarks            3             3\n",
      "86                                    media         1049           759\n",
      "87                                 modified          988           988\n",
      "88                                    month         1049          1049\n",
      "89                             municipality            4             4\n",
      "90                              networkKeys            2             2\n",
      "91                        nomenclaturalCode           71            71\n",
      "92                             occurrenceID         1049          1049\n",
      "93                        occurrenceRemarks          266           266\n",
      "94                         occurrenceStatus           62            62\n",
      "95                                    order         1049          1049\n",
      "96                                 orderKey         1049          1049\n",
      "97                               organismID            2             2\n",
      "98                      otherCatalogNumbers           53            53\n",
      "99                     ownerInstitutionCode          105           105\n",
      "100                                  phylum         1049          1049\n",
      "101                               phylumKey         1049          1049\n",
      "102                            preparations          118           118\n",
      "103                 previousIdentifications            8             8\n",
      "104                                protocol         1049          1049\n",
      "105                       publishingCountry         1046          1046\n",
      "106                        publishingOrgKey         1049          1049\n",
      "107                            recordNumber            9             9\n",
      "108                              recordedBy          943           943\n",
      "109                           recordedByIDs         1049             6\n",
      "110                              references         1002          1002\n",
      "111                               relations         1049             0\n",
      "112                                  rights          829           829\n",
      "113                            rightsHolder          934           934\n",
      "114                          scientificName         1049          1049\n",
      "115                                     sex            2             2\n",
      "116                                 species         1049          1049\n",
      "117                              speciesKey         1049          1049\n",
      "118                         specificEpithet         1046          1046\n",
      "119                          startDayOfYear           71            71\n",
      "120                           stateProvince         1045          1045\n",
      "121                          taxonConceptID            3             3\n",
      "122                                 taxonID          836           836\n",
      "123                                taxonKey         1049          1049\n",
      "124                               taxonRank         1049          1049\n",
      "125                            taxonRemarks            6             6\n",
      "126                         taxonomicStatus         1049          1049\n",
      "127                                    type          180           180\n",
      "128                verbatimCoordinateSystem            6             6\n",
      "129                       verbatimElevation            7             7\n",
      "130                       verbatimEventDate          849           849\n",
      "131                        verbatimLocality          925           925\n",
      "132                          vernacularName          104           104\n",
      "133                                    year         1049          1049\n"
     ]
    }
   ],
   "source": [
    "fields_summary = pd.read_sql(\"SELECT * FROM gbif_fields_returned\", conn_occ)#, index_col='index')\n",
    "fields_summary.index.name = 'Field'\n",
    "pd.set_option('display.max_rows', 250)\n",
    "print(fields_summary)"
   ]
  },
  {
   "cell_type": "markdown",
   "metadata": {},
   "source": [
    "### Runtime"
   ]
  },
  {
   "cell_type": "code",
   "execution_count": 26,
   "metadata": {},
   "outputs": [
    {
     "name": "stdout",
     "output_type": "stream",
     "text": [
      "0:01:04.925704\n"
     ]
    }
   ],
   "source": [
    "t2 = datetime.now()\n",
    "print(t2 - t1)"
   ]
  },
  {
   "cell_type": "code",
   "execution_count": null,
   "metadata": {},
   "outputs": [],
   "source": []
  }
 ],
 "metadata": {
  "kernelspec": {
   "display_name": "Python 3",
   "language": "python",
   "name": "python3"
  },
  "language_info": {
   "codemirror_mode": {
    "name": "ipython",
    "version": 3
   },
   "file_extension": ".py",
   "mimetype": "text/x-python",
   "name": "python",
   "nbconvert_exporter": "python",
   "pygments_lexer": "ipython3",
   "version": "3.6.5"
  }
 },
 "nbformat": 4,
 "nbformat_minor": 2
}
