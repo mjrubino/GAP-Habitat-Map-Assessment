{
 "cells": [
  {
   "cell_type": "markdown",
   "metadata": {},
   "source": [
    "# Occurrence Records from GBIF\n",
    "This notebook is a tool for exploring data sets requested from GBIF (and eventually other sources), and mostly for developing criteria for filtering records (filter sets).  When the entire notebook is run, it retrieves records according to the filter sets specified and saves the results (records and some summary tables) in an sqlite database.  Some information is pulled from the parameters.sqlite database that is saved in this repository."
   ]
  },
  {
   "cell_type": "markdown",
   "metadata": {},
   "source": [
    "### Set Variables - fill out stuff in this cell.  \n",
    "Notes:\n",
    "default_coordUncertainty -- coordinateUncertaintyInMeters is often not provided.  Here is an option to use a default.  If you don't want anything entered, set this equal to False (boolean, not string)."
   ]
  },
  {
   "cell_type": "code",
   "execution_count": 1,
   "metadata": {},
   "outputs": [],
   "source": [
    "species_id = 'abotox0'\n",
    "summary_name = 'Western Toad'\n",
    "gbif_req_id = 'EvalGBIFRequest'\n",
    "gbif_filter_id = 'EvalGBIFFilter'\n",
    "default_coordUncertainty = False       # Note above.\n",
    "workDir = 'D:/USGS Analyses/GAP-Habitat-Map-Assessment/'   # Be sure to create folders named \"Inputs\" and \"Outputs\" here.\n",
    "codeDir = workDir + 'Scripts/'\n",
    "dbDir = workDir + 'db/'\n",
    "paramdb = dbDir + 'wildlife-wrangler.sqlite'\n",
    "configDir = workDir  # Path to folder where saved your wildlifeconfig file."
   ]
  },
  {
   "cell_type": "markdown",
   "metadata": {},
   "source": [
    "### Setup - nothing to fill out in this cell"
   ]
  },
  {
   "cell_type": "code",
   "execution_count": 2,
   "metadata": {},
   "outputs": [
    {
     "name": "stdout",
     "output_type": "stream",
     "text": [
      "Notebook run 2020-05-06 14:23:34.894464\n",
      "D:/USGS Analyses/GAP-Habitat-Map-Assessment/Outputs/abotox0EvalGBIFRequestEvalGBIFFilter.sqlite\n"
     ]
    }
   ],
   "source": [
    "%matplotlib inline\n",
    "import sqlite3\n",
    "import pprint\n",
    "import json\n",
    "import pandas as pd\n",
    "import numpy as np\n",
    "pd.set_option('display.width', 600)\n",
    "pd.set_option('display.max_colwidth', 30)\n",
    "pd.set_option('display.max_rows', 150)\n",
    "from IPython.display import Image\n",
    "from pygbif import occurrences\n",
    "import matplotlib.pyplot as plt\n",
    "import os\n",
    "from datetime import datetime\n",
    "t1 = datetime.now()\n",
    "import sys\n",
    "sys.path.append(configDir)\n",
    "import config\n",
    "sys.path.append(codeDir)\n",
    "import repo_functions as functions\n",
    "inDir = workDir + 'Inputs/'\n",
    "outDir = workDir + 'Outputs/'\n",
    "spdb = outDir + species_id + gbif_req_id + gbif_filter_id + '.sqlite'\n",
    "username = config.gbif_username\n",
    "password = config.gbif_password\n",
    "email = config.gbif_email\n",
    "print(\"Notebook run \" + str(t1))\n",
    "print(spdb)\n",
    "connjup = sqlite3.connect(paramdb)\n",
    "cursorjup = connjup.cursor()\n",
    "# Get some variables\n",
    "years = connjup.execute(\"\"\"SELECT years_range \n",
    "                           FROM gbif_requests WHERE request_id = '{0}'\"\"\".format(gbif_req_id)).fetchone()[0]\n",
    "gap_id = connjup.execute(\"\"\"SELECT gap_id\n",
    "                            FROM species_concepts WHERE species_id = '{0}'\"\"\".format(species_id)).fetchone()[0]\n",
    "common_name = connjup.execute(\"\"\"SELECT common_name\n",
    "                                 FROM species_concepts WHERE species_id = '{0}'\"\"\".format(species_id)).fetchone()[0]"
   ]
  },
  {
   "cell_type": "markdown",
   "metadata": {},
   "source": [
    "# Species Concept\n",
    "Display information on the species from the parameters.sqlite database."
   ]
  },
  {
   "cell_type": "code",
   "execution_count": 3,
   "metadata": {},
   "outputs": [
    {
     "name": "stdout",
     "output_type": "stream",
     "text": [
      "SPECIES CONCEPT RECORD\n",
      "                                                   VALUE\n",
      "ATTRIBUTE                                               \n",
      "species_id                                       abotox0\n",
      "fws_id                                              None\n",
      "gap_id                                            aBOTOx\n",
      "itis_tsn                                          773513\n",
      "gbif_id                                          2422924\n",
      "bcb_id                                              None\n",
      "ebird_id                                            None\n",
      "common_name                                 Western Toad\n",
      "scientific_name                          Anaxyrus boreas\n",
      "start_year                                          1852\n",
      "split_from                                          None\n",
      "end_year                                            None\n",
      "lumped_into                                         None\n",
      "geometry                                            None\n",
      "detection_distance_meters                              0\n",
      "vetted_how                                  NS,GBIF,IUCN\n",
      "vetted_who                                     M. Rubino\n",
      "vetted_date                                   04/07/2020\n",
      "notes                      The genus Anaxyrus was spl...\n"
     ]
    }
   ],
   "source": [
    "vals = cursorjup.execute(\"SELECT * FROM species_concepts WHERE species_id = '{0}';\".format(species_id)).fetchall()[0]\n",
    "cols = [x[1] for x in cursorjup.execute(\"PRAGMA table_info('species_concepts')\").fetchall()]\n",
    "sp_dict = dict(zip(cols, vals))\n",
    "sp_df = pd.DataFrame.from_dict(sp_dict, orient='index', columns=['VALUE'])\n",
    "sp_df.index.name = 'ATTRIBUTE'\n",
    "print(\"SPECIES CONCEPT RECORD\")\n",
    "print(sp_df)"
   ]
  },
  {
   "cell_type": "markdown",
   "metadata": {},
   "source": [
    "# Filters\n",
    "Display the parameters of the request filter set.  These are deployed during the step where records are retrieved from the API."
   ]
  },
  {
   "cell_type": "code",
   "execution_count": 4,
   "metadata": {},
   "outputs": [
    {
     "name": "stdout",
     "output_type": "stream",
     "text": [
      "THE REQUEST FILTER SET\n",
      "request_id                    EvalGBIFRequest\n",
      "source                                   GBIF\n",
      "lat_range                                None\n",
      "lon_range                                None\n",
      "years_range                         1999,2020\n",
      "months_range                             1,12\n",
      "geoissue                                False\n",
      "coordinate                               True\n",
      "country                                    US\n",
      "geometry                                 None\n",
      "creator                             M. Rubino\n",
      "notes           amphibian evaluation reque...\n",
      "Name: 0, dtype: object\n"
     ]
    }
   ],
   "source": [
    "request_df = pd.read_sql_query(sql=\"SELECT * FROM gbif_requests WHERE request_id = '{0}'\".format(gbif_req_id), con=connjup)\n",
    "print(\"THE REQUEST FILTER SET\")\n",
    "print(request_df.loc[0])"
   ]
  },
  {
   "cell_type": "markdown",
   "metadata": {},
   "source": [
    "Display the parameters of the post-request filter set.  These are deployed after the records are retrieved from the API, but before they are stored in the occurrence record sqlite database."
   ]
  },
  {
   "cell_type": "code",
   "execution_count": 5,
   "metadata": {},
   "outputs": [
    {
     "name": "stdout",
     "output_type": "stream",
     "text": [
      "THE POST REQUEST FILTER SET\n",
      "filter_id                                    EvalGBIFFilter\n",
      "dataset                                                GBIF\n",
      "institutions_omit                                      None\n",
      "collection_codes_omit                                  None\n",
      "datasets_omit                                          None\n",
      "has_coordinate_uncertainty                                1\n",
      "max_coordinate_uncertainty                            10000\n",
      "bases_omit                                  FOSSIL_SPECIMEN\n",
      "sampling_protocols_omit                                None\n",
      "issues_omit                                            None\n",
      "duplicates_OK                                         False\n",
      "creator                                           M. Rubino\n",
      "notes                         amphibian evaluation filte...\n",
      "Name: 0, dtype: object\n"
     ]
    }
   ],
   "source": [
    "filter_df = pd.read_sql_query(sql=\"SELECT * FROM gbif_filters WHERE filter_id = '{0}'\".format(gbif_filter_id), con=connjup)\n",
    "print(\"THE POST REQUEST FILTER SET\")\n",
    "print(filter_df.loc[0])"
   ]
  },
  {
   "cell_type": "code",
   "execution_count": 6,
   "metadata": {
    "scrolled": false
   },
   "outputs": [
    {
     "name": "stdout",
     "output_type": "stream",
     "text": [
      "SPATIALITE_SECURITY set to relaxed\n",
      "Created occurrence db: 0:00:00.222772\n",
      "Got request params and sorted out geometry constraints: 0:00:00.015638\n",
      "4229 records available\n",
      "Downloaded records: 0:00:34.722654\n",
      "Summarized fields returned: 0:03:34.339317\n",
      "Created summary table of request results: 0:00:00.062506\n",
      "Performed post-request filtering: 0:00:00.022140\n",
      "Calculated new columns, deleted some too: 0:00:00.046891\n",
      "26 duplicate records dropped: 0:00:01.138321\n",
      "Inserted records into table: 0:00:00.051778\n",
      "Summarized unique values retained: 0:00:00\n",
      "Updated occurrences table geometry column: 0:00:00.212344\n",
      "Buffered points: 0:00:00.994393\n"
     ]
    }
   ],
   "source": [
    "functions.retrieve_gbif_occurrences(codeDir, species_id, inDir, paramdb, spdb, gbif_req_id, gbif_filter_id, \n",
    "                                    default_coordUncertainty, outDir, summary_name, username,\n",
    "                                   password, email)"
   ]
  },
  {
   "cell_type": "code",
   "execution_count": 7,
   "metadata": {},
   "outputs": [
    {
     "name": "stdout",
     "output_type": "stream",
     "text": [
      "codeDir: D:/USGS Analyses/GAP-Habitat-Map-Assessment/Scripts/\n",
      " species_id: abotox0\n",
      " inDir: D:/USGS Analyses/GAP-Habitat-Map-Assessment/Inputs/\n",
      " paramdb: D:/USGS Analyses/GAP-Habitat-Map-Assessment/db/wildlife-wrangler.sqlite\n",
      " spdb: D:/USGS Analyses/GAP-Habitat-Map-Assessment/Outputs/abotox0EvalGBIFRequestEvalGBIFFilter.sqlite\n",
      " gbif_req_id: EvalGBIFRequest\n",
      " gbif_filter_id: EvalGBIFFilter\n",
      " default_coordUncertainty: False\n",
      " outDir: D:/USGS Analyses/GAP-Habitat-Map-Assessment/Outputs/\n",
      " summary_name: Western Toad\n",
      " username: gapper\n",
      " password: metspirates\n",
      " email: pythonprocessing@gmail.com\n"
     ]
    }
   ],
   "source": [
    "print('codeDir: '+codeDir+'\\n', \n",
    "'species_id: '+species_id+'\\n', \n",
    "'inDir: '+inDir+'\\n', \n",
    "'paramdb: '+paramdb+'\\n', \n",
    "'spdb: '+spdb+'\\n', \n",
    "'gbif_req_id: '+gbif_req_id+'\\n', \n",
    "'gbif_filter_id: '+gbif_filter_id+'\\n', \n",
    "'default_coordUncertainty: '+str(default_coordUncertainty)+'\\n', \n",
    "'outDir: '+outDir+'\\n', \n",
    "'summary_name: '+summary_name+'\\n', \n",
    "'username: '+username+'\\n',\n",
    "'password: '+password+'\\n', \n",
    "'email: '+email)"
   ]
  },
  {
   "cell_type": "markdown",
   "metadata": {},
   "source": [
    "### Connect to output database, record species and filter info."
   ]
  },
  {
   "cell_type": "code",
   "execution_count": 8,
   "metadata": {},
   "outputs": [],
   "source": [
    "conn_occ= sqlite3.connect(spdb)\n",
    "curs_occ = conn_occ.cursor()\n",
    "sp_df.to_sql(name='species_concept', con=conn_occ, if_exists='replace')\n",
    "request_df.to_sql(name=gbif_req_id, con=conn_occ, if_exists='replace')\n",
    "filter_df.to_sql(name=gbif_filter_id, con=conn_occ, if_exists='replace')"
   ]
  },
  {
   "cell_type": "markdown",
   "metadata": {},
   "source": [
    "### How many records made it through the filters?\n",
    "This is the number that was actually saved in the occurrence record sqlite database."
   ]
  },
  {
   "cell_type": "code",
   "execution_count": 9,
   "metadata": {},
   "outputs": [
    {
     "name": "stdout",
     "output_type": "stream",
     "text": [
      "1355 records\n"
     ]
    }
   ],
   "source": [
    "record_count = curs_occ.execute(\"SELECT COUNT(occ_id) FROM occurrences WHERE species_id = '{0}'\".format(species_id)).fetchone()\n",
    "print(str(record_count[0]) + \" records\")"
   ]
  },
  {
   "cell_type": "markdown",
   "metadata": {},
   "source": [
    "# Sources\n",
    "#### Pre-filters"
   ]
  },
  {
   "cell_type": "code",
   "execution_count": 10,
   "metadata": {},
   "outputs": [
    {
     "name": "stdout",
     "output_type": "stream",
     "text": [
      "GBIF\n",
      "   institutionCode                 collectionCode                    datasetName     0\n",
      "0              CAS                           HERP                        UNKNOWN   359\n",
      "1            CCBER                          Herps                        UNKNOWN     4\n",
      "2             CUMV                          Herps                        UNKNOWN     1\n",
      "3             FHSM                           HERP                        UNKNOWN     3\n",
      "4             LACM                          Herps               LACM Vertebrates    66\n",
      "5              MSB  Amphibian and reptile spec...                        UNKNOWN    18\n",
      "6              MSB               Mammal specimens                        UNKNOWN     7\n",
      "7              MVZ  Amphibian and reptile spec...                        UNKNOWN    69\n",
      "8               OS                          Herps                        UNKNOWN     2\n",
      "9            SBMNH                             HE                        UNKNOWN    14\n",
      "10           SDNHM                          Herps                        UNKNOWN   116\n",
      "11             UAM  Amphibian and reptile spec...                        UNKNOWN     7\n",
      "12            UMNH  Amphibian and reptile spec...                        UNKNOWN     2\n",
      "13         UNKNOWN                        UNKNOWN                        UNKNOWN    13\n",
      "14            USNM          Amphibians & Reptiles            NMNH Extant Biology    42\n",
      "15            UTEP  Amphibian and reptile spec...                        UNKNOWN     2\n",
      "16            UWBM  Amphibian and reptile spec...                        UNKNOWN    13\n",
      "17             YPM                             VZ                        UNKNOWN     1\n",
      "18     iNaturalist                   Observations  iNaturalist research-grade...  3489\n",
      "19     naturgucker                    naturgucker                        UNKNOWN     1\n"
     ]
    }
   ],
   "source": [
    "tables = cursorjup.execute(\"SELECT table_name FROM table_descriptions\").fetchall()\n",
    "tables = [x[0] for x in tables]\n",
    "\n",
    "filter_sets = [gbif_req_id, gbif_filter_id]\n",
    "\n",
    "sources = []\n",
    "for s in filter_sets:\n",
    "    s = s.strip()\n",
    "    for tab in tables:\n",
    "        columns = cursorjup.execute(\"SELECT column_name FROM column_descriptions WHERE table_name = '{0}'\".format(tab)).fetchall()\n",
    "        columns = [x[0] for x in columns]\n",
    "        for col in columns:\n",
    "            try:\n",
    "                a = cursorjup.execute(\"SELECT source FROM {1} WHERE {2} = '{0}'\".format(s, tab, col)).fetchone()[0]\n",
    "                sources.append(a)\n",
    "            except:\n",
    "                pass\n",
    "print(list(set(sources))[0])\n",
    "\n",
    "sources = pd.read_sql(sql=\"SELECT * FROM pre_filter_source_counts;\", con=conn_occ)\n",
    "print(sources)"
   ]
  },
  {
   "cell_type": "markdown",
   "metadata": {},
   "source": [
    "#### Post-filters"
   ]
  },
  {
   "cell_type": "code",
   "execution_count": 11,
   "metadata": {},
   "outputs": [
    {
     "name": "stdout",
     "output_type": "stream",
     "text": [
      "GBIF\n",
      "   institutionCode                 collectionCode                    datasetName  COUNT(occ_id)\n",
      "0              CAS                           HERP                        UNKNOWN             11\n",
      "1             LACM                          Herps               LACM Vertebrates              6\n",
      "2              MSB  Amphibian and reptile spec...                        UNKNOWN              1\n",
      "3              MSB               Mammal specimens                        UNKNOWN              7\n",
      "4              MVZ  Amphibian and reptile spec...                        UNKNOWN             59\n",
      "5            SDNHM                          Herps                        UNKNOWN              9\n",
      "6              UAM  Amphibian and reptile spec...                        UNKNOWN              5\n",
      "7             UMNH  Amphibian and reptile spec...                        UNKNOWN              2\n",
      "8             UTEP  Amphibian and reptile spec...                        UNKNOWN              1\n",
      "9      iNaturalist                   Observations  iNaturalist research-grade...           1253\n",
      "10     naturgucker                    naturgucker                        UNKNOWN              1\n"
     ]
    }
   ],
   "source": [
    "tables = cursorjup.execute(\"SELECT table_name FROM table_descriptions\").fetchall()\n",
    "tables = [x[0] for x in tables]\n",
    "\n",
    "filter_sets = [gbif_req_id, gbif_filter_id]\n",
    "\n",
    "sources = []\n",
    "for s in filter_sets:\n",
    "    s = s.strip()\n",
    "    for tab in tables:\n",
    "        columns = cursorjup.execute(\"SELECT column_name FROM column_descriptions WHERE table_name = '{0}'\".format(tab)).fetchall()\n",
    "        columns = [x[0] for x in columns]\n",
    "        for col in columns:\n",
    "            try:\n",
    "                a = cursorjup.execute(\"SELECT source FROM {1} WHERE {2} = '{0}'\".format(s, tab, col)).fetchone()[0]\n",
    "                sources.append(a)\n",
    "            except:\n",
    "                pass\n",
    "print(list(set(sources))[0])\n",
    "\n",
    "sql = \"SELECT institutionCode, collectionCode, datasetName, COUNT(occ_id) FROM occurrences GROUP BY institutionCode, collectionCode, datasetName;\"\n",
    "sources = pd.read_sql(sql=sql, con=conn_occ)\n",
    "print(sources)"
   ]
  },
  {
   "cell_type": "markdown",
   "metadata": {},
   "source": [
    "# Bases\n",
    "#### Pre-filter"
   ]
  },
  {
   "cell_type": "code",
   "execution_count": 12,
   "metadata": {},
   "outputs": [
    {
     "name": "stdout",
     "output_type": "stream",
     "text": [
      "        basisOfRecord  count\n",
      "0   HUMAN_OBSERVATION   3492\n",
      "1     MATERIAL_SAMPLE     22\n",
      "2  PRESERVED_SPECIMEN    715\n"
     ]
    }
   ],
   "source": [
    "bases = pd.read_sql(sql=\"SELECT value as basisOfRecord, count FROM pre_filter_value_counts WHERE attribute = 'bases';\", con=conn_occ)\n",
    "print(bases)"
   ]
  },
  {
   "cell_type": "markdown",
   "metadata": {},
   "source": [
    "#### Post-filters"
   ]
  },
  {
   "cell_type": "code",
   "execution_count": 13,
   "metadata": {
    "scrolled": true
   },
   "outputs": [
    {
     "name": "stdout",
     "output_type": "stream",
     "text": [
      "        basisOfRecord  count\n",
      "0   HUMAN_OBSERVATION   1254\n",
      "1     MATERIAL_SAMPLE      2\n",
      "2  PRESERVED_SPECIMEN     99\n"
     ]
    }
   ],
   "source": [
    "sql = \"SELECT basisOfRecord, COUNT(occ_id) as count FROM occurrences GROUP BY basisOfRecord;\"\n",
    "bases = pd.read_sql(sql=sql, con=conn_occ)\n",
    "print(bases)"
   ]
  },
  {
   "cell_type": "markdown",
   "metadata": {},
   "source": [
    "# Protocols\n",
    "#### Pre-filters"
   ]
  },
  {
   "cell_type": "code",
   "execution_count": 14,
   "metadata": {
    "scrolled": true
   },
   "outputs": [
    {
     "name": "stdout",
     "output_type": "stream",
     "text": [
      "              samplingProtocol  count\n",
      "0      Dip Net (Lentic Survey)     31\n",
      "1  Funnel Trap (Lentic Survey)     12\n",
      "2               Museum Special      2\n",
      "3                Observational      4\n",
      "4                 Pitfall Trap      5\n",
      "5                      UNKNOWN   4175\n"
     ]
    }
   ],
   "source": [
    "protocol = pd.read_sql(sql=\"SELECT value as samplingProtocol, count FROM pre_filter_value_counts WHERE attribute = 'samplingProtocols';\", con=conn_occ)\n",
    "print(protocol)"
   ]
  },
  {
   "cell_type": "markdown",
   "metadata": {},
   "source": [
    "#### Post-filters"
   ]
  },
  {
   "cell_type": "code",
   "execution_count": 15,
   "metadata": {},
   "outputs": [
    {
     "name": "stdout",
     "output_type": "stream",
     "text": [
      "              samplingProtocol  count\n",
      "0      Dip Net (Lentic Survey)     30\n",
      "1  Funnel Trap (Lentic Survey)     12\n",
      "2               Museum Special      2\n",
      "3                Observational      3\n",
      "4                 Pitfall Trap      5\n",
      "5                      UNKNOWN   1303\n"
     ]
    }
   ],
   "source": [
    "sql = \"SELECT samplingProtocol, COUNT(occ_id) as count FROM occurrences GROUP BY samplingProtocol;\"\n",
    "print(pd.read_sql(sql=sql, con=conn_occ))"
   ]
  },
  {
   "cell_type": "markdown",
   "metadata": {},
   "source": [
    "# Issues\n",
    "#### Pre-filters"
   ]
  },
  {
   "cell_type": "code",
   "execution_count": 16,
   "metadata": {
    "scrolled": true
   },
   "outputs": [
    {
     "name": "stdout",
     "output_type": "stream",
     "text": [
      "                                                                             issues  count\n",
      "0                                                        ['COORDINATE_REPROJECTED']     78\n",
      "1                                  ['COORDINATE_ROUNDED', 'COORDINATE_REPROJECTED']    172\n",
      "2   ['COORDINATE_ROUNDED', 'GEODETIC_DATUM_ASSUMED_WGS84', 'COORDINATE_UNCERTAIN...      2\n",
      "3   ['COORDINATE_ROUNDED', 'GEODETIC_DATUM_ASSUMED_WGS84', 'MULTIMEDIA_DATE_INVA...      1\n",
      "4                            ['COORDINATE_ROUNDED', 'GEODETIC_DATUM_ASSUMED_WGS84']   3148\n",
      "5   ['COORDINATE_ROUNDED', 'GEODETIC_DATUM_INVALID', 'GEODETIC_DATUM_ASSUMED_WGS...      6\n",
      "6                                                            ['COORDINATE_ROUNDED']    183\n",
      "7              ['GEODETIC_DATUM_ASSUMED_WGS84', 'COUNTRY_DERIVED_FROM_COORDINATES']     10\n",
      "8                                                  ['GEODETIC_DATUM_ASSUMED_WGS84']    427\n",
      "9                        ['GEODETIC_DATUM_INVALID', 'GEODETIC_DATUM_ASSUMED_WGS84']      4\n",
      "10                                                                               []    198\n"
     ]
    }
   ],
   "source": [
    "iss = pd.read_sql(sql=\"SELECT value as issues, count FROM pre_filter_value_counts WHERE attribute = 'issues';\", con=conn_occ)\n",
    "pd.set_option('display.max_colwidth', 80)\n",
    "print(iss)"
   ]
  },
  {
   "cell_type": "markdown",
   "metadata": {},
   "source": [
    "#### Post-filters"
   ]
  },
  {
   "cell_type": "code",
   "execution_count": 17,
   "metadata": {
    "scrolled": true
   },
   "outputs": [
    {
     "name": "stdout",
     "output_type": "stream",
     "text": [
      "                                                                    issues  count\n",
      "0                                                                              25\n",
      "1                                                   COORDINATE_REPROJECTED     55\n",
      "2                                                       COORDINATE_ROUNDED      4\n",
      "3                                COORDINATE_ROUNDED;COORDINATE_REPROJECTED     15\n",
      "4                          COORDINATE_ROUNDED;GEODETIC_DATUM_ASSUMED_WGS84   1074\n",
      "5  COORDINATE_ROUNDED;GEODETIC_DATUM_ASSUMED_WGS84;MULTIMEDIA_DATE_INVALID      1\n",
      "6   COORDINATE_ROUNDED;GEODETIC_DATUM_INVALID;GEODETIC_DATUM_ASSUMED_WGS84      1\n",
      "7                                             GEODETIC_DATUM_ASSUMED_WGS84    180\n"
     ]
    }
   ],
   "source": [
    "sql = \"SELECT issues, COUNT(occ_id) as count FROM occurrences GROUP BY issues;\"\n",
    "print(pd.read_sql(sql=sql, con=conn_occ))"
   ]
  },
  {
   "cell_type": "markdown",
   "metadata": {},
   "source": [
    "# Descriptions of filtered records"
   ]
  },
  {
   "cell_type": "markdown",
   "metadata": {},
   "source": [
    "### Years represented"
   ]
  },
  {
   "cell_type": "code",
   "execution_count": 18,
   "metadata": {},
   "outputs": [
    {
     "data": {
      "text/plain": [
       "Text(0.5, 1.0, 'Occurrences per Year')"
      ]
     },
     "execution_count": 18,
     "metadata": {},
     "output_type": "execute_result"
    },
    {
     "data": {
      "image/png": "[encoded data removed]",
      "text/plain": [
       "<Figure size 432x288 with 1 Axes>"
      ]
     },
     "metadata": {
      "needs_background": "light"
     },
     "output_type": "display_data"
    }
   ],
   "source": [
    "occ_years = [int(x[0]) for x in curs_occ.execute(\"SELECT strftime('%Y', occurrenceDate) FROM occurrences\").fetchall()]\n",
    "years = connjup.execute(\"SELECT years_range FROM gbif_requests WHERE request_id = '{0}'\".format(gbif_req_id)).fetchone()[0]\n",
    "years = years.split(',')\n",
    "yearsrng = list(range(int(years[0]), int(years[1]), 1))\n",
    "binsnum = int(years[1]) - int(years[0])\n",
    "plt.hist(occ_years, bins=binsnum)\n",
    "plt.ylabel(\"number of records\")\n",
    "plt.xlabel(\"year\")\n",
    "plt.xticks(yearsrng, rotation=90)\n",
    "plt.title(\"Occurrences per Year\")"
   ]
  },
  {
   "cell_type": "markdown",
   "metadata": {},
   "source": [
    "### Months represented"
   ]
  },
  {
   "cell_type": "code",
   "execution_count": 19,
   "metadata": {},
   "outputs": [
    {
     "data": {
      "text/plain": [
       "Text(0.5, 1.0, 'Occurrences per Month')"
      ]
     },
     "execution_count": 19,
     "metadata": {},
     "output_type": "execute_result"
    },
    {
     "data": {
      "image/png": "[encoded data removed]",
      "text/plain": [
       "<Figure size 432x288 with 1 Axes>"
      ]
     },
     "metadata": {
      "needs_background": "light"
     },
     "output_type": "display_data"
    }
   ],
   "source": [
    "occ_months = [int(x[0]) for x in curs_occ.execute(\"SELECT strftime('%m', occurrenceDate) FROM occurrences\").fetchall()]\n",
    "plt.hist(occ_months, bins=range(1, 14), color=\"g\")\n",
    "plt.ylabel(\"number of records\")\n",
    "plt.xlabel(\"month\")\n",
    "plt.xticks(range(1, 13))\n",
    "plt.title(\"Occurrences per Month\")"
   ]
  },
  {
   "cell_type": "markdown",
   "metadata": {},
   "source": [
    "### Distribution of coordinate uncertainty values"
   ]
  },
  {
   "cell_type": "code",
   "execution_count": 20,
   "metadata": {
    "scrolled": true
   },
   "outputs": [
    {
     "data": {
      "text/plain": [
       "Text(0.5, 1.0, 'Coordinate Uncertainty')"
      ]
     },
     "execution_count": 20,
     "metadata": {},
     "output_type": "execute_result"
    },
    {
     "data": {
      "image/png": "[encoded data removed]",
      "text/plain": [
       "<Figure size 1152x288 with 1 Axes>"
      ]
     },
     "metadata": {
      "needs_background": "light"
     },
     "output_type": "display_data"
    }
   ],
   "source": [
    "occ_cert = [int(x[0]) for x in curs_occ.execute(\"SELECT coordinateUncertaintyInMeters FROM occurrences\").fetchall()]\n",
    "maxi = np.max(occ_cert)\n",
    "plt.figure(figsize=(16,4))\n",
    "plt.hist(occ_cert, bins=50, color=\"r\")\n",
    "plt.xticks(range(0, maxi, int(maxi/50)), rotation=90)\n",
    "plt.ylabel(\"number of records\")\n",
    "plt.xlabel(\"coordinate uncertainty\")\n",
    "plt.title(\"Coordinate Uncertainty\")"
   ]
  },
  {
   "cell_type": "code",
   "execution_count": 21,
   "metadata": {},
   "outputs": [
    {
     "data": {
      "text/plain": [
       "Text(0.5, 1.0, 'Coordinate Uncertainty - Zoomed In')"
      ]
     },
     "execution_count": 21,
     "metadata": {},
     "output_type": "execute_result"
    },
    {
     "data": {
      "image/png": "[encoded data removed]",
      "text/plain": [
       "<Figure size 864x288 with 1 Axes>"
      ]
     },
     "metadata": {
      "needs_background": "light"
     },
     "output_type": "display_data"
    }
   ],
   "source": [
    "rng_max = 2000\n",
    "occ_cert2 = [x for x in occ_cert if x <= rng_max]\n",
    "plt.figure(figsize=(12,4))\n",
    "plt.hist(occ_cert2, bins=30, color=\"m\", align='mid')\n",
    "plt.xticks(range(0, rng_max + 100, int(rng_max/30.)), rotation=90)\n",
    "plt.ylabel(\"number of records\")\n",
    "plt.xlabel(\"coordinate uncertainty\")\n",
    "plt.title(\"Coordinate Uncertainty - Zoomed In\")"
   ]
  },
  {
   "cell_type": "markdown",
   "metadata": {},
   "source": [
    "### Establishment means reported"
   ]
  },
  {
   "cell_type": "code",
   "execution_count": 22,
   "metadata": {},
   "outputs": [
    {
     "name": "stdout",
     "output_type": "stream",
     "text": [
      "NATIVE, UNKNOWN\n"
     ]
    }
   ],
   "source": [
    "establishment = curs_occ.execute(\"SELECT vals FROM unique_values WHERE field = 'establishment' AND step = 'filter';\").fetchall()[0]\n",
    "for est in establishment:\n",
    "    est = est.replace('[', '').strip().replace(']', '').replace(\"'\", \"\")\n",
    "    print(est)"
   ]
  },
  {
   "cell_type": "markdown",
   "metadata": {},
   "source": [
    "### Identification qualifiers included"
   ]
  },
  {
   "cell_type": "code",
   "execution_count": 23,
   "metadata": {},
   "outputs": [
    {
     "name": "stdout",
     "output_type": "stream",
     "text": [
      "A, UNKNOWN\n"
     ]
    }
   ],
   "source": [
    "quali = curs_occ.execute(\"SELECT DISTINCT vals FROM unique_values WHERE field = 'IDqualifier' AND step = 'filter';\").fetchall()[0]\n",
    "for q in quali:\n",
    "    q = q.replace('[', '').strip().replace(']', '').replace(\"'\", \"\")\n",
    "    print(q)"
   ]
  },
  {
   "cell_type": "markdown",
   "metadata": {},
   "source": [
    "### Remarks included"
   ]
  },
  {
   "cell_type": "code",
   "execution_count": 24,
   "metadata": {
    "scrolled": true
   },
   "outputs": [
    {
     "name": "stdout",
     "output_type": "stream",
     "text": [
      "More than 20 remarks, consult the occurrence database.\n"
     ]
    }
   ],
   "source": [
    "remarks = curs_occ.execute(\"SELECT DISTINCT remarks FROM occurrences;\").fetchall()\n",
    "if len(remarks) <= 20:\n",
    "    try:\n",
    "        for rem in remarks:\n",
    "            if rem[0][0:1] == ';':\n",
    "                print(rem[0][2:])\n",
    "            else:\n",
    "                print(rem[0])\n",
    "    except:\n",
    "        pass\n",
    "else:\n",
    "    print(\"More than 20 remarks, consult the occurrence database.\")"
   ]
  },
  {
   "cell_type": "markdown",
   "metadata": {},
   "source": [
    "### Attributes returned for the records in the request (pre-filters)"
   ]
  },
  {
   "cell_type": "code",
   "execution_count": 25,
   "metadata": {
    "scrolled": false
   },
   "outputs": [
    {
     "name": "stdout",
     "output_type": "stream",
     "text": [
      "                                               attribute  included(n)  populated(n)\n",
      "Field                                                                              \n",
      "0                                 acceptedScientificName         4229          4229\n",
      "1                                       acceptedTaxonKey         4229          4229\n",
      "2                                           accessRights          307           307\n",
      "3                                  associatedOccurrences            1             1\n",
      "4                                    associatedSequences           11            11\n",
      "5                                          basisOfRecord         4229          4229\n",
      "6                                  bibliographicCitation          184           184\n",
      "7                                          catalogNumber         4204          4204\n",
      "8                                                  class         4229          4229\n",
      "9                                               classKey         4229          4229\n",
      "10                                        collectionCode         4216          4216\n",
      "11                                          collectionID          185           185\n",
      "12                                             continent          726           726\n",
      "13                         coordinateUncertaintyInMeters         3298          3298\n",
      "14                                               country         4229          4229\n",
      "15                                           countryCode         4229          4229\n",
      "16                                                county          703           703\n",
      "17                                               crawlId         4229          4229\n",
      "18                                               created           10            10\n",
      "19                                   dataGeneralizations            2             2\n",
      "20                                            datasetKey         4229          4229\n",
      "21                                           datasetName         3597          3597\n",
      "22                                        dateIdentified         3860          3860\n",
      "23                                                   day         4228          4228\n",
      "24                                       decimalLatitude         4229          4229\n",
      "25                                      decimalLongitude         4229          4229\n",
      "26                                     dynamicProperties           91            91\n",
      "27                                             elevation          295           295\n",
      "28                                     elevationAccuracy           82            82\n",
      "29                                          endDayOfYear          347           347\n",
      "30                                    establishmentMeans          206           206\n",
      "31                                             eventDate         4229          4229\n",
      "32                                          eventRemarks          120           120\n",
      "33                                             eventTime         3160          3160\n",
      "34                                            extensions         4229             0\n",
      "35                                                 facts         4229             0\n",
      "36                                                family         4229          4229\n",
      "37                                             familyKey         4229          4229\n",
      "38                                           fieldNumber            2             2\n",
      "39                                                gbifID         4229          4229\n",
      "40                                           genericName         4229          4229\n",
      "41                                                 genus         4229          4229\n",
      "42                                              genusKey         4229          4229\n",
      "43                                         geodeticDatum         4229          4229\n",
      "44                                  georeferenceProtocol          130           130\n",
      "45                                   georeferenceRemarks          108           108\n",
      "46                                   georeferenceSources          322           322\n",
      "47                        georeferenceVerificationStatus          324           324\n",
      "48                                       georeferencedBy          120           120\n",
      "49                                     georeferencedDate          118           118\n",
      "50                                               habitat          185           185\n",
      "51                                  higherClassification          736           736\n",
      "52                                       higherGeography          726           726\n",
      "53                                     higherGeographyID          116           116\n",
      "54         http://rs.tdwg.org/dwc/terms/organismQuantity           53            53\n",
      "55     http://rs.tdwg.org/dwc/terms/organismQuantityType           66            66\n",
      "56                           http://unknown.org/language            1             1\n",
      "57                               http://unknown.org/nick         3489          3489\n",
      "58                  http://unknown.org/occurrenceDetails         3489          3489\n",
      "59                             http://unknown.org/rights            1             1\n",
      "60                       http://unknown.org/rightsHolder            1             1\n",
      "61                                      identificationID         3398          3398\n",
      "62                               identificationQualifier          118           118\n",
      "63                                 identificationRemarks          124           124\n",
      "64                      identificationVerificationStatus          118           118\n",
      "65                                          identifiedBy          463           463\n",
      "66                                       identifiedByIDs         4229            36\n",
      "67                                            identifier         4228          4228\n",
      "68                                           identifiers         4229             0\n",
      "69                                       individualCount          235           235\n",
      "70                                   informationWithheld         1203          1203\n",
      "71                                  infraspecificEpithet          981           981\n",
      "72                                       installationKey         4229          4229\n",
      "73                                       institutionCode         4216          4216\n",
      "74                                         institutionID          721           721\n",
      "75                                                island           16            16\n",
      "76                                           islandGroup           19            19\n",
      "77                                                issues         4229          4031\n",
      "78                                                   key         4229          4229\n",
      "79                                               kingdom         4229          4229\n",
      "80                                            kingdomKey         4229          4229\n",
      "81                                              language          684           684\n",
      "82                                           lastCrawled         4229          4229\n",
      "83                                       lastInterpreted         4229          4229\n",
      "84                                            lastParsed         4229          4229\n",
      "85                                               license         4229          4229\n",
      "86                                             lifeStage          379           379\n",
      "87                                              locality          734           734\n",
      "88                                   locationAccordingTo          118           118\n",
      "89                                       locationRemarks           51            51\n",
      "90                                                 media         4229          3194\n",
      "91                                              modified         4183          4183\n",
      "92                                                 month         4229          4229\n",
      "93                                          municipality            1             1\n",
      "94                                           networkKeys          118           118\n",
      "95                                     nomenclaturalCode          325           325\n",
      "96                                          occurrenceID         4228          4228\n",
      "97                                     occurrenceRemarks         1232          1232\n",
      "98                                      occurrenceStatus          208           208\n",
      "99                                                 order         4229          4229\n",
      "100                                             orderKey         4229          4229\n",
      "101                                           organismID          118           118\n",
      "102                                     organismQuantity           53            53\n",
      "103                                 organismQuantityType           66            66\n",
      "104                                  otherCatalogNumbers          121           121\n",
      "105                                 ownerInstitutionCode            1             1\n",
      "106                                               phylum         4229          4229\n",
      "107                                            phylumKey         4229          4229\n",
      "108                                         preparations          661           661\n",
      "109                              previousIdentifications          119           119\n",
      "110                                             protocol         4229          4229\n",
      "111                                    publishingCountry         4228          4228\n",
      "112                                     publishingOrgKey         4229          4229\n",
      "113                                         recordNumber          523           523\n",
      "114                                           recordedBy         4155          4155\n",
      "115                                        recordedByIDs         4229            24\n",
      "116                                           references         3808          3808\n",
      "117                                            relations         4229             0\n",
      "118                                reproductiveCondition            2             2\n",
      "119                                               rights         3491          3491\n",
      "120                                         rightsHolder         3490          3490\n",
      "121                                     samplingProtocol           54            54\n",
      "122                                       scientificName         4229          4229\n",
      "123                                                  sex           27            27\n",
      "124                                              species         4229          4229\n",
      "125                                           speciesKey         4229          4229\n",
      "126                                      specificEpithet         4229          4229\n",
      "127                                       startDayOfYear          248           248\n",
      "128                                        stateProvince         4216          4216\n",
      "129                                              taxonID         3499          3499\n",
      "130                                             taxonKey         4229          4229\n",
      "131                                            taxonRank         4229          4229\n",
      "132                                         taxonRemarks            1             1\n",
      "133                                      taxonomicStatus         4229          4229\n",
      "134                                                 type          726           726\n",
      "135                             verbatimCoordinateSystem          223           223\n",
      "136                                    verbatimElevation          217           217\n",
      "137                                    verbatimEventDate         4196          4196\n",
      "138                                     verbatimLocality         4172          4172\n",
      "139                                       vernacularName            1             1\n",
      "140                                                 year         4229          4229\n"
     ]
    }
   ],
   "source": [
    "fields_summary = pd.read_sql(\"SELECT * FROM gbif_fields_returned\", conn_occ)#, index_col='index')\n",
    "fields_summary.index.name = 'Field'\n",
    "pd.set_option('display.max_rows', 250)\n",
    "print(fields_summary)"
   ]
  },
  {
   "cell_type": "markdown",
   "metadata": {},
   "source": [
    "### Runtime"
   ]
  },
  {
   "cell_type": "code",
   "execution_count": 26,
   "metadata": {},
   "outputs": [
    {
     "name": "stdout",
     "output_type": "stream",
     "text": [
      "0:04:17.086095\n"
     ]
    }
   ],
   "source": [
    "t2 = datetime.now()\n",
    "print(t2 - t1)"
   ]
  },
  {
   "cell_type": "code",
   "execution_count": null,
   "metadata": {},
   "outputs": [],
   "source": []
  }
 ],
 "metadata": {
  "kernelspec": {
   "display_name": "Python 3",
   "language": "python",
   "name": "python3"
  },
  "language_info": {
   "codemirror_mode": {
    "name": "ipython",
    "version": 3
   },
   "file_extension": ".py",
   "mimetype": "text/x-python",
   "name": "python",
   "nbconvert_exporter": "python",
   "pygments_lexer": "ipython3",
   "version": "3.6.5"
  }
 },
 "nbformat": 4,
 "nbformat_minor": 2
}
