{
 "cells": [
  {
   "cell_type": "markdown",
   "metadata": {},
   "source": [
    "# Occurrence Records from GBIF\n",
    "This notebook is a tool for exploring data sets requested from GBIF (and eventually other sources), and mostly for developing criteria for filtering records (filter sets).  When the entire notebook is run, it retrieves records according to the filter sets specified and saves the results (records and some summary tables) in an sqlite database.  Some information is pulled from the parameters.sqlite database that is saved in this repository."
   ]
  },
  {
   "cell_type": "markdown",
   "metadata": {},
   "source": [
    "### Set Variables - fill out stuff in this cell.  \n",
    "Notes:\n",
    "default_coordUncertainty -- coordinateUncertaintyInMeters is often not provided.  Here is an option to use a default.  If you don't want anything entered, set this equal to False (boolean, not string)."
   ]
  },
  {
   "cell_type": "code",
   "execution_count": 1,
   "metadata": {},
   "outputs": [],
   "source": [
    "species_id = 'awotox0'\n",
    "summary_name = 'Woodhouses Toad'\n",
    "gbif_req_id = 'EvalGBIFRequest'\n",
    "gbif_filter_id = 'EvalGBIFFilter'\n",
    "default_coordUncertainty = False       # Note above.\n",
    "workDir = 'D:/USGS Analyses/GAP-Habitat-Map-Assessment/'   # Be sure to create folders named \"Inputs\" and \"Outputs\" here.\n",
    "codeDir = workDir + 'Scripts/'\n",
    "dbDir = workDir + 'db/'\n",
    "paramdb = dbDir + 'wildlife-wrangler.sqlite'\n",
    "configDir = workDir  # Path to folder where saved your wildlifeconfig file."
   ]
  },
  {
   "cell_type": "markdown",
   "metadata": {},
   "source": [
    "### Setup - nothing to fill out in this cell"
   ]
  },
  {
   "cell_type": "code",
   "execution_count": 2,
   "metadata": {},
   "outputs": [
    {
     "name": "stdout",
     "output_type": "stream",
     "text": [
      "Notebook run 2020-05-11 12:21:01.946167\n",
      "D:/USGS Analyses/GAP-Habitat-Map-Assessment/Outputs/awotox0EvalGBIFRequestEvalGBIFFilter.sqlite\n"
     ]
    }
   ],
   "source": [
    "%matplotlib inline\n",
    "import sqlite3\n",
    "import pprint\n",
    "import json\n",
    "import pandas as pd\n",
    "import numpy as np\n",
    "pd.set_option('display.width', 600)\n",
    "pd.set_option('display.max_colwidth', 30)\n",
    "pd.set_option('display.max_rows', 150)\n",
    "from IPython.display import Image\n",
    "from pygbif import occurrences\n",
    "import matplotlib.pyplot as plt\n",
    "import os\n",
    "from datetime import datetime\n",
    "t1 = datetime.now()\n",
    "import sys\n",
    "sys.path.append(configDir)\n",
    "import config\n",
    "sys.path.append(codeDir)\n",
    "import repo_functions as functions\n",
    "inDir = workDir + 'Inputs/'\n",
    "outDir = workDir + 'Outputs/'\n",
    "spdb = outDir + species_id + gbif_req_id + gbif_filter_id + '.sqlite'\n",
    "username = config.gbif_username\n",
    "password = config.gbif_password\n",
    "email = config.gbif_email\n",
    "print(\"Notebook run \" + str(t1))\n",
    "print(spdb)\n",
    "connjup = sqlite3.connect(paramdb)\n",
    "cursorjup = connjup.cursor()\n",
    "# Get some variables\n",
    "years = connjup.execute(\"\"\"SELECT years_range \n",
    "                           FROM gbif_requests WHERE request_id = '{0}'\"\"\".format(gbif_req_id)).fetchone()[0]\n",
    "gap_id = connjup.execute(\"\"\"SELECT gap_id\n",
    "                            FROM species_concepts WHERE species_id = '{0}'\"\"\".format(species_id)).fetchone()[0]\n",
    "common_name = connjup.execute(\"\"\"SELECT common_name\n",
    "                                 FROM species_concepts WHERE species_id = '{0}'\"\"\".format(species_id)).fetchone()[0]"
   ]
  },
  {
   "cell_type": "markdown",
   "metadata": {},
   "source": [
    "# Species Concept\n",
    "Display information on the species from the parameters.sqlite database."
   ]
  },
  {
   "cell_type": "code",
   "execution_count": 3,
   "metadata": {},
   "outputs": [
    {
     "name": "stdout",
     "output_type": "stream",
     "text": [
      "SPECIES CONCEPT RECORD\n",
      "                                                   VALUE\n",
      "ATTRIBUTE                                               \n",
      "species_id                                       awotox0\n",
      "fws_id                                              None\n",
      "gap_id                                            aWOTOx\n",
      "itis_tsn                                          773532\n",
      "gbif_id                                          2422865\n",
      "bcb_id                                              None\n",
      "ebird_id                                            None\n",
      "common_name                             Woodhouse's Toad\n",
      "scientific_name                      Anaxyrus woodhousii\n",
      "start_year                                          1854\n",
      "split_from                                          None\n",
      "end_year                                            None\n",
      "lumped_into                                         None\n",
      "geometry                                            None\n",
      "detection_distance_meters                              0\n",
      "vetted_how                                             0\n",
      "vetted_who                                     M. Rubino\n",
      "vetted_date                                   05/11/2020\n",
      "notes                      The genus Anaxyrus was spl...\n"
     ]
    }
   ],
   "source": [
    "vals = cursorjup.execute(\"SELECT * FROM species_concepts WHERE species_id = '{0}';\".format(species_id)).fetchall()[0]\n",
    "cols = [x[1] for x in cursorjup.execute(\"PRAGMA table_info('species_concepts')\").fetchall()]\n",
    "sp_dict = dict(zip(cols, vals))\n",
    "sp_df = pd.DataFrame.from_dict(sp_dict, orient='index', columns=['VALUE'])\n",
    "sp_df.index.name = 'ATTRIBUTE'\n",
    "print(\"SPECIES CONCEPT RECORD\")\n",
    "print(sp_df)"
   ]
  },
  {
   "cell_type": "markdown",
   "metadata": {},
   "source": [
    "# Filters\n",
    "Display the parameters of the request filter set.  These are deployed during the step where records are retrieved from the API."
   ]
  },
  {
   "cell_type": "code",
   "execution_count": 4,
   "metadata": {},
   "outputs": [
    {
     "name": "stdout",
     "output_type": "stream",
     "text": [
      "THE REQUEST FILTER SET\n",
      "request_id                    EvalGBIFRequest\n",
      "source                                   GBIF\n",
      "lat_range                                None\n",
      "lon_range                                None\n",
      "years_range                         1999,2020\n",
      "months_range                             1,12\n",
      "geoissue                                False\n",
      "coordinate                               True\n",
      "country                                    US\n",
      "geometry                                 None\n",
      "creator                             M. Rubino\n",
      "notes           amphibian evaluation reque...\n",
      "Name: 0, dtype: object\n"
     ]
    }
   ],
   "source": [
    "request_df = pd.read_sql_query(sql=\"SELECT * FROM gbif_requests WHERE request_id = '{0}'\".format(gbif_req_id), con=connjup)\n",
    "print(\"THE REQUEST FILTER SET\")\n",
    "print(request_df.loc[0])"
   ]
  },
  {
   "cell_type": "markdown",
   "metadata": {},
   "source": [
    "Display the parameters of the post-request filter set.  These are deployed after the records are retrieved from the API, but before they are stored in the occurrence record sqlite database."
   ]
  },
  {
   "cell_type": "code",
   "execution_count": 5,
   "metadata": {},
   "outputs": [
    {
     "name": "stdout",
     "output_type": "stream",
     "text": [
      "THE POST REQUEST FILTER SET\n",
      "filter_id                                    EvalGBIFFilter\n",
      "dataset                                                GBIF\n",
      "institutions_omit                                      None\n",
      "collection_codes_omit                                  None\n",
      "datasets_omit                                          None\n",
      "has_coordinate_uncertainty                                1\n",
      "max_coordinate_uncertainty                            10000\n",
      "bases_omit                                  FOSSIL_SPECIMEN\n",
      "sampling_protocols_omit                                None\n",
      "issues_omit                                            None\n",
      "duplicates_OK                                         False\n",
      "creator                                           M. Rubino\n",
      "notes                         amphibian evaluation filte...\n",
      "Name: 0, dtype: object\n"
     ]
    }
   ],
   "source": [
    "filter_df = pd.read_sql_query(sql=\"SELECT * FROM gbif_filters WHERE filter_id = '{0}'\".format(gbif_filter_id), con=connjup)\n",
    "print(\"THE POST REQUEST FILTER SET\")\n",
    "print(filter_df.loc[0])"
   ]
  },
  {
   "cell_type": "code",
   "execution_count": 6,
   "metadata": {
    "scrolled": false
   },
   "outputs": [
    {
     "name": "stdout",
     "output_type": "stream",
     "text": [
      "SPATIALITE_SECURITY set to relaxed\n",
      "Created occurrence db: 0:00:00.219683\n",
      "Got request params and sorted out geometry constraints: 0:00:00.002002\n",
      "2615 records available\n",
      "Downloaded records: 0:00:22.088477\n",
      "Summarized fields returned: 0:02:14.069044\n",
      "Created summary table of request results: 0:00:00.049540\n",
      "Performed post-request filtering: 0:00:00.024520\n",
      "Calculated new columns, deleted some too: 0:00:00.049040\n",
      "22 duplicate records dropped: 0:00:00.859771\n",
      "Inserted records into table: 0:00:00.054045\n",
      "Summarized unique values retained: 0:00:00.003503\n",
      "Updated occurrences table geometry column: 0:00:00.158632\n",
      "Buffered points: 0:00:00.870329\n"
     ]
    }
   ],
   "source": [
    "functions.retrieve_gbif_occurrences(codeDir, species_id, inDir, paramdb, spdb, gbif_req_id, gbif_filter_id, \n",
    "                                    default_coordUncertainty, outDir, summary_name, username,\n",
    "                                   password, email)"
   ]
  },
  {
   "cell_type": "code",
   "execution_count": 7,
   "metadata": {},
   "outputs": [
    {
     "name": "stdout",
     "output_type": "stream",
     "text": [
      "codeDir: D:/USGS Analyses/GAP-Habitat-Map-Assessment/Scripts/\n",
      " species_id: awotox0\n",
      " inDir: D:/USGS Analyses/GAP-Habitat-Map-Assessment/Inputs/\n",
      " paramdb: D:/USGS Analyses/GAP-Habitat-Map-Assessment/db/wildlife-wrangler.sqlite\n",
      " spdb: D:/USGS Analyses/GAP-Habitat-Map-Assessment/Outputs/awotox0EvalGBIFRequestEvalGBIFFilter.sqlite\n",
      " gbif_req_id: EvalGBIFRequest\n",
      " gbif_filter_id: EvalGBIFFilter\n",
      " default_coordUncertainty: False\n",
      " outDir: D:/USGS Analyses/GAP-Habitat-Map-Assessment/Outputs/\n",
      " summary_name: Woodhouses Toad\n",
      " username: gapper\n",
      " password: metspirates\n",
      " email: pythonprocessing@gmail.com\n"
     ]
    }
   ],
   "source": [
    "print('codeDir: '+codeDir+'\\n', \n",
    "'species_id: '+species_id+'\\n', \n",
    "'inDir: '+inDir+'\\n', \n",
    "'paramdb: '+paramdb+'\\n', \n",
    "'spdb: '+spdb+'\\n', \n",
    "'gbif_req_id: '+gbif_req_id+'\\n', \n",
    "'gbif_filter_id: '+gbif_filter_id+'\\n', \n",
    "'default_coordUncertainty: '+str(default_coordUncertainty)+'\\n', \n",
    "'outDir: '+outDir+'\\n', \n",
    "'summary_name: '+summary_name+'\\n', \n",
    "'username: '+username+'\\n',\n",
    "'password: '+password+'\\n', \n",
    "'email: '+email)"
   ]
  },
  {
   "cell_type": "markdown",
   "metadata": {},
   "source": [
    "### Connect to output database, record species and filter info."
   ]
  },
  {
   "cell_type": "code",
   "execution_count": 8,
   "metadata": {},
   "outputs": [],
   "source": [
    "conn_occ= sqlite3.connect(spdb)\n",
    "curs_occ = conn_occ.cursor()\n",
    "sp_df.to_sql(name='species_concept', con=conn_occ, if_exists='replace')\n",
    "request_df.to_sql(name=gbif_req_id, con=conn_occ, if_exists='replace')\n",
    "filter_df.to_sql(name=gbif_filter_id, con=conn_occ, if_exists='replace')"
   ]
  },
  {
   "cell_type": "markdown",
   "metadata": {},
   "source": [
    "### How many records made it through the filters?\n",
    "This is the number that was actually saved in the occurrence record sqlite database."
   ]
  },
  {
   "cell_type": "code",
   "execution_count": 9,
   "metadata": {},
   "outputs": [
    {
     "name": "stdout",
     "output_type": "stream",
     "text": [
      "1087 records\n"
     ]
    }
   ],
   "source": [
    "record_count = curs_occ.execute(\"SELECT COUNT(occ_id) FROM occurrences WHERE species_id = '{0}'\".format(species_id)).fetchone()\n",
    "print(str(record_count[0]) + \" records\")"
   ]
  },
  {
   "cell_type": "markdown",
   "metadata": {},
   "source": [
    "# Sources\n",
    "#### Pre-filters"
   ]
  },
  {
   "cell_type": "code",
   "execution_count": 10,
   "metadata": {},
   "outputs": [
    {
     "name": "stdout",
     "output_type": "stream",
     "text": [
      "GBIF\n",
      "                  institutionCode                 collectionCode                    datasetName     0\n",
      "0                             BYU                           Main  BYU Monte L. Bean Museum H...     1\n",
      "1   Borror Laboratory of Bioac...                     Recordings                        UNKNOWN     1\n",
      "2                             CAS                           HERP                        UNKNOWN    14\n",
      "3                             CLO                             ML                        UNKNOWN     1\n",
      "4                            FHSM                           HERP                        UNKNOWN   175\n",
      "5                              KU                            KUH  University of Kansas Biodi...    47\n",
      "6                            LACM                          Herps               LACM Vertebrates    23\n",
      "7                           LSUMZ                          Herps                        UNKNOWN     6\n",
      "8                             MCZ                           Herp                        UNKNOWN     1\n",
      "9                             MSB  Amphibian and reptile spec...                        UNKNOWN   128\n",
      "10                            MVZ  Amphibian and reptile spec...                        UNKNOWN     4\n",
      "11                           NCSM                           Herp    NCSM Herpetology Collection     1\n",
      "12                           NEON                      HEVC-GBAP                        UNKNOWN     1\n",
      "13                           OMNH                     Amphibians                        UNKNOWN   154\n",
      "14                           OMNH                           OCGR  Oklahoma Collection of Gen...   136\n",
      "15                          SDNHM                          Herps                        UNKNOWN     1\n",
      "16                           TCWC                    Herpetology                        UNKNOWN   144\n",
      "17                            UAZ                    Herpetology                        UNKNOWN     2\n",
      "18                            UCM  Amphibian and reptile spec...                        UNKNOWN    17\n",
      "19                            UCM        Vertebrate observations                        UNKNOWN     2\n",
      "20                             UF                           Herp                        UNKNOWN     1\n",
      "21                        UNKNOWN                        UNKNOWN                        UNKNOWN     4\n",
      "22                           USNM          Amphibians & Reptiles            NMNH Extant Biology     7\n",
      "23                           UTEP  Amphibian and reptile spec...                        UNKNOWN    52\n",
      "24                           UWBM  Amphibian and reptile spec...                        UNKNOWN     2\n",
      "25                            YPM                             VZ                        UNKNOWN     1\n",
      "26                    iNaturalist                   Observations  iNaturalist research-grade...  1688\n",
      "27                    naturgucker                    naturgucker                        UNKNOWN     1\n"
     ]
    }
   ],
   "source": [
    "tables = cursorjup.execute(\"SELECT table_name FROM table_descriptions\").fetchall()\n",
    "tables = [x[0] for x in tables]\n",
    "\n",
    "filter_sets = [gbif_req_id, gbif_filter_id]\n",
    "\n",
    "sources = []\n",
    "for s in filter_sets:\n",
    "    s = s.strip()\n",
    "    for tab in tables:\n",
    "        columns = cursorjup.execute(\"SELECT column_name FROM column_descriptions WHERE table_name = '{0}'\".format(tab)).fetchall()\n",
    "        columns = [x[0] for x in columns]\n",
    "        for col in columns:\n",
    "            try:\n",
    "                a = cursorjup.execute(\"SELECT source FROM {1} WHERE {2} = '{0}'\".format(s, tab, col)).fetchone()[0]\n",
    "                sources.append(a)\n",
    "            except:\n",
    "                pass\n",
    "print(list(set(sources))[0])\n",
    "\n",
    "sources = pd.read_sql(sql=\"SELECT * FROM pre_filter_source_counts;\", con=conn_occ)\n",
    "print(sources)"
   ]
  },
  {
   "cell_type": "markdown",
   "metadata": {},
   "source": [
    "#### Post-filters"
   ]
  },
  {
   "cell_type": "code",
   "execution_count": 11,
   "metadata": {},
   "outputs": [
    {
     "name": "stdout",
     "output_type": "stream",
     "text": [
      "GBIF\n",
      "   institutionCode                 collectionCode                    datasetName  COUNT(occ_id)\n",
      "0              CAS                           HERP                        UNKNOWN              3\n",
      "1             LACM                          Herps               LACM Vertebrates              2\n",
      "2              MCZ                           Herp                        UNKNOWN              1\n",
      "3              MSB  Amphibian and reptile spec...                        UNKNOWN             11\n",
      "4              MVZ  Amphibian and reptile spec...                        UNKNOWN              2\n",
      "5             NCSM                           Herp    NCSM Herpetology Collection              1\n",
      "6             NEON                      HEVC-GBAP                        UNKNOWN              1\n",
      "7             OMNH                     Amphibians                        UNKNOWN              8\n",
      "8            SDNHM                          Herps                        UNKNOWN              1\n",
      "9               UF                           Herp                        UNKNOWN              1\n",
      "10            UTEP  Amphibian and reptile spec...                        UNKNOWN             32\n",
      "11             YPM                             VZ                        UNKNOWN              1\n",
      "12     iNaturalist                   Observations  iNaturalist research-grade...           1022\n",
      "13     naturgucker                    naturgucker                        UNKNOWN              1\n"
     ]
    }
   ],
   "source": [
    "tables = cursorjup.execute(\"SELECT table_name FROM table_descriptions\").fetchall()\n",
    "tables = [x[0] for x in tables]\n",
    "\n",
    "filter_sets = [gbif_req_id, gbif_filter_id]\n",
    "\n",
    "sources = []\n",
    "for s in filter_sets:\n",
    "    s = s.strip()\n",
    "    for tab in tables:\n",
    "        columns = cursorjup.execute(\"SELECT column_name FROM column_descriptions WHERE table_name = '{0}'\".format(tab)).fetchall()\n",
    "        columns = [x[0] for x in columns]\n",
    "        for col in columns:\n",
    "            try:\n",
    "                a = cursorjup.execute(\"SELECT source FROM {1} WHERE {2} = '{0}'\".format(s, tab, col)).fetchone()[0]\n",
    "                sources.append(a)\n",
    "            except:\n",
    "                pass\n",
    "print(list(set(sources))[0])\n",
    "\n",
    "sql = \"SELECT institutionCode, collectionCode, datasetName, COUNT(occ_id) FROM occurrences GROUP BY institutionCode, collectionCode, datasetName;\"\n",
    "sources = pd.read_sql(sql=sql, con=conn_occ)\n",
    "print(sources)"
   ]
  },
  {
   "cell_type": "markdown",
   "metadata": {},
   "source": [
    "# Bases\n",
    "#### Pre-filter"
   ]
  },
  {
   "cell_type": "code",
   "execution_count": 12,
   "metadata": {},
   "outputs": [
    {
     "name": "stdout",
     "output_type": "stream",
     "text": [
      "         basisOfRecord  count\n",
      "0    HUMAN_OBSERVATION   1692\n",
      "1  MACHINE_OBSERVATION      1\n",
      "2      MATERIAL_SAMPLE     20\n",
      "3   PRESERVED_SPECIMEN    902\n"
     ]
    }
   ],
   "source": [
    "bases = pd.read_sql(sql=\"SELECT value as basisOfRecord, count FROM pre_filter_value_counts WHERE attribute = 'bases';\", con=conn_occ)\n",
    "print(bases)"
   ]
  },
  {
   "cell_type": "markdown",
   "metadata": {},
   "source": [
    "#### Post-filters"
   ]
  },
  {
   "cell_type": "code",
   "execution_count": 13,
   "metadata": {
    "scrolled": true
   },
   "outputs": [
    {
     "name": "stdout",
     "output_type": "stream",
     "text": [
      "        basisOfRecord  count\n",
      "0   HUMAN_OBSERVATION   1023\n",
      "1  PRESERVED_SPECIMEN     64\n"
     ]
    }
   ],
   "source": [
    "sql = \"SELECT basisOfRecord, COUNT(occ_id) as count FROM occurrences GROUP BY basisOfRecord;\"\n",
    "bases = pd.read_sql(sql=sql, con=conn_occ)\n",
    "print(bases)"
   ]
  },
  {
   "cell_type": "markdown",
   "metadata": {},
   "source": [
    "# Protocols\n",
    "#### Pre-filters"
   ]
  },
  {
   "cell_type": "code",
   "execution_count": 14,
   "metadata": {
    "scrolled": true
   },
   "outputs": [
    {
     "name": "stdout",
     "output_type": "stream",
     "text": [
      "                 samplingProtocol  count\n",
      "0     Insect Pitfall, trap # F24E      1\n",
      "1     Insect Pitfall, trap # M17W      1\n",
      "2     Insect Pitfall, trap # M61W      2\n",
      "3      Insect Pitfall, trap # N24      1\n",
      "4     Insect Pitfall, trap # R12E      1\n",
      "5     Insect Pitfall, trap # R12W      1\n",
      "6       Insect Pitfall, trap # R2      1\n",
      "7   Insect Pitfall, trap # R33...      1\n",
      "8   Insect Pitfall, trap # R33...      1\n",
      "9     Insect Pitfall, trap # R45E      1\n",
      "10  Insect Pitfall, trap # W3W...      1\n",
      "11  Insect Pitfall, trap # W3W...      1\n",
      "12  Insect Pitfall, trap # W3W...      1\n",
      "13                        UNKNOWN   2555\n",
      "14                  alive on road     38\n",
      "15     alive on road/dead on road      2\n",
      "16                   dead on road      3\n",
      "17                 none specified      1\n",
      "18                    wild caught      2\n"
     ]
    }
   ],
   "source": [
    "protocol = pd.read_sql(sql=\"SELECT value as samplingProtocol, count FROM pre_filter_value_counts WHERE attribute = 'samplingProtocols';\", con=conn_occ)\n",
    "print(protocol)"
   ]
  },
  {
   "cell_type": "markdown",
   "metadata": {},
   "source": [
    "#### Post-filters"
   ]
  },
  {
   "cell_type": "code",
   "execution_count": 15,
   "metadata": {},
   "outputs": [
    {
     "name": "stdout",
     "output_type": "stream",
     "text": [
      "             samplingProtocol  count\n",
      "0                     UNKNOWN   1059\n",
      "1               alive on road     24\n",
      "2  alive on road/dead on road      1\n",
      "3                dead on road      1\n",
      "4                 wild caught      2\n"
     ]
    }
   ],
   "source": [
    "sql = \"SELECT samplingProtocol, COUNT(occ_id) as count FROM occurrences GROUP BY samplingProtocol;\"\n",
    "print(pd.read_sql(sql=sql, con=conn_occ))"
   ]
  },
  {
   "cell_type": "markdown",
   "metadata": {},
   "source": [
    "# Issues\n",
    "#### Pre-filters"
   ]
  },
  {
   "cell_type": "code",
   "execution_count": 16,
   "metadata": {
    "scrolled": true
   },
   "outputs": [
    {
     "name": "stdout",
     "output_type": "stream",
     "text": [
      "                                                                             issues  count\n",
      "0                                                        ['COORDINATE_REPROJECTED']     11\n",
      "1                                  ['COORDINATE_ROUNDED', 'COORDINATE_REPROJECTED']     29\n",
      "2   ['COORDINATE_ROUNDED', 'GEODETIC_DATUM_ASSUMED_WGS84', 'COORDINATE_UNCERTAIN...      1\n",
      "3   ['COORDINATE_ROUNDED', 'GEODETIC_DATUM_ASSUMED_WGS84', 'PRESUMED_NEGATED_LON...      8\n",
      "4                            ['COORDINATE_ROUNDED', 'GEODETIC_DATUM_ASSUMED_WGS84']   1494\n",
      "5   ['COORDINATE_ROUNDED', 'GEODETIC_DATUM_INVALID', 'GEODETIC_DATUM_ASSUMED_WGS...     48\n",
      "6                                ['COORDINATE_ROUNDED', 'INDIVIDUAL_COUNT_INVALID']      1\n",
      "7                              ['COORDINATE_ROUNDED', 'PRESUMED_NEGATED_LONGITUDE']      2\n",
      "8                                       ['COORDINATE_ROUNDED', 'TAXON_MATCH_FUZZY']      2\n",
      "9                                  ['COORDINATE_ROUNDED', 'TAXON_MATCH_HIGHERRANK']      2\n",
      "10                                                           ['COORDINATE_ROUNDED']    200\n",
      "11                                             ['COUNTRY_DERIVED_FROM_COORDINATES']     13\n",
      "12             ['GEODETIC_DATUM_ASSUMED_WGS84', 'COUNTRY_DERIVED_FROM_COORDINATES']      2\n",
      "13                     ['GEODETIC_DATUM_ASSUMED_WGS84', 'INDIVIDUAL_COUNT_INVALID']      2\n",
      "14                   ['GEODETIC_DATUM_ASSUMED_WGS84', 'PRESUMED_NEGATED_LONGITUDE']      4\n",
      "15                                                 ['GEODETIC_DATUM_ASSUMED_WGS84']    501\n",
      "16  ['GEODETIC_DATUM_INVALID', 'GEODETIC_DATUM_ASSUMED_WGS84', 'PRESUMED_NEGATED...      1\n",
      "17                       ['GEODETIC_DATUM_INVALID', 'GEODETIC_DATUM_ASSUMED_WGS84']     41\n",
      "18                                                   ['PRESUMED_NEGATED_LONGITUDE']     50\n",
      "19                                                                               []    203\n"
     ]
    }
   ],
   "source": [
    "iss = pd.read_sql(sql=\"SELECT value as issues, count FROM pre_filter_value_counts WHERE attribute = 'issues';\", con=conn_occ)\n",
    "pd.set_option('display.max_colwidth', 80)\n",
    "print(iss)"
   ]
  },
  {
   "cell_type": "markdown",
   "metadata": {},
   "source": [
    "#### Post-filters"
   ]
  },
  {
   "cell_type": "code",
   "execution_count": 17,
   "metadata": {
    "scrolled": true
   },
   "outputs": [
    {
     "name": "stdout",
     "output_type": "stream",
     "text": [
      "                                                                    issues  count\n",
      "0                                                                              12\n",
      "1                                                   COORDINATE_REPROJECTED      1\n",
      "2                                                       COORDINATE_ROUNDED     34\n",
      "3                                COORDINATE_ROUNDED;COORDINATE_REPROJECTED      6\n",
      "4                          COORDINATE_ROUNDED;GEODETIC_DATUM_ASSUMED_WGS84    881\n",
      "5   COORDINATE_ROUNDED;GEODETIC_DATUM_INVALID;GEODETIC_DATUM_ASSUMED_WGS84      4\n",
      "6                              COORDINATE_ROUNDED;INDIVIDUAL_COUNT_INVALID      1\n",
      "7                            COORDINATE_ROUNDED;PRESUMED_NEGATED_LONGITUDE      1\n",
      "8                                COORDINATE_ROUNDED;TAXON_MATCH_HIGHERRANK      1\n",
      "9                                             GEODETIC_DATUM_ASSUMED_WGS84    142\n",
      "10                     GEODETIC_DATUM_INVALID;GEODETIC_DATUM_ASSUMED_WGS84      4\n"
     ]
    }
   ],
   "source": [
    "sql = \"SELECT issues, COUNT(occ_id) as count FROM occurrences GROUP BY issues;\"\n",
    "print(pd.read_sql(sql=sql, con=conn_occ))"
   ]
  },
  {
   "cell_type": "markdown",
   "metadata": {},
   "source": [
    "# Descriptions of filtered records"
   ]
  },
  {
   "cell_type": "markdown",
   "metadata": {},
   "source": [
    "### Years represented"
   ]
  },
  {
   "cell_type": "code",
   "execution_count": 18,
   "metadata": {},
   "outputs": [
    {
     "data": {
      "text/plain": [
       "Text(0.5, 1.0, 'Occurrences per Year')"
      ]
     },
     "execution_count": 18,
     "metadata": {},
     "output_type": "execute_result"
    },
    {
     "data": {
      "image/png": "[encoded data removed]",
      "text/plain": [
       "<Figure size 432x288 with 1 Axes>"
      ]
     },
     "metadata": {
      "needs_background": "light"
     },
     "output_type": "display_data"
    }
   ],
   "source": [
    "occ_years = [int(x[0]) for x in curs_occ.execute(\"SELECT strftime('%Y', occurrenceDate) FROM occurrences\").fetchall()]\n",
    "years = connjup.execute(\"SELECT years_range FROM gbif_requests WHERE request_id = '{0}'\".format(gbif_req_id)).fetchone()[0]\n",
    "years = years.split(',')\n",
    "yearsrng = list(range(int(years[0]), int(years[1]), 1))\n",
    "binsnum = int(years[1]) - int(years[0])\n",
    "plt.hist(occ_years, bins=binsnum)\n",
    "plt.ylabel(\"number of records\")\n",
    "plt.xlabel(\"year\")\n",
    "plt.xticks(yearsrng, rotation=90)\n",
    "plt.title(\"Occurrences per Year\")"
   ]
  },
  {
   "cell_type": "markdown",
   "metadata": {},
   "source": [
    "### Months represented"
   ]
  },
  {
   "cell_type": "code",
   "execution_count": 19,
   "metadata": {},
   "outputs": [
    {
     "data": {
      "text/plain": [
       "Text(0.5, 1.0, 'Occurrences per Month')"
      ]
     },
     "execution_count": 19,
     "metadata": {},
     "output_type": "execute_result"
    },
    {
     "data": {
      "image/png": "[encoded data removed]",
      "text/plain": [
       "<Figure size 432x288 with 1 Axes>"
      ]
     },
     "metadata": {
      "needs_background": "light"
     },
     "output_type": "display_data"
    }
   ],
   "source": [
    "occ_months = [int(x[0]) for x in curs_occ.execute(\"SELECT strftime('%m', occurrenceDate) FROM occurrences\").fetchall()]\n",
    "plt.hist(occ_months, bins=range(1, 14), color=\"g\")\n",
    "plt.ylabel(\"number of records\")\n",
    "plt.xlabel(\"month\")\n",
    "plt.xticks(range(1, 13))\n",
    "plt.title(\"Occurrences per Month\")"
   ]
  },
  {
   "cell_type": "markdown",
   "metadata": {},
   "source": [
    "### Distribution of coordinate uncertainty values"
   ]
  },
  {
   "cell_type": "code",
   "execution_count": 20,
   "metadata": {
    "scrolled": true
   },
   "outputs": [
    {
     "data": {
      "text/plain": [
       "Text(0.5, 1.0, 'Coordinate Uncertainty')"
      ]
     },
     "execution_count": 20,
     "metadata": {},
     "output_type": "execute_result"
    },
    {
     "data": {
      "image/png": "[encoded data removed]",
      "text/plain": [
       "<Figure size 1152x288 with 1 Axes>"
      ]
     },
     "metadata": {
      "needs_background": "light"
     },
     "output_type": "display_data"
    }
   ],
   "source": [
    "occ_cert = [int(x[0]) for x in curs_occ.execute(\"SELECT coordinateUncertaintyInMeters FROM occurrences\").fetchall()]\n",
    "maxi = np.max(occ_cert)\n",
    "plt.figure(figsize=(16,4))\n",
    "plt.hist(occ_cert, bins=50, color=\"r\")\n",
    "plt.xticks(range(0, maxi, int(maxi/50)), rotation=90)\n",
    "plt.ylabel(\"number of records\")\n",
    "plt.xlabel(\"coordinate uncertainty\")\n",
    "plt.title(\"Coordinate Uncertainty\")"
   ]
  },
  {
   "cell_type": "code",
   "execution_count": 21,
   "metadata": {},
   "outputs": [
    {
     "data": {
      "text/plain": [
       "Text(0.5, 1.0, 'Coordinate Uncertainty - Zoomed In')"
      ]
     },
     "execution_count": 21,
     "metadata": {},
     "output_type": "execute_result"
    },
    {
     "data": {
      "image/png": "[encoded data removed]",
      "text/plain": [
       "<Figure size 864x288 with 1 Axes>"
      ]
     },
     "metadata": {
      "needs_background": "light"
     },
     "output_type": "display_data"
    }
   ],
   "source": [
    "rng_max = 2000\n",
    "occ_cert2 = [x for x in occ_cert if x <= rng_max]\n",
    "plt.figure(figsize=(12,4))\n",
    "plt.hist(occ_cert2, bins=30, color=\"m\", align='mid')\n",
    "plt.xticks(range(0, rng_max + 100, int(rng_max/30.)), rotation=90)\n",
    "plt.ylabel(\"number of records\")\n",
    "plt.xlabel(\"coordinate uncertainty\")\n",
    "plt.title(\"Coordinate Uncertainty - Zoomed In\")"
   ]
  },
  {
   "cell_type": "markdown",
   "metadata": {},
   "source": [
    "### Establishment means reported"
   ]
  },
  {
   "cell_type": "code",
   "execution_count": 22,
   "metadata": {},
   "outputs": [
    {
     "name": "stdout",
     "output_type": "stream",
     "text": [
      "UNKNOWN, NATIVE\n"
     ]
    }
   ],
   "source": [
    "establishment = curs_occ.execute(\"SELECT vals FROM unique_values WHERE field = 'establishment' AND step = 'filter';\").fetchall()[0]\n",
    "for est in establishment:\n",
    "    est = est.replace('[', '').strip().replace(']', '').replace(\"'\", \"\")\n",
    "    print(est)"
   ]
  },
  {
   "cell_type": "markdown",
   "metadata": {},
   "source": [
    "### Identification qualifiers included"
   ]
  },
  {
   "cell_type": "code",
   "execution_count": 23,
   "metadata": {},
   "outputs": [
    {
     "name": "stdout",
     "output_type": "stream",
     "text": [
      "UNKNOWN, A\n"
     ]
    }
   ],
   "source": [
    "quali = curs_occ.execute(\"SELECT DISTINCT vals FROM unique_values WHERE field = 'IDqualifier' AND step = 'filter';\").fetchall()[0]\n",
    "for q in quali:\n",
    "    q = q.replace('[', '').strip().replace(']', '').replace(\"'\", \"\")\n",
    "    print(q)"
   ]
  },
  {
   "cell_type": "markdown",
   "metadata": {},
   "source": [
    "### Remarks included"
   ]
  },
  {
   "cell_type": "code",
   "execution_count": 24,
   "metadata": {
    "scrolled": true
   },
   "outputs": [
    {
     "name": "stdout",
     "output_type": "stream",
     "text": [
      "More than 20 remarks, consult the occurrence database.\n"
     ]
    }
   ],
   "source": [
    "remarks = curs_occ.execute(\"SELECT DISTINCT remarks FROM occurrences;\").fetchall()\n",
    "if len(remarks) <= 20:\n",
    "    try:\n",
    "        for rem in remarks:\n",
    "            if rem[0][0:1] == ';':\n",
    "                print(rem[0][2:])\n",
    "            else:\n",
    "                print(rem[0])\n",
    "    except:\n",
    "        pass\n",
    "else:\n",
    "    print(\"More than 20 remarks, consult the occurrence database.\")"
   ]
  },
  {
   "cell_type": "markdown",
   "metadata": {},
   "source": [
    "### Attributes returned for the records in the request (pre-filters)"
   ]
  },
  {
   "cell_type": "code",
   "execution_count": 25,
   "metadata": {
    "scrolled": false
   },
   "outputs": [
    {
     "name": "stdout",
     "output_type": "stream",
     "text": [
      "                                               attribute  included(n)  populated(n)\n",
      "Field                                                                              \n",
      "0                                 acceptedScientificName         2615          2615\n",
      "1                                       acceptedTaxonKey         2615          2615\n",
      "2                                           accessRights          607           607\n",
      "3                                   associatedReferences            1             1\n",
      "4                                    associatedSequences           88            88\n",
      "5                                         associatedTaxa            1             1\n",
      "6                                          basisOfRecord         2615          2615\n",
      "7                                               behavior            1             1\n",
      "8                                  bibliographicCitation          171           171\n",
      "9                                          catalogNumber         2595          2595\n",
      "10                                                 class         2615          2615\n",
      "11                                              classKey         2615          2615\n",
      "12                                        collectionCode         2611          2611\n",
      "13                                          collectionID          529           529\n",
      "14                                             continent          753           753\n",
      "15                         coordinateUncertaintyInMeters         1431          1431\n",
      "16                                               country         2615          2615\n",
      "17                                           countryCode         2615          2615\n",
      "18                                                county          921           921\n",
      "19                                               crawlId         2615          2615\n",
      "20                                               created            2             2\n",
      "21                                             datasetID            1             1\n",
      "22                                            datasetKey         2615          2615\n",
      "23                                           datasetName         1903          1903\n",
      "24                                        dateIdentified         1901          1901\n",
      "25                                                   day         2615          2615\n",
      "26                                       decimalLatitude         2615          2615\n",
      "27                                      decimalLongitude         2615          2615\n",
      "28                                           disposition            2             2\n",
      "29                                     dynamicProperties          124           124\n",
      "30                                             elevation           94            94\n",
      "31                                     elevationAccuracy           85            85\n",
      "32                                          endDayOfYear          562           562\n",
      "33                                    establishmentMeans          353           353\n",
      "34                                             eventDate         2615          2615\n",
      "35                                          eventRemarks           62            62\n",
      "36                                             eventTime         1558          1558\n",
      "37                                            extensions         2615             0\n",
      "38                                                 facts         2615             0\n",
      "39                                                family         2615          2615\n",
      "40                                             familyKey         2615          2615\n",
      "41                                            fieldNotes            1             1\n",
      "42                                           fieldNumber          156           156\n",
      "43                                                gbifID         2615          2615\n",
      "44                                           genericName         2615          2615\n",
      "45                                                 genus         2615          2615\n",
      "46                                              genusKey         2615          2615\n",
      "47                                         geodeticDatum         2615          2615\n",
      "48                                  georeferenceProtocol          238           238\n",
      "49                                   georeferenceRemarks           20            20\n",
      "50                                   georeferenceSources          254           254\n",
      "51                        georeferenceVerificationStatus          699           699\n",
      "52                                       georeferencedBy          227           227\n",
      "53                                     georeferencedDate          226           226\n",
      "54                                               habitat           13            13\n",
      "55                                  higherClassification          582           582\n",
      "56                                       higherGeography          629           629\n",
      "57                                     higherGeographyID            1             1\n",
      "58         http://rs.tdwg.org/dwc/terms/organismQuantity            5             5\n",
      "59     http://rs.tdwg.org/dwc/terms/organismQuantityType           23            23\n",
      "60                           http://unknown.org/language            2             2\n",
      "61                               http://unknown.org/nick         1688          1688\n",
      "62                  http://unknown.org/occurrenceDetails         1688          1688\n",
      "63                           http://unknown.org/recordId            1             1\n",
      "64                             http://unknown.org/rights            2             2\n",
      "65                       http://unknown.org/rightsHolder            2             2\n",
      "66                                      identificationID         1632          1632\n",
      "67                               identificationQualifier          205           205\n",
      "68                                 identificationRemarks          193           193\n",
      "69                      identificationVerificationStatus          205           205\n",
      "70                                          identifiedBy          323           323\n",
      "71                                       identifiedByIDs         2615             8\n",
      "72                                            identifier         2614          2614\n",
      "73                                           identifiers         2615             0\n",
      "74                                       individualCount          407           407\n",
      "75                                   informationWithheld          307           307\n",
      "76                                  infraspecificEpithet           71            71\n",
      "77                                       installationKey         2615          2615\n",
      "78                                       institutionCode         2611          2611\n",
      "79                                         institutionID          628           628\n",
      "80                                                issues         2615          2412\n",
      "81                                                   key         2615          2615\n",
      "82                                               kingdom         2615          2615\n",
      "83                                            kingdomKey         2615          2615\n",
      "84                                              language          772           772\n",
      "85                                           lastCrawled         2615          2615\n",
      "86                                       lastInterpreted         2615          2615\n",
      "87                                            lastParsed         2615          2615\n",
      "88                                               license         2615          2615\n",
      "89                                             lifeStage          201           201\n",
      "90                                              locality          798           798\n",
      "91                                   locationAccordingTo          205           205\n",
      "92                                       locationRemarks           31            31\n",
      "93                                                 media         2615          1587\n",
      "94                                              modified         2469          2469\n",
      "95                                                 month         2615          2615\n",
      "96                                          municipality            1             1\n",
      "97                                           networkKeys          205           205\n",
      "98                                     nomenclaturalCode          560           560\n",
      "99                                          occurrenceID         2614          2614\n",
      "100                                    occurrenceRemarks          452           452\n",
      "101                                     occurrenceStatus          353           353\n",
      "102                                                order         2615          2615\n",
      "103                                             orderKey         2615          2615\n",
      "104                                           organismID          205           205\n",
      "105                                     organismQuantity            5             5\n",
      "106                                 organismQuantityType           23            23\n",
      "107                                  otherCatalogNumbers          193           193\n",
      "108                                 ownerInstitutionCode            3             3\n",
      "109                                               phylum         2615          2615\n",
      "110                                            phylumKey         2615          2615\n",
      "111                                         preparations          888           888\n",
      "112                              previousIdentifications          206           206\n",
      "113                                             protocol         2615          2615\n",
      "114                                    publishingCountry         2613          2613\n",
      "115                                     publishingOrgKey         2615          2615\n",
      "116                                         recordNumber          418           418\n",
      "117                                           recordedBy         2598          2598\n",
      "118                                        recordedByIDs         2615            11\n",
      "119                                           references         2252          2252\n",
      "120                                            relations         2615             0\n",
      "121                                reproductiveCondition            1             1\n",
      "122                                               rights         1690          1690\n",
      "123                                         rightsHolder         1691          1691\n",
      "124                                     samplingProtocol           60            60\n",
      "125                                       scientificName         2615          2615\n",
      "126                                     scientificNameID            1             1\n",
      "127                                                  sex           88            88\n",
      "128                                              species         2615          2615\n",
      "129                                           speciesKey         2615          2615\n",
      "130                                      specificEpithet         2615          2615\n",
      "131                                       startDayOfYear          361           361\n",
      "132                                        stateProvince         2612          2612\n",
      "133                                              taxonID         1691          1691\n",
      "134                                             taxonKey         2615          2615\n",
      "135                                            taxonRank         2615          2615\n",
      "136                                         taxonRemarks            1             1\n",
      "137                                      taxonomicStatus         2615          2615\n",
      "138                                                 type          629           629\n",
      "139                             verbatimCoordinateSystem          386           386\n",
      "140                                    verbatimElevation          205           205\n",
      "141                                    verbatimEventDate         2242          2242\n",
      "142                                     verbatimLocality         2253          2253\n",
      "143                                          verbatimSRS           21            21\n",
      "144                                       vernacularName          133           133\n",
      "145                                                 year         2615          2615\n"
     ]
    }
   ],
   "source": [
    "fields_summary = pd.read_sql(\"SELECT * FROM gbif_fields_returned\", conn_occ)#, index_col='index')\n",
    "fields_summary.index.name = 'Field'\n",
    "pd.set_option('display.max_rows', 250)\n",
    "print(fields_summary)"
   ]
  },
  {
   "cell_type": "markdown",
   "metadata": {},
   "source": [
    "### Runtime"
   ]
  },
  {
   "cell_type": "code",
   "execution_count": 26,
   "metadata": {},
   "outputs": [
    {
     "name": "stdout",
     "output_type": "stream",
     "text": [
      "0:02:42.598864\n"
     ]
    }
   ],
   "source": [
    "t2 = datetime.now()\n",
    "print(t2 - t1)"
   ]
  },
  {
   "cell_type": "code",
   "execution_count": null,
   "metadata": {},
   "outputs": [],
   "source": []
  }
 ],
 "metadata": {
  "kernelspec": {
   "display_name": "Python 3",
   "language": "python",
   "name": "python3"
  },
  "language_info": {
   "codemirror_mode": {
    "name": "ipython",
    "version": 3
   },
   "file_extension": ".py",
   "mimetype": "text/x-python",
   "name": "python",
   "nbconvert_exporter": "python",
   "pygments_lexer": "ipython3",
   "version": "3.6.5"
  }
 },
 "nbformat": 4,
 "nbformat_minor": 2
}
