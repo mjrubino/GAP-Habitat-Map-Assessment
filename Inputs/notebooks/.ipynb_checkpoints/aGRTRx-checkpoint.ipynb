{
 "cells": [
  {
   "cell_type": "markdown",
   "metadata": {},
   "source": [
    "# Occurrence Records from GBIF\n",
    "This notebook is a tool for exploring data sets requested from GBIF (and eventually other sources), and mostly for developing criteria for filtering records (filter sets).  When the entire notebook is run, it retrieves records according to the filter sets specified and saves the results (records and some summary tables) in an sqlite database.  Some information is pulled from the parameters.sqlite database that is saved in this repository."
   ]
  },
  {
   "cell_type": "markdown",
   "metadata": {},
   "source": [
    "### Set Variables - fill out stuff in this cell.  \n",
    "Notes:\n",
    "default_coordUncertainty -- coordinateUncertaintyInMeters is often not provided.  Here is an option to use a default.  If you don't want anything entered, set this equal to False (boolean, not string)."
   ]
  },
  {
   "cell_type": "code",
   "execution_count": 1,
   "metadata": {},
   "outputs": [],
   "source": [
    "species_id = 'agrtrx0'\n",
    "summary_name = 'Green Treefrog'\n",
    "gbif_req_id = 'EvalGBIFRequest'\n",
    "gbif_filter_id = 'EvalGBIFFilter'\n",
    "default_coordUncertainty = False       # Note above.\n",
    "workDir = 'D:/USGS Analyses/GAP-Habitat-Map-Assessment/'   # Be sure to create folders named \"Inputs\" and \"Outputs\" here.\n",
    "codeDir = workDir + 'Scripts/'\n",
    "dbDir = workDir + 'db/'\n",
    "paramdb = dbDir + 'wildlife-wrangler.sqlite'\n",
    "configDir = workDir  # Path to folder where saved your wildlifeconfig file."
   ]
  },
  {
   "cell_type": "markdown",
   "metadata": {},
   "source": [
    "### Setup - nothing to fill out in this cell"
   ]
  },
  {
   "cell_type": "code",
   "execution_count": 2,
   "metadata": {},
   "outputs": [
    {
     "name": "stdout",
     "output_type": "stream",
     "text": [
      "Notebook run 2020-04-23 08:59:23.025567\n",
      "D:/USGS Analyses/GAP-Habitat-Map-Assessment/Outputs/agrtrx0EvalGBIFRequestEvalGBIFFilter.sqlite\n"
     ]
    }
   ],
   "source": [
    "%matplotlib inline\n",
    "import sqlite3\n",
    "import pprint\n",
    "import json\n",
    "import pandas as pd\n",
    "import numpy as np\n",
    "pd.set_option('display.width', 600)\n",
    "pd.set_option('display.max_colwidth', 30)\n",
    "pd.set_option('display.max_rows', 150)\n",
    "from IPython.display import Image\n",
    "from pygbif import occurrences\n",
    "import matplotlib.pyplot as plt\n",
    "import os\n",
    "from datetime import datetime\n",
    "t1 = datetime.now()\n",
    "import sys\n",
    "sys.path.append(configDir)\n",
    "import config\n",
    "sys.path.append(codeDir)\n",
    "import repo_functions as functions\n",
    "inDir = workDir + 'Inputs/'\n",
    "outDir = workDir + 'Outputs/'\n",
    "spdb = outDir + species_id + gbif_req_id + gbif_filter_id + '.sqlite'\n",
    "username = config.gbif_username\n",
    "password = config.gbif_password\n",
    "email = config.gbif_email\n",
    "print(\"Notebook run \" + str(t1))\n",
    "print(spdb)\n",
    "connjup = sqlite3.connect(paramdb)\n",
    "cursorjup = connjup.cursor()\n",
    "# Get some variables\n",
    "years = connjup.execute(\"\"\"SELECT years_range \n",
    "                           FROM gbif_requests WHERE request_id = '{0}'\"\"\".format(gbif_req_id)).fetchone()[0]\n",
    "gap_id = connjup.execute(\"\"\"SELECT gap_id\n",
    "                            FROM species_concepts WHERE species_id = '{0}'\"\"\".format(species_id)).fetchone()[0]\n",
    "common_name = connjup.execute(\"\"\"SELECT common_name\n",
    "                                 FROM species_concepts WHERE species_id = '{0}'\"\"\".format(species_id)).fetchone()[0]"
   ]
  },
  {
   "cell_type": "markdown",
   "metadata": {},
   "source": [
    "# Species Concept\n",
    "Display information on the species from the parameters.sqlite database."
   ]
  },
  {
   "cell_type": "code",
   "execution_count": 3,
   "metadata": {},
   "outputs": [
    {
     "name": "stdout",
     "output_type": "stream",
     "text": [
      "SPECIES CONCEPT RECORD\n",
      "                                                   VALUE\n",
      "ATTRIBUTE                                               \n",
      "species_id                                       agrtrx0\n",
      "fws_id                                              None\n",
      "gap_id                                            aGRTRx\n",
      "itis_tsn                                          173505\n",
      "gbif_id                                          2427574\n",
      "bcb_id                                              None\n",
      "ebird_id                                            None\n",
      "common_name                               Green Treefrog\n",
      "scientific_name                             Hyla cinerea\n",
      "start_year                                          1799\n",
      "split_from                                          None\n",
      "end_year                                            None\n",
      "lumped_into                                         None\n",
      "geometry                                            None\n",
      "detection_distance_meters                              0\n",
      "vetted_how                                  NS,GBIF,IUCN\n",
      "vetted_who                                     M. Rubino\n",
      "vetted_date                                   04/22/2020\n",
      "notes                      Duellman et al. (2016) rem...\n"
     ]
    }
   ],
   "source": [
    "vals = cursorjup.execute(\"SELECT * FROM species_concepts WHERE species_id = '{0}';\".format(species_id)).fetchall()[0]\n",
    "cols = [x[1] for x in cursorjup.execute(\"PRAGMA table_info('species_concepts')\").fetchall()]\n",
    "sp_dict = dict(zip(cols, vals))\n",
    "sp_df = pd.DataFrame.from_dict(sp_dict, orient='index', columns=['VALUE'])\n",
    "sp_df.index.name = 'ATTRIBUTE'\n",
    "print(\"SPECIES CONCEPT RECORD\")\n",
    "print(sp_df)"
   ]
  },
  {
   "cell_type": "markdown",
   "metadata": {},
   "source": [
    "# Filters\n",
    "Display the parameters of the request filter set.  These are deployed during the step where records are retrieved from the API."
   ]
  },
  {
   "cell_type": "code",
   "execution_count": 4,
   "metadata": {},
   "outputs": [
    {
     "name": "stdout",
     "output_type": "stream",
     "text": [
      "THE REQUEST FILTER SET\n",
      "request_id                    EvalGBIFRequest\n",
      "source                                   GBIF\n",
      "lat_range                                None\n",
      "lon_range                                None\n",
      "years_range                         1999,2020\n",
      "months_range                             1,12\n",
      "geoissue                                False\n",
      "coordinate                               True\n",
      "country                                    US\n",
      "geometry                                 None\n",
      "creator                             M. Rubino\n",
      "notes           amphibian evaluation reque...\n",
      "Name: 0, dtype: object\n"
     ]
    }
   ],
   "source": [
    "request_df = pd.read_sql_query(sql=\"SELECT * FROM gbif_requests WHERE request_id = '{0}'\".format(gbif_req_id), con=connjup)\n",
    "print(\"THE REQUEST FILTER SET\")\n",
    "print(request_df.loc[0])"
   ]
  },
  {
   "cell_type": "markdown",
   "metadata": {},
   "source": [
    "Display the parameters of the post-request filter set.  These are deployed after the records are retrieved from the API, but before they are stored in the occurrence record sqlite database."
   ]
  },
  {
   "cell_type": "code",
   "execution_count": 5,
   "metadata": {},
   "outputs": [
    {
     "name": "stdout",
     "output_type": "stream",
     "text": [
      "THE POST REQUEST FILTER SET\n",
      "filter_id                                    EvalGBIFFilter\n",
      "dataset                                                GBIF\n",
      "institutions_omit                                      None\n",
      "collection_codes_omit                                  None\n",
      "datasets_omit                                          None\n",
      "has_coordinate_uncertainty                                1\n",
      "max_coordinate_uncertainty                            10000\n",
      "bases_omit                                  FOSSIL_SPECIMEN\n",
      "sampling_protocols_omit                                None\n",
      "issues_omit                                            None\n",
      "duplicates_OK                                         False\n",
      "creator                                           M. Rubino\n",
      "notes                         amphibian evaluation filte...\n",
      "Name: 0, dtype: object\n"
     ]
    }
   ],
   "source": [
    "filter_df = pd.read_sql_query(sql=\"SELECT * FROM gbif_filters WHERE filter_id = '{0}'\".format(gbif_filter_id), con=connjup)\n",
    "print(\"THE POST REQUEST FILTER SET\")\n",
    "print(filter_df.loc[0])"
   ]
  },
  {
   "cell_type": "code",
   "execution_count": 6,
   "metadata": {
    "scrolled": false
   },
   "outputs": [
    {
     "name": "stdout",
     "output_type": "stream",
     "text": [
      "SPATIALITE_SECURITY set to relaxed\n",
      "Created occurrence db: 0:00:00.218762\n",
      "Got request params and sorted out geometry constraints: 0:00:00\n",
      "8833 records available\n",
      "Downloaded records: 0:00:56.359741\n",
      "Summarized fields returned: 0:07:16.417974\n",
      "Created summary table of request results: 0:00:00.062502\n",
      "Performed post-request filtering: 0:00:00.046878\n",
      "Calculated new columns, deleted some too: 0:00:00.046876\n",
      "141 duplicate records dropped: 0:00:02.968916\n",
      "Inserted records into table: 0:00:00.125006\n",
      "Summarized unique values retained: 0:00:00.015635\n",
      "Updated occurrences table geometry column: 0:00:00.531266\n",
      "Buffered points: 0:00:02.657393\n"
     ]
    }
   ],
   "source": [
    "functions.retrieve_gbif_occurrences(codeDir, species_id, inDir, paramdb, spdb, gbif_req_id, gbif_filter_id, \n",
    "                                    default_coordUncertainty, outDir, summary_name, username,\n",
    "                                   password, email)"
   ]
  },
  {
   "cell_type": "code",
   "execution_count": 7,
   "metadata": {},
   "outputs": [
    {
     "name": "stdout",
     "output_type": "stream",
     "text": [
      "codeDir: D:/USGS Analyses/GAP-Habitat-Map-Assessment/Scripts/\n",
      " species_id: agrtrx0\n",
      " inDir: D:/USGS Analyses/GAP-Habitat-Map-Assessment/Inputs/\n",
      " paramdb: D:/USGS Analyses/GAP-Habitat-Map-Assessment/db/wildlife-wrangler.sqlite\n",
      " spdb: D:/USGS Analyses/GAP-Habitat-Map-Assessment/Outputs/agrtrx0EvalGBIFRequestEvalGBIFFilter.sqlite\n",
      " gbif_req_id: EvalGBIFRequest\n",
      " gbif_filter_id: EvalGBIFFilter\n",
      " default_coordUncertainty: False\n",
      " outDir: D:/USGS Analyses/GAP-Habitat-Map-Assessment/Outputs/\n",
      " summary_name: Green Treefrog\n",
      " username: gapper\n",
      " password: metspirates\n",
      " email: pythonprocessing@gmail.com\n"
     ]
    }
   ],
   "source": [
    "print('codeDir: '+codeDir+'\\n', \n",
    "'species_id: '+species_id+'\\n', \n",
    "'inDir: '+inDir+'\\n', \n",
    "'paramdb: '+paramdb+'\\n', \n",
    "'spdb: '+spdb+'\\n', \n",
    "'gbif_req_id: '+gbif_req_id+'\\n', \n",
    "'gbif_filter_id: '+gbif_filter_id+'\\n', \n",
    "'default_coordUncertainty: '+str(default_coordUncertainty)+'\\n', \n",
    "'outDir: '+outDir+'\\n', \n",
    "'summary_name: '+summary_name+'\\n', \n",
    "'username: '+username+'\\n',\n",
    "'password: '+password+'\\n', \n",
    "'email: '+email)"
   ]
  },
  {
   "cell_type": "markdown",
   "metadata": {},
   "source": [
    "### Connect to output database, record species and filter info."
   ]
  },
  {
   "cell_type": "code",
   "execution_count": 8,
   "metadata": {},
   "outputs": [],
   "source": [
    "conn_occ= sqlite3.connect(spdb)\n",
    "curs_occ = conn_occ.cursor()\n",
    "sp_df.to_sql(name='species_concept', con=conn_occ, if_exists='replace')\n",
    "request_df.to_sql(name=gbif_req_id, con=conn_occ, if_exists='replace')\n",
    "filter_df.to_sql(name=gbif_filter_id, con=conn_occ, if_exists='replace')"
   ]
  },
  {
   "cell_type": "markdown",
   "metadata": {},
   "source": [
    "### How many records made it through the filters?\n",
    "This is the number that was actually saved in the occurrence record sqlite database."
   ]
  },
  {
   "cell_type": "code",
   "execution_count": 9,
   "metadata": {},
   "outputs": [
    {
     "name": "stdout",
     "output_type": "stream",
     "text": [
      "3738 records\n"
     ]
    }
   ],
   "source": [
    "record_count = curs_occ.execute(\"SELECT COUNT(occ_id) FROM occurrences WHERE species_id = '{0}'\".format(species_id)).fetchone()\n",
    "print(str(record_count[0]) + \" records\")"
   ]
  },
  {
   "cell_type": "markdown",
   "metadata": {},
   "source": [
    "# Sources\n",
    "#### Pre-filters"
   ]
  },
  {
   "cell_type": "code",
   "execution_count": 10,
   "metadata": {},
   "outputs": [
    {
     "name": "stdout",
     "output_type": "stream",
     "text": [
      "GBIF\n",
      "   institutionCode                 collectionCode                    datasetName     0\n",
      "0              AUM                          Herps                        UNKNOWN    39\n",
      "1      Anymals.org                     user: 1248                        UNKNOWN     2\n",
      "2            BISON  USGS SESC - Big Cypress - ...  USGS SESC - Big Cypress - ...   419\n",
      "3            BISON  USGS SESC - Biscayne - Her...  USGS SESC - Biscayne - Her...    25\n",
      "4            BISON  USGS SESC - Everglades - H...  USGS SESC - Everglades - H...   393\n",
      "5            BISON  USGS SESC - Everglades - H...  USGS SESC - Everglades - H...  1344\n",
      "6              CAS                           HERP                        UNKNOWN     7\n",
      "7              CLO                             ML                        UNKNOWN     4\n",
      "8             FHSM                           HERP                        UNKNOWN    16\n",
      "9              GSU                       GSU-Herp  Georgia Southern Universit...     3\n",
      "10              KU                            KUH  University of Kansas Biodi...    11\n",
      "11            LACM                          Herps               LACM Vertebrates     7\n",
      "12           LSUMZ                          Herps                        UNKNOWN     3\n",
      "13             MCZ                           Herp                        UNKNOWN     2\n",
      "14             MSB  Amphibian and reptile spec...                        UNKNOWN     9\n",
      "15             MVZ  Amphibian and reptile spec...                        UNKNOWN     5\n",
      "16            NCSM                           Herp    NCSM Herpetology Collection   149\n",
      "17            OMNH                     Amphibians                        UNKNOWN   181\n",
      "18            OMNH                           OCGR  Oklahoma Collection of Gen...   159\n",
      "19             SLU                          Herps                        UNKNOWN     6\n",
      "20            TCWC                    Herpetology                        UNKNOWN   379\n",
      "21              UF                           Herp                        UNKNOWN   248\n",
      "22         UNKNOWN                        UNKNOWN                        UNKNOWN     7\n",
      "23            USNM          Amphibians & Reptiles            NMNH Extant Biology    34\n",
      "24            UTEP  Amphibian and reptile spec...                        UNKNOWN    25\n",
      "25             YPM                             VZ                        UNKNOWN     8\n",
      "26     iNaturalist                   Observations  iNaturalist research-grade...  5347\n",
      "27     naturgucker                    naturgucker                        UNKNOWN     1\n"
     ]
    }
   ],
   "source": [
    "tables = cursorjup.execute(\"SELECT table_name FROM table_descriptions\").fetchall()\n",
    "tables = [x[0] for x in tables]\n",
    "\n",
    "filter_sets = [gbif_req_id, gbif_filter_id]\n",
    "\n",
    "sources = []\n",
    "for s in filter_sets:\n",
    "    s = s.strip()\n",
    "    for tab in tables:\n",
    "        columns = cursorjup.execute(\"SELECT column_name FROM column_descriptions WHERE table_name = '{0}'\".format(tab)).fetchall()\n",
    "        columns = [x[0] for x in columns]\n",
    "        for col in columns:\n",
    "            try:\n",
    "                a = cursorjup.execute(\"SELECT source FROM {1} WHERE {2} = '{0}'\".format(s, tab, col)).fetchone()[0]\n",
    "                sources.append(a)\n",
    "            except:\n",
    "                pass\n",
    "print(list(set(sources))[0])\n",
    "\n",
    "sources = pd.read_sql(sql=\"SELECT * FROM pre_filter_source_counts;\", con=conn_occ)\n",
    "print(sources)"
   ]
  },
  {
   "cell_type": "markdown",
   "metadata": {},
   "source": [
    "#### Post-filters"
   ]
  },
  {
   "cell_type": "code",
   "execution_count": 11,
   "metadata": {},
   "outputs": [
    {
     "name": "stdout",
     "output_type": "stream",
     "text": [
      "GBIF\n",
      "   institutionCode                 collectionCode                    datasetName  COUNT(occ_id)\n",
      "0      Anymals.org                     user: 1248                        UNKNOWN              2\n",
      "1            BISON  USGS SESC - Biscayne - Her...  USGS SESC - Biscayne - Her...             20\n",
      "2              MCZ                           Herp                        UNKNOWN              2\n",
      "3              MVZ  Amphibian and reptile spec...                        UNKNOWN              2\n",
      "4             NCSM                           Herp    NCSM Herpetology Collection             17\n",
      "5             OMNH                     Amphibians                        UNKNOWN              7\n",
      "6             OMNH                           OCGR  Oklahoma Collection of Gen...              1\n",
      "7               UF                           Herp                        UNKNOWN            171\n",
      "8             USNM          Amphibians & Reptiles            NMNH Extant Biology              3\n",
      "9             UTEP  Amphibian and reptile spec...                        UNKNOWN             15\n",
      "10             YPM                             VZ                        UNKNOWN              1\n",
      "11     iNaturalist                   Observations  iNaturalist research-grade...           3496\n",
      "12     naturgucker                    naturgucker                        UNKNOWN              1\n"
     ]
    }
   ],
   "source": [
    "tables = cursorjup.execute(\"SELECT table_name FROM table_descriptions\").fetchall()\n",
    "tables = [x[0] for x in tables]\n",
    "\n",
    "filter_sets = [gbif_req_id, gbif_filter_id]\n",
    "\n",
    "sources = []\n",
    "for s in filter_sets:\n",
    "    s = s.strip()\n",
    "    for tab in tables:\n",
    "        columns = cursorjup.execute(\"SELECT column_name FROM column_descriptions WHERE table_name = '{0}'\".format(tab)).fetchall()\n",
    "        columns = [x[0] for x in columns]\n",
    "        for col in columns:\n",
    "            try:\n",
    "                a = cursorjup.execute(\"SELECT source FROM {1} WHERE {2} = '{0}'\".format(s, tab, col)).fetchone()[0]\n",
    "                sources.append(a)\n",
    "            except:\n",
    "                pass\n",
    "print(list(set(sources))[0])\n",
    "\n",
    "sql = \"SELECT institutionCode, collectionCode, datasetName, COUNT(occ_id) FROM occurrences GROUP BY institutionCode, collectionCode, datasetName;\"\n",
    "sources = pd.read_sql(sql=sql, con=conn_occ)\n",
    "print(sources)"
   ]
  },
  {
   "cell_type": "markdown",
   "metadata": {},
   "source": [
    "# Bases\n",
    "#### Pre-filter"
   ]
  },
  {
   "cell_type": "code",
   "execution_count": 12,
   "metadata": {},
   "outputs": [
    {
     "name": "stdout",
     "output_type": "stream",
     "text": [
      "         basisOfRecord  count\n",
      "0    HUMAN_OBSERVATION   7535\n",
      "1  MACHINE_OBSERVATION     25\n",
      "2      MATERIAL_SAMPLE      5\n",
      "3   PRESERVED_SPECIMEN   1266\n",
      "4              UNKNOWN      2\n"
     ]
    }
   ],
   "source": [
    "bases = pd.read_sql(sql=\"SELECT value as basisOfRecord, count FROM pre_filter_value_counts WHERE attribute = 'bases';\", con=conn_occ)\n",
    "print(bases)"
   ]
  },
  {
   "cell_type": "markdown",
   "metadata": {},
   "source": [
    "#### Post-filters"
   ]
  },
  {
   "cell_type": "code",
   "execution_count": 13,
   "metadata": {
    "scrolled": true
   },
   "outputs": [
    {
     "name": "stdout",
     "output_type": "stream",
     "text": [
      "         basisOfRecord  count\n",
      "0    HUMAN_OBSERVATION   3519\n",
      "1  MACHINE_OBSERVATION     20\n",
      "2   PRESERVED_SPECIMEN    199\n"
     ]
    }
   ],
   "source": [
    "sql = \"SELECT basisOfRecord, COUNT(occ_id) as count FROM occurrences GROUP BY basisOfRecord;\"\n",
    "bases = pd.read_sql(sql=sql, con=conn_occ)\n",
    "print(bases)"
   ]
  },
  {
   "cell_type": "markdown",
   "metadata": {},
   "source": [
    "# Protocols\n",
    "#### Pre-filters"
   ]
  },
  {
   "cell_type": "code",
   "execution_count": 14,
   "metadata": {
    "scrolled": true
   },
   "outputs": [
    {
     "name": "stdout",
     "output_type": "stream",
     "text": [
      "                 samplingProtocol  count\n",
      "0                     Drift Fence      2\n",
      "1         Opportunistic Encounter      1\n",
      "2                        Trapping    951\n",
      "3                         UNKNOWN   6637\n",
      "4                Visual Encounter    688\n",
      "5   Visual Encounter and 4 fun...      3\n",
      "6    Visual Encounter; Dipnetting      2\n",
      "7     Visual Encounter;Dipnetting      5\n",
      "8                           Vocal    239\n",
      "9                    Vocalization    290\n",
      "10                  alive on road     10\n",
      "11     alive on road/dead on road      2\n",
      "12                   dead on road      3\n"
     ]
    }
   ],
   "source": [
    "protocol = pd.read_sql(sql=\"SELECT value as samplingProtocol, count FROM pre_filter_value_counts WHERE attribute = 'samplingProtocols';\", con=conn_occ)\n",
    "print(protocol)"
   ]
  },
  {
   "cell_type": "markdown",
   "metadata": {},
   "source": [
    "#### Post-filters"
   ]
  },
  {
   "cell_type": "code",
   "execution_count": 15,
   "metadata": {},
   "outputs": [
    {
     "name": "stdout",
     "output_type": "stream",
     "text": [
      "             samplingProtocol  count\n",
      "0                     UNKNOWN   3709\n",
      "1            Visual Encounter      4\n",
      "2                Vocalization     16\n",
      "3               alive on road      6\n",
      "4  alive on road/dead on road      1\n",
      "5                dead on road      2\n"
     ]
    }
   ],
   "source": [
    "sql = \"SELECT samplingProtocol, COUNT(occ_id) as count FROM occurrences GROUP BY samplingProtocol;\"\n",
    "print(pd.read_sql(sql=sql, con=conn_occ))"
   ]
  },
  {
   "cell_type": "markdown",
   "metadata": {},
   "source": [
    "# Issues\n",
    "#### Pre-filters"
   ]
  },
  {
   "cell_type": "code",
   "execution_count": 16,
   "metadata": {
    "scrolled": true
   },
   "outputs": [
    {
     "name": "stdout",
     "output_type": "stream",
     "text": [
      "                                                                             issues  count\n",
      "0                                                        ['COORDINATE_REPROJECTED']      2\n",
      "1                                  ['COORDINATE_ROUNDED', 'COORDINATE_REPROJECTED']      6\n",
      "2   ['COORDINATE_ROUNDED', 'GEODETIC_DATUM_ASSUMED_WGS84', 'COORDINATE_UNCERTAIN...      7\n",
      "3                            ['COORDINATE_ROUNDED', 'GEODETIC_DATUM_ASSUMED_WGS84']   5368\n",
      "4   ['COORDINATE_ROUNDED', 'GEODETIC_DATUM_INVALID', 'GEODETIC_DATUM_ASSUMED_WGS...     27\n",
      "5                                                            ['COORDINATE_ROUNDED']   1642\n",
      "6                                              ['COUNTRY_DERIVED_FROM_COORDINATES']      2\n",
      "7                    ['GEODETIC_DATUM_ASSUMED_WGS84', 'PRESUMED_NEGATED_LONGITUDE']     11\n",
      "8                                                  ['GEODETIC_DATUM_ASSUMED_WGS84']   1136\n",
      "9                                                    ['PRESUMED_NEGATED_LONGITUDE']      3\n",
      "10                                                                               []    629\n"
     ]
    }
   ],
   "source": [
    "iss = pd.read_sql(sql=\"SELECT value as issues, count FROM pre_filter_value_counts WHERE attribute = 'issues';\", con=conn_occ)\n",
    "pd.set_option('display.max_colwidth', 80)\n",
    "print(iss)"
   ]
  },
  {
   "cell_type": "markdown",
   "metadata": {},
   "source": [
    "#### Post-filters"
   ]
  },
  {
   "cell_type": "code",
   "execution_count": 17,
   "metadata": {
    "scrolled": true
   },
   "outputs": [
    {
     "name": "stdout",
     "output_type": "stream",
     "text": [
      "                                                                   issues  count\n",
      "0                                                                            173\n",
      "1                                                      COORDINATE_ROUNDED     39\n",
      "2                         COORDINATE_ROUNDED;GEODETIC_DATUM_ASSUMED_WGS84   2928\n",
      "3  COORDINATE_ROUNDED;GEODETIC_DATUM_INVALID;GEODETIC_DATUM_ASSUMED_WGS84     20\n",
      "4                                        COUNTRY_DERIVED_FROM_COORDINATES      2\n",
      "5                                            GEODETIC_DATUM_ASSUMED_WGS84    575\n",
      "6                                              PRESUMED_NEGATED_LONGITUDE      1\n"
     ]
    }
   ],
   "source": [
    "sql = \"SELECT issues, COUNT(occ_id) as count FROM occurrences GROUP BY issues;\"\n",
    "print(pd.read_sql(sql=sql, con=conn_occ))"
   ]
  },
  {
   "cell_type": "markdown",
   "metadata": {},
   "source": [
    "# Descriptions of filtered records"
   ]
  },
  {
   "cell_type": "markdown",
   "metadata": {},
   "source": [
    "### Years represented"
   ]
  },
  {
   "cell_type": "code",
   "execution_count": 18,
   "metadata": {},
   "outputs": [
    {
     "data": {
      "text/plain": [
       "Text(0.5, 1.0, 'Occurrences per Year')"
      ]
     },
     "execution_count": 18,
     "metadata": {},
     "output_type": "execute_result"
    },
    {
     "data": {
      "image/png": "[encoded data removed]",
      "text/plain": [
       "<Figure size 432x288 with 1 Axes>"
      ]
     },
     "metadata": {
      "needs_background": "light"
     },
     "output_type": "display_data"
    }
   ],
   "source": [
    "occ_years = [int(x[0]) for x in curs_occ.execute(\"SELECT strftime('%Y', occurrenceDate) FROM occurrences\").fetchall()]\n",
    "years = connjup.execute(\"SELECT years_range FROM gbif_requests WHERE request_id = '{0}'\".format(gbif_req_id)).fetchone()[0]\n",
    "years = years.split(',')\n",
    "yearsrng = list(range(int(years[0]), int(years[1]), 1))\n",
    "binsnum = int(years[1]) - int(years[0])\n",
    "plt.hist(occ_years, bins=binsnum)\n",
    "plt.ylabel(\"number of records\")\n",
    "plt.xlabel(\"year\")\n",
    "plt.xticks(yearsrng, rotation=90)\n",
    "plt.title(\"Occurrences per Year\")"
   ]
  },
  {
   "cell_type": "markdown",
   "metadata": {},
   "source": [
    "### Months represented"
   ]
  },
  {
   "cell_type": "code",
   "execution_count": 19,
   "metadata": {},
   "outputs": [
    {
     "data": {
      "text/plain": [
       "Text(0.5, 1.0, 'Occurrences per Month')"
      ]
     },
     "execution_count": 19,
     "metadata": {},
     "output_type": "execute_result"
    },
    {
     "data": {
      "image/png": "[encoded data removed]",
      "text/plain": [
       "<Figure size 432x288 with 1 Axes>"
      ]
     },
     "metadata": {
      "needs_background": "light"
     },
     "output_type": "display_data"
    }
   ],
   "source": [
    "occ_months = [int(x[0]) for x in curs_occ.execute(\"SELECT strftime('%m', occurrenceDate) FROM occurrences\").fetchall()]\n",
    "plt.hist(occ_months, bins=range(1, 14), color=\"g\")\n",
    "plt.ylabel(\"number of records\")\n",
    "plt.xlabel(\"month\")\n",
    "plt.xticks(range(1, 13))\n",
    "plt.title(\"Occurrences per Month\")"
   ]
  },
  {
   "cell_type": "markdown",
   "metadata": {},
   "source": [
    "### Distribution of coordinate uncertainty values"
   ]
  },
  {
   "cell_type": "code",
   "execution_count": 20,
   "metadata": {
    "scrolled": true
   },
   "outputs": [
    {
     "data": {
      "text/plain": [
       "Text(0.5, 1.0, 'Coordinate Uncertainty')"
      ]
     },
     "execution_count": 20,
     "metadata": {},
     "output_type": "execute_result"
    },
    {
     "data": {
      "image/png": "[encoded data removed]",
      "text/plain": [
       "<Figure size 1152x288 with 1 Axes>"
      ]
     },
     "metadata": {
      "needs_background": "light"
     },
     "output_type": "display_data"
    }
   ],
   "source": [
    "occ_cert = [int(x[0]) for x in curs_occ.execute(\"SELECT coordinateUncertaintyInMeters FROM occurrences\").fetchall()]\n",
    "maxi = np.max(occ_cert)\n",
    "plt.figure(figsize=(16,4))\n",
    "plt.hist(occ_cert, bins=50, color=\"r\")\n",
    "plt.xticks(range(0, maxi, int(maxi/50)), rotation=90)\n",
    "plt.ylabel(\"number of records\")\n",
    "plt.xlabel(\"coordinate uncertainty\")\n",
    "plt.title(\"Coordinate Uncertainty\")"
   ]
  },
  {
   "cell_type": "code",
   "execution_count": 21,
   "metadata": {},
   "outputs": [
    {
     "data": {
      "text/plain": [
       "Text(0.5, 1.0, 'Coordinate Uncertainty - Zoomed In')"
      ]
     },
     "execution_count": 21,
     "metadata": {},
     "output_type": "execute_result"
    },
    {
     "data": {
      "image/png": "[encoded data removed]",
      "text/plain": [
       "<Figure size 864x288 with 1 Axes>"
      ]
     },
     "metadata": {
      "needs_background": "light"
     },
     "output_type": "display_data"
    }
   ],
   "source": [
    "rng_max = 2000\n",
    "occ_cert2 = [x for x in occ_cert if x <= rng_max]\n",
    "plt.figure(figsize=(12,4))\n",
    "plt.hist(occ_cert2, bins=30, color=\"m\", align='mid')\n",
    "plt.xticks(range(0, rng_max + 100, int(rng_max/30.)), rotation=90)\n",
    "plt.ylabel(\"number of records\")\n",
    "plt.xlabel(\"coordinate uncertainty\")\n",
    "plt.title(\"Coordinate Uncertainty - Zoomed In\")"
   ]
  },
  {
   "cell_type": "markdown",
   "metadata": {},
   "source": [
    "### Establishment means reported"
   ]
  },
  {
   "cell_type": "code",
   "execution_count": 22,
   "metadata": {},
   "outputs": [
    {
     "name": "stdout",
     "output_type": "stream",
     "text": [
      "UNKNOWN\n"
     ]
    }
   ],
   "source": [
    "establishment = curs_occ.execute(\"SELECT vals FROM unique_values WHERE field = 'establishment' AND step = 'filter';\").fetchall()[0]\n",
    "for est in establishment:\n",
    "    est = est.replace('[', '').strip().replace(']', '').replace(\"'\", \"\")\n",
    "    print(est)"
   ]
  },
  {
   "cell_type": "markdown",
   "metadata": {},
   "source": [
    "### Identification qualifiers included"
   ]
  },
  {
   "cell_type": "code",
   "execution_count": 23,
   "metadata": {},
   "outputs": [
    {
     "name": "stdout",
     "output_type": "stream",
     "text": [
      "UNKNOWN, A\n"
     ]
    }
   ],
   "source": [
    "quali = curs_occ.execute(\"SELECT DISTINCT vals FROM unique_values WHERE field = 'IDqualifier' AND step = 'filter';\").fetchall()[0]\n",
    "for q in quali:\n",
    "    q = q.replace('[', '').strip().replace(']', '').replace(\"'\", \"\")\n",
    "    print(q)"
   ]
  },
  {
   "cell_type": "markdown",
   "metadata": {},
   "source": [
    "### Remarks included"
   ]
  },
  {
   "cell_type": "code",
   "execution_count": 24,
   "metadata": {
    "scrolled": true
   },
   "outputs": [
    {
     "name": "stdout",
     "output_type": "stream",
     "text": [
      "More than 20 remarks, consult the occurrence database.\n"
     ]
    }
   ],
   "source": [
    "remarks = curs_occ.execute(\"SELECT DISTINCT remarks FROM occurrences;\").fetchall()\n",
    "if len(remarks) <= 20:\n",
    "    try:\n",
    "        for rem in remarks:\n",
    "            if rem[0][0:1] == ';':\n",
    "                print(rem[0][2:])\n",
    "            else:\n",
    "                print(rem[0])\n",
    "    except:\n",
    "        pass\n",
    "else:\n",
    "    print(\"More than 20 remarks, consult the occurrence database.\")"
   ]
  },
  {
   "cell_type": "markdown",
   "metadata": {},
   "source": [
    "### Attributes returned for the records in the request (pre-filters)"
   ]
  },
  {
   "cell_type": "code",
   "execution_count": 25,
   "metadata": {
    "scrolled": false
   },
   "outputs": [
    {
     "name": "stdout",
     "output_type": "stream",
     "text": [
      "                                               attribute  included(n)  populated(n)\n",
      "Field                                                                              \n",
      "0                                 acceptedScientificName         8833          8833\n",
      "1                                       acceptedTaxonKey         8833          8833\n",
      "2                                           accessRights          664           664\n",
      "3                                  associatedOccurrences            2             2\n",
      "4                                   associatedReferences            4             4\n",
      "5                                    associatedSequences          155           155\n",
      "6                                          basisOfRecord         8833          8833\n",
      "7                                               behavior            2             2\n",
      "8                                  bibliographicCitation          584           584\n",
      "9                                          catalogNumber         8823          8823\n",
      "10                                                 class         8833          8833\n",
      "11                                              classKey         8833          8833\n",
      "12                                        collectionCode         8826          8826\n",
      "13                                          collectionID         2789          2789\n",
      "14                                             continent         1114          1114\n",
      "15                                   coordinatePrecision           26            26\n",
      "16                         coordinateUncertaintyInMeters         4622          4622\n",
      "17                                               country         8833          8833\n",
      "18                                           countryCode         8833          8833\n",
      "19                                                county         1289          1289\n",
      "20                                               crawlId         8833          8833\n",
      "21                                   dataGeneralizations            4             4\n",
      "22                                             datasetID         2330          2330\n",
      "23                                            datasetKey         8833          8833\n",
      "24                                           datasetName         7891          7891\n",
      "25                                        dateIdentified         5271          5271\n",
      "26                                                   day         8826          8826\n",
      "27                                       decimalLatitude         8833          8833\n",
      "28                                      decimalLongitude         8833          8833\n",
      "29                                           disposition          151           151\n",
      "30                                     dynamicProperties           37            37\n",
      "31                                             elevation           43            43\n",
      "32                                     elevationAccuracy           41            41\n",
      "33                                          endDayOfYear          524           524\n",
      "34                                    establishmentMeans          457           457\n",
      "35                                             eventDate         8833          8833\n",
      "36                                          eventRemarks          851           851\n",
      "37                                             eventTime         4904          4904\n",
      "38                                            extensions         8833             0\n",
      "39                                                 facts         8833             0\n",
      "40                                                family         8833          8833\n",
      "41                                             familyKey         8833          8833\n",
      "42                                           fieldNumber          341           341\n",
      "43                                                gbifID         8833          8833\n",
      "44                                           genericName         8833          8833\n",
      "45                                                 genus         8833          8833\n",
      "46                                              genusKey         8833          8833\n",
      "47                                         geodeticDatum         8833          8833\n",
      "48                                  georeferenceProtocol          113           113\n",
      "49                                   georeferenceRemarks           31            31\n",
      "50                                   georeferenceSources          238           238\n",
      "51                        georeferenceVerificationStatus          644           644\n",
      "52                                       georeferencedBy           71            71\n",
      "53                                     georeferencedDate           74            74\n",
      "54                                               habitat           20            20\n",
      "55                                  higherClassification          543           543\n",
      "56                                       higherGeography          806           806\n",
      "57         http://rs.tdwg.org/dwc/terms/organismQuantity            3             3\n",
      "58     http://rs.tdwg.org/dwc/terms/organismQuantityType            7             7\n",
      "59                           http://unknown.org/language            1             1\n",
      "60                               http://unknown.org/nick         5347          5347\n",
      "61                  http://unknown.org/occurrenceDetails         5347          5347\n",
      "62                             http://unknown.org/rights            1             1\n",
      "63                       http://unknown.org/rightsHolder            1             1\n",
      "64                                      identificationID         5172          5172\n",
      "65                               identificationQualifier           39            39\n",
      "66                                 identificationRemarks           48            48\n",
      "67                      identificationVerificationStatus           39            39\n",
      "68                                          identifiedBy          363           363\n",
      "69                                       identifiedByIDs         8833            21\n",
      "70                                            identifier         8830          8830\n",
      "71                                           identifiers         8833             0\n",
      "72                                       individualCount         1090          1090\n",
      "73                                   informationWithheld          743           743\n",
      "74                                  infraspecificEpithet            1             1\n",
      "75                                       installationKey         8833          8833\n",
      "76                                       institutionCode         8826          8826\n",
      "77                                         institutionID         2877          2877\n",
      "78                                                issues         8833          8204\n",
      "79                                                   key         8833          8833\n",
      "80                                               kingdom         8833          8833\n",
      "81                                            kingdomKey         8833          8833\n",
      "82                                              language         3036          3036\n",
      "83                                           lastCrawled         8833          8833\n",
      "84                                       lastInterpreted         8833          8833\n",
      "85                                            lastParsed         8833          8833\n",
      "86                                               license         8833          8833\n",
      "87                                             lifeStage          143           143\n",
      "88                                              locality         1283          1283\n",
      "89                                   locationAccordingTo           39            39\n",
      "90                                            locationID           39            39\n",
      "91                                       locationRemarks           17            17\n",
      "92                                                 media         8833          4993\n",
      "93                                              modified         6412          6412\n",
      "94                                                 month         8833          8833\n",
      "95                                          municipality            8             8\n",
      "96                                       nameAccordingTo         2181          2181\n",
      "97                                     nameAccordingToID         2181          2181\n",
      "98                                           networkKeys           39            39\n",
      "99                                     nomenclaturalCode          506           506\n",
      "100                                         occurrenceID         8830          8830\n",
      "101                                    occurrenceRemarks         1280          1280\n",
      "102                                     occurrenceStatus          463           463\n",
      "103                                                order         8833          8833\n",
      "104                                             orderKey         8833          8833\n",
      "105                                           organismID           39            39\n",
      "106                                     organismQuantity            3             3\n",
      "107                                 organismQuantityType            7             7\n",
      "108                                  otherCatalogNumbers           66            66\n",
      "109                                 ownerInstitutionCode          159           159\n",
      "110                                               phylum         8833          8833\n",
      "111                                            phylumKey         8833          8833\n",
      "112                                         preparations         1140          1140\n",
      "113                              previousIdentifications           47            47\n",
      "114                                             protocol         8833          8833\n",
      "115                                    publishingCountry         8832          8832\n",
      "116                                     publishingOrgKey         8833          8833\n",
      "117                                         recordNumber          567           567\n",
      "118                                           recordedBy         8643          8643\n",
      "119                                        recordedByIDs         8833            18\n",
      "120                                           references         6008          6008\n",
      "121                                            relations         8833             0\n",
      "122                                reproductiveCondition            2             2\n",
      "123                                               rights         5351          5351\n",
      "124                                         rightsHolder         5506          5506\n",
      "125                                     samplingProtocol         2196          2196\n",
      "126                                       scientificName         8833          8833\n",
      "127                                                  sex          471           471\n",
      "128                                              species         8833          8833\n",
      "129                                           speciesKey         8833          8833\n",
      "130                                      specificEpithet         8832          8832\n",
      "131                                       startDayOfYear          490           490\n",
      "132                                        stateProvince         6645          6645\n",
      "133                                       taxonConceptID            1             1\n",
      "134                                              taxonID         7531          7531\n",
      "135                                             taxonKey         8833          8833\n",
      "136                                            taxonRank         8833          8833\n",
      "137                                         taxonRemarks          845           845\n",
      "138                                      taxonomicStatus         8833          8833\n",
      "139                                                 type         2888          2888\n",
      "140                             verbatimCoordinateSystem         2239          2239\n",
      "141                                    verbatimElevation          236           236\n",
      "142                                    verbatimEventDate         5853          5853\n",
      "143                                     verbatimLocality         5853          5853\n",
      "144                                          verbatimSRS           48            48\n",
      "145                                       vernacularName         1135          1135\n",
      "146                                                 year         8833          8833\n"
     ]
    }
   ],
   "source": [
    "fields_summary = pd.read_sql(\"SELECT * FROM gbif_fields_returned\", conn_occ)#, index_col='index')\n",
    "fields_summary.index.name = 'Field'\n",
    "pd.set_option('display.max_rows', 250)\n",
    "print(fields_summary)"
   ]
  },
  {
   "cell_type": "markdown",
   "metadata": {},
   "source": [
    "### Runtime"
   ]
  },
  {
   "cell_type": "code",
   "execution_count": 26,
   "metadata": {},
   "outputs": [
    {
     "name": "stdout",
     "output_type": "stream",
     "text": [
      "0:08:31.834990\n"
     ]
    }
   ],
   "source": [
    "t2 = datetime.now()\n",
    "print(t2 - t1)"
   ]
  },
  {
   "cell_type": "code",
   "execution_count": null,
   "metadata": {},
   "outputs": [],
   "source": []
  }
 ],
 "metadata": {
  "kernelspec": {
   "display_name": "Python 3",
   "language": "python",
   "name": "python3"
  },
  "language_info": {
   "codemirror_mode": {
    "name": "ipython",
    "version": 3
   },
   "file_extension": ".py",
   "mimetype": "text/x-python",
   "name": "python",
   "nbconvert_exporter": "python",
   "pygments_lexer": "ipython3",
   "version": "3.6.5"
  }
 },
 "nbformat": 4,
 "nbformat_minor": 2
}
