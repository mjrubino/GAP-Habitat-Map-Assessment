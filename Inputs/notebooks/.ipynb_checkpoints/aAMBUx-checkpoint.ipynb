{
 "cells": [
  {
   "cell_type": "markdown",
   "metadata": {},
   "source": [
    "# Occurrence Records from GBIF\n",
    "This notebook is a tool for exploring data sets requested from GBIF (and eventually other sources), and mostly for developing criteria for filtering records (filter sets).  When the entire notebook is run, it retrieves records according to the filter sets specified and saves the results (records and some summary tables) in an sqlite database.  Some information is pulled from the parameters.sqlite database that is saved in this repository."
   ]
  },
  {
   "cell_type": "markdown",
   "metadata": {},
   "source": [
    "### Set Variables - fill out stuff in this cell.  \n",
    "Notes:\n",
    "default_coordUncertainty -- coordinateUncertaintyInMeters is often not provided.  Here is an option to use a default.  If you don't want anything entered, set this equal to False (boolean, not string)."
   ]
  },
  {
   "cell_type": "code",
   "execution_count": 1,
   "metadata": {},
   "outputs": [],
   "source": [
    "species_id = 'aambux0'\n",
    "summary_name = 'American Bullfrog'\n",
    "gbif_req_id = 'EvalGBIFRequest'\n",
    "gbif_filter_id = 'EvalGBIFFilter'\n",
    "default_coordUncertainty = False       # Note above.\n",
    "workDir = 'D:/USGS Analyses/GAP-Habitat-Map-Assessment/'   # Be sure to create folders named \"Inputs\" and \"Outputs\" here.\n",
    "codeDir = workDir + 'Scripts/'\n",
    "dbDir = workDir + 'db/'\n",
    "paramdb = dbDir + 'wildlife-wrangler.sqlite'\n",
    "configDir = workDir  # Path to folder where saved your wildlifeconfig file."
   ]
  },
  {
   "cell_type": "markdown",
   "metadata": {},
   "source": [
    "### Setup - nothing to fill out in this cell"
   ]
  },
  {
   "cell_type": "code",
   "execution_count": 2,
   "metadata": {},
   "outputs": [
    {
     "name": "stdout",
     "output_type": "stream",
     "text": [
      "Notebook run 2020-05-06 14:04:32.383823\n",
      "D:/USGS Analyses/GAP-Habitat-Map-Assessment/Outputs/aambux0EvalGBIFRequestEvalGBIFFilter.sqlite\n"
     ]
    }
   ],
   "source": [
    "%matplotlib inline\n",
    "import sqlite3\n",
    "import pprint\n",
    "import json\n",
    "import pandas as pd\n",
    "import numpy as np\n",
    "pd.set_option('display.width', 600)\n",
    "pd.set_option('display.max_colwidth', 30)\n",
    "pd.set_option('display.max_rows', 150)\n",
    "from IPython.display import Image\n",
    "from pygbif import occurrences\n",
    "import matplotlib.pyplot as plt\n",
    "import os\n",
    "from datetime import datetime\n",
    "t1 = datetime.now()\n",
    "import sys\n",
    "sys.path.append(configDir)\n",
    "import config\n",
    "sys.path.append(codeDir)\n",
    "import repo_functions as functions\n",
    "inDir = workDir + 'Inputs/'\n",
    "outDir = workDir + 'Outputs/'\n",
    "spdb = outDir + species_id + gbif_req_id + gbif_filter_id + '.sqlite'\n",
    "username = config.gbif_username\n",
    "password = config.gbif_password\n",
    "email = config.gbif_email\n",
    "print(\"Notebook run \" + str(t1))\n",
    "print(spdb)\n",
    "connjup = sqlite3.connect(paramdb)\n",
    "cursorjup = connjup.cursor()\n",
    "# Get some variables\n",
    "years = connjup.execute(\"\"\"SELECT years_range \n",
    "                           FROM gbif_requests WHERE request_id = '{0}'\"\"\".format(gbif_req_id)).fetchone()[0]\n",
    "gap_id = connjup.execute(\"\"\"SELECT gap_id\n",
    "                            FROM species_concepts WHERE species_id = '{0}'\"\"\".format(species_id)).fetchone()[0]\n",
    "common_name = connjup.execute(\"\"\"SELECT common_name\n",
    "                                 FROM species_concepts WHERE species_id = '{0}'\"\"\".format(species_id)).fetchone()[0]"
   ]
  },
  {
   "cell_type": "markdown",
   "metadata": {},
   "source": [
    "# Species Concept\n",
    "Display information on the species from the parameters.sqlite database."
   ]
  },
  {
   "cell_type": "code",
   "execution_count": 3,
   "metadata": {},
   "outputs": [
    {
     "name": "stdout",
     "output_type": "stream",
     "text": [
      "SPECIES CONCEPT RECORD\n",
      "                                                   VALUE\n",
      "ATTRIBUTE                                               \n",
      "species_id                                       aambux0\n",
      "fws_id                                              None\n",
      "gap_id                                            aAMBUx\n",
      "itis_tsn                                          775084\n",
      "gbif_id                                          2427091\n",
      "bcb_id                                              None\n",
      "ebird_id                                            None\n",
      "common_name                            American Bullfrog\n",
      "scientific_name                  Lithobates catesbeianus\n",
      "start_year                                          1802\n",
      "split_from                                          None\n",
      "end_year                                            None\n",
      "lumped_into                                         None\n",
      "geometry                                            None\n",
      "detection_distance_meters                              0\n",
      "vetted_how                                  NS,GBIF,IUCN\n",
      "vetted_who                                     M. Rubino\n",
      "vetted_date                                     4/3/2020\n",
      "notes                      Basionym: Rana catesbeiana...\n"
     ]
    }
   ],
   "source": [
    "vals = cursorjup.execute(\"SELECT * FROM species_concepts WHERE species_id = '{0}';\".format(species_id)).fetchall()[0]\n",
    "cols = [x[1] for x in cursorjup.execute(\"PRAGMA table_info('species_concepts')\").fetchall()]\n",
    "sp_dict = dict(zip(cols, vals))\n",
    "sp_df = pd.DataFrame.from_dict(sp_dict, orient='index', columns=['VALUE'])\n",
    "sp_df.index.name = 'ATTRIBUTE'\n",
    "print(\"SPECIES CONCEPT RECORD\")\n",
    "print(sp_df)"
   ]
  },
  {
   "cell_type": "markdown",
   "metadata": {},
   "source": [
    "# Filters\n",
    "Display the parameters of the request filter set.  These are deployed during the step where records are retrieved from the API."
   ]
  },
  {
   "cell_type": "code",
   "execution_count": 4,
   "metadata": {},
   "outputs": [
    {
     "name": "stdout",
     "output_type": "stream",
     "text": [
      "THE REQUEST FILTER SET\n",
      "request_id                    EvalGBIFRequest\n",
      "source                                   GBIF\n",
      "lat_range                                None\n",
      "lon_range                                None\n",
      "years_range                         1999,2020\n",
      "months_range                             1,12\n",
      "geoissue                                False\n",
      "coordinate                               True\n",
      "country                                    US\n",
      "geometry                                 None\n",
      "creator                             M. Rubino\n",
      "notes           amphibian evaluation reque...\n",
      "Name: 0, dtype: object\n"
     ]
    }
   ],
   "source": [
    "request_df = pd.read_sql_query(sql=\"SELECT * FROM gbif_requests WHERE request_id = '{0}'\".format(gbif_req_id), con=connjup)\n",
    "print(\"THE REQUEST FILTER SET\")\n",
    "print(request_df.loc[0])"
   ]
  },
  {
   "cell_type": "markdown",
   "metadata": {},
   "source": [
    "Display the parameters of the post-request filter set.  These are deployed after the records are retrieved from the API, but before they are stored in the occurrence record sqlite database."
   ]
  },
  {
   "cell_type": "code",
   "execution_count": 5,
   "metadata": {},
   "outputs": [
    {
     "name": "stdout",
     "output_type": "stream",
     "text": [
      "THE POST REQUEST FILTER SET\n",
      "filter_id                                    EvalGBIFFilter\n",
      "dataset                                                GBIF\n",
      "institutions_omit                                      None\n",
      "collection_codes_omit                                  None\n",
      "datasets_omit                                          None\n",
      "has_coordinate_uncertainty                                1\n",
      "max_coordinate_uncertainty                            10000\n",
      "bases_omit                                  FOSSIL_SPECIMEN\n",
      "sampling_protocols_omit                                None\n",
      "issues_omit                                            None\n",
      "duplicates_OK                                         False\n",
      "creator                                           M. Rubino\n",
      "notes                         amphibian evaluation filte...\n",
      "Name: 0, dtype: object\n"
     ]
    }
   ],
   "source": [
    "filter_df = pd.read_sql_query(sql=\"SELECT * FROM gbif_filters WHERE filter_id = '{0}'\".format(gbif_filter_id), con=connjup)\n",
    "print(\"THE POST REQUEST FILTER SET\")\n",
    "print(filter_df.loc[0])"
   ]
  },
  {
   "cell_type": "code",
   "execution_count": 6,
   "metadata": {
    "scrolled": false
   },
   "outputs": [
    {
     "name": "stdout",
     "output_type": "stream",
     "text": [
      "SPATIALITE_SECURITY set to relaxed\n",
      "Created occurrence db: 0:00:00.262738\n",
      "Got request params and sorted out geometry constraints: 0:00:00\n",
      "14482 records available\n",
      "Downloaded records: 0:02:37.046667\n",
      "Summarized fields returned: 0:12:19.707394\n",
      "Created summary table of request results: 0:00:00.058903\n",
      "Performed post-request filtering: 0:00:00.069037\n",
      "Calculated new columns, deleted some too: 0:00:00.069043\n",
      "638 duplicate records dropped: 0:00:06.321672\n",
      "Inserted records into table: 0:00:00.207774\n",
      "Summarized unique values retained: 0:00:00.015635\n",
      "Updated occurrences table geometry column: 0:00:01.126557\n",
      "Buffered points: 0:00:05.087297\n"
     ]
    }
   ],
   "source": [
    "functions.retrieve_gbif_occurrences(codeDir, species_id, inDir, paramdb, spdb, gbif_req_id, gbif_filter_id, \n",
    "                                    default_coordUncertainty, outDir, summary_name, username,\n",
    "                                   password, email)"
   ]
  },
  {
   "cell_type": "code",
   "execution_count": 7,
   "metadata": {},
   "outputs": [
    {
     "name": "stdout",
     "output_type": "stream",
     "text": [
      "codeDir: D:/USGS Analyses/GAP-Habitat-Map-Assessment/Scripts/\n",
      " species_id: aambux0\n",
      " inDir: D:/USGS Analyses/GAP-Habitat-Map-Assessment/Inputs/\n",
      " paramdb: D:/USGS Analyses/GAP-Habitat-Map-Assessment/db/wildlife-wrangler.sqlite\n",
      " spdb: D:/USGS Analyses/GAP-Habitat-Map-Assessment/Outputs/aambux0EvalGBIFRequestEvalGBIFFilter.sqlite\n",
      " gbif_req_id: EvalGBIFRequest\n",
      " gbif_filter_id: EvalGBIFFilter\n",
      " default_coordUncertainty: False\n",
      " outDir: D:/USGS Analyses/GAP-Habitat-Map-Assessment/Outputs/\n",
      " summary_name: American Bullfrog\n",
      " username: gapper\n",
      " password: metspirates\n",
      " email: pythonprocessing@gmail.com\n"
     ]
    }
   ],
   "source": [
    "print('codeDir: '+codeDir+'\\n', \n",
    "'species_id: '+species_id+'\\n', \n",
    "'inDir: '+inDir+'\\n', \n",
    "'paramdb: '+paramdb+'\\n', \n",
    "'spdb: '+spdb+'\\n', \n",
    "'gbif_req_id: '+gbif_req_id+'\\n', \n",
    "'gbif_filter_id: '+gbif_filter_id+'\\n', \n",
    "'default_coordUncertainty: '+str(default_coordUncertainty)+'\\n', \n",
    "'outDir: '+outDir+'\\n', \n",
    "'summary_name: '+summary_name+'\\n', \n",
    "'username: '+username+'\\n',\n",
    "'password: '+password+'\\n', \n",
    "'email: '+email)"
   ]
  },
  {
   "cell_type": "markdown",
   "metadata": {},
   "source": [
    "### Connect to output database, record species and filter info."
   ]
  },
  {
   "cell_type": "code",
   "execution_count": 8,
   "metadata": {},
   "outputs": [],
   "source": [
    "conn_occ= sqlite3.connect(spdb)\n",
    "curs_occ = conn_occ.cursor()\n",
    "sp_df.to_sql(name='species_concept', con=conn_occ, if_exists='replace')\n",
    "request_df.to_sql(name=gbif_req_id, con=conn_occ, if_exists='replace')\n",
    "filter_df.to_sql(name=gbif_filter_id, con=conn_occ, if_exists='replace')"
   ]
  },
  {
   "cell_type": "markdown",
   "metadata": {},
   "source": [
    "### How many records made it through the filters?\n",
    "This is the number that was actually saved in the occurrence record sqlite database."
   ]
  },
  {
   "cell_type": "code",
   "execution_count": 9,
   "metadata": {},
   "outputs": [
    {
     "name": "stdout",
     "output_type": "stream",
     "text": [
      "7547 records\n"
     ]
    }
   ],
   "source": [
    "record_count = curs_occ.execute(\"SELECT COUNT(occ_id) FROM occurrences WHERE species_id = '{0}'\".format(species_id)).fetchone()\n",
    "print(str(record_count[0]) + \" records\")"
   ]
  },
  {
   "cell_type": "markdown",
   "metadata": {},
   "source": [
    "# Sources\n",
    "#### Pre-filters"
   ]
  },
  {
   "cell_type": "code",
   "execution_count": 10,
   "metadata": {},
   "outputs": [
    {
     "name": "stdout",
     "output_type": "stream",
     "text": [
      "GBIF\n",
      "                  institutionCode                 collectionCode                    datasetName      0\n",
      "0                             AUM                          Herps                        UNKNOWN     27\n",
      "1                            BGBM                           BoBO                        UNKNOWN      1\n",
      "2   BSC; Bird Studies Canada -...  MMP; Marsh Monitoring Prog...                        UNKNOWN    527\n",
      "3   Borror Laboratory of Bioac...                     Recordings                        UNKNOWN      3\n",
      "4                             CAS                           HERP                        UNKNOWN    185\n",
      "5                           CCBER                          Herps                        UNKNOWN      8\n",
      "6                             CLO                             ML                        UNKNOWN     35\n",
      "7                              CM                          Herps                        UNKNOWN      6\n",
      "8                            CUMV                          Herps                        UNKNOWN      2\n",
      "9                            FHSM                           HERP                        UNKNOWN     78\n",
      "10                            GSU                       GSU-Herp  Georgia Southern Universit...      1\n",
      "11                             KU                            KUH  University of Kansas Biodi...     87\n",
      "12                           LACM                          Herps               LACM Vertebrates    142\n",
      "13                          LSUMZ                          Herps                        UNKNOWN      2\n",
      "14                            MCZ                           Herp                        UNKNOWN     40\n",
      "15                            MPM                              H                        UNKNOWN      1\n",
      "16                            MSB  Amphibian and reptile spec...                        UNKNOWN    448\n",
      "17                            MVZ  Amphibian and reptile spec...                        UNKNOWN     28\n",
      "18                           NCSM                           Herp    NCSM Herpetology Collection    140\n",
      "19                           OMNH                     Amphibians                        UNKNOWN    415\n",
      "20                           OMNH                           OCGR  Oklahoma Collection of Gen...    435\n",
      "21                            PSM                           Herp                        UNKNOWN      5\n",
      "22                            ROM        Reptiles and Amphibians                    Herpetology    156\n",
      "23                          SBMNH                             HE                        UNKNOWN     13\n",
      "24                          SDNHM                          Herps                        UNKNOWN     34\n",
      "25                            SLU                          Herps                        UNKNOWN      1\n",
      "26                           TCWC                    Herpetology                        UNKNOWN    146\n",
      "27                            UAZ                    Herpetology                        UNKNOWN     68\n",
      "28                            UCM  Amphibian and reptile spec...                        UNKNOWN      7\n",
      "29                             UF                           Herp                        UNKNOWN     55\n",
      "30                        UNKNOWN                        UNKNOWN                        UNKNOWN    522\n",
      "31                            UNR                    Herpetology                        UNKNOWN      3\n",
      "32                           USNM          Amphibians & Reptiles            NMNH Extant Biology     30\n",
      "33                           UTEP  Amphibian and reptile spec...                        UNKNOWN     29\n",
      "34                           UWBM  Amphibian and reptile spec...                        UNKNOWN      1\n",
      "35                            YPM                             VZ                        UNKNOWN    531\n",
      "36                    iNaturalist                   Observations  iNaturalist research-grade...  10262\n",
      "37                    naturgucker                    naturgucker                        UNKNOWN      8\n"
     ]
    }
   ],
   "source": [
    "tables = cursorjup.execute(\"SELECT table_name FROM table_descriptions\").fetchall()\n",
    "tables = [x[0] for x in tables]\n",
    "\n",
    "filter_sets = [gbif_req_id, gbif_filter_id]\n",
    "\n",
    "sources = []\n",
    "for s in filter_sets:\n",
    "    s = s.strip()\n",
    "    for tab in tables:\n",
    "        columns = cursorjup.execute(\"SELECT column_name FROM column_descriptions WHERE table_name = '{0}'\".format(tab)).fetchall()\n",
    "        columns = [x[0] for x in columns]\n",
    "        for col in columns:\n",
    "            try:\n",
    "                a = cursorjup.execute(\"SELECT source FROM {1} WHERE {2} = '{0}'\".format(s, tab, col)).fetchone()[0]\n",
    "                sources.append(a)\n",
    "            except:\n",
    "                pass\n",
    "print(list(set(sources))[0])\n",
    "\n",
    "sources = pd.read_sql(sql=\"SELECT * FROM pre_filter_source_counts;\", con=conn_occ)\n",
    "print(sources)"
   ]
  },
  {
   "cell_type": "markdown",
   "metadata": {},
   "source": [
    "#### Post-filters"
   ]
  },
  {
   "cell_type": "code",
   "execution_count": 11,
   "metadata": {},
   "outputs": [
    {
     "name": "stdout",
     "output_type": "stream",
     "text": [
      "GBIF\n",
      "   institutionCode                 collectionCode                    datasetName  COUNT(occ_id)\n",
      "0             BGBM                           BoBO                        UNKNOWN              1\n",
      "1              CAS                           HERP                        UNKNOWN              5\n",
      "2               CM                          Herps                        UNKNOWN              4\n",
      "3             CUMV                          Herps                        UNKNOWN              2\n",
      "4             LACM                          Herps               LACM Vertebrates             21\n",
      "5              MCZ                           Herp                        UNKNOWN             35\n",
      "6              MSB  Amphibian and reptile spec...                        UNKNOWN             20\n",
      "7              MVZ  Amphibian and reptile spec...                        UNKNOWN              7\n",
      "8             NCSM                           Herp    NCSM Herpetology Collection             37\n",
      "9             OMNH                     Amphibians                        UNKNOWN              5\n",
      "10            OMNH                           OCGR  Oklahoma Collection of Gen...              1\n",
      "11             PSM                           Herp                        UNKNOWN              2\n",
      "12           SDNHM                          Herps                        UNKNOWN              7\n",
      "13              UF                           Herp                        UNKNOWN             37\n",
      "14            USNM          Amphibians & Reptiles            NMNH Extant Biology              4\n",
      "15            UTEP  Amphibian and reptile spec...                        UNKNOWN             18\n",
      "16             YPM                             VZ                        UNKNOWN             77\n",
      "17     iNaturalist                   Observations  iNaturalist research-grade...           7256\n",
      "18     naturgucker                    naturgucker                        UNKNOWN              8\n"
     ]
    }
   ],
   "source": [
    "tables = cursorjup.execute(\"SELECT table_name FROM table_descriptions\").fetchall()\n",
    "tables = [x[0] for x in tables]\n",
    "\n",
    "filter_sets = [gbif_req_id, gbif_filter_id]\n",
    "\n",
    "sources = []\n",
    "for s in filter_sets:\n",
    "    s = s.strip()\n",
    "    for tab in tables:\n",
    "        columns = cursorjup.execute(\"SELECT column_name FROM column_descriptions WHERE table_name = '{0}'\".format(tab)).fetchall()\n",
    "        columns = [x[0] for x in columns]\n",
    "        for col in columns:\n",
    "            try:\n",
    "                a = cursorjup.execute(\"SELECT source FROM {1} WHERE {2} = '{0}'\".format(s, tab, col)).fetchone()[0]\n",
    "                sources.append(a)\n",
    "            except:\n",
    "                pass\n",
    "print(list(set(sources))[0])\n",
    "\n",
    "sql = \"SELECT institutionCode, collectionCode, datasetName, COUNT(occ_id) FROM occurrences GROUP BY institutionCode, collectionCode, datasetName;\"\n",
    "sources = pd.read_sql(sql=sql, con=conn_occ)\n",
    "print(sources)"
   ]
  },
  {
   "cell_type": "markdown",
   "metadata": {},
   "source": [
    "# Bases\n",
    "#### Pre-filter"
   ]
  },
  {
   "cell_type": "code",
   "execution_count": 12,
   "metadata": {},
   "outputs": [
    {
     "name": "stdout",
     "output_type": "stream",
     "text": [
      "         basisOfRecord  count\n",
      "0    HUMAN_OBSERVATION  10282\n",
      "1  MACHINE_OBSERVATION     41\n",
      "2      MATERIAL_SAMPLE      4\n",
      "3          OBSERVATION    527\n",
      "4   PRESERVED_SPECIMEN   3117\n",
      "5              UNKNOWN    511\n"
     ]
    }
   ],
   "source": [
    "bases = pd.read_sql(sql=\"SELECT value as basisOfRecord, count FROM pre_filter_value_counts WHERE attribute = 'bases';\", con=conn_occ)\n",
    "print(bases)"
   ]
  },
  {
   "cell_type": "markdown",
   "metadata": {},
   "source": [
    "#### Post-filters"
   ]
  },
  {
   "cell_type": "code",
   "execution_count": 13,
   "metadata": {
    "scrolled": true
   },
   "outputs": [
    {
     "name": "stdout",
     "output_type": "stream",
     "text": [
      "         basisOfRecord  count\n",
      "0    HUMAN_OBSERVATION   7265\n",
      "1  MACHINE_OBSERVATION      6\n",
      "2   PRESERVED_SPECIMEN    276\n"
     ]
    }
   ],
   "source": [
    "sql = \"SELECT basisOfRecord, COUNT(occ_id) as count FROM occurrences GROUP BY basisOfRecord;\"\n",
    "bases = pd.read_sql(sql=sql, con=conn_occ)\n",
    "print(bases)"
   ]
  },
  {
   "cell_type": "markdown",
   "metadata": {},
   "source": [
    "# Protocols\n",
    "#### Pre-filters"
   ]
  },
  {
   "cell_type": "code",
   "execution_count": 14,
   "metadata": {
    "scrolled": true
   },
   "outputs": [
    {
     "name": "stdout",
     "output_type": "stream",
     "text": [
      "         samplingProtocol  count\n",
      "0             Electrofish      3\n",
      "1             Minnow trap      2\n",
      "2                   Seine      8\n",
      "3                 UNKNOWN  14441\n",
      "4           alive on road     13\n",
      "5          call listening      8\n",
      "6            dead on road      2\n",
      "7  fish traps and by hand      1\n",
      "8       grab, scrape, tow      1\n",
      "9          none specified      3\n"
     ]
    }
   ],
   "source": [
    "protocol = pd.read_sql(sql=\"SELECT value as samplingProtocol, count FROM pre_filter_value_counts WHERE attribute = 'samplingProtocols';\", con=conn_occ)\n",
    "print(protocol)"
   ]
  },
  {
   "cell_type": "markdown",
   "metadata": {},
   "source": [
    "#### Post-filters"
   ]
  },
  {
   "cell_type": "code",
   "execution_count": 15,
   "metadata": {},
   "outputs": [
    {
     "name": "stdout",
     "output_type": "stream",
     "text": [
      "  samplingProtocol  count\n",
      "0          UNKNOWN   7540\n",
      "1    alive on road      6\n",
      "2     dead on road      1\n"
     ]
    }
   ],
   "source": [
    "sql = \"SELECT samplingProtocol, COUNT(occ_id) as count FROM occurrences GROUP BY samplingProtocol;\"\n",
    "print(pd.read_sql(sql=sql, con=conn_occ))"
   ]
  },
  {
   "cell_type": "markdown",
   "metadata": {},
   "source": [
    "# Issues\n",
    "#### Pre-filters"
   ]
  },
  {
   "cell_type": "code",
   "execution_count": 16,
   "metadata": {
    "scrolled": true
   },
   "outputs": [
    {
     "name": "stdout",
     "output_type": "stream",
     "text": [
      "                                                                             issues  count\n",
      "0                           ['COORDINATE_REPROJECTED', 'ELEVATION_MIN_MAX_SWAPPED']      3\n",
      "1                                                        ['COORDINATE_REPROJECTED']     18\n",
      "2    ['COORDINATE_ROUNDED', 'COORDINATE_REPROJECTED', 'PRESUMED_NEGATED_LONGITUDE']      2\n",
      "3                                  ['COORDINATE_ROUNDED', 'COORDINATE_REPROJECTED']    133\n",
      "4   ['COORDINATE_ROUNDED', 'GEODETIC_DATUM_ASSUMED_WGS84', 'COORDINATE_UNCERTAIN...     13\n",
      "5   ['COORDINATE_ROUNDED', 'GEODETIC_DATUM_ASSUMED_WGS84', 'PRESUMED_NEGATED_LON...      3\n",
      "6                            ['COORDINATE_ROUNDED', 'GEODETIC_DATUM_ASSUMED_WGS84']   8679\n",
      "7   ['COORDINATE_ROUNDED', 'GEODETIC_DATUM_INVALID', 'GEODETIC_DATUM_ASSUMED_WGS...      1\n",
      "8   ['COORDINATE_ROUNDED', 'GEODETIC_DATUM_INVALID', 'GEODETIC_DATUM_ASSUMED_WGS...     44\n",
      "9                              ['COORDINATE_ROUNDED', 'PRESUMED_NEGATED_LONGITUDE']      1\n",
      "10                                 ['COORDINATE_ROUNDED', 'TAXON_MATCH_HIGHERRANK']      2\n",
      "11                                                           ['COORDINATE_ROUNDED']    976\n",
      "12                                             ['COUNTRY_DERIVED_FROM_COORDINATES']      5\n",
      "13             ['GEODETIC_DATUM_ASSUMED_WGS84', 'COUNTRY_DERIVED_FROM_COORDINATES']      3\n",
      "14                     ['GEODETIC_DATUM_ASSUMED_WGS84', 'INDIVIDUAL_COUNT_INVALID']      1\n",
      "15                   ['GEODETIC_DATUM_ASSUMED_WGS84', 'PRESUMED_NEGATED_LONGITUDE']      2\n",
      "16                            ['GEODETIC_DATUM_ASSUMED_WGS84', 'TAXON_MATCH_FUZZY']     11\n",
      "17                                                 ['GEODETIC_DATUM_ASSUMED_WGS84']   3775\n",
      "18  ['GEODETIC_DATUM_INVALID', 'GEODETIC_DATUM_ASSUMED_WGS84', 'COORDINATE_UNCER...      1\n",
      "19                       ['GEODETIC_DATUM_INVALID', 'GEODETIC_DATUM_ASSUMED_WGS84']    171\n",
      "20                                                   ['PRESUMED_NEGATED_LONGITUDE']     22\n",
      "21                                                       ['RECORDED_DATE_MISMATCH']      2\n",
      "22                                                            ['TAXON_MATCH_FUZZY']      1\n",
      "23                                                       ['TAXON_MATCH_HIGHERRANK']      4\n",
      "24                                                                               []    609\n"
     ]
    }
   ],
   "source": [
    "iss = pd.read_sql(sql=\"SELECT value as issues, count FROM pre_filter_value_counts WHERE attribute = 'issues';\", con=conn_occ)\n",
    "pd.set_option('display.max_colwidth', 80)\n",
    "print(iss)"
   ]
  },
  {
   "cell_type": "markdown",
   "metadata": {},
   "source": [
    "#### Post-filters"
   ]
  },
  {
   "cell_type": "code",
   "execution_count": 17,
   "metadata": {
    "scrolled": true
   },
   "outputs": [
    {
     "name": "stdout",
     "output_type": "stream",
     "text": [
      "                                                                   issues  count\n",
      "0                                                                            106\n",
      "1                                                  COORDINATE_REPROJECTED      5\n",
      "2                        COORDINATE_REPROJECTED;ELEVATION_MIN_MAX_SWAPPED      2\n",
      "3                                                      COORDINATE_ROUNDED    124\n",
      "4                               COORDINATE_ROUNDED;COORDINATE_REPROJECTED      9\n",
      "5                         COORDINATE_ROUNDED;GEODETIC_DATUM_ASSUMED_WGS84   6112\n",
      "6  COORDINATE_ROUNDED;GEODETIC_DATUM_INVALID;GEODETIC_DATUM_ASSUMED_WGS84     22\n",
      "7                                            GEODETIC_DATUM_ASSUMED_WGS84   1161\n",
      "8                     GEODETIC_DATUM_INVALID;GEODETIC_DATUM_ASSUMED_WGS84      5\n",
      "9                                                  RECORDED_DATE_MISMATCH      1\n"
     ]
    }
   ],
   "source": [
    "sql = \"SELECT issues, COUNT(occ_id) as count FROM occurrences GROUP BY issues;\"\n",
    "print(pd.read_sql(sql=sql, con=conn_occ))"
   ]
  },
  {
   "cell_type": "markdown",
   "metadata": {},
   "source": [
    "# Descriptions of filtered records"
   ]
  },
  {
   "cell_type": "markdown",
   "metadata": {},
   "source": [
    "### Years represented"
   ]
  },
  {
   "cell_type": "code",
   "execution_count": 18,
   "metadata": {},
   "outputs": [
    {
     "data": {
      "text/plain": [
       "Text(0.5, 1.0, 'Occurrences per Year')"
      ]
     },
     "execution_count": 18,
     "metadata": {},
     "output_type": "execute_result"
    },
    {
     "data": {
      "image/png": "[encoded data removed]",
      "text/plain": [
       "<Figure size 432x288 with 1 Axes>"
      ]
     },
     "metadata": {
      "needs_background": "light"
     },
     "output_type": "display_data"
    }
   ],
   "source": [
    "occ_years = [int(x[0]) for x in curs_occ.execute(\"SELECT strftime('%Y', occurrenceDate) FROM occurrences\").fetchall()]\n",
    "years = connjup.execute(\"SELECT years_range FROM gbif_requests WHERE request_id = '{0}'\".format(gbif_req_id)).fetchone()[0]\n",
    "years = years.split(',')\n",
    "yearsrng = list(range(int(years[0]), int(years[1]), 1))\n",
    "binsnum = int(years[1]) - int(years[0])\n",
    "plt.hist(occ_years, bins=binsnum)\n",
    "plt.ylabel(\"number of records\")\n",
    "plt.xlabel(\"year\")\n",
    "plt.xticks(yearsrng, rotation=90)\n",
    "plt.title(\"Occurrences per Year\")"
   ]
  },
  {
   "cell_type": "markdown",
   "metadata": {},
   "source": [
    "### Months represented"
   ]
  },
  {
   "cell_type": "code",
   "execution_count": 19,
   "metadata": {},
   "outputs": [
    {
     "data": {
      "text/plain": [
       "Text(0.5, 1.0, 'Occurrences per Month')"
      ]
     },
     "execution_count": 19,
     "metadata": {},
     "output_type": "execute_result"
    },
    {
     "data": {
      "image/png": "[encoded data removed]",
      "text/plain": [
       "<Figure size 432x288 with 1 Axes>"
      ]
     },
     "metadata": {
      "needs_background": "light"
     },
     "output_type": "display_data"
    }
   ],
   "source": [
    "occ_months = [int(x[0]) for x in curs_occ.execute(\"SELECT strftime('%m', occurrenceDate) FROM occurrences\").fetchall()]\n",
    "plt.hist(occ_months, bins=range(1, 14), color=\"g\")\n",
    "plt.ylabel(\"number of records\")\n",
    "plt.xlabel(\"month\")\n",
    "plt.xticks(range(1, 13))\n",
    "plt.title(\"Occurrences per Month\")"
   ]
  },
  {
   "cell_type": "markdown",
   "metadata": {},
   "source": [
    "### Distribution of coordinate uncertainty values"
   ]
  },
  {
   "cell_type": "code",
   "execution_count": 20,
   "metadata": {
    "scrolled": true
   },
   "outputs": [
    {
     "data": {
      "text/plain": [
       "Text(0.5, 1.0, 'Coordinate Uncertainty')"
      ]
     },
     "execution_count": 20,
     "metadata": {},
     "output_type": "execute_result"
    },
    {
     "data": {
      "image/png": "[encoded data removed]",
      "text/plain": [
       "<Figure size 1152x288 with 1 Axes>"
      ]
     },
     "metadata": {
      "needs_background": "light"
     },
     "output_type": "display_data"
    }
   ],
   "source": [
    "occ_cert = [int(x[0]) for x in curs_occ.execute(\"SELECT coordinateUncertaintyInMeters FROM occurrences\").fetchall()]\n",
    "maxi = np.max(occ_cert)\n",
    "plt.figure(figsize=(16,4))\n",
    "plt.hist(occ_cert, bins=50, color=\"r\")\n",
    "plt.xticks(range(0, maxi, int(maxi/50)), rotation=90)\n",
    "plt.ylabel(\"number of records\")\n",
    "plt.xlabel(\"coordinate uncertainty\")\n",
    "plt.title(\"Coordinate Uncertainty\")"
   ]
  },
  {
   "cell_type": "code",
   "execution_count": 21,
   "metadata": {},
   "outputs": [
    {
     "data": {
      "text/plain": [
       "Text(0.5, 1.0, 'Coordinate Uncertainty - Zoomed In')"
      ]
     },
     "execution_count": 21,
     "metadata": {},
     "output_type": "execute_result"
    },
    {
     "data": {
      "image/png": "[encoded data removed]",
      "text/plain": [
       "<Figure size 864x288 with 1 Axes>"
      ]
     },
     "metadata": {
      "needs_background": "light"
     },
     "output_type": "display_data"
    }
   ],
   "source": [
    "rng_max = 2000\n",
    "occ_cert2 = [x for x in occ_cert if x <= rng_max]\n",
    "plt.figure(figsize=(12,4))\n",
    "plt.hist(occ_cert2, bins=30, color=\"m\", align='mid')\n",
    "plt.xticks(range(0, rng_max + 100, int(rng_max/30.)), rotation=90)\n",
    "plt.ylabel(\"number of records\")\n",
    "plt.xlabel(\"coordinate uncertainty\")\n",
    "plt.title(\"Coordinate Uncertainty - Zoomed In\")"
   ]
  },
  {
   "cell_type": "markdown",
   "metadata": {},
   "source": [
    "### Establishment means reported"
   ]
  },
  {
   "cell_type": "code",
   "execution_count": 22,
   "metadata": {},
   "outputs": [
    {
     "name": "stdout",
     "output_type": "stream",
     "text": [
      "NATIVE, UNKNOWN\n"
     ]
    }
   ],
   "source": [
    "establishment = curs_occ.execute(\"SELECT vals FROM unique_values WHERE field = 'establishment' AND step = 'filter';\").fetchall()[0]\n",
    "for est in establishment:\n",
    "    est = est.replace('[', '').strip().replace(']', '').replace(\"'\", \"\")\n",
    "    print(est)"
   ]
  },
  {
   "cell_type": "markdown",
   "metadata": {},
   "source": [
    "### Identification qualifiers included"
   ]
  },
  {
   "cell_type": "code",
   "execution_count": 23,
   "metadata": {},
   "outputs": [
    {
     "name": "stdout",
     "output_type": "stream",
     "text": [
      "A, UNKNOWN\n"
     ]
    }
   ],
   "source": [
    "quali = curs_occ.execute(\"SELECT DISTINCT vals FROM unique_values WHERE field = 'IDqualifier' AND step = 'filter';\").fetchall()[0]\n",
    "for q in quali:\n",
    "    q = q.replace('[', '').strip().replace(']', '').replace(\"'\", \"\")\n",
    "    print(q)"
   ]
  },
  {
   "cell_type": "markdown",
   "metadata": {},
   "source": [
    "### Remarks included"
   ]
  },
  {
   "cell_type": "code",
   "execution_count": 24,
   "metadata": {
    "scrolled": true
   },
   "outputs": [
    {
     "name": "stdout",
     "output_type": "stream",
     "text": [
      "More than 20 remarks, consult the occurrence database.\n"
     ]
    }
   ],
   "source": [
    "remarks = curs_occ.execute(\"SELECT DISTINCT remarks FROM occurrences;\").fetchall()\n",
    "if len(remarks) <= 20:\n",
    "    try:\n",
    "        for rem in remarks:\n",
    "            if rem[0][0:1] == ';':\n",
    "                print(rem[0][2:])\n",
    "            else:\n",
    "                print(rem[0])\n",
    "    except:\n",
    "        pass\n",
    "else:\n",
    "    print(\"More than 20 remarks, consult the occurrence database.\")"
   ]
  },
  {
   "cell_type": "markdown",
   "metadata": {},
   "source": [
    "### Attributes returned for the records in the request (pre-filters)"
   ]
  },
  {
   "cell_type": "code",
   "execution_count": 25,
   "metadata": {
    "scrolled": false
   },
   "outputs": [
    {
     "name": "stdout",
     "output_type": "stream",
     "text": [
      "                                               attribute  included(n)  populated(n)\n",
      "Field                                                                              \n",
      "0                                 acceptedScientificName        14482         14482\n",
      "1                                       acceptedTaxonKey        14482         14482\n",
      "2                                           accessRights         1978          1978\n",
      "3                                  associatedOccurrences            1             1\n",
      "4                                   associatedReferences          643           643\n",
      "5                                    associatedSequences          203           203\n",
      "6                                         associatedTaxa            3             3\n",
      "7                                          basisOfRecord        14482         14482\n",
      "8                                               behavior           18            18\n",
      "9                                  bibliographicCitation         1533          1533\n",
      "10                                         catalogNumber        14459         14459\n",
      "11                                                 class        14482         14482\n",
      "12                                              classKey        14482         14482\n",
      "13                                        collectionCode        13960         13960\n",
      "14                                          collectionID         1953          1953\n",
      "15                                             continent         2739          2739\n",
      "16                         coordinateUncertaintyInMeters         9207          9207\n",
      "17                                               country        14482         14482\n",
      "18                                           countryCode        14482         14482\n",
      "19                                                county         3667          3667\n",
      "20                                               crawlId        14482         14482\n",
      "21                                               created            3             3\n",
      "22                                   dataGeneralizations            8             8\n",
      "23                                             datasetID          140           140\n",
      "24                                            datasetKey        14482         14482\n",
      "25                                           datasetName        11253         11253\n",
      "26                                        dateIdentified        10889         10889\n",
      "27                                                   day        14365         14365\n",
      "28                                       decimalLatitude        14482         14482\n",
      "29                                      decimalLongitude        14482         14482\n",
      "30                                           disposition          180           180\n",
      "31                                     dynamicProperties         1043          1043\n",
      "32                                             elevation          250           250\n",
      "33                                     elevationAccuracy          104           104\n",
      "34                                          endDayOfYear          887           887\n",
      "35                                    establishmentMeans          621           621\n",
      "36                                             eventDate        14482         14482\n",
      "37                                          eventRemarks          125           125\n",
      "38                                             eventTime         9345          9345\n",
      "39                                            extensions        14482             0\n",
      "40                                                 facts        14482             0\n",
      "41                                                family        14482         14482\n",
      "42                                             familyKey        14482         14482\n",
      "43                                            fieldNotes            3             3\n",
      "44                                           fieldNumber          662           662\n",
      "45                                                gbifID        14482         14482\n",
      "46                                           genericName        14482         14482\n",
      "47                                                 genus        14482         14482\n",
      "48                                              genusKey        14482         14482\n",
      "49                                         geodeticDatum        14482         14482\n",
      "50                                  georeferenceProtocol         1834          1834\n",
      "51                                   georeferenceRemarks         1054          1054\n",
      "52                                   georeferenceSources         1347          1347\n",
      "53                        georeferenceVerificationStatus         1556          1556\n",
      "54                                       georeferencedBy          693           693\n",
      "55                                     georeferencedDate          941           941\n",
      "56                                               habitat          100           100\n",
      "57                                  higherClassification         1995          1995\n",
      "58                                       higherGeography         2169          2169\n",
      "59                                     higherGeographyID           34            34\n",
      "60         http://rs.tdwg.org/dwc/terms/organismQuantity          135           135\n",
      "61     http://rs.tdwg.org/dwc/terms/organismQuantityType          142           142\n",
      "62                               http://unknown.org/nick        10262         10262\n",
      "63                  http://unknown.org/occurrenceDetails        10262         10262\n",
      "64                                      identificationID         9988          9988\n",
      "65                               identificationQualifier          513           513\n",
      "66                                 identificationRemarks          534           534\n",
      "67                      identificationVerificationStatus          513           513\n",
      "68                                          identifiedBy         1322          1322\n",
      "69                                       identifiedByIDs        14482            73\n",
      "70                                            identifier        14474         14474\n",
      "71                                           identifiers        14482             0\n",
      "72                                       individualCount         1802          1802\n",
      "73                                   informationWithheld         1026          1026\n",
      "74                                       installationKey        14482         14482\n",
      "75                                       institutionCode        13960         13960\n",
      "76                                         institutionID         1554          1554\n",
      "77                                                island            3             3\n",
      "78                                           islandGroup            3             3\n",
      "79                                                issues        14482         13873\n",
      "80                                                   key        14482         14482\n",
      "81                                               kingdom        14482         14482\n",
      "82                                            kingdomKey        14482         14482\n",
      "83                                              language         3025          3025\n",
      "84                                           lastCrawled        14482         14482\n",
      "85                                       lastInterpreted        14482         14482\n",
      "86                                            lastParsed        14482         14482\n",
      "87                                               license        14482         14482\n",
      "88                                             lifeStage          994           994\n",
      "89                                              locality         4155          4155\n",
      "90                                   locationAccordingTo          513           513\n",
      "91                                            locationID           27            27\n",
      "92                                       locationRemarks           57            57\n",
      "93                                                 media        14482          9542\n",
      "94                                              modified        13446         13446\n",
      "95                                                 month        14482         14482\n",
      "96                                          municipality          526           526\n",
      "97                                           networkKeys          513           513\n",
      "98                                     nomenclaturalCode         1656          1656\n",
      "99                                          occurrenceID        13947         13947\n",
      "100                                    occurrenceRemarks         3037          3037\n",
      "101                                     occurrenceStatus         1091          1091\n",
      "102                                                order        14482         14482\n",
      "103                                             orderKey        14482         14482\n",
      "104                                           organismID          513           513\n",
      "105                                     organismQuantity          135           135\n",
      "106                                 organismQuantityType          142           142\n",
      "107                                  otherCatalogNumbers          596           596\n",
      "108                                 ownerInstitutionCode          711           711\n",
      "109                                               phylum        14482         14482\n",
      "110                                            phylumKey        14482         14482\n",
      "111                                         preparations         2708          2708\n",
      "112                              previousIdentifications         1044          1044\n",
      "113                                             protocol        14482         14482\n",
      "114                                    publishingCountry        14482         14482\n",
      "115                                     publishingOrgKey        14482         14482\n",
      "116                                         recordNumber         1206          1206\n",
      "117                                           recordedBy        13771         13771\n",
      "118                                        recordedByIDs        14482            53\n",
      "119                                           references        12559         12559\n",
      "120                                            relations        14482             0\n",
      "121                                reproductiveCondition           68            68\n",
      "122                                               rights        10297         10297\n",
      "123                                         rightsHolder        11129         11129\n",
      "124                                     samplingProtocol           41            41\n",
      "125                                       scientificName        14482         14482\n",
      "126                                     scientificNameID            3             3\n",
      "127                                                  sex          243           243\n",
      "128                                              species        14482         14482\n",
      "129                                           speciesKey        14482         14482\n",
      "130                                      specificEpithet        14482         14482\n",
      "131                                       startDayOfYear          553           553\n",
      "132                                        stateProvince        14462         14462\n",
      "133                                              taxonID        10776         10776\n",
      "134                                             taxonKey        14482         14482\n",
      "135                                            taxonRank        14482         14482\n",
      "136                                         taxonRemarks          531           531\n",
      "137                                      taxonomicStatus        14482         14482\n",
      "138                                                 type         2254          2254\n",
      "139                             verbatimCoordinateSystem          743           743\n",
      "140                                    verbatimElevation          936           936\n",
      "141                                    verbatimEventDate        11688         11688\n",
      "142                                     verbatimLocality        11685         11685\n",
      "143                                          verbatimSRS           13            13\n",
      "144                                       vernacularName         1711          1711\n",
      "145                                                 year        14482         14482\n"
     ]
    }
   ],
   "source": [
    "fields_summary = pd.read_sql(\"SELECT * FROM gbif_fields_returned\", conn_occ)#, index_col='index')\n",
    "fields_summary.index.name = 'Field'\n",
    "pd.set_option('display.max_rows', 250)\n",
    "print(fields_summary)"
   ]
  },
  {
   "cell_type": "markdown",
   "metadata": {},
   "source": [
    "### Runtime"
   ]
  },
  {
   "cell_type": "code",
   "execution_count": 26,
   "metadata": {},
   "outputs": [
    {
     "name": "stdout",
     "output_type": "stream",
     "text": [
      "0:15:38.257070\n"
     ]
    }
   ],
   "source": [
    "t2 = datetime.now()\n",
    "print(t2 - t1)"
   ]
  },
  {
   "cell_type": "code",
   "execution_count": null,
   "metadata": {},
   "outputs": [],
   "source": []
  }
 ],
 "metadata": {
  "kernelspec": {
   "display_name": "Python 3",
   "language": "python",
   "name": "python3"
  },
  "language_info": {
   "codemirror_mode": {
    "name": "ipython",
    "version": 3
   },
   "file_extension": ".py",
   "mimetype": "text/x-python",
   "name": "python",
   "nbconvert_exporter": "python",
   "pygments_lexer": "ipython3",
   "version": "3.6.5"
  }
 },
 "nbformat": 4,
 "nbformat_minor": 2
}
