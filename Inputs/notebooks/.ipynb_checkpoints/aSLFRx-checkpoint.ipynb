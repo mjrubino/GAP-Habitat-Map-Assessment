{
 "cells": [
  {
   "cell_type": "markdown",
   "metadata": {},
   "source": [
    "# Occurrence Records from GBIF\n",
    "This notebook is a tool for exploring data sets requested from GBIF (and eventually other sources), and mostly for developing criteria for filtering records (filter sets).  When the entire notebook is run, it retrieves records according to the filter sets specified and saves the results (records and some summary tables) in an sqlite database.  Some information is pulled from the parameters.sqlite database that is saved in this repository."
   ]
  },
  {
   "cell_type": "markdown",
   "metadata": {},
   "source": [
    "### Set Variables - fill out stuff in this cell.  \n",
    "Notes:\n",
    "default_coordUncertainty -- coordinateUncertaintyInMeters is often not provided.  Here is an option to use a default.  If you don't want anything entered, set this equal to False (boolean, not string)."
   ]
  },
  {
   "cell_type": "code",
   "execution_count": 1,
   "metadata": {},
   "outputs": [],
   "source": [
    "species_id = 'aslfrx0'\n",
    "summary_name = 'Southern Leopard Frog'\n",
    "gbif_req_id = 'EvalGBIFRequest'\n",
    "gbif_filter_id = 'EvalGBIFFilter'\n",
    "default_coordUncertainty = False       # Note above.\n",
    "workDir = 'D:/USGS Analyses/GAP-Habitat-Map-Assessment/'   # Be sure to create folders named \"Inputs\" and \"Outputs\" here.\n",
    "codeDir = workDir + 'Scripts/'\n",
    "dbDir = workDir + 'db/'\n",
    "paramdb = dbDir + 'wildlife-wrangler.sqlite'\n",
    "configDir = workDir  # Path to folder where saved your wildlifeconfig file."
   ]
  },
  {
   "cell_type": "markdown",
   "metadata": {},
   "source": [
    "### Setup - nothing to fill out in this cell"
   ]
  },
  {
   "cell_type": "code",
   "execution_count": 2,
   "metadata": {},
   "outputs": [
    {
     "name": "stdout",
     "output_type": "stream",
     "text": [
      "Notebook run 2020-05-07 12:46:46.535440\n",
      "D:/USGS Analyses/GAP-Habitat-Map-Assessment/Outputs/aslfrx0EvalGBIFRequestEvalGBIFFilter.sqlite\n"
     ]
    }
   ],
   "source": [
    "%matplotlib inline\n",
    "import sqlite3\n",
    "import pprint\n",
    "import json\n",
    "import pandas as pd\n",
    "import numpy as np\n",
    "pd.set_option('display.width', 600)\n",
    "pd.set_option('display.max_colwidth', 30)\n",
    "pd.set_option('display.max_rows', 150)\n",
    "from IPython.display import Image\n",
    "from pygbif import occurrences\n",
    "import matplotlib.pyplot as plt\n",
    "import os\n",
    "from datetime import datetime\n",
    "t1 = datetime.now()\n",
    "import sys\n",
    "sys.path.append(configDir)\n",
    "import config\n",
    "sys.path.append(codeDir)\n",
    "import repo_functions as functions\n",
    "inDir = workDir + 'Inputs/'\n",
    "outDir = workDir + 'Outputs/'\n",
    "spdb = outDir + species_id + gbif_req_id + gbif_filter_id + '.sqlite'\n",
    "username = config.gbif_username\n",
    "password = config.gbif_password\n",
    "email = config.gbif_email\n",
    "print(\"Notebook run \" + str(t1))\n",
    "print(spdb)\n",
    "connjup = sqlite3.connect(paramdb)\n",
    "cursorjup = connjup.cursor()\n",
    "# Get some variables\n",
    "years = connjup.execute(\"\"\"SELECT years_range \n",
    "                           FROM gbif_requests WHERE request_id = '{0}'\"\"\".format(gbif_req_id)).fetchone()[0]\n",
    "gap_id = connjup.execute(\"\"\"SELECT gap_id\n",
    "                            FROM species_concepts WHERE species_id = '{0}'\"\"\".format(species_id)).fetchone()[0]\n",
    "common_name = connjup.execute(\"\"\"SELECT common_name\n",
    "                                 FROM species_concepts WHERE species_id = '{0}'\"\"\".format(species_id)).fetchone()[0]"
   ]
  },
  {
   "cell_type": "markdown",
   "metadata": {},
   "source": [
    "# Species Concept\n",
    "Display information on the species from the parameters.sqlite database."
   ]
  },
  {
   "cell_type": "code",
   "execution_count": 3,
   "metadata": {},
   "outputs": [
    {
     "name": "stdout",
     "output_type": "stream",
     "text": [
      "SPECIES CONCEPT RECORD\n",
      "                                                   VALUE\n",
      "ATTRIBUTE                                               \n",
      "species_id                                       aslfrx0\n",
      "fws_id                                              None\n",
      "gap_id                                            aSLFRx\n",
      "itis_tsn                                          775116\n",
      "gbif_id                                          2427093\n",
      "bcb_id                                              None\n",
      "ebird_id                                            None\n",
      "common_name                        Southern Leopard Frog\n",
      "scientific_name                Lithobates sphenocephalus\n",
      "start_year                                          1886\n",
      "split_from                                          None\n",
      "end_year                                            None\n",
      "lumped_into                                         None\n",
      "geometry                                            None\n",
      "detection_distance_meters                              0\n",
      "vetted_how                                  NS,GBIF,IUCN\n",
      "vetted_who                                     M. Rubino\n",
      "vetted_date                                   05/07/2020\n",
      "notes                      An older name, Rana utricu...\n"
     ]
    }
   ],
   "source": [
    "vals = cursorjup.execute(\"SELECT * FROM species_concepts WHERE species_id = '{0}';\".format(species_id)).fetchall()[0]\n",
    "cols = [x[1] for x in cursorjup.execute(\"PRAGMA table_info('species_concepts')\").fetchall()]\n",
    "sp_dict = dict(zip(cols, vals))\n",
    "sp_df = pd.DataFrame.from_dict(sp_dict, orient='index', columns=['VALUE'])\n",
    "sp_df.index.name = 'ATTRIBUTE'\n",
    "print(\"SPECIES CONCEPT RECORD\")\n",
    "print(sp_df)"
   ]
  },
  {
   "cell_type": "markdown",
   "metadata": {},
   "source": [
    "# Filters\n",
    "Display the parameters of the request filter set.  These are deployed during the step where records are retrieved from the API."
   ]
  },
  {
   "cell_type": "code",
   "execution_count": 4,
   "metadata": {},
   "outputs": [
    {
     "name": "stdout",
     "output_type": "stream",
     "text": [
      "THE REQUEST FILTER SET\n",
      "request_id                    EvalGBIFRequest\n",
      "source                                   GBIF\n",
      "lat_range                                None\n",
      "lon_range                                None\n",
      "years_range                         1999,2020\n",
      "months_range                             1,12\n",
      "geoissue                                False\n",
      "coordinate                               True\n",
      "country                                    US\n",
      "geometry                                 None\n",
      "creator                             M. Rubino\n",
      "notes           amphibian evaluation reque...\n",
      "Name: 0, dtype: object\n"
     ]
    }
   ],
   "source": [
    "request_df = pd.read_sql_query(sql=\"SELECT * FROM gbif_requests WHERE request_id = '{0}'\".format(gbif_req_id), con=connjup)\n",
    "print(\"THE REQUEST FILTER SET\")\n",
    "print(request_df.loc[0])"
   ]
  },
  {
   "cell_type": "markdown",
   "metadata": {},
   "source": [
    "Display the parameters of the post-request filter set.  These are deployed after the records are retrieved from the API, but before they are stored in the occurrence record sqlite database."
   ]
  },
  {
   "cell_type": "code",
   "execution_count": 5,
   "metadata": {},
   "outputs": [
    {
     "name": "stdout",
     "output_type": "stream",
     "text": [
      "THE POST REQUEST FILTER SET\n",
      "filter_id                                    EvalGBIFFilter\n",
      "dataset                                                GBIF\n",
      "institutions_omit                                      None\n",
      "collection_codes_omit                                  None\n",
      "datasets_omit                                          None\n",
      "has_coordinate_uncertainty                                1\n",
      "max_coordinate_uncertainty                            10000\n",
      "bases_omit                                  FOSSIL_SPECIMEN\n",
      "sampling_protocols_omit                                None\n",
      "issues_omit                                            None\n",
      "duplicates_OK                                         False\n",
      "creator                                           M. Rubino\n",
      "notes                         amphibian evaluation filte...\n",
      "Name: 0, dtype: object\n"
     ]
    }
   ],
   "source": [
    "filter_df = pd.read_sql_query(sql=\"SELECT * FROM gbif_filters WHERE filter_id = '{0}'\".format(gbif_filter_id), con=connjup)\n",
    "print(\"THE POST REQUEST FILTER SET\")\n",
    "print(filter_df.loc[0])"
   ]
  },
  {
   "cell_type": "code",
   "execution_count": 6,
   "metadata": {
    "scrolled": false
   },
   "outputs": [
    {
     "name": "stdout",
     "output_type": "stream",
     "text": [
      "SPATIALITE_SECURITY set to relaxed\n",
      "Created occurrence db: 0:00:00.237832\n",
      "Got request params and sorted out geometry constraints: 0:00:00\n",
      "6501 records available\n",
      "Downloaded records: 0:00:54.773461\n",
      "Summarized fields returned: 0:05:24.606567\n",
      "Created summary table of request results: 0:00:00.065018\n",
      "Performed post-request filtering: 0:00:00.031256\n",
      "Calculated new columns, deleted some too: 0:00:00.046876\n",
      "251 duplicate records dropped: 0:00:01.988648\n",
      "Inserted records into table: 0:00:00.072403\n",
      "Summarized unique values retained: 0:00:00\n",
      "Updated occurrences table geometry column: 0:00:00.398243\n",
      "Buffered points: 0:00:01.812848\n"
     ]
    }
   ],
   "source": [
    "functions.retrieve_gbif_occurrences(codeDir, species_id, inDir, paramdb, spdb, gbif_req_id, gbif_filter_id, \n",
    "                                    default_coordUncertainty, outDir, summary_name, username,\n",
    "                                   password, email)"
   ]
  },
  {
   "cell_type": "code",
   "execution_count": 7,
   "metadata": {},
   "outputs": [
    {
     "name": "stdout",
     "output_type": "stream",
     "text": [
      "codeDir: D:/USGS Analyses/GAP-Habitat-Map-Assessment/Scripts/\n",
      " species_id: aslfrx0\n",
      " inDir: D:/USGS Analyses/GAP-Habitat-Map-Assessment/Inputs/\n",
      " paramdb: D:/USGS Analyses/GAP-Habitat-Map-Assessment/db/wildlife-wrangler.sqlite\n",
      " spdb: D:/USGS Analyses/GAP-Habitat-Map-Assessment/Outputs/aslfrx0EvalGBIFRequestEvalGBIFFilter.sqlite\n",
      " gbif_req_id: EvalGBIFRequest\n",
      " gbif_filter_id: EvalGBIFFilter\n",
      " default_coordUncertainty: False\n",
      " outDir: D:/USGS Analyses/GAP-Habitat-Map-Assessment/Outputs/\n",
      " summary_name: Southern Leopard Frog\n",
      " username: gapper\n",
      " password: metspirates\n",
      " email: pythonprocessing@gmail.com\n"
     ]
    }
   ],
   "source": [
    "print('codeDir: '+codeDir+'\\n', \n",
    "'species_id: '+species_id+'\\n', \n",
    "'inDir: '+inDir+'\\n', \n",
    "'paramdb: '+paramdb+'\\n', \n",
    "'spdb: '+spdb+'\\n', \n",
    "'gbif_req_id: '+gbif_req_id+'\\n', \n",
    "'gbif_filter_id: '+gbif_filter_id+'\\n', \n",
    "'default_coordUncertainty: '+str(default_coordUncertainty)+'\\n', \n",
    "'outDir: '+outDir+'\\n', \n",
    "'summary_name: '+summary_name+'\\n', \n",
    "'username: '+username+'\\n',\n",
    "'password: '+password+'\\n', \n",
    "'email: '+email)"
   ]
  },
  {
   "cell_type": "markdown",
   "metadata": {},
   "source": [
    "### Connect to output database, record species and filter info."
   ]
  },
  {
   "cell_type": "code",
   "execution_count": 8,
   "metadata": {},
   "outputs": [],
   "source": [
    "conn_occ= sqlite3.connect(spdb)\n",
    "curs_occ = conn_occ.cursor()\n",
    "sp_df.to_sql(name='species_concept', con=conn_occ, if_exists='replace')\n",
    "request_df.to_sql(name=gbif_req_id, con=conn_occ, if_exists='replace')\n",
    "filter_df.to_sql(name=gbif_filter_id, con=conn_occ, if_exists='replace')"
   ]
  },
  {
   "cell_type": "markdown",
   "metadata": {},
   "source": [
    "### How many records made it through the filters?\n",
    "This is the number that was actually saved in the occurrence record sqlite database."
   ]
  },
  {
   "cell_type": "code",
   "execution_count": 9,
   "metadata": {},
   "outputs": [
    {
     "name": "stdout",
     "output_type": "stream",
     "text": [
      "2613 records\n"
     ]
    }
   ],
   "source": [
    "record_count = curs_occ.execute(\"SELECT COUNT(occ_id) FROM occurrences WHERE species_id = '{0}'\".format(species_id)).fetchone()\n",
    "print(str(record_count[0]) + \" records\")"
   ]
  },
  {
   "cell_type": "markdown",
   "metadata": {},
   "source": [
    "# Sources\n",
    "#### Pre-filters"
   ]
  },
  {
   "cell_type": "code",
   "execution_count": 10,
   "metadata": {},
   "outputs": [
    {
     "name": "stdout",
     "output_type": "stream",
     "text": [
      "GBIF\n",
      "   institutionCode                 collectionCode                    datasetName     0\n",
      "0              AUM                          Herps                        UNKNOWN    54\n",
      "1            BISON  USGS SESC - Big Cypress - ...  USGS SESC - Big Cypress - ...   181\n",
      "2            BISON  USGS SESC - Biscayne - Her...  USGS SESC - Biscayne - Her...     9\n",
      "3            BISON  USGS SESC - Everglades - H...  USGS SESC - Everglades - H...   158\n",
      "4            BISON  USGS SESC - Everglades - H...  USGS SESC - Everglades - H...    61\n",
      "5              CAS                           HERP                        UNKNOWN     4\n",
      "6              CLO                             ML                        UNKNOWN     2\n",
      "7             FHSM                           HERP                        UNKNOWN    98\n",
      "8              GSU                       GSU-Herp  Georgia Southern Universit...     8\n",
      "9               KU                            KUH  University of Kansas Biodi...     6\n",
      "10            LACM                          Herps               LACM Vertebrates     9\n",
      "11           LSUMZ                          Herps                        UNKNOWN     2\n",
      "12             MSB   Host (of parasite) specimens                        UNKNOWN    11\n",
      "13             MVZ  Amphibian and reptile spec...                        UNKNOWN     1\n",
      "14            NCSM                           Herp    NCSM Herpetology Collection   372\n",
      "15            NEON                      HEVC-GBTS                        UNKNOWN     1\n",
      "16            OMNH                     Amphibians                        UNKNOWN   476\n",
      "17            OMNH                           OCGR  Oklahoma Collection of Gen...   446\n",
      "18             SLU                          Herps                        UNKNOWN    14\n",
      "19            TCWC                    Herpetology                        UNKNOWN   546\n",
      "20              UF                           Herp                        UNKNOWN   431\n",
      "21         UNKNOWN                        UNKNOWN                        UNKNOWN    23\n",
      "22            USNM          Amphibians & Reptiles            NMNH Extant Biology    30\n",
      "23            UTEP  Amphibian and reptile spec...                        UNKNOWN    50\n",
      "24             YPM                             VZ                        UNKNOWN   160\n",
      "25     iNaturalist                   Observations  iNaturalist research-grade...  3348\n"
     ]
    }
   ],
   "source": [
    "tables = cursorjup.execute(\"SELECT table_name FROM table_descriptions\").fetchall()\n",
    "tables = [x[0] for x in tables]\n",
    "\n",
    "filter_sets = [gbif_req_id, gbif_filter_id]\n",
    "\n",
    "sources = []\n",
    "for s in filter_sets:\n",
    "    s = s.strip()\n",
    "    for tab in tables:\n",
    "        columns = cursorjup.execute(\"SELECT column_name FROM column_descriptions WHERE table_name = '{0}'\".format(tab)).fetchall()\n",
    "        columns = [x[0] for x in columns]\n",
    "        for col in columns:\n",
    "            try:\n",
    "                a = cursorjup.execute(\"SELECT source FROM {1} WHERE {2} = '{0}'\".format(s, tab, col)).fetchone()[0]\n",
    "                sources.append(a)\n",
    "            except:\n",
    "                pass\n",
    "print(list(set(sources))[0])\n",
    "\n",
    "sources = pd.read_sql(sql=\"SELECT * FROM pre_filter_source_counts;\", con=conn_occ)\n",
    "print(sources)"
   ]
  },
  {
   "cell_type": "markdown",
   "metadata": {},
   "source": [
    "#### Post-filters"
   ]
  },
  {
   "cell_type": "code",
   "execution_count": 11,
   "metadata": {},
   "outputs": [
    {
     "name": "stdout",
     "output_type": "stream",
     "text": [
      "GBIF\n",
      "   institutionCode                 collectionCode                    datasetName  COUNT(occ_id)\n",
      "0            BISON  USGS SESC - Biscayne - Her...  USGS SESC - Biscayne - Her...              9\n",
      "1              MVZ  Amphibian and reptile spec...                        UNKNOWN              1\n",
      "2             NCSM                           Herp    NCSM Herpetology Collection             32\n",
      "3             NEON                      HEVC-GBTS                        UNKNOWN              1\n",
      "4             OMNH                     Amphibians                        UNKNOWN             15\n",
      "5             OMNH                           OCGR  Oklahoma Collection of Gen...              2\n",
      "6               UF                           Herp                        UNKNOWN            226\n",
      "7             USNM          Amphibians & Reptiles            NMNH Extant Biology              2\n",
      "8             UTEP  Amphibian and reptile spec...                        UNKNOWN             28\n",
      "9              YPM                             VZ                        UNKNOWN              5\n",
      "10     iNaturalist                   Observations  iNaturalist research-grade...           2292\n"
     ]
    }
   ],
   "source": [
    "tables = cursorjup.execute(\"SELECT table_name FROM table_descriptions\").fetchall()\n",
    "tables = [x[0] for x in tables]\n",
    "\n",
    "filter_sets = [gbif_req_id, gbif_filter_id]\n",
    "\n",
    "sources = []\n",
    "for s in filter_sets:\n",
    "    s = s.strip()\n",
    "    for tab in tables:\n",
    "        columns = cursorjup.execute(\"SELECT column_name FROM column_descriptions WHERE table_name = '{0}'\".format(tab)).fetchall()\n",
    "        columns = [x[0] for x in columns]\n",
    "        for col in columns:\n",
    "            try:\n",
    "                a = cursorjup.execute(\"SELECT source FROM {1} WHERE {2} = '{0}'\".format(s, tab, col)).fetchone()[0]\n",
    "                sources.append(a)\n",
    "            except:\n",
    "                pass\n",
    "print(list(set(sources))[0])\n",
    "\n",
    "sql = \"SELECT institutionCode, collectionCode, datasetName, COUNT(occ_id) FROM occurrences GROUP BY institutionCode, collectionCode, datasetName;\"\n",
    "sources = pd.read_sql(sql=sql, con=conn_occ)\n",
    "print(sources)"
   ]
  },
  {
   "cell_type": "markdown",
   "metadata": {},
   "source": [
    "# Bases\n",
    "#### Pre-filter"
   ]
  },
  {
   "cell_type": "code",
   "execution_count": 12,
   "metadata": {},
   "outputs": [
    {
     "name": "stdout",
     "output_type": "stream",
     "text": [
      "         basisOfRecord  count\n",
      "0    HUMAN_OBSERVATION   3757\n",
      "1  MACHINE_OBSERVATION     12\n",
      "2      MATERIAL_SAMPLE      3\n",
      "3   PRESERVED_SPECIMEN   2729\n"
     ]
    }
   ],
   "source": [
    "bases = pd.read_sql(sql=\"SELECT value as basisOfRecord, count FROM pre_filter_value_counts WHERE attribute = 'bases';\", con=conn_occ)\n",
    "print(bases)"
   ]
  },
  {
   "cell_type": "markdown",
   "metadata": {},
   "source": [
    "#### Post-filters"
   ]
  },
  {
   "cell_type": "code",
   "execution_count": 13,
   "metadata": {
    "scrolled": true
   },
   "outputs": [
    {
     "name": "stdout",
     "output_type": "stream",
     "text": [
      "         basisOfRecord  count\n",
      "0    HUMAN_OBSERVATION   2301\n",
      "1  MACHINE_OBSERVATION      9\n",
      "2   PRESERVED_SPECIMEN    303\n"
     ]
    }
   ],
   "source": [
    "sql = \"SELECT basisOfRecord, COUNT(occ_id) as count FROM occurrences GROUP BY basisOfRecord;\"\n",
    "bases = pd.read_sql(sql=sql, con=conn_occ)\n",
    "print(bases)"
   ]
  },
  {
   "cell_type": "markdown",
   "metadata": {},
   "source": [
    "# Protocols\n",
    "#### Pre-filters"
   ]
  },
  {
   "cell_type": "code",
   "execution_count": 14,
   "metadata": {
    "scrolled": true
   },
   "outputs": [
    {
     "name": "stdout",
     "output_type": "stream",
     "text": [
      "                samplingProtocol  count\n",
      "0                    Drift Fence     43\n",
      "1        Opportunistic Encounter      2\n",
      "2                       Trapping     17\n",
      "3                        UNKNOWN   6072\n",
      "4               Visual Encounter    190\n",
      "5   Visual Encounter; Dipnetting      1\n",
      "6                          Vocal     27\n",
      "7                   Vocalization    129\n",
      "8                  alive on road      7\n",
      "9     alive on road/dead on road      2\n",
      "10                  dead on road     11\n"
     ]
    }
   ],
   "source": [
    "protocol = pd.read_sql(sql=\"SELECT value as samplingProtocol, count FROM pre_filter_value_counts WHERE attribute = 'samplingProtocols';\", con=conn_occ)\n",
    "print(protocol)"
   ]
  },
  {
   "cell_type": "markdown",
   "metadata": {},
   "source": [
    "#### Post-filters"
   ]
  },
  {
   "cell_type": "code",
   "execution_count": 15,
   "metadata": {},
   "outputs": [
    {
     "name": "stdout",
     "output_type": "stream",
     "text": [
      "             samplingProtocol  count\n",
      "0     Opportunistic Encounter      2\n",
      "1                     UNKNOWN   2593\n",
      "2            Visual Encounter      2\n",
      "3                Vocalization      5\n",
      "4               alive on road      4\n",
      "5  alive on road/dead on road      1\n",
      "6                dead on road      6\n"
     ]
    }
   ],
   "source": [
    "sql = \"SELECT samplingProtocol, COUNT(occ_id) as count FROM occurrences GROUP BY samplingProtocol;\"\n",
    "print(pd.read_sql(sql=sql, con=conn_occ))"
   ]
  },
  {
   "cell_type": "markdown",
   "metadata": {},
   "source": [
    "# Issues\n",
    "#### Pre-filters"
   ]
  },
  {
   "cell_type": "code",
   "execution_count": 16,
   "metadata": {
    "scrolled": true
   },
   "outputs": [
    {
     "name": "stdout",
     "output_type": "stream",
     "text": [
      "                                                                             issues  count\n",
      "0                                                        ['COORDINATE_REPROJECTED']      2\n",
      "1                                  ['COORDINATE_ROUNDED', 'COORDINATE_REPROJECTED']      4\n",
      "2   ['COORDINATE_ROUNDED', 'GEODETIC_DATUM_ASSUMED_WGS84', 'COORDINATE_UNCERTAIN...      4\n",
      "3                            ['COORDINATE_ROUNDED', 'GEODETIC_DATUM_ASSUMED_WGS84']   3121\n",
      "4   ['COORDINATE_ROUNDED', 'GEODETIC_DATUM_INVALID', 'GEODETIC_DATUM_ASSUMED_WGS...     13\n",
      "5                              ['COORDINATE_ROUNDED', 'PRESUMED_NEGATED_LONGITUDE']      3\n",
      "6                                                            ['COORDINATE_ROUNDED']   1010\n",
      "7                                              ['COUNTRY_DERIVED_FROM_COORDINATES']      4\n",
      "8         ['GEODETIC_DATUM_ASSUMED_WGS84', 'COORDINATE_UNCERTAINTY_METERS_INVALID']      1\n",
      "9              ['GEODETIC_DATUM_ASSUMED_WGS84', 'COUNTRY_DERIVED_FROM_COORDINATES']     23\n",
      "10                     ['GEODETIC_DATUM_ASSUMED_WGS84', 'INDIVIDUAL_COUNT_INVALID']      5\n",
      "11                   ['GEODETIC_DATUM_ASSUMED_WGS84', 'PRESUMED_NEGATED_LONGITUDE']     14\n",
      "12                                                 ['GEODETIC_DATUM_ASSUMED_WGS84']   1496\n",
      "13  ['GEODETIC_DATUM_INVALID', 'GEODETIC_DATUM_ASSUMED_WGS84', 'TYPE_STATUS_INVA...     11\n",
      "14                       ['GEODETIC_DATUM_INVALID', 'GEODETIC_DATUM_ASSUMED_WGS84']      1\n",
      "15                                                   ['PRESUMED_NEGATED_LONGITUDE']     11\n",
      "16                                                                               []    778\n"
     ]
    }
   ],
   "source": [
    "iss = pd.read_sql(sql=\"SELECT value as issues, count FROM pre_filter_value_counts WHERE attribute = 'issues';\", con=conn_occ)\n",
    "pd.set_option('display.max_colwidth', 80)\n",
    "print(iss)"
   ]
  },
  {
   "cell_type": "markdown",
   "metadata": {},
   "source": [
    "#### Post-filters"
   ]
  },
  {
   "cell_type": "code",
   "execution_count": 17,
   "metadata": {
    "scrolled": true
   },
   "outputs": [
    {
     "name": "stdout",
     "output_type": "stream",
     "text": [
      "                                                                   issues  count\n",
      "0                                                                            233\n",
      "1                                                      COORDINATE_ROUNDED     71\n",
      "2                               COORDINATE_ROUNDED;COORDINATE_REPROJECTED      2\n",
      "3                         COORDINATE_ROUNDED;GEODETIC_DATUM_ASSUMED_WGS84   1870\n",
      "4  COORDINATE_ROUNDED;GEODETIC_DATUM_INVALID;GEODETIC_DATUM_ASSUMED_WGS84     10\n",
      "5                                            GEODETIC_DATUM_ASSUMED_WGS84    426\n",
      "6                                              PRESUMED_NEGATED_LONGITUDE      1\n"
     ]
    }
   ],
   "source": [
    "sql = \"SELECT issues, COUNT(occ_id) as count FROM occurrences GROUP BY issues;\"\n",
    "print(pd.read_sql(sql=sql, con=conn_occ))"
   ]
  },
  {
   "cell_type": "markdown",
   "metadata": {},
   "source": [
    "# Descriptions of filtered records"
   ]
  },
  {
   "cell_type": "markdown",
   "metadata": {},
   "source": [
    "### Years represented"
   ]
  },
  {
   "cell_type": "code",
   "execution_count": 18,
   "metadata": {},
   "outputs": [
    {
     "data": {
      "text/plain": [
       "Text(0.5, 1.0, 'Occurrences per Year')"
      ]
     },
     "execution_count": 18,
     "metadata": {},
     "output_type": "execute_result"
    },
    {
     "data": {
      "image/png": "[encoded data removed]",
      "text/plain": [
       "<Figure size 432x288 with 1 Axes>"
      ]
     },
     "metadata": {
      "needs_background": "light"
     },
     "output_type": "display_data"
    }
   ],
   "source": [
    "occ_years = [int(x[0]) for x in curs_occ.execute(\"SELECT strftime('%Y', occurrenceDate) FROM occurrences\").fetchall()]\n",
    "years = connjup.execute(\"SELECT years_range FROM gbif_requests WHERE request_id = '{0}'\".format(gbif_req_id)).fetchone()[0]\n",
    "years = years.split(',')\n",
    "yearsrng = list(range(int(years[0]), int(years[1]), 1))\n",
    "binsnum = int(years[1]) - int(years[0])\n",
    "plt.hist(occ_years, bins=binsnum)\n",
    "plt.ylabel(\"number of records\")\n",
    "plt.xlabel(\"year\")\n",
    "plt.xticks(yearsrng, rotation=90)\n",
    "plt.title(\"Occurrences per Year\")"
   ]
  },
  {
   "cell_type": "markdown",
   "metadata": {},
   "source": [
    "### Months represented"
   ]
  },
  {
   "cell_type": "code",
   "execution_count": 19,
   "metadata": {},
   "outputs": [
    {
     "data": {
      "text/plain": [
       "Text(0.5, 1.0, 'Occurrences per Month')"
      ]
     },
     "execution_count": 19,
     "metadata": {},
     "output_type": "execute_result"
    },
    {
     "data": {
      "image/png": "[encoded data removed]",
      "text/plain": [
       "<Figure size 432x288 with 1 Axes>"
      ]
     },
     "metadata": {
      "needs_background": "light"
     },
     "output_type": "display_data"
    }
   ],
   "source": [
    "occ_months = [int(x[0]) for x in curs_occ.execute(\"SELECT strftime('%m', occurrenceDate) FROM occurrences\").fetchall()]\n",
    "plt.hist(occ_months, bins=range(1, 14), color=\"g\")\n",
    "plt.ylabel(\"number of records\")\n",
    "plt.xlabel(\"month\")\n",
    "plt.xticks(range(1, 13))\n",
    "plt.title(\"Occurrences per Month\")"
   ]
  },
  {
   "cell_type": "markdown",
   "metadata": {},
   "source": [
    "### Distribution of coordinate uncertainty values"
   ]
  },
  {
   "cell_type": "code",
   "execution_count": 20,
   "metadata": {
    "scrolled": true
   },
   "outputs": [
    {
     "data": {
      "text/plain": [
       "Text(0.5, 1.0, 'Coordinate Uncertainty')"
      ]
     },
     "execution_count": 20,
     "metadata": {},
     "output_type": "execute_result"
    },
    {
     "data": {
      "image/png": "[encoded data removed]",
      "text/plain": [
       "<Figure size 1152x288 with 1 Axes>"
      ]
     },
     "metadata": {
      "needs_background": "light"
     },
     "output_type": "display_data"
    }
   ],
   "source": [
    "occ_cert = [int(x[0]) for x in curs_occ.execute(\"SELECT coordinateUncertaintyInMeters FROM occurrences\").fetchall()]\n",
    "maxi = np.max(occ_cert)\n",
    "plt.figure(figsize=(16,4))\n",
    "plt.hist(occ_cert, bins=50, color=\"r\")\n",
    "plt.xticks(range(0, maxi, int(maxi/50)), rotation=90)\n",
    "plt.ylabel(\"number of records\")\n",
    "plt.xlabel(\"coordinate uncertainty\")\n",
    "plt.title(\"Coordinate Uncertainty\")"
   ]
  },
  {
   "cell_type": "code",
   "execution_count": 21,
   "metadata": {},
   "outputs": [
    {
     "data": {
      "text/plain": [
       "Text(0.5, 1.0, 'Coordinate Uncertainty - Zoomed In')"
      ]
     },
     "execution_count": 21,
     "metadata": {},
     "output_type": "execute_result"
    },
    {
     "data": {
      "image/png": "[encoded data removed]",
      "text/plain": [
       "<Figure size 864x288 with 1 Axes>"
      ]
     },
     "metadata": {
      "needs_background": "light"
     },
     "output_type": "display_data"
    }
   ],
   "source": [
    "rng_max = 2000\n",
    "occ_cert2 = [x for x in occ_cert if x <= rng_max]\n",
    "plt.figure(figsize=(12,4))\n",
    "plt.hist(occ_cert2, bins=30, color=\"m\", align='mid')\n",
    "plt.xticks(range(0, rng_max + 100, int(rng_max/30.)), rotation=90)\n",
    "plt.ylabel(\"number of records\")\n",
    "plt.xlabel(\"coordinate uncertainty\")\n",
    "plt.title(\"Coordinate Uncertainty - Zoomed In\")"
   ]
  },
  {
   "cell_type": "markdown",
   "metadata": {},
   "source": [
    "### Establishment means reported"
   ]
  },
  {
   "cell_type": "code",
   "execution_count": 22,
   "metadata": {},
   "outputs": [
    {
     "name": "stdout",
     "output_type": "stream",
     "text": [
      "UNKNOWN\n"
     ]
    }
   ],
   "source": [
    "establishment = curs_occ.execute(\"SELECT vals FROM unique_values WHERE field = 'establishment' AND step = 'filter';\").fetchall()[0]\n",
    "for est in establishment:\n",
    "    est = est.replace('[', '').strip().replace(']', '').replace(\"'\", \"\")\n",
    "    print(est)"
   ]
  },
  {
   "cell_type": "markdown",
   "metadata": {},
   "source": [
    "### Identification qualifiers included"
   ]
  },
  {
   "cell_type": "code",
   "execution_count": 23,
   "metadata": {},
   "outputs": [
    {
     "name": "stdout",
     "output_type": "stream",
     "text": [
      "UNKNOWN, A\n"
     ]
    }
   ],
   "source": [
    "quali = curs_occ.execute(\"SELECT DISTINCT vals FROM unique_values WHERE field = 'IDqualifier' AND step = 'filter';\").fetchall()[0]\n",
    "for q in quali:\n",
    "    q = q.replace('[', '').strip().replace(']', '').replace(\"'\", \"\")\n",
    "    print(q)"
   ]
  },
  {
   "cell_type": "markdown",
   "metadata": {},
   "source": [
    "### Remarks included"
   ]
  },
  {
   "cell_type": "code",
   "execution_count": 24,
   "metadata": {
    "scrolled": true
   },
   "outputs": [
    {
     "name": "stdout",
     "output_type": "stream",
     "text": [
      "More than 20 remarks, consult the occurrence database.\n"
     ]
    }
   ],
   "source": [
    "remarks = curs_occ.execute(\"SELECT DISTINCT remarks FROM occurrences;\").fetchall()\n",
    "if len(remarks) <= 20:\n",
    "    try:\n",
    "        for rem in remarks:\n",
    "            if rem[0][0:1] == ';':\n",
    "                print(rem[0][2:])\n",
    "            else:\n",
    "                print(rem[0])\n",
    "    except:\n",
    "        pass\n",
    "else:\n",
    "    print(\"More than 20 remarks, consult the occurrence database.\")"
   ]
  },
  {
   "cell_type": "markdown",
   "metadata": {},
   "source": [
    "### Attributes returned for the records in the request (pre-filters)"
   ]
  },
  {
   "cell_type": "code",
   "execution_count": 25,
   "metadata": {
    "scrolled": false
   },
   "outputs": [
    {
     "name": "stdout",
     "output_type": "stream",
     "text": [
      "                                               attribute  included(n)  populated(n)\n",
      "Field                                                                              \n",
      "0                                 acceptedScientificName         6501          6501\n",
      "1                                       acceptedTaxonKey         6501          6501\n",
      "2                                           accessRights         1333          1333\n",
      "3                                  associatedOccurrences           11            11\n",
      "4                                   associatedReferences          110           110\n",
      "5                                    associatedSequences          263           263\n",
      "6                                          basisOfRecord         6501          6501\n",
      "7                                               behavior            1             1\n",
      "8                                  bibliographicCitation         1141          1141\n",
      "9                                          catalogNumber         6465          6465\n",
      "10                                                 class         6501          6501\n",
      "11                                              classKey         6501          6501\n",
      "12                                        collectionCode         6478          6478\n",
      "13                                          collectionID         1503          1503\n",
      "14                                             continent         2240          2240\n",
      "15                                   coordinatePrecision            9             9\n",
      "16                         coordinateUncertaintyInMeters         3248          3248\n",
      "17                                               country         6501          6501\n",
      "18                                           countryCode         6501          6501\n",
      "19                                                county         2720          2720\n",
      "20                                               crawlId         6501          6501\n",
      "21                                               created           23            23\n",
      "22                                             datasetID          781           781\n",
      "23                                            datasetKey         6501          6501\n",
      "24                                           datasetName         4628          4628\n",
      "25                                        dateIdentified         3463          3463\n",
      "26                                                   day         6495          6495\n",
      "27                                       decimalLatitude         6501          6501\n",
      "28                                      decimalLongitude         6501          6501\n",
      "29                                           disposition          372           372\n",
      "30                                     dynamicProperties          197           197\n",
      "31                                             elevation           62            62\n",
      "32                                     elevationAccuracy           61            61\n",
      "33                                          endDayOfYear          824           824\n",
      "34                                    establishmentMeans          733           733\n",
      "35                                             eventDate         6501          6501\n",
      "36                                          eventRemarks          379           379\n",
      "37                                             eventTime         2982          2982\n",
      "38                                            extensions         6501             0\n",
      "39                                                 facts         6501             0\n",
      "40                                                family         6501          6501\n",
      "41                                             familyKey         6501          6501\n",
      "42                                           fieldNumber          911           911\n",
      "43                                                gbifID         6501          6501\n",
      "44                                           genericName         6501          6501\n",
      "45                                                 genus         6501          6501\n",
      "46                                              genusKey         6501          6501\n",
      "47                                         geodeticDatum         6501          6501\n",
      "48                                  georeferenceProtocol          188           188\n",
      "49                                   georeferenceRemarks           19            19\n",
      "50                                   georeferenceSources          619           619\n",
      "51                        georeferenceVerificationStatus         1229          1229\n",
      "52                                       georeferencedBy          239           239\n",
      "53                                     georeferencedDate           96            96\n",
      "54                                               habitat           42            42\n",
      "55                                  higherClassification         1010          1010\n",
      "56                                       higherGeography         1426          1426\n",
      "57         http://rs.tdwg.org/dwc/terms/organismQuantity            6             6\n",
      "58     http://rs.tdwg.org/dwc/terms/organismQuantityType            9             9\n",
      "59                               http://unknown.org/nick         3348          3348\n",
      "60                  http://unknown.org/occurrenceDetails         3348          3348\n",
      "61                           http://unknown.org/recordId            1             1\n",
      "62                                      identificationID         3277          3277\n",
      "63                               identificationQualifier           62            62\n",
      "64                              identificationReferences           98            98\n",
      "65                                 identificationRemarks           68            68\n",
      "66                      identificationVerificationStatus           62            62\n",
      "67                                          identifiedBy          613           613\n",
      "68                                       identifiedByIDs         6501            12\n",
      "69                                            identifier         6501          6501\n",
      "70                                           identifiers         6501             0\n",
      "71                                       individualCount         1140          1140\n",
      "72                                   informationWithheld          702           702\n",
      "73                                  infraspecificEpithet          207           207\n",
      "74                                       installationKey         6501          6501\n",
      "75                                       institutionCode         6478          6478\n",
      "76                                         institutionID         1608          1608\n",
      "77                                                issues         6501          5723\n",
      "78                                                   key         6501          6501\n",
      "79                                               kingdom         6501          6501\n",
      "80                                            kingdomKey         6501          6501\n",
      "81                                              language         2180          2180\n",
      "82                                           lastCrawled         6501          6501\n",
      "83                                       lastInterpreted         6501          6501\n",
      "84                                            lastParsed         6501          6501\n",
      "85                                               license         6501          6501\n",
      "86                                             lifeStage          569           569\n",
      "87                                              locality         2571          2571\n",
      "88                                   locationAccordingTo           62            62\n",
      "89                                            locationID           54            54\n",
      "90                                       locationRemarks           20            20\n",
      "91                                                 media         6501          3188\n",
      "92                                              modified         5562          5562\n",
      "93                                                 month         6501          6501\n",
      "94                                          municipality          161           161\n",
      "95                                       nameAccordingTo          409           409\n",
      "96                                     nameAccordingToID          409           409\n",
      "97                                           networkKeys           62            62\n",
      "98                                     nomenclaturalCode          955           955\n",
      "99                                          occurrenceID         6501          6501\n",
      "100                                    occurrenceRemarks         1194          1194\n",
      "101                                     occurrenceStatus          733           733\n",
      "102                                                order         6501          6501\n",
      "103                                             orderKey         6501          6501\n",
      "104                                           organismID           62            62\n",
      "105                                     organismQuantity            6             6\n",
      "106                                 organismQuantityType            9             9\n",
      "107                                  otherCatalogNumbers          207           207\n",
      "108                                 ownerInstitutionCode          532           532\n",
      "109                                               phylum         6501          6501\n",
      "110                                            phylumKey         6501          6501\n",
      "111                                         preparations         2294          2294\n",
      "112                              previousIdentifications          222           222\n",
      "113                                             protocol         6501          6501\n",
      "114                                    publishingCountry         6501          6501\n",
      "115                                     publishingOrgKey         6501          6501\n",
      "116                                         recordNumber          664           664\n",
      "117                                           recordedBy         6055          6055\n",
      "118                                        recordedByIDs         6501             7\n",
      "119                                           references         4699          4699\n",
      "120                                            relations         6501             0\n",
      "121                                reproductiveCondition            1             1\n",
      "122                                               rights         3351          3351\n",
      "123                                         rightsHolder         3880          3880\n",
      "124                                     samplingProtocol          429           429\n",
      "125                                       scientificName         6501          6501\n",
      "126                                                  sex          259           259\n",
      "127                                              species         6501          6501\n",
      "128                                           speciesKey         6501          6501\n",
      "129                                      specificEpithet         6501          6501\n",
      "130                                       startDayOfYear          762           762\n",
      "131                                        stateProvince         6069          6069\n",
      "132                                              taxonID         3781          3781\n",
      "133                                             taxonKey         6501          6501\n",
      "134                                            taxonRank         6501          6501\n",
      "135                                         taxonRemarks          508           508\n",
      "136                                      taxonomicStatus         6501          6501\n",
      "137                                                 type         1776          1776\n",
      "138                                           typeStatus           98            98\n",
      "139                             verbatimCoordinateSystem          569           569\n",
      "140                                    verbatimElevation          675           675\n",
      "141                                    verbatimEventDate         4098          4098\n",
      "142                                     verbatimLocality         4146          4146\n",
      "143                                          verbatimSRS           33            33\n",
      "144                                       vernacularName         1309          1309\n",
      "145                                                 year         6501          6501\n"
     ]
    }
   ],
   "source": [
    "fields_summary = pd.read_sql(\"SELECT * FROM gbif_fields_returned\", conn_occ)#, index_col='index')\n",
    "fields_summary.index.name = 'Field'\n",
    "pd.set_option('display.max_rows', 250)\n",
    "print(fields_summary)"
   ]
  },
  {
   "cell_type": "markdown",
   "metadata": {},
   "source": [
    "### Runtime"
   ]
  },
  {
   "cell_type": "code",
   "execution_count": 26,
   "metadata": {},
   "outputs": [
    {
     "name": "stdout",
     "output_type": "stream",
     "text": [
      "0:06:31.947169\n"
     ]
    }
   ],
   "source": [
    "t2 = datetime.now()\n",
    "print(t2 - t1)"
   ]
  },
  {
   "cell_type": "code",
   "execution_count": null,
   "metadata": {},
   "outputs": [],
   "source": []
  }
 ],
 "metadata": {
  "kernelspec": {
   "display_name": "Python 3",
   "language": "python",
   "name": "python3"
  },
  "language_info": {
   "codemirror_mode": {
    "name": "ipython",
    "version": 3
   },
   "file_extension": ".py",
   "mimetype": "text/x-python",
   "name": "python",
   "nbconvert_exporter": "python",
   "pygments_lexer": "ipython3",
   "version": "3.6.5"
  }
 },
 "nbformat": 4,
 "nbformat_minor": 2
}
