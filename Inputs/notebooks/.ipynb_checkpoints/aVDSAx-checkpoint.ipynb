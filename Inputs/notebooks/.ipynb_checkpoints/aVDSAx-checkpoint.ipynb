{
 "cells": [
  {
   "cell_type": "markdown",
   "metadata": {},
   "source": [
    "# Occurrence Records from GBIF\n",
    "This notebook is a tool for exploring data sets requested from GBIF (and eventually other sources), and mostly for developing criteria for filtering records (filter sets).  When the entire notebook is run, it retrieves records according to the filter sets specified and saves the results (records and some summary tables) in an sqlite database.  Some information is pulled from the parameters.sqlite database that is saved in this repository."
   ]
  },
  {
   "cell_type": "markdown",
   "metadata": {},
   "source": [
    "### Set Variables - fill out stuff in this cell.  \n",
    "Notes:\n",
    "default_coordUncertainty -- coordinateUncertaintyInMeters is often not provided.  Here is an option to use a default.  If you don't want anything entered, set this equal to False (boolean, not string)."
   ]
  },
  {
   "cell_type": "code",
   "execution_count": 21,
   "metadata": {},
   "outputs": [],
   "source": [
    "species_id = 'avdsax0'\n",
    "summary_name = 'Van Dykes Salamander'\n",
    "gbif_req_id = 'EvalGBIFRequest4'\n",
    "gbif_filter_id = 'EvalGBIFFilter'\n",
    "default_coordUncertainty = False       # Note above.\n",
    "workDir = 'D:/USGS Analyses/GAP-Habitat-Map-Assessment/'   # Be sure to create folders named \"Inputs\" and \"Outputs\" here.\n",
    "codeDir = workDir + 'Scripts/'\n",
    "dbDir = workDir + 'db/'\n",
    "paramdb = dbDir + 'wildlife-wrangler.sqlite'\n",
    "configDir = workDir  # Path to folder where saved your wildlifeconfig file."
   ]
  },
  {
   "cell_type": "markdown",
   "metadata": {},
   "source": [
    "### Setup - nothing to fill out in this cell"
   ]
  },
  {
   "cell_type": "code",
   "execution_count": 22,
   "metadata": {},
   "outputs": [
    {
     "name": "stdout",
     "output_type": "stream",
     "text": [
      "Notebook run 2020-05-11 11:50:07.625385\n",
      "D:/USGS Analyses/GAP-Habitat-Map-Assessment/Outputs/avdsax0EvalGBIFRequest4EvalGBIFFilter.sqlite\n"
     ]
    }
   ],
   "source": [
    "%matplotlib inline\n",
    "import sqlite3\n",
    "import pprint\n",
    "import json\n",
    "import pandas as pd\n",
    "import numpy as np\n",
    "pd.set_option('display.width', 600)\n",
    "pd.set_option('display.max_colwidth', 30)\n",
    "pd.set_option('display.max_rows', 150)\n",
    "from IPython.display import Image\n",
    "from pygbif import occurrences\n",
    "import matplotlib.pyplot as plt\n",
    "import os\n",
    "from datetime import datetime\n",
    "t1 = datetime.now()\n",
    "import sys\n",
    "sys.path.append(configDir)\n",
    "import config\n",
    "sys.path.append(codeDir)\n",
    "import repo_functions as functions\n",
    "inDir = workDir + 'Inputs/'\n",
    "outDir = workDir + 'Outputs/'\n",
    "spdb = outDir + species_id + gbif_req_id + gbif_filter_id + '.sqlite'\n",
    "username = config.gbif_username\n",
    "password = config.gbif_password\n",
    "email = config.gbif_email\n",
    "print(\"Notebook run \" + str(t1))\n",
    "print(spdb)\n",
    "connjup = sqlite3.connect(paramdb)\n",
    "cursorjup = connjup.cursor()\n",
    "# Get some variables\n",
    "years = connjup.execute(\"\"\"SELECT years_range \n",
    "                           FROM gbif_requests WHERE request_id = '{0}'\"\"\".format(gbif_req_id)).fetchone()[0]\n",
    "gap_id = connjup.execute(\"\"\"SELECT gap_id\n",
    "                            FROM species_concepts WHERE species_id = '{0}'\"\"\".format(species_id)).fetchone()[0]\n",
    "common_name = connjup.execute(\"\"\"SELECT common_name\n",
    "                                 FROM species_concepts WHERE species_id = '{0}'\"\"\".format(species_id)).fetchone()[0]"
   ]
  },
  {
   "cell_type": "markdown",
   "metadata": {},
   "source": [
    "# Species Concept\n",
    "Display information on the species from the parameters.sqlite database."
   ]
  },
  {
   "cell_type": "code",
   "execution_count": 23,
   "metadata": {},
   "outputs": [
    {
     "name": "stdout",
     "output_type": "stream",
     "text": [
      "SPECIES CONCEPT RECORD\n",
      "                                                   VALUE\n",
      "ATTRIBUTE                                               \n",
      "species_id                                       avdsax0\n",
      "fws_id                                              None\n",
      "gap_id                                            aVDSAx\n",
      "itis_tsn                                          173671\n",
      "gbif_id                                          2431526\n",
      "bcb_id                                              None\n",
      "ebird_id                                            None\n",
      "common_name                        Van Dyke's Salamander\n",
      "scientific_name                       Plethodon vandykei\n",
      "start_year                                          1906\n",
      "split_from                                          None\n",
      "end_year                                            None\n",
      "lumped_into                                         None\n",
      "geometry                                            None\n",
      "detection_distance_meters                              0\n",
      "vetted_how                                             0\n",
      "vetted_who                                     M. Rubino\n",
      "vetted_date                                   05/11/2020\n",
      "notes                      Plethodon vandykei and P. ...\n"
     ]
    }
   ],
   "source": [
    "vals = cursorjup.execute(\"SELECT * FROM species_concepts WHERE species_id = '{0}';\".format(species_id)).fetchall()[0]\n",
    "cols = [x[1] for x in cursorjup.execute(\"PRAGMA table_info('species_concepts')\").fetchall()]\n",
    "sp_dict = dict(zip(cols, vals))\n",
    "sp_df = pd.DataFrame.from_dict(sp_dict, orient='index', columns=['VALUE'])\n",
    "sp_df.index.name = 'ATTRIBUTE'\n",
    "print(\"SPECIES CONCEPT RECORD\")\n",
    "print(sp_df)"
   ]
  },
  {
   "cell_type": "markdown",
   "metadata": {},
   "source": [
    "# Filters\n",
    "Display the parameters of the request filter set.  These are deployed during the step where records are retrieved from the API."
   ]
  },
  {
   "cell_type": "code",
   "execution_count": 24,
   "metadata": {},
   "outputs": [
    {
     "name": "stdout",
     "output_type": "stream",
     "text": [
      "THE REQUEST FILTER SET\n",
      "request_id                   EvalGBIFRequest4\n",
      "source                                   GBIF\n",
      "lat_range                                None\n",
      "lon_range                                None\n",
      "years_range                         1960,2020\n",
      "months_range                             1,12\n",
      "geoissue                                 None\n",
      "coordinate                               True\n",
      "country                                    US\n",
      "geometry                                 None\n",
      "creator                             M. Rubino\n",
      "notes           amphibian evaluation reque...\n",
      "Name: 0, dtype: object\n"
     ]
    }
   ],
   "source": [
    "request_df = pd.read_sql_query(sql=\"SELECT * FROM gbif_requests WHERE request_id = '{0}'\".format(gbif_req_id), con=connjup)\n",
    "print(\"THE REQUEST FILTER SET\")\n",
    "print(request_df.loc[0])"
   ]
  },
  {
   "cell_type": "markdown",
   "metadata": {},
   "source": [
    "Display the parameters of the post-request filter set.  These are deployed after the records are retrieved from the API, but before they are stored in the occurrence record sqlite database."
   ]
  },
  {
   "cell_type": "code",
   "execution_count": 25,
   "metadata": {},
   "outputs": [
    {
     "name": "stdout",
     "output_type": "stream",
     "text": [
      "THE POST REQUEST FILTER SET\n",
      "filter_id                                    EvalGBIFFilter\n",
      "dataset                                                GBIF\n",
      "institutions_omit                                      None\n",
      "collection_codes_omit                                  None\n",
      "datasets_omit                                          None\n",
      "has_coordinate_uncertainty                                1\n",
      "max_coordinate_uncertainty                            10000\n",
      "bases_omit                                  FOSSIL_SPECIMEN\n",
      "sampling_protocols_omit                                None\n",
      "issues_omit                                            None\n",
      "duplicates_OK                                         False\n",
      "creator                                           M. Rubino\n",
      "notes                         amphibian evaluation filte...\n",
      "Name: 0, dtype: object\n"
     ]
    }
   ],
   "source": [
    "filter_df = pd.read_sql_query(sql=\"SELECT * FROM gbif_filters WHERE filter_id = '{0}'\".format(gbif_filter_id), con=connjup)\n",
    "print(\"THE POST REQUEST FILTER SET\")\n",
    "print(filter_df.loc[0])"
   ]
  },
  {
   "cell_type": "code",
   "execution_count": 26,
   "metadata": {
    "scrolled": false
   },
   "outputs": [
    {
     "name": "stdout",
     "output_type": "stream",
     "text": [
      "SPATIALITE_SECURITY set to relaxed\n",
      "Created occurrence db: 0:00:00.237704\n",
      "Got request params and sorted out geometry constraints: 0:00:00\n",
      "85 records available\n",
      "Downloaded records: 0:00:02.408618\n",
      "Summarized fields returned: 0:00:05.281943\n",
      "Created summary table of request results: 0:00:00.038971\n",
      "Performed post-request filtering: 0:00:00.013010\n",
      "Calculated new columns, deleted some too: 0:00:00.019016\n",
      "34 duplicate records dropped: 0:00:00.125625\n",
      "Inserted records into table: 0:00:00.031027\n",
      "Summarized unique values retained: 0:00:00.003006\n",
      "Updated occurrences table geometry column: 0:00:00.004003\n",
      "Buffered points: 0:00:00.221112\n"
     ]
    }
   ],
   "source": [
    "functions.retrieve_gbif_occurrences(codeDir, species_id, inDir, paramdb, spdb, gbif_req_id, gbif_filter_id, \n",
    "                                    default_coordUncertainty, outDir, summary_name, username,\n",
    "                                   password, email)"
   ]
  },
  {
   "cell_type": "code",
   "execution_count": 27,
   "metadata": {},
   "outputs": [
    {
     "name": "stdout",
     "output_type": "stream",
     "text": [
      "codeDir: D:/USGS Analyses/GAP-Habitat-Map-Assessment/Scripts/\n",
      " species_id: avdsax0\n",
      " inDir: D:/USGS Analyses/GAP-Habitat-Map-Assessment/Inputs/\n",
      " paramdb: D:/USGS Analyses/GAP-Habitat-Map-Assessment/db/wildlife-wrangler.sqlite\n",
      " spdb: D:/USGS Analyses/GAP-Habitat-Map-Assessment/Outputs/avdsax0EvalGBIFRequest4EvalGBIFFilter.sqlite\n",
      " gbif_req_id: EvalGBIFRequest4\n",
      " gbif_filter_id: EvalGBIFFilter\n",
      " default_coordUncertainty: False\n",
      " outDir: D:/USGS Analyses/GAP-Habitat-Map-Assessment/Outputs/\n",
      " summary_name: Van Dykes Salamander\n",
      " username: gapper\n",
      " password: metspirates\n",
      " email: pythonprocessing@gmail.com\n"
     ]
    }
   ],
   "source": [
    "print('codeDir: '+codeDir+'\\n', \n",
    "'species_id: '+species_id+'\\n', \n",
    "'inDir: '+inDir+'\\n', \n",
    "'paramdb: '+paramdb+'\\n', \n",
    "'spdb: '+spdb+'\\n', \n",
    "'gbif_req_id: '+gbif_req_id+'\\n', \n",
    "'gbif_filter_id: '+gbif_filter_id+'\\n', \n",
    "'default_coordUncertainty: '+str(default_coordUncertainty)+'\\n', \n",
    "'outDir: '+outDir+'\\n', \n",
    "'summary_name: '+summary_name+'\\n', \n",
    "'username: '+username+'\\n',\n",
    "'password: '+password+'\\n', \n",
    "'email: '+email)"
   ]
  },
  {
   "cell_type": "markdown",
   "metadata": {},
   "source": [
    "### Connect to output database, record species and filter info."
   ]
  },
  {
   "cell_type": "code",
   "execution_count": 28,
   "metadata": {},
   "outputs": [],
   "source": [
    "conn_occ= sqlite3.connect(spdb)\n",
    "curs_occ = conn_occ.cursor()\n",
    "sp_df.to_sql(name='species_concept', con=conn_occ, if_exists='replace')\n",
    "request_df.to_sql(name=gbif_req_id, con=conn_occ, if_exists='replace')\n",
    "filter_df.to_sql(name=gbif_filter_id, con=conn_occ, if_exists='replace')"
   ]
  },
  {
   "cell_type": "markdown",
   "metadata": {},
   "source": [
    "### How many records made it through the filters?\n",
    "This is the number that was actually saved in the occurrence record sqlite database."
   ]
  },
  {
   "cell_type": "code",
   "execution_count": 29,
   "metadata": {},
   "outputs": [
    {
     "name": "stdout",
     "output_type": "stream",
     "text": [
      "20 records\n"
     ]
    }
   ],
   "source": [
    "record_count = curs_occ.execute(\"SELECT COUNT(occ_id) FROM occurrences WHERE species_id = '{0}'\".format(species_id)).fetchone()\n",
    "print(str(record_count[0]) + \" records\")"
   ]
  },
  {
   "cell_type": "markdown",
   "metadata": {},
   "source": [
    "# Sources\n",
    "#### Pre-filters"
   ]
  },
  {
   "cell_type": "code",
   "execution_count": 30,
   "metadata": {},
   "outputs": [
    {
     "name": "stdout",
     "output_type": "stream",
     "text": [
      "GBIF\n",
      "                  institutionCode                 collectionCode                    datasetName   0\n",
      "0                             CAS                           HERP                        UNKNOWN   2\n",
      "1                              KU                            KUH  University of Kansas Biodi...   4\n",
      "2                            LACM                          Herps               LACM Vertebrates   4\n",
      "3                           LSUMZ                          Herps                        UNKNOWN   3\n",
      "4                             MCZ                           Herp                        UNKNOWN   1\n",
      "5                             MSB  Amphibian and reptile spec...                        UNKNOWN   4\n",
      "6                             MVZ  Amphibian and reptile spec...                        UNKNOWN  30\n",
      "7   Ohio State University - Am...                     Amphibians                        UNKNOWN   1\n",
      "8                             UCM  Amphibian and reptile spec...                        UNKNOWN   1\n",
      "9                            USNM          Amphibians & Reptiles            NMNH Extant Biology   7\n",
      "10                           UWBM  Amphibian and reptile spec...                        UNKNOWN  12\n",
      "11                    iNaturalist                   Observations  iNaturalist research-grade...  16\n"
     ]
    }
   ],
   "source": [
    "tables = cursorjup.execute(\"SELECT table_name FROM table_descriptions\").fetchall()\n",
    "tables = [x[0] for x in tables]\n",
    "\n",
    "filter_sets = [gbif_req_id, gbif_filter_id]\n",
    "\n",
    "sources = []\n",
    "for s in filter_sets:\n",
    "    s = s.strip()\n",
    "    for tab in tables:\n",
    "        columns = cursorjup.execute(\"SELECT column_name FROM column_descriptions WHERE table_name = '{0}'\".format(tab)).fetchall()\n",
    "        columns = [x[0] for x in columns]\n",
    "        for col in columns:\n",
    "            try:\n",
    "                a = cursorjup.execute(\"SELECT source FROM {1} WHERE {2} = '{0}'\".format(s, tab, col)).fetchone()[0]\n",
    "                sources.append(a)\n",
    "            except:\n",
    "                pass\n",
    "print(list(set(sources))[0])\n",
    "\n",
    "sources = pd.read_sql(sql=\"SELECT * FROM pre_filter_source_counts;\", con=conn_occ)\n",
    "print(sources)"
   ]
  },
  {
   "cell_type": "markdown",
   "metadata": {},
   "source": [
    "#### Post-filters"
   ]
  },
  {
   "cell_type": "code",
   "execution_count": 31,
   "metadata": {},
   "outputs": [
    {
     "name": "stdout",
     "output_type": "stream",
     "text": [
      "GBIF\n",
      "  institutionCode                 collectionCode          datasetName  COUNT(occ_id)\n",
      "0             CAS                           HERP              UNKNOWN              2\n",
      "1            LACM                          Herps     LACM Vertebrates              3\n",
      "2             MCZ                           Herp              UNKNOWN              1\n",
      "3             MSB  Amphibian and reptile spec...              UNKNOWN              2\n",
      "4             MVZ  Amphibian and reptile spec...              UNKNOWN              4\n",
      "5             UCM  Amphibian and reptile spec...              UNKNOWN              1\n",
      "6            USNM          Amphibians & Reptiles  NMNH Extant Biology              2\n",
      "7            UWBM  Amphibian and reptile spec...              UNKNOWN              5\n"
     ]
    }
   ],
   "source": [
    "tables = cursorjup.execute(\"SELECT table_name FROM table_descriptions\").fetchall()\n",
    "tables = [x[0] for x in tables]\n",
    "\n",
    "filter_sets = [gbif_req_id, gbif_filter_id]\n",
    "\n",
    "sources = []\n",
    "for s in filter_sets:\n",
    "    s = s.strip()\n",
    "    for tab in tables:\n",
    "        columns = cursorjup.execute(\"SELECT column_name FROM column_descriptions WHERE table_name = '{0}'\".format(tab)).fetchall()\n",
    "        columns = [x[0] for x in columns]\n",
    "        for col in columns:\n",
    "            try:\n",
    "                a = cursorjup.execute(\"SELECT source FROM {1} WHERE {2} = '{0}'\".format(s, tab, col)).fetchone()[0]\n",
    "                sources.append(a)\n",
    "            except:\n",
    "                pass\n",
    "print(list(set(sources))[0])\n",
    "\n",
    "sql = \"SELECT institutionCode, collectionCode, datasetName, COUNT(occ_id) FROM occurrences GROUP BY institutionCode, collectionCode, datasetName;\"\n",
    "sources = pd.read_sql(sql=sql, con=conn_occ)\n",
    "print(sources)"
   ]
  },
  {
   "cell_type": "markdown",
   "metadata": {},
   "source": [
    "# Bases\n",
    "#### Pre-filter"
   ]
  },
  {
   "cell_type": "code",
   "execution_count": 32,
   "metadata": {},
   "outputs": [
    {
     "name": "stdout",
     "output_type": "stream",
     "text": [
      "        basisOfRecord  count\n",
      "0   HUMAN_OBSERVATION     16\n",
      "1  PRESERVED_SPECIMEN     69\n"
     ]
    }
   ],
   "source": [
    "bases = pd.read_sql(sql=\"SELECT value as basisOfRecord, count FROM pre_filter_value_counts WHERE attribute = 'bases';\", con=conn_occ)\n",
    "print(bases)"
   ]
  },
  {
   "cell_type": "markdown",
   "metadata": {},
   "source": [
    "#### Post-filters"
   ]
  },
  {
   "cell_type": "code",
   "execution_count": 33,
   "metadata": {
    "scrolled": true
   },
   "outputs": [
    {
     "name": "stdout",
     "output_type": "stream",
     "text": [
      "        basisOfRecord  count\n",
      "0  PRESERVED_SPECIMEN     20\n"
     ]
    }
   ],
   "source": [
    "sql = \"SELECT basisOfRecord, COUNT(occ_id) as count FROM occurrences GROUP BY basisOfRecord;\"\n",
    "bases = pd.read_sql(sql=sql, con=conn_occ)\n",
    "print(bases)"
   ]
  },
  {
   "cell_type": "markdown",
   "metadata": {},
   "source": [
    "# Protocols\n",
    "#### Pre-filters"
   ]
  },
  {
   "cell_type": "code",
   "execution_count": 34,
   "metadata": {
    "scrolled": true
   },
   "outputs": [
    {
     "name": "stdout",
     "output_type": "stream",
     "text": [
      "  samplingProtocol  count\n",
      "0          UNKNOWN     84\n",
      "1   none specified      1\n"
     ]
    }
   ],
   "source": [
    "protocol = pd.read_sql(sql=\"SELECT value as samplingProtocol, count FROM pre_filter_value_counts WHERE attribute = 'samplingProtocols';\", con=conn_occ)\n",
    "print(protocol)"
   ]
  },
  {
   "cell_type": "markdown",
   "metadata": {},
   "source": [
    "#### Post-filters"
   ]
  },
  {
   "cell_type": "code",
   "execution_count": 35,
   "metadata": {},
   "outputs": [
    {
     "name": "stdout",
     "output_type": "stream",
     "text": [
      "  samplingProtocol  count\n",
      "0          UNKNOWN     20\n"
     ]
    }
   ],
   "source": [
    "sql = \"SELECT samplingProtocol, COUNT(occ_id) as count FROM occurrences GROUP BY samplingProtocol;\"\n",
    "print(pd.read_sql(sql=sql, con=conn_occ))"
   ]
  },
  {
   "cell_type": "markdown",
   "metadata": {},
   "source": [
    "# Issues\n",
    "#### Pre-filters"
   ]
  },
  {
   "cell_type": "code",
   "execution_count": 36,
   "metadata": {
    "scrolled": true
   },
   "outputs": [
    {
     "name": "stdout",
     "output_type": "stream",
     "text": [
      "                                                       issues  count\n",
      "0        ['COORDINATE_REPROJECTED', 'TAXON_MATCH_HIGHERRANK']      2\n",
      "1                                  ['COORDINATE_REPROJECTED']     41\n",
      "2            ['COORDINATE_ROUNDED', 'COORDINATE_REPROJECTED']      1\n",
      "3      ['COORDINATE_ROUNDED', 'GEODETIC_DATUM_ASSUMED_WGS84']     16\n",
      "4                                      ['COORDINATE_ROUNDED']      3\n",
      "5                            ['GEODETIC_DATUM_ASSUMED_WGS84']      5\n",
      "6  ['GEODETIC_DATUM_INVALID', 'GEODETIC_DATUM_ASSUMED_WGS84']      4\n",
      "7                                                          []     13\n"
     ]
    }
   ],
   "source": [
    "iss = pd.read_sql(sql=\"SELECT value as issues, count FROM pre_filter_value_counts WHERE attribute = 'issues';\", con=conn_occ)\n",
    "pd.set_option('display.max_colwidth', 80)\n",
    "print(iss)"
   ]
  },
  {
   "cell_type": "markdown",
   "metadata": {},
   "source": [
    "#### Post-filters"
   ]
  },
  {
   "cell_type": "code",
   "execution_count": 37,
   "metadata": {
    "scrolled": true
   },
   "outputs": [
    {
     "name": "stdout",
     "output_type": "stream",
     "text": [
      "                                                issues  count\n",
      "0                                                           6\n",
      "1                               COORDINATE_REPROJECTED     10\n",
      "2        COORDINATE_REPROJECTED;TAXON_MATCH_HIGHERRANK      1\n",
      "3            COORDINATE_ROUNDED;COORDINATE_REPROJECTED      1\n",
      "4  GEODETIC_DATUM_INVALID;GEODETIC_DATUM_ASSUMED_WGS84      2\n"
     ]
    }
   ],
   "source": [
    "sql = \"SELECT issues, COUNT(occ_id) as count FROM occurrences GROUP BY issues;\"\n",
    "print(pd.read_sql(sql=sql, con=conn_occ))"
   ]
  },
  {
   "cell_type": "markdown",
   "metadata": {},
   "source": [
    "# Descriptions of filtered records"
   ]
  },
  {
   "cell_type": "markdown",
   "metadata": {},
   "source": [
    "### Years represented"
   ]
  },
  {
   "cell_type": "code",
   "execution_count": 38,
   "metadata": {},
   "outputs": [
    {
     "data": {
      "text/plain": [
       "Text(0.5, 1.0, 'Occurrences per Year')"
      ]
     },
     "execution_count": 38,
     "metadata": {},
     "output_type": "execute_result"
    },
    {
     "data": {
      "image/png": "[encoded data removed]",
      "text/plain": [
       "<Figure size 432x288 with 1 Axes>"
      ]
     },
     "metadata": {
      "needs_background": "light"
     },
     "output_type": "display_data"
    }
   ],
   "source": [
    "occ_years = [int(x[0]) for x in curs_occ.execute(\"SELECT strftime('%Y', occurrenceDate) FROM occurrences\").fetchall()]\n",
    "years = connjup.execute(\"SELECT years_range FROM gbif_requests WHERE request_id = '{0}'\".format(gbif_req_id)).fetchone()[0]\n",
    "years = years.split(',')\n",
    "yearsrng = list(range(int(years[0]), int(years[1]), 1))\n",
    "binsnum = int(years[1]) - int(years[0])\n",
    "plt.hist(occ_years, bins=binsnum)\n",
    "plt.ylabel(\"number of records\")\n",
    "plt.xlabel(\"year\")\n",
    "plt.xticks(yearsrng, rotation=90)\n",
    "plt.title(\"Occurrences per Year\")"
   ]
  },
  {
   "cell_type": "markdown",
   "metadata": {},
   "source": [
    "### Months represented"
   ]
  },
  {
   "cell_type": "code",
   "execution_count": 39,
   "metadata": {},
   "outputs": [
    {
     "data": {
      "text/plain": [
       "Text(0.5, 1.0, 'Occurrences per Month')"
      ]
     },
     "execution_count": 39,
     "metadata": {},
     "output_type": "execute_result"
    },
    {
     "data": {
      "image/png": "[encoded data removed]",
      "text/plain": [
       "<Figure size 432x288 with 1 Axes>"
      ]
     },
     "metadata": {
      "needs_background": "light"
     },
     "output_type": "display_data"
    }
   ],
   "source": [
    "occ_months = [int(x[0]) for x in curs_occ.execute(\"SELECT strftime('%m', occurrenceDate) FROM occurrences\").fetchall()]\n",
    "plt.hist(occ_months, bins=range(1, 14), color=\"g\")\n",
    "plt.ylabel(\"number of records\")\n",
    "plt.xlabel(\"month\")\n",
    "plt.xticks(range(1, 13))\n",
    "plt.title(\"Occurrences per Month\")"
   ]
  },
  {
   "cell_type": "markdown",
   "metadata": {},
   "source": [
    "### Distribution of coordinate uncertainty values"
   ]
  },
  {
   "cell_type": "code",
   "execution_count": 40,
   "metadata": {
    "scrolled": true
   },
   "outputs": [
    {
     "data": {
      "text/plain": [
       "Text(0.5, 1.0, 'Coordinate Uncertainty')"
      ]
     },
     "execution_count": 40,
     "metadata": {},
     "output_type": "execute_result"
    },
    {
     "data": {
      "image/png": "[encoded data removed]",
      "text/plain": [
       "<Figure size 1152x288 with 1 Axes>"
      ]
     },
     "metadata": {
      "needs_background": "light"
     },
     "output_type": "display_data"
    }
   ],
   "source": [
    "occ_cert = [int(x[0]) for x in curs_occ.execute(\"SELECT coordinateUncertaintyInMeters FROM occurrences\").fetchall()]\n",
    "maxi = np.max(occ_cert)\n",
    "plt.figure(figsize=(16,4))\n",
    "plt.hist(occ_cert, bins=50, color=\"r\")\n",
    "plt.xticks(range(0, maxi, int(maxi/50)), rotation=90)\n",
    "plt.ylabel(\"number of records\")\n",
    "plt.xlabel(\"coordinate uncertainty\")\n",
    "plt.title(\"Coordinate Uncertainty\")"
   ]
  },
  {
   "cell_type": "code",
   "execution_count": 41,
   "metadata": {},
   "outputs": [
    {
     "data": {
      "text/plain": [
       "Text(0.5, 1.0, 'Coordinate Uncertainty - Zoomed In')"
      ]
     },
     "execution_count": 41,
     "metadata": {},
     "output_type": "execute_result"
    },
    {
     "data": {
      "image/png": "[encoded data removed]",
      "text/plain": [
       "<Figure size 864x288 with 1 Axes>"
      ]
     },
     "metadata": {
      "needs_background": "light"
     },
     "output_type": "display_data"
    }
   ],
   "source": [
    "rng_max = 2000\n",
    "occ_cert2 = [x for x in occ_cert if x <= rng_max]\n",
    "plt.figure(figsize=(12,4))\n",
    "plt.hist(occ_cert2, bins=30, color=\"m\", align='mid')\n",
    "plt.xticks(range(0, rng_max + 100, int(rng_max/30.)), rotation=90)\n",
    "plt.ylabel(\"number of records\")\n",
    "plt.xlabel(\"coordinate uncertainty\")\n",
    "plt.title(\"Coordinate Uncertainty - Zoomed In\")"
   ]
  },
  {
   "cell_type": "markdown",
   "metadata": {},
   "source": [
    "### Establishment means reported"
   ]
  },
  {
   "cell_type": "code",
   "execution_count": 42,
   "metadata": {},
   "outputs": [
    {
     "name": "stdout",
     "output_type": "stream",
     "text": [
      "UNKNOWN, NATIVE\n"
     ]
    }
   ],
   "source": [
    "establishment = curs_occ.execute(\"SELECT vals FROM unique_values WHERE field = 'establishment' AND step = 'filter';\").fetchall()[0]\n",
    "for est in establishment:\n",
    "    est = est.replace('[', '').strip().replace(']', '').replace(\"'\", \"\")\n",
    "    print(est)"
   ]
  },
  {
   "cell_type": "markdown",
   "metadata": {},
   "source": [
    "### Identification qualifiers included"
   ]
  },
  {
   "cell_type": "code",
   "execution_count": 43,
   "metadata": {},
   "outputs": [
    {
     "name": "stdout",
     "output_type": "stream",
     "text": [
      "A, UNKNOWN\n"
     ]
    }
   ],
   "source": [
    "quali = curs_occ.execute(\"SELECT DISTINCT vals FROM unique_values WHERE field = 'IDqualifier' AND step = 'filter';\").fetchall()[0]\n",
    "for q in quali:\n",
    "    q = q.replace('[', '').strip().replace(']', '').replace(\"'\", \"\")\n",
    "    print(q)"
   ]
  },
  {
   "cell_type": "markdown",
   "metadata": {},
   "source": [
    "### Remarks included"
   ]
  },
  {
   "cell_type": "code",
   "execution_count": 44,
   "metadata": {
    "scrolled": true
   },
   "outputs": [
    {
     "name": "stdout",
     "output_type": "stream",
     "text": [
      "Olympic National Park, Howe Creek along Quinalt Rd.;UNKNOWN;UNKNOWN;UNKNOWN\n",
      "Washington: Bogacheil River Tributary, 8 mi SE Forks, Jefferson;UNKNOWN;UNKNOWN;UNKNOWN\n",
      "Lake Coeur d' Alene, S. shore, Beauty Bay;UNKNOWN;UNKNOWN;UNKNOWN\n",
      "Madeline Creek;UNKNOWN;UNKNOWN;UNKNOWN\n",
      "10.1 mi E (by road) Quinault, 100 ft W Bunch Creek;UNKNOWN;UNKNOWN;UNKNOWN\n",
      "found in log near N end Lake Cushman;UNKNOWN;georefed northern half of Lake Cushman;adult with egg mass\n",
      "Hemlock Creek, 1 mile North East Quinalt;UNKNOWN;UNKNOWN;UNKNOWN\n",
      "Willaby Campground, 2 miles E of Amanda Park, 200';UNKNOWN;Extent: 0.18; LatLongRemarks: extent half distance to nearest placename, Indian Affairs Forestry Station;Cataloged by: Kyle Ashton, 22 April 1998\n",
      "Carbon River Drainage, Poch Creek, 0.75 mi upstream from Hwy 165;UNKNOWN;UNKNOWN;T17N, R7E, Sec 7.  46 58 28 N, 121 57 34 W.\n",
      "Willapa River drainage, Trap Creek;UNKNOWN;UNKNOWN;T12N, R8W, Sec 9.\n",
      "Long Island, Willapa Bay;UNKNOWN;UNKNOWN;Tan/ochre phase\n",
      "2 mi W Summit K-M mountaon on Wash. St. Rte 4;UNKNOWN;UNKNOWN;UNKNOWN\n",
      "Skamokawa, 5 mi N of, on Skamokawa Creek Road;UNKNOWN;UNKNOWN;UNKNOWN\n",
      "Spirit Lake, tributary stream draining SE slope of Mt. Margaret;UNKNOWN;UNKNOWN;UNKNOWN\n",
      "Spirit Lake, 46 mi E (by road) Castle Rock;UNKNOWN;UNKNOWN;3200-3250 FT ELEV.\n",
      "Spirit Lake;UNKNOWN;UNKNOWN;COLLECTED 10-11 AUG 1973; PRESERVED 31 AUG 1973\n",
      "3rd entrance to Ole's Cave, Gifford Pinchot National Forest;UNKNOWN;UNKNOWN;UNKNOWN\n",
      "3rd-4th Entrances to Ole's Cave, Gifford Pinchot National Forest;UNKNOWN;UNKNOWN;UNKNOWN\n",
      "Archer Falls;UNKNOWN;UNKNOWN;UNKNOWN\n"
     ]
    }
   ],
   "source": [
    "remarks = curs_occ.execute(\"SELECT DISTINCT remarks FROM occurrences;\").fetchall()\n",
    "if len(remarks) <= 20:\n",
    "    try:\n",
    "        for rem in remarks:\n",
    "            if rem[0][0:1] == ';':\n",
    "                print(rem[0][2:])\n",
    "            else:\n",
    "                print(rem[0])\n",
    "    except:\n",
    "        pass\n",
    "else:\n",
    "    print(\"More than 20 remarks, consult the occurrence database.\")"
   ]
  },
  {
   "cell_type": "markdown",
   "metadata": {},
   "source": [
    "### Attributes returned for the records in the request (pre-filters)"
   ]
  },
  {
   "cell_type": "code",
   "execution_count": 45,
   "metadata": {
    "scrolled": false
   },
   "outputs": [
    {
     "name": "stdout",
     "output_type": "stream",
     "text": [
      "                                               attribute  included(n)  populated(n)\n",
      "Field                                                                              \n",
      "0                                 acceptedScientificName           85            85\n",
      "1                                       acceptedTaxonKey           85            85\n",
      "2                                           accessRights           58            58\n",
      "3                                          basisOfRecord           85            85\n",
      "4                                  bibliographicCitation            4             4\n",
      "5                                          catalogNumber           85            85\n",
      "6                                                  class           85            85\n",
      "7                                               classKey           85            85\n",
      "8                                         collectionCode           85            85\n",
      "9                                           collectionID           51            51\n",
      "10                                             continent           68            68\n",
      "11                         coordinateUncertaintyInMeters           73            73\n",
      "12                                               country           85            85\n",
      "13                                           countryCode           85            85\n",
      "14                                                county           68            68\n",
      "15                                               crawlId           85            85\n",
      "16                                            datasetKey           85            85\n",
      "17                                           datasetName           31            31\n",
      "18                                        dateIdentified           64            64\n",
      "19                                                   day           84            84\n",
      "20                                       decimalLatitude           85            85\n",
      "21                                      decimalLongitude           85            85\n",
      "22                                           disposition            1             1\n",
      "23                                     dynamicProperties           41            41\n",
      "24                                             elevation           19            19\n",
      "25                                     elevationAccuracy           19            19\n",
      "26                                          endDayOfYear           60            60\n",
      "27                                    establishmentMeans            7             7\n",
      "28                                             eventDate           85            85\n",
      "29                                             eventTime           16            16\n",
      "30                                            extensions           85             0\n",
      "31                                                 facts           85             0\n",
      "32                                                family           85            85\n",
      "33                                             familyKey           85            85\n",
      "34                                           fieldNumber            3             3\n",
      "35                                                gbifID           85            85\n",
      "36                                           genericName           85            85\n",
      "37                                                 genus           85            85\n",
      "38                                              genusKey           85            85\n",
      "39                                         geodeticDatum           85            85\n",
      "40                                  georeferenceProtocol           59            59\n",
      "41                                   georeferenceRemarks           15            15\n",
      "42                                   georeferenceSources           55            55\n",
      "43                        georeferenceVerificationStatus           59            59\n",
      "44                                       georeferencedBy           48            48\n",
      "45                                     georeferencedDate           51            51\n",
      "46                                               habitat            2             2\n",
      "47                                  higherClassification           64            64\n",
      "48                                       higherGeography           68            68\n",
      "49         http://rs.tdwg.org/dwc/terms/organismQuantity            4             4\n",
      "50     http://rs.tdwg.org/dwc/terms/organismQuantityType            4             4\n",
      "51                               http://unknown.org/nick           16            16\n",
      "52                  http://unknown.org/occurrenceDetails           16            16\n",
      "53                                      identificationID           16            16\n",
      "54                               identificationQualifier           47            47\n",
      "55                                 identificationRemarks           47            47\n",
      "56                      identificationVerificationStatus           47            47\n",
      "57                                          identifiedBy           50            50\n",
      "58                                       identifiedByIDs           85             0\n",
      "59                                            identifier           85            85\n",
      "60                                           identifiers           85             0\n",
      "61                                       individualCount           60            60\n",
      "62                                   informationWithheld           17            17\n",
      "63                                  infraspecificEpithet            3             3\n",
      "64                                       installationKey           85            85\n",
      "65                                       institutionCode           85            85\n",
      "66                                         institutionID           68            68\n",
      "67                                                issues           85            72\n",
      "68                                                   key           85            85\n",
      "69                                               kingdom           85            85\n",
      "70                                            kingdomKey           85            85\n",
      "71                                              language           62            62\n",
      "72                                           lastCrawled           85            85\n",
      "73                                       lastInterpreted           85            85\n",
      "74                                            lastParsed           85            85\n",
      "75                                               license           85            85\n",
      "76                                             lifeStage            6             6\n",
      "77                                              locality           69            69\n",
      "78                                   locationAccordingTo           47            47\n",
      "79                                       locationRemarks            2             2\n",
      "80                                                 media           85            16\n",
      "81                                              modified           78            78\n",
      "82                                                 month           85            85\n",
      "83                                           networkKeys           47            47\n",
      "84                                     nomenclaturalCode           55            55\n",
      "85                                          occurrenceID           85            85\n",
      "86                                     occurrenceRemarks           31            31\n",
      "87                                      occurrenceStatus            7             7\n",
      "88                                                 order           85            85\n",
      "89                                              orderKey           85            85\n",
      "90                                            organismID           47            47\n",
      "91                                      organismQuantity            4             4\n",
      "92                                  organismQuantityType            4             4\n",
      "93                                   otherCatalogNumbers           43            43\n",
      "94                                  ownerInstitutionCode            1             1\n",
      "95                                                phylum           85            85\n",
      "96                                             phylumKey           85            85\n",
      "97                                          preparations           65            65\n",
      "98                               previousIdentifications           47            47\n",
      "99                                              protocol           85            85\n",
      "100                                    publishingCountry           85            85\n",
      "101                                     publishingOrgKey           85            85\n",
      "102                                         recordNumber           45            45\n",
      "103                                           recordedBy           73            73\n",
      "104                                        recordedByIDs           85             0\n",
      "105                                           references           71            71\n",
      "106                                            relations           85             0\n",
      "107                                               rights           16            16\n",
      "108                                         rightsHolder           17            17\n",
      "109                                     samplingProtocol            1             1\n",
      "110                                       scientificName           85            85\n",
      "111                                     scientificNameID            1             1\n",
      "112                                                  sex            3             3\n",
      "113                                              species           85            85\n",
      "114                                           speciesKey           85            85\n",
      "115                                      specificEpithet           85            85\n",
      "116                                       startDayOfYear           15            15\n",
      "117                                        stateProvince           85            85\n",
      "118                                              taxonID           16            16\n",
      "119                                             taxonKey           85            85\n",
      "120                                            taxonRank           85            85\n",
      "121                                      taxonomicStatus           85            85\n",
      "122                                                 type           68            68\n",
      "123                             verbatimCoordinateSystem           54            54\n",
      "124                                    verbatimElevation            2             2\n",
      "125                                    verbatimEventDate           78            78\n",
      "126                                     verbatimLocality           73            73\n",
      "127                                                 year           85            85\n"
     ]
    }
   ],
   "source": [
    "fields_summary = pd.read_sql(\"SELECT * FROM gbif_fields_returned\", conn_occ)#, index_col='index')\n",
    "fields_summary.index.name = 'Field'\n",
    "pd.set_option('display.max_rows', 250)\n",
    "print(fields_summary)"
   ]
  },
  {
   "cell_type": "markdown",
   "metadata": {},
   "source": [
    "### Runtime"
   ]
  },
  {
   "cell_type": "code",
   "execution_count": 46,
   "metadata": {},
   "outputs": [
    {
     "name": "stdout",
     "output_type": "stream",
     "text": [
      "0:00:11.633707\n"
     ]
    }
   ],
   "source": [
    "t2 = datetime.now()\n",
    "print(t2 - t1)"
   ]
  },
  {
   "cell_type": "code",
   "execution_count": null,
   "metadata": {},
   "outputs": [],
   "source": []
  }
 ],
 "metadata": {
  "kernelspec": {
   "display_name": "Python 3",
   "language": "python",
   "name": "python3"
  },
  "language_info": {
   "codemirror_mode": {
    "name": "ipython",
    "version": 3
   },
   "file_extension": ".py",
   "mimetype": "text/x-python",
   "name": "python",
   "nbconvert_exporter": "python",
   "pygments_lexer": "ipython3",
   "version": "3.6.5"
  }
 },
 "nbformat": 4,
 "nbformat_minor": 2
}
