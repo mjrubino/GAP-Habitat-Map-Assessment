{
 "cells": [
  {
   "cell_type": "markdown",
   "metadata": {},
   "source": [
    "# Occurrence Records from GBIF\n",
    "This notebook is a tool for exploring data sets requested from GBIF (and eventually other sources), and mostly for developing criteria for filtering records (filter sets).  When the entire notebook is run, it retrieves records according to the filter sets specified and saves the results (records and some summary tables) in an sqlite database.  Some information is pulled from the parameters.sqlite database that is saved in this repository."
   ]
  },
  {
   "cell_type": "markdown",
   "metadata": {},
   "source": [
    "### Set Variables - fill out stuff in this cell.  \n",
    "Notes:\n",
    "default_coordUncertainty -- coordinateUncertaintyInMeters is often not provided.  Here is an option to use a default.  If you don't want anything entered, set this equal to False (boolean, not string)."
   ]
  },
  {
   "cell_type": "code",
   "execution_count": 1,
   "metadata": {},
   "outputs": [],
   "source": [
    "species_id = 'ainsax0'\n",
    "summary_name = 'Inyo Mountains Salamander'\n",
    "gbif_req_id = 'EvalGBIFRequest79'\n",
    "gbif_filter_id = 'EvalGBIFFilter'\n",
    "default_coordUncertainty = False       # Note above.\n",
    "workDir = 'D:/USGS Analyses/GAP-Habitat-Map-Assessment/'   # Be sure to create folders named \"Inputs\" and \"Outputs\" here.\n",
    "codeDir = workDir + 'Scripts/'\n",
    "dbDir = workDir + 'db/'\n",
    "paramdb = dbDir + 'wildlife-wrangler.sqlite'\n",
    "configDir = workDir  # Path to folder where saved your wildlifeconfig file."
   ]
  },
  {
   "cell_type": "markdown",
   "metadata": {},
   "source": [
    "### Setup - nothing to fill out in this cell"
   ]
  },
  {
   "cell_type": "code",
   "execution_count": 2,
   "metadata": {},
   "outputs": [
    {
     "name": "stdout",
     "output_type": "stream",
     "text": [
      "Notebook run 2020-05-05 14:38:51.892455\n",
      "D:/USGS Analyses/GAP-Habitat-Map-Assessment/Outputs/ainsax0EvalGBIFRequest79EvalGBIFFilter.sqlite\n"
     ]
    }
   ],
   "source": [
    "%matplotlib inline\n",
    "import sqlite3\n",
    "import pprint\n",
    "import json\n",
    "import pandas as pd\n",
    "import numpy as np\n",
    "pd.set_option('display.width', 600)\n",
    "pd.set_option('display.max_colwidth', 30)\n",
    "pd.set_option('display.max_rows', 150)\n",
    "from IPython.display import Image\n",
    "from pygbif import occurrences\n",
    "import matplotlib.pyplot as plt\n",
    "import os\n",
    "from datetime import datetime\n",
    "t1 = datetime.now()\n",
    "import sys\n",
    "sys.path.append(configDir)\n",
    "import config\n",
    "sys.path.append(codeDir)\n",
    "import repo_functions as functions\n",
    "inDir = workDir + 'Inputs/'\n",
    "outDir = workDir + 'Outputs/'\n",
    "spdb = outDir + species_id + gbif_req_id + gbif_filter_id + '.sqlite'\n",
    "username = config.gbif_username\n",
    "password = config.gbif_password\n",
    "email = config.gbif_email\n",
    "print(\"Notebook run \" + str(t1))\n",
    "print(spdb)\n",
    "connjup = sqlite3.connect(paramdb)\n",
    "cursorjup = connjup.cursor()\n",
    "# Get some variables\n",
    "years = connjup.execute(\"\"\"SELECT years_range \n",
    "                           FROM gbif_requests WHERE request_id = '{0}'\"\"\".format(gbif_req_id)).fetchone()[0]\n",
    "gap_id = connjup.execute(\"\"\"SELECT gap_id\n",
    "                            FROM species_concepts WHERE species_id = '{0}'\"\"\".format(species_id)).fetchone()[0]\n",
    "common_name = connjup.execute(\"\"\"SELECT common_name\n",
    "                                 FROM species_concepts WHERE species_id = '{0}'\"\"\".format(species_id)).fetchone()[0]"
   ]
  },
  {
   "cell_type": "markdown",
   "metadata": {},
   "source": [
    "# Species Concept\n",
    "Display information on the species from the parameters.sqlite database."
   ]
  },
  {
   "cell_type": "code",
   "execution_count": 3,
   "metadata": {},
   "outputs": [
    {
     "name": "stdout",
     "output_type": "stream",
     "text": [
      "SPECIES CONCEPT RECORD\n",
      "                                               VALUE\n",
      "ATTRIBUTE                                           \n",
      "species_id                                   ainsax0\n",
      "fws_id                                          None\n",
      "gap_id                                        aINSAx\n",
      "itis_tsn                                      173707\n",
      "gbif_id                                      2431759\n",
      "bcb_id                                          None\n",
      "ebird_id                                        None\n",
      "common_name                Inyo Mountains Salamander\n",
      "scientific_name                   Batrachoseps campi\n",
      "start_year                                      1979\n",
      "split_from                                      None\n",
      "end_year                                        None\n",
      "lumped_into                                     None\n",
      "geometry                                        None\n",
      "detection_distance_meters                          0\n",
      "vetted_how                              NS,GBIF,IUCN\n",
      "vetted_who                                 M. Rubino\n",
      "vetted_date                               04/23/2020\n",
      "notes                                               \n"
     ]
    }
   ],
   "source": [
    "vals = cursorjup.execute(\"SELECT * FROM species_concepts WHERE species_id = '{0}';\".format(species_id)).fetchall()[0]\n",
    "cols = [x[1] for x in cursorjup.execute(\"PRAGMA table_info('species_concepts')\").fetchall()]\n",
    "sp_dict = dict(zip(cols, vals))\n",
    "sp_df = pd.DataFrame.from_dict(sp_dict, orient='index', columns=['VALUE'])\n",
    "sp_df.index.name = 'ATTRIBUTE'\n",
    "print(\"SPECIES CONCEPT RECORD\")\n",
    "print(sp_df)"
   ]
  },
  {
   "cell_type": "markdown",
   "metadata": {},
   "source": [
    "# Filters\n",
    "Display the parameters of the request filter set.  These are deployed during the step where records are retrieved from the API."
   ]
  },
  {
   "cell_type": "code",
   "execution_count": 4,
   "metadata": {},
   "outputs": [
    {
     "name": "stdout",
     "output_type": "stream",
     "text": [
      "THE REQUEST FILTER SET\n",
      "request_id                  EvalGBIFRequest79\n",
      "source                                   GBIF\n",
      "lat_range                                None\n",
      "lon_range                                None\n",
      "years_range                         1979,2020\n",
      "months_range                             1,12\n",
      "geoissue                                 None\n",
      "coordinate                               True\n",
      "country                                    US\n",
      "geometry                                 None\n",
      "creator                             M. Rubino\n",
      "notes           amphibian evaluation reque...\n",
      "Name: 0, dtype: object\n"
     ]
    }
   ],
   "source": [
    "request_df = pd.read_sql_query(sql=\"SELECT * FROM gbif_requests WHERE request_id = '{0}'\".format(gbif_req_id), con=connjup)\n",
    "print(\"THE REQUEST FILTER SET\")\n",
    "print(request_df.loc[0])"
   ]
  },
  {
   "cell_type": "markdown",
   "metadata": {},
   "source": [
    "Display the parameters of the post-request filter set.  These are deployed after the records are retrieved from the API, but before they are stored in the occurrence record sqlite database."
   ]
  },
  {
   "cell_type": "code",
   "execution_count": 5,
   "metadata": {},
   "outputs": [
    {
     "name": "stdout",
     "output_type": "stream",
     "text": [
      "THE POST REQUEST FILTER SET\n",
      "filter_id                                    EvalGBIFFilter\n",
      "dataset                                                GBIF\n",
      "institutions_omit                                      None\n",
      "collection_codes_omit                                  None\n",
      "datasets_omit                                          None\n",
      "has_coordinate_uncertainty                                1\n",
      "max_coordinate_uncertainty                            10000\n",
      "bases_omit                                  FOSSIL_SPECIMEN\n",
      "sampling_protocols_omit                                None\n",
      "issues_omit                                            None\n",
      "duplicates_OK                                         False\n",
      "creator                                           M. Rubino\n",
      "notes                         amphibian evaluation filte...\n",
      "Name: 0, dtype: object\n"
     ]
    }
   ],
   "source": [
    "filter_df = pd.read_sql_query(sql=\"SELECT * FROM gbif_filters WHERE filter_id = '{0}'\".format(gbif_filter_id), con=connjup)\n",
    "print(\"THE POST REQUEST FILTER SET\")\n",
    "print(filter_df.loc[0])"
   ]
  },
  {
   "cell_type": "code",
   "execution_count": 6,
   "metadata": {
    "scrolled": false
   },
   "outputs": [
    {
     "name": "stdout",
     "output_type": "stream",
     "text": [
      "SPATIALITE_SECURITY set to relaxed\n",
      "Created occurrence db: 0:00:00.236199\n",
      "Got request params and sorted out geometry constraints: 0:00:00.002009\n",
      "56 records available\n",
      "Downloaded records: 0:00:02.130445\n",
      "Summarized fields returned: 0:00:03.707100\n",
      "Created summary table of request results: 0:00:00.033797\n",
      "Performed post-request filtering: 0:00:00.013016\n",
      "Calculated new columns, deleted some too: 0:00:00.036592\n",
      "29 duplicate records dropped: 0:00:00.131111\n",
      "Inserted records into table: 0:00:00.030015\n",
      "Summarized unique values retained: 0:00:00.003003\n",
      "Updated occurrences table geometry column: 0:00:00.004003\n",
      "Buffered points: 0:00:00.238046\n"
     ]
    }
   ],
   "source": [
    "functions.retrieve_gbif_occurrences(codeDir, species_id, inDir, paramdb, spdb, gbif_req_id, gbif_filter_id, \n",
    "                                    default_coordUncertainty, outDir, summary_name, username,\n",
    "                                   password, email)"
   ]
  },
  {
   "cell_type": "code",
   "execution_count": 7,
   "metadata": {},
   "outputs": [
    {
     "name": "stdout",
     "output_type": "stream",
     "text": [
      "codeDir: D:/USGS Analyses/GAP-Habitat-Map-Assessment/Scripts/\n",
      " species_id: ainsax0\n",
      " inDir: D:/USGS Analyses/GAP-Habitat-Map-Assessment/Inputs/\n",
      " paramdb: D:/USGS Analyses/GAP-Habitat-Map-Assessment/db/wildlife-wrangler.sqlite\n",
      " spdb: D:/USGS Analyses/GAP-Habitat-Map-Assessment/Outputs/ainsax0EvalGBIFRequest79EvalGBIFFilter.sqlite\n",
      " gbif_req_id: EvalGBIFRequest79\n",
      " gbif_filter_id: EvalGBIFFilter\n",
      " default_coordUncertainty: False\n",
      " outDir: D:/USGS Analyses/GAP-Habitat-Map-Assessment/Outputs/\n",
      " summary_name: Inyo Mountains Salamander\n",
      " username: gapper\n",
      " password: metspirates\n",
      " email: pythonprocessing@gmail.com\n"
     ]
    }
   ],
   "source": [
    "print('codeDir: '+codeDir+'\\n', \n",
    "'species_id: '+species_id+'\\n', \n",
    "'inDir: '+inDir+'\\n', \n",
    "'paramdb: '+paramdb+'\\n', \n",
    "'spdb: '+spdb+'\\n', \n",
    "'gbif_req_id: '+gbif_req_id+'\\n', \n",
    "'gbif_filter_id: '+gbif_filter_id+'\\n', \n",
    "'default_coordUncertainty: '+str(default_coordUncertainty)+'\\n', \n",
    "'outDir: '+outDir+'\\n', \n",
    "'summary_name: '+summary_name+'\\n', \n",
    "'username: '+username+'\\n',\n",
    "'password: '+password+'\\n', \n",
    "'email: '+email)"
   ]
  },
  {
   "cell_type": "markdown",
   "metadata": {},
   "source": [
    "### Connect to output database, record species and filter info."
   ]
  },
  {
   "cell_type": "code",
   "execution_count": 8,
   "metadata": {},
   "outputs": [],
   "source": [
    "conn_occ= sqlite3.connect(spdb)\n",
    "curs_occ = conn_occ.cursor()\n",
    "sp_df.to_sql(name='species_concept', con=conn_occ, if_exists='replace')\n",
    "request_df.to_sql(name=gbif_req_id, con=conn_occ, if_exists='replace')\n",
    "filter_df.to_sql(name=gbif_filter_id, con=conn_occ, if_exists='replace')"
   ]
  },
  {
   "cell_type": "markdown",
   "metadata": {},
   "source": [
    "### How many records made it through the filters?\n",
    "This is the number that was actually saved in the occurrence record sqlite database."
   ]
  },
  {
   "cell_type": "code",
   "execution_count": 9,
   "metadata": {},
   "outputs": [
    {
     "name": "stdout",
     "output_type": "stream",
     "text": [
      "19 records\n"
     ]
    }
   ],
   "source": [
    "record_count = curs_occ.execute(\"SELECT COUNT(occ_id) FROM occurrences WHERE species_id = '{0}'\".format(species_id)).fetchone()\n",
    "print(str(record_count[0]) + \" records\")"
   ]
  },
  {
   "cell_type": "markdown",
   "metadata": {},
   "source": [
    "# Sources\n",
    "#### Pre-filters"
   ]
  },
  {
   "cell_type": "code",
   "execution_count": 10,
   "metadata": {},
   "outputs": [
    {
     "name": "stdout",
     "output_type": "stream",
     "text": [
      "GBIF\n",
      "  institutionCode                 collectionCode                    datasetName   0\n",
      "0             CAS                           HERP                        UNKNOWN   3\n",
      "1            LACM                          Herps               LACM Vertebrates  20\n",
      "2             MVZ  Amphibian and reptile spec...                        UNKNOWN  29\n",
      "3         UNKNOWN                        UNKNOWN                        UNKNOWN   1\n",
      "4     iNaturalist                   Observations  iNaturalist research-grade...   3\n"
     ]
    }
   ],
   "source": [
    "tables = cursorjup.execute(\"SELECT table_name FROM table_descriptions\").fetchall()\n",
    "tables = [x[0] for x in tables]\n",
    "\n",
    "filter_sets = [gbif_req_id, gbif_filter_id]\n",
    "\n",
    "sources = []\n",
    "for s in filter_sets:\n",
    "    s = s.strip()\n",
    "    for tab in tables:\n",
    "        columns = cursorjup.execute(\"SELECT column_name FROM column_descriptions WHERE table_name = '{0}'\".format(tab)).fetchall()\n",
    "        columns = [x[0] for x in columns]\n",
    "        for col in columns:\n",
    "            try:\n",
    "                a = cursorjup.execute(\"SELECT source FROM {1} WHERE {2} = '{0}'\".format(s, tab, col)).fetchone()[0]\n",
    "                sources.append(a)\n",
    "            except:\n",
    "                pass\n",
    "print(list(set(sources))[0])\n",
    "\n",
    "sources = pd.read_sql(sql=\"SELECT * FROM pre_filter_source_counts;\", con=conn_occ)\n",
    "print(sources)"
   ]
  },
  {
   "cell_type": "markdown",
   "metadata": {},
   "source": [
    "#### Post-filters"
   ]
  },
  {
   "cell_type": "code",
   "execution_count": 11,
   "metadata": {},
   "outputs": [
    {
     "name": "stdout",
     "output_type": "stream",
     "text": [
      "GBIF\n",
      "  institutionCode                 collectionCode       datasetName  COUNT(occ_id)\n",
      "0            LACM                          Herps  LACM Vertebrates             10\n",
      "1             MVZ  Amphibian and reptile spec...           UNKNOWN              9\n"
     ]
    }
   ],
   "source": [
    "tables = cursorjup.execute(\"SELECT table_name FROM table_descriptions\").fetchall()\n",
    "tables = [x[0] for x in tables]\n",
    "\n",
    "filter_sets = [gbif_req_id, gbif_filter_id]\n",
    "\n",
    "sources = []\n",
    "for s in filter_sets:\n",
    "    s = s.strip()\n",
    "    for tab in tables:\n",
    "        columns = cursorjup.execute(\"SELECT column_name FROM column_descriptions WHERE table_name = '{0}'\".format(tab)).fetchall()\n",
    "        columns = [x[0] for x in columns]\n",
    "        for col in columns:\n",
    "            try:\n",
    "                a = cursorjup.execute(\"SELECT source FROM {1} WHERE {2} = '{0}'\".format(s, tab, col)).fetchone()[0]\n",
    "                sources.append(a)\n",
    "            except:\n",
    "                pass\n",
    "print(list(set(sources))[0])\n",
    "\n",
    "sql = \"SELECT institutionCode, collectionCode, datasetName, COUNT(occ_id) FROM occurrences GROUP BY institutionCode, collectionCode, datasetName;\"\n",
    "sources = pd.read_sql(sql=sql, con=conn_occ)\n",
    "print(sources)"
   ]
  },
  {
   "cell_type": "markdown",
   "metadata": {},
   "source": [
    "# Bases\n",
    "#### Pre-filter"
   ]
  },
  {
   "cell_type": "code",
   "execution_count": 12,
   "metadata": {},
   "outputs": [
    {
     "name": "stdout",
     "output_type": "stream",
     "text": [
      "        basisOfRecord  count\n",
      "0   HUMAN_OBSERVATION      3\n",
      "1     MATERIAL_SAMPLE     19\n",
      "2  PRESERVED_SPECIMEN     34\n"
     ]
    }
   ],
   "source": [
    "bases = pd.read_sql(sql=\"SELECT value as basisOfRecord, count FROM pre_filter_value_counts WHERE attribute = 'bases';\", con=conn_occ)\n",
    "print(bases)"
   ]
  },
  {
   "cell_type": "markdown",
   "metadata": {},
   "source": [
    "#### Post-filters"
   ]
  },
  {
   "cell_type": "code",
   "execution_count": 13,
   "metadata": {
    "scrolled": true
   },
   "outputs": [
    {
     "name": "stdout",
     "output_type": "stream",
     "text": [
      "        basisOfRecord  count\n",
      "0     MATERIAL_SAMPLE      9\n",
      "1  PRESERVED_SPECIMEN     10\n"
     ]
    }
   ],
   "source": [
    "sql = \"SELECT basisOfRecord, COUNT(occ_id) as count FROM occurrences GROUP BY basisOfRecord;\"\n",
    "bases = pd.read_sql(sql=sql, con=conn_occ)\n",
    "print(bases)"
   ]
  },
  {
   "cell_type": "markdown",
   "metadata": {},
   "source": [
    "# Protocols\n",
    "#### Pre-filters"
   ]
  },
  {
   "cell_type": "code",
   "execution_count": 14,
   "metadata": {
    "scrolled": true
   },
   "outputs": [
    {
     "name": "stdout",
     "output_type": "stream",
     "text": [
      "  samplingProtocol  count\n",
      "0          UNKNOWN     56\n"
     ]
    }
   ],
   "source": [
    "protocol = pd.read_sql(sql=\"SELECT value as samplingProtocol, count FROM pre_filter_value_counts WHERE attribute = 'samplingProtocols';\", con=conn_occ)\n",
    "print(protocol)"
   ]
  },
  {
   "cell_type": "markdown",
   "metadata": {},
   "source": [
    "#### Post-filters"
   ]
  },
  {
   "cell_type": "code",
   "execution_count": 15,
   "metadata": {},
   "outputs": [
    {
     "name": "stdout",
     "output_type": "stream",
     "text": [
      "  samplingProtocol  count\n",
      "0          UNKNOWN     19\n"
     ]
    }
   ],
   "source": [
    "sql = \"SELECT samplingProtocol, COUNT(occ_id) as count FROM occurrences GROUP BY samplingProtocol;\"\n",
    "print(pd.read_sql(sql=sql, con=conn_occ))"
   ]
  },
  {
   "cell_type": "markdown",
   "metadata": {},
   "source": [
    "# Issues\n",
    "#### Pre-filters"
   ]
  },
  {
   "cell_type": "code",
   "execution_count": 16,
   "metadata": {
    "scrolled": true
   },
   "outputs": [
    {
     "name": "stdout",
     "output_type": "stream",
     "text": [
      "                                                   issues  count\n",
      "0                              ['COORDINATE_REPROJECTED']     26\n",
      "1  ['COORDINATE_ROUNDED', 'GEODETIC_DATUM_ASSUMED_WGS84']      5\n",
      "2                        ['GEODETIC_DATUM_ASSUMED_WGS84']      2\n",
      "3                                                      []     23\n"
     ]
    }
   ],
   "source": [
    "iss = pd.read_sql(sql=\"SELECT value as issues, count FROM pre_filter_value_counts WHERE attribute = 'issues';\", con=conn_occ)\n",
    "pd.set_option('display.max_colwidth', 80)\n",
    "print(iss)"
   ]
  },
  {
   "cell_type": "markdown",
   "metadata": {},
   "source": [
    "#### Post-filters"
   ]
  },
  {
   "cell_type": "code",
   "execution_count": 17,
   "metadata": {
    "scrolled": true
   },
   "outputs": [
    {
     "name": "stdout",
     "output_type": "stream",
     "text": [
      "                   issues  count\n",
      "0                             12\n",
      "1  COORDINATE_REPROJECTED      7\n"
     ]
    }
   ],
   "source": [
    "sql = \"SELECT issues, COUNT(occ_id) as count FROM occurrences GROUP BY issues;\"\n",
    "print(pd.read_sql(sql=sql, con=conn_occ))"
   ]
  },
  {
   "cell_type": "markdown",
   "metadata": {},
   "source": [
    "# Descriptions of filtered records"
   ]
  },
  {
   "cell_type": "markdown",
   "metadata": {},
   "source": [
    "### Years represented"
   ]
  },
  {
   "cell_type": "code",
   "execution_count": 18,
   "metadata": {},
   "outputs": [
    {
     "data": {
      "text/plain": [
       "Text(0.5, 1.0, 'Occurrences per Year')"
      ]
     },
     "execution_count": 18,
     "metadata": {},
     "output_type": "execute_result"
    },
    {
     "data": {
      "image/png": "[encoded data removed]",
      "text/plain": [
       "<Figure size 432x288 with 1 Axes>"
      ]
     },
     "metadata": {
      "needs_background": "light"
     },
     "output_type": "display_data"
    }
   ],
   "source": [
    "occ_years = [int(x[0]) for x in curs_occ.execute(\"SELECT strftime('%Y', occurrenceDate) FROM occurrences\").fetchall()]\n",
    "years = connjup.execute(\"SELECT years_range FROM gbif_requests WHERE request_id = '{0}'\".format(gbif_req_id)).fetchone()[0]\n",
    "years = years.split(',')\n",
    "yearsrng = list(range(int(years[0]), int(years[1]), 1))\n",
    "binsnum = int(years[1]) - int(years[0])\n",
    "plt.hist(occ_years, bins=binsnum)\n",
    "plt.ylabel(\"number of records\")\n",
    "plt.xlabel(\"year\")\n",
    "plt.xticks(yearsrng, rotation=90)\n",
    "plt.title(\"Occurrences per Year\")"
   ]
  },
  {
   "cell_type": "markdown",
   "metadata": {},
   "source": [
    "### Months represented"
   ]
  },
  {
   "cell_type": "code",
   "execution_count": 19,
   "metadata": {},
   "outputs": [
    {
     "data": {
      "text/plain": [
       "Text(0.5, 1.0, 'Occurrences per Month')"
      ]
     },
     "execution_count": 19,
     "metadata": {},
     "output_type": "execute_result"
    },
    {
     "data": {
      "image/png": "[encoded data removed]",
      "text/plain": [
       "<Figure size 432x288 with 1 Axes>"
      ]
     },
     "metadata": {
      "needs_background": "light"
     },
     "output_type": "display_data"
    }
   ],
   "source": [
    "occ_months = [int(x[0]) for x in curs_occ.execute(\"SELECT strftime('%m', occurrenceDate) FROM occurrences\").fetchall()]\n",
    "plt.hist(occ_months, bins=range(1, 14), color=\"g\")\n",
    "plt.ylabel(\"number of records\")\n",
    "plt.xlabel(\"month\")\n",
    "plt.xticks(range(1, 13))\n",
    "plt.title(\"Occurrences per Month\")"
   ]
  },
  {
   "cell_type": "markdown",
   "metadata": {},
   "source": [
    "### Distribution of coordinate uncertainty values"
   ]
  },
  {
   "cell_type": "code",
   "execution_count": 20,
   "metadata": {
    "scrolled": true
   },
   "outputs": [
    {
     "data": {
      "text/plain": [
       "Text(0.5, 1.0, 'Coordinate Uncertainty')"
      ]
     },
     "execution_count": 20,
     "metadata": {},
     "output_type": "execute_result"
    },
    {
     "data": {
      "image/png": "[encoded data removed]",
      "text/plain": [
       "<Figure size 1152x288 with 1 Axes>"
      ]
     },
     "metadata": {
      "needs_background": "light"
     },
     "output_type": "display_data"
    }
   ],
   "source": [
    "occ_cert = [int(x[0]) for x in curs_occ.execute(\"SELECT coordinateUncertaintyInMeters FROM occurrences\").fetchall()]\n",
    "maxi = np.max(occ_cert)\n",
    "plt.figure(figsize=(16,4))\n",
    "plt.hist(occ_cert, bins=50, color=\"r\")\n",
    "plt.xticks(range(0, maxi, int(maxi/50)), rotation=90)\n",
    "plt.ylabel(\"number of records\")\n",
    "plt.xlabel(\"coordinate uncertainty\")\n",
    "plt.title(\"Coordinate Uncertainty\")"
   ]
  },
  {
   "cell_type": "code",
   "execution_count": 21,
   "metadata": {},
   "outputs": [
    {
     "data": {
      "text/plain": [
       "Text(0.5, 1.0, 'Coordinate Uncertainty - Zoomed In')"
      ]
     },
     "execution_count": 21,
     "metadata": {},
     "output_type": "execute_result"
    },
    {
     "data": {
      "image/png": "[encoded data removed]",
      "text/plain": [
       "<Figure size 864x288 with 1 Axes>"
      ]
     },
     "metadata": {
      "needs_background": "light"
     },
     "output_type": "display_data"
    }
   ],
   "source": [
    "rng_max = 2000\n",
    "occ_cert2 = [x for x in occ_cert if x <= rng_max]\n",
    "plt.figure(figsize=(12,4))\n",
    "plt.hist(occ_cert2, bins=30, color=\"m\", align='mid')\n",
    "plt.xticks(range(0, rng_max + 100, int(rng_max/30.)), rotation=90)\n",
    "plt.ylabel(\"number of records\")\n",
    "plt.xlabel(\"coordinate uncertainty\")\n",
    "plt.title(\"Coordinate Uncertainty - Zoomed In\")"
   ]
  },
  {
   "cell_type": "markdown",
   "metadata": {},
   "source": [
    "### Establishment means reported"
   ]
  },
  {
   "cell_type": "code",
   "execution_count": 22,
   "metadata": {},
   "outputs": [
    {
     "name": "stdout",
     "output_type": "stream",
     "text": [
      "NATIVE, UNKNOWN\n"
     ]
    }
   ],
   "source": [
    "establishment = curs_occ.execute(\"SELECT vals FROM unique_values WHERE field = 'establishment' AND step = 'filter';\").fetchall()[0]\n",
    "for est in establishment:\n",
    "    est = est.replace('[', '').strip().replace(']', '').replace(\"'\", \"\")\n",
    "    print(est)"
   ]
  },
  {
   "cell_type": "markdown",
   "metadata": {},
   "source": [
    "### Identification qualifiers included"
   ]
  },
  {
   "cell_type": "code",
   "execution_count": 23,
   "metadata": {},
   "outputs": [
    {
     "name": "stdout",
     "output_type": "stream",
     "text": [
      "A, UNKNOWN\n"
     ]
    }
   ],
   "source": [
    "quali = curs_occ.execute(\"SELECT DISTINCT vals FROM unique_values WHERE field = 'IDqualifier' AND step = 'filter';\").fetchall()[0]\n",
    "for q in quali:\n",
    "    q = q.replace('[', '').strip().replace(']', '').replace(\"'\", \"\")\n",
    "    print(q)"
   ]
  },
  {
   "cell_type": "markdown",
   "metadata": {},
   "source": [
    "### Remarks included"
   ]
  },
  {
   "cell_type": "code",
   "execution_count": 24,
   "metadata": {
    "scrolled": true
   },
   "outputs": [
    {
     "name": "stdout",
     "output_type": "stream",
     "text": [
      "top of ridge between Lead and Addie Canyon, from antifreeze pitfall trap set beside, mossy opening in limestone;UNKNOWN;UNKNOWN;1981-1982\n",
      "West-central Inyo Mountains; Upper riparian zone of Barrel Spring, 100 m below the spring head;UNKNOWN;UNKNOWN;time = 11:00; SVL = 44 mm; mass = 1.6 g; tissue (tail); Resting on wet soil in a cavity formed by multiple small rocks under a larger 8\"-diameter rock. This large rock imbedded among dense herbaceous growth of Epipactis gigantea, Solidago sp., and rushes,\n",
      "West-central Inyo Mountains; Upper riparian zone of Barrel Spring, 150 m below the spring head;UNKNOWN;UNKNOWN;time = 10:10; SVL = 42 mm; mass = 1.3 g; tissue (tail); Resting on wet soil and Salix lasiolepis leaf litter under a 6”-diameter rock, on the south bank of the creek channel <1 m from flowing surface water. Rock located below a grove of S. lasiolepis, and\n",
      "West-central Inyo Mountains; Upper riparian zone of Barrel Spring, 150 m below the spring head;UNKNOWN;UNKNOWN;time = 12:15; SVL = 38 mm; mass = 1.0 g; tissue (tail); Resting on wet pebbles and Salix lasiolepis leaf litter under an 8”-diameter rock, on the south bank of the creek channel <1 m from flowing surface water. Rock located below a grove of S. lasiolepis,\n",
      "Barrel Springs, 11.8 mi E on Mazourka Canyon Rd. from Hwy. 395, Independence, Inyo National Forest;Former verification status: checked by curator.;UNKNOWN;UNKNOWN\n",
      "Barrel Spring, Mazouka Canyon, Inyo Mts.;UNKNOWN;UNKNOWN;UNKNOWN\n",
      "Barrel Springs, Inyo Mts.;UNKNOWN;UNKNOWN;PRESERVED 4 NOV 1979\n",
      "Barrel Springs, 11.8 mi E on Mazourka Canyon Rd. from Hwy. 395, Independence, Inyo National Forest;Updated Locality coordinates with Geolocate, MSK, 13 Mar 2015.; Former verification status: checked by curator.;UNKNOWN;UNKNOWN\n",
      "West-central Inyo Mountains, unnamed canyon east of Reward Mine, 0.94 canyon km upstream from the crest of the second and largest dry waterfall, in the canyon bottom;UNKNOWN;UNKNOWN;Time: 4:15:00 PM, SVL = 49mm, weight = 2g,  Perched on a flat rock between Eriogonum fasciculatum var. polifolium and Salix lasiolepis at the edge of the canyon-bottom riparian zone, in full shade. Tail never before autotomized.\n",
      "West-central Inyo Mountains, unnamed canyon east of Reward Mine, near the crest of the second and largest dry waterfall;UNKNOWN;UNKNOWN;Time:10:20:00 AM, SVL=55mm, TL=85mm, weight=2.0g. Under a folded sheet of tin imbedded in deep leaf litter at the edge of a large waterfall, in deep shade under the canopy of a large Tamarix and Forestiera pubescens. Resting on moist, but not sopping wet,\n",
      "Southwestern Inyo Mountains; Unnamed canyon between Fossil Hill and Union Wash;UNKNOWN;UNKNOWN;-120 Freezer.  juvenile; time = 7:45; SVL = 31 mm; mass = 0.5 g; tissue (tail); Under a 6\"-diameter rock on wet, sandy loam soil, among a group of perhaps a dozen other rocks, at the base of the canyon’s second waterfall. Entire canyon shaded, and the bas\n",
      "west slope Inyo Mts., ca. 1.3 mi ESE Fossil Hill, unnamed canyon N of Union Wash;UNKNOWN;UNKNOWN;Received at MVZ 27 Jun 2018.\n",
      "Southwestern Inyo Mountains;UNKNOWN;UNKNOWN;-120 Freezer.  Juvenile, Mass=0.5g,  Under a 6\"-diameter rock, coiled on moist, sandy loam soil, 7 m from flowing surface water. Among a small embedded talus pile overgrown with herbaceous riparian vegetation, dominated by Solidago sp. Talus pile at the b\n",
      "Southwestern Inyo Mountains; Unnamed canyon between Fossil Hill and Union Wash;UNKNOWN;UNKNOWN;time = 23:05; tissue (tail); Under an 8\"X8\" flat rock, on a sopping wet soil “island” grown with Solidago sp., Aquilegia formosa, Cirsium sp., and an unidentified grass, in the center of the canyon’s largest, uppermost bedrock waterfall. Found 7 m farther\n",
      "Hunter Canyon, Inyo Mts.;UNKNOWN;UNKNOWN;COLLECTED 6 SEP 1980-16 FEB 1982\n",
      "French Spring, 6 mi NE (by air) Lone Pine;UNKNOWN;UNKNOWN;UNKNOWN\n",
      "Long John Canyon; Type locality, middle of slot canyon with permanent surface water;UNKNOWN;UNKNOWN;time = 20:30; mass = 0.4 g ; tissue (tail); Under a 4\"-diameter rock, well imbedded in the soil. Moist soil under rock. Rock associated with many others, at the margin of a small talus pile at the base of the canyon’s south wall, 2' from a trickle of surf\n",
      "Southwestern Inyo Mountains; Long John Canyon, type locality, middle of slot canyon with permanent surface water;UNKNOWN;UNKNOWN;-120 Freezer.  SVL = 48 mm; mass = 1.5 g; tissue (tail); time = 14:35; Under a 3\"X14\" rock, well imbedded in the soil, at the base of a small Rosa woodsii. Moist soil under rock. Rock associated with many others, at the margin of a small talus pile at the\n"
     ]
    }
   ],
   "source": [
    "remarks = curs_occ.execute(\"SELECT DISTINCT remarks FROM occurrences;\").fetchall()\n",
    "if len(remarks) <= 20:\n",
    "    try:\n",
    "        for rem in remarks:\n",
    "            if rem[0][0:1] == ';':\n",
    "                print(rem[0][2:])\n",
    "            else:\n",
    "                print(rem[0])\n",
    "    except:\n",
    "        pass\n",
    "else:\n",
    "    print(\"More than 20 remarks, consult the occurrence database.\")"
   ]
  },
  {
   "cell_type": "markdown",
   "metadata": {},
   "source": [
    "### Attributes returned for the records in the request (pre-filters)"
   ]
  },
  {
   "cell_type": "code",
   "execution_count": 25,
   "metadata": {
    "scrolled": false
   },
   "outputs": [
    {
     "name": "stdout",
     "output_type": "stream",
     "text": [
      "                                               attribute  included(n)  populated(n)\n",
      "Field                                                                              \n",
      "0                                 acceptedScientificName           56            56\n",
      "1                                       acceptedTaxonKey           56            56\n",
      "2                                           accessRights           49            49\n",
      "3                                  associatedOccurrences            1             1\n",
      "4                                          basisOfRecord           56            56\n",
      "5                                  bibliographicCitation           20            20\n",
      "6                                          catalogNumber           38            38\n",
      "7                                                  class           56            56\n",
      "8                                               classKey           56            56\n",
      "9                                         collectionCode           55            55\n",
      "10                                          collectionID           49            49\n",
      "11                                             continent           52            52\n",
      "12                         coordinateUncertaintyInMeters           51            51\n",
      "13                                               country           56            56\n",
      "14                                           countryCode           56            56\n",
      "15                                                county           52            52\n",
      "16                                               crawlId           56            56\n",
      "17                                            datasetKey           56            56\n",
      "18                                           datasetName           23            23\n",
      "19                                        dateIdentified           36            36\n",
      "20                                                   day           56            56\n",
      "21                                       decimalLatitude           56            56\n",
      "22                                      decimalLongitude           56            56\n",
      "23                                     dynamicProperties           29            29\n",
      "24                                             elevation           28            28\n",
      "25                                     elevationAccuracy           25            25\n",
      "26                                          endDayOfYear           42            42\n",
      "27                                    establishmentMeans           20            20\n",
      "28                                             eventDate           56            56\n",
      "29                                          eventRemarks            3             3\n",
      "30                                             eventTime            9             9\n",
      "31                                            extensions           56             0\n",
      "32                                                 facts           56             0\n",
      "33                                                family           56            56\n",
      "34                                             familyKey           56            56\n",
      "35                                           fieldNumber            1             1\n",
      "36                                                gbifID           56            56\n",
      "37                                           genericName           56            56\n",
      "38                                                 genus           56            56\n",
      "39                                              genusKey           56            56\n",
      "40                                         geodeticDatum           56            56\n",
      "41                                  georeferenceProtocol           29            29\n",
      "42                                   georeferenceSources           32            32\n",
      "43                        georeferenceVerificationStatus           49            49\n",
      "44                                       georeferencedBy           29            29\n",
      "45                                     georeferencedDate           29            29\n",
      "46                                               habitat            1             1\n",
      "47                                  higherClassification           52            52\n",
      "48                                       higherGeography           52            52\n",
      "49         http://rs.tdwg.org/dwc/terms/organismQuantity            2             2\n",
      "50     http://rs.tdwg.org/dwc/terms/organismQuantityType           20            20\n",
      "51                           http://unknown.org/language            1             1\n",
      "52                               http://unknown.org/nick            3             3\n",
      "53                  http://unknown.org/occurrenceDetails            3             3\n",
      "54                             http://unknown.org/rights            1             1\n",
      "55                       http://unknown.org/rightsHolder            1             1\n",
      "56                                      identificationID            3             3\n",
      "57                               identificationQualifier           29            29\n",
      "58                                 identificationRemarks           29            29\n",
      "59                      identificationVerificationStatus           29            29\n",
      "60                                          identifiedBy           33            33\n",
      "61                                       identifiedByIDs           56             0\n",
      "62                                            identifier           56            56\n",
      "63                                           identifiers           56             0\n",
      "64                                       individualCount           31            31\n",
      "65                                   informationWithheld            3             3\n",
      "66                                       installationKey           56            56\n",
      "67                                       institutionCode           55            55\n",
      "68                                         institutionID           52            52\n",
      "69                                                issues           56            33\n",
      "70                                                   key           56            56\n",
      "71                                               kingdom           56            56\n",
      "72                                            kingdomKey           56            56\n",
      "73                                              language           52            52\n",
      "74                                           lastCrawled           56            56\n",
      "75                                       lastInterpreted           56            56\n",
      "76                                            lastParsed           56            56\n",
      "77                                               license           56            56\n",
      "78                                             lifeStage            3             3\n",
      "79                                              locality           53            53\n",
      "80                                   locationAccordingTo           29            29\n",
      "81                                                 media           56             3\n",
      "82                                              modified           55            55\n",
      "83                                                 month           56            56\n",
      "84                                           networkKeys           29            29\n",
      "85                                     nomenclaturalCode           49            49\n",
      "86                                          occurrenceID           56            56\n",
      "87                                     occurrenceRemarks           35            35\n",
      "88                                      occurrenceStatus           20            20\n",
      "89                                                 order           56            56\n",
      "90                                              orderKey           56            56\n",
      "91                                            organismID           29            29\n",
      "92                                      organismQuantity            2             2\n",
      "93                                  organismQuantityType           20            20\n",
      "94                                   otherCatalogNumbers           44            44\n",
      "95                                                phylum           56            56\n",
      "96                                             phylumKey           56            56\n",
      "97                                          preparations           52            52\n",
      "98                               previousIdentifications           29            29\n",
      "99                                              protocol           56            56\n",
      "100                                    publishingCountry           55            55\n",
      "101                                     publishingOrgKey           56            56\n",
      "102                                         recordNumber           43            43\n",
      "103                                           recordedBy           55            55\n",
      "104                                        recordedByIDs           56             0\n",
      "105                                           references           52            52\n",
      "106                                            relations           56             0\n",
      "107                                               rights            3             3\n",
      "108                                         rightsHolder            3             3\n",
      "109                                       scientificName           56            56\n",
      "110                                                  sex            1             1\n",
      "111                                              species           56            56\n",
      "112                                           speciesKey           56            56\n",
      "113                                      specificEpithet           56            56\n",
      "114                                       startDayOfYear           20            20\n",
      "115                                        stateProvince           56            56\n",
      "116                                              taxonID            3             3\n",
      "117                                             taxonKey           56            56\n",
      "118                                            taxonRank           56            56\n",
      "119                                      taxonomicStatus           56            56\n",
      "120                                                 type           52            52\n",
      "121                             verbatimCoordinateSystem           29            29\n",
      "122                                    verbatimElevation           23            23\n",
      "123                                    verbatimEventDate           55            55\n",
      "124                                     verbatimLocality           55            55\n",
      "125                                                 year           56            56\n"
     ]
    }
   ],
   "source": [
    "fields_summary = pd.read_sql(\"SELECT * FROM gbif_fields_returned\", conn_occ)#, index_col='index')\n",
    "fields_summary.index.name = 'Field'\n",
    "pd.set_option('display.max_rows', 250)\n",
    "print(fields_summary)"
   ]
  },
  {
   "cell_type": "markdown",
   "metadata": {},
   "source": [
    "### Runtime"
   ]
  },
  {
   "cell_type": "code",
   "execution_count": 26,
   "metadata": {},
   "outputs": [
    {
     "name": "stdout",
     "output_type": "stream",
     "text": [
      "0:00:10.733686\n"
     ]
    }
   ],
   "source": [
    "t2 = datetime.now()\n",
    "print(t2 - t1)"
   ]
  },
  {
   "cell_type": "code",
   "execution_count": null,
   "metadata": {},
   "outputs": [],
   "source": []
  }
 ],
 "metadata": {
  "kernelspec": {
   "display_name": "Python 3",
   "language": "python",
   "name": "python3"
  },
  "language_info": {
   "codemirror_mode": {
    "name": "ipython",
    "version": 3
   },
   "file_extension": ".py",
   "mimetype": "text/x-python",
   "name": "python",
   "nbconvert_exporter": "python",
   "pygments_lexer": "ipython3",
   "version": "3.6.5"
  }
 },
 "nbformat": 4,
 "nbformat_minor": 2
}
