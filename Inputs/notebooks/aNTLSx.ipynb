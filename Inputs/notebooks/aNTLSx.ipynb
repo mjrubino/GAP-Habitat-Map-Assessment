{
 "cells": [
  {
   "cell_type": "markdown",
   "metadata": {},
   "source": [
    "# Occurrence Records from GBIF\n",
    "This notebook is a tool for exploring data sets requested from GBIF (and eventually other sources), and mostly for developing criteria for filtering records (filter sets).  When the entire notebook is run, it retrieves records according to the filter sets specified and saves the results (records and some summary tables) in an sqlite database.  Some information is pulled from the parameters.sqlite database that is saved in this repository."
   ]
  },
  {
   "cell_type": "markdown",
   "metadata": {},
   "source": [
    "### Set Variables - fill out stuff in this cell.  \n",
    "Notes:\n",
    "default_coordUncertainty -- coordinateUncertaintyInMeters is often not provided.  Here is an option to use a default.  If you don't want anything entered, set this equal to False (boolean, not string)."
   ]
  },
  {
   "cell_type": "code",
   "execution_count": 1,
   "metadata": {},
   "outputs": [],
   "source": [
    "species_id = 'antlsx0'\n",
    "summary_name = 'Northern Two-lined Salamander'\n",
    "gbif_req_id = 'EvalGBIFRequest'\n",
    "gbif_filter_id = 'EvalGBIFFilter'\n",
    "default_coordUncertainty = False       # Note above.\n",
    "workDir = 'D:/USGS Analyses/GAP-Habitat-Map-Assessment/'   # Be sure to create folders named \"Inputs\" and \"Outputs\" here.\n",
    "codeDir = workDir + 'Scripts/'\n",
    "dbDir = workDir + 'db/'\n",
    "paramdb = dbDir + 'wildlife-wrangler.sqlite'\n",
    "configDir = workDir  # Path to folder where saved your wildlifeconfig file."
   ]
  },
  {
   "cell_type": "markdown",
   "metadata": {},
   "source": [
    "### Setup - nothing to fill out in this cell"
   ]
  },
  {
   "cell_type": "code",
   "execution_count": 2,
   "metadata": {},
   "outputs": [
    {
     "name": "stdout",
     "output_type": "stream",
     "text": [
      "Notebook run 2020-05-01 09:57:47.324291\n",
      "D:/USGS Analyses/GAP-Habitat-Map-Assessment/Outputs/antlsx0EvalGBIFRequestEvalGBIFFilter.sqlite\n"
     ]
    }
   ],
   "source": [
    "%matplotlib inline\n",
    "import sqlite3\n",
    "import pprint\n",
    "import json\n",
    "import pandas as pd\n",
    "import numpy as np\n",
    "pd.set_option('display.width', 600)\n",
    "pd.set_option('display.max_colwidth', 30)\n",
    "pd.set_option('display.max_rows', 150)\n",
    "from IPython.display import Image\n",
    "from pygbif import occurrences\n",
    "import matplotlib.pyplot as plt\n",
    "import os\n",
    "from datetime import datetime\n",
    "t1 = datetime.now()\n",
    "import sys\n",
    "sys.path.append(configDir)\n",
    "import config\n",
    "sys.path.append(codeDir)\n",
    "import repo_functions as functions\n",
    "inDir = workDir + 'Inputs/'\n",
    "outDir = workDir + 'Outputs/'\n",
    "spdb = outDir + species_id + gbif_req_id + gbif_filter_id + '.sqlite'\n",
    "username = config.gbif_username\n",
    "password = config.gbif_password\n",
    "email = config.gbif_email\n",
    "print(\"Notebook run \" + str(t1))\n",
    "print(spdb)\n",
    "connjup = sqlite3.connect(paramdb)\n",
    "cursorjup = connjup.cursor()\n",
    "# Get some variables\n",
    "years = connjup.execute(\"\"\"SELECT years_range \n",
    "                           FROM gbif_requests WHERE request_id = '{0}'\"\"\".format(gbif_req_id)).fetchone()[0]\n",
    "gap_id = connjup.execute(\"\"\"SELECT gap_id\n",
    "                            FROM species_concepts WHERE species_id = '{0}'\"\"\".format(species_id)).fetchone()[0]\n",
    "common_name = connjup.execute(\"\"\"SELECT common_name\n",
    "                                 FROM species_concepts WHERE species_id = '{0}'\"\"\".format(species_id)).fetchone()[0]"
   ]
  },
  {
   "cell_type": "markdown",
   "metadata": {},
   "source": [
    "# Species Concept\n",
    "Display information on the species from the parameters.sqlite database."
   ]
  },
  {
   "cell_type": "code",
   "execution_count": 3,
   "metadata": {},
   "outputs": [
    {
     "name": "stdout",
     "output_type": "stream",
     "text": [
      "SPECIES CONCEPT RECORD\n",
      "                                                   VALUE\n",
      "ATTRIBUTE                                               \n",
      "species_id                                       antlsx0\n",
      "fws_id                                              None\n",
      "gap_id                                            aNTLSx\n",
      "itis_tsn                                          173685\n",
      "gbif_id                                          5218376\n",
      "bcb_id                                              None\n",
      "ebird_id                                            None\n",
      "common_name                Northern Two-lined Salamander\n",
      "scientific_name                       Eurycea bislineata\n",
      "start_year                                          1818\n",
      "split_from                                          None\n",
      "end_year                                            None\n",
      "lumped_into                                         None\n",
      "geometry                                            None\n",
      "detection_distance_meters                              0\n",
      "vetted_how                                  NS,GBIF,IUCN\n",
      "vetted_who                                     M. Rubino\n",
      "vetted_date                                   05/01/2020\n",
      "notes                      Jacobs (1987) examined all...\n"
     ]
    }
   ],
   "source": [
    "vals = cursorjup.execute(\"SELECT * FROM species_concepts WHERE species_id = '{0}';\".format(species_id)).fetchall()[0]\n",
    "cols = [x[1] for x in cursorjup.execute(\"PRAGMA table_info('species_concepts')\").fetchall()]\n",
    "sp_dict = dict(zip(cols, vals))\n",
    "sp_df = pd.DataFrame.from_dict(sp_dict, orient='index', columns=['VALUE'])\n",
    "sp_df.index.name = 'ATTRIBUTE'\n",
    "print(\"SPECIES CONCEPT RECORD\")\n",
    "print(sp_df)"
   ]
  },
  {
   "cell_type": "markdown",
   "metadata": {},
   "source": [
    "# Filters\n",
    "Display the parameters of the request filter set.  These are deployed during the step where records are retrieved from the API."
   ]
  },
  {
   "cell_type": "code",
   "execution_count": 4,
   "metadata": {},
   "outputs": [
    {
     "name": "stdout",
     "output_type": "stream",
     "text": [
      "THE REQUEST FILTER SET\n",
      "request_id                    EvalGBIFRequest\n",
      "source                                   GBIF\n",
      "lat_range                                None\n",
      "lon_range                                None\n",
      "years_range                         1999,2020\n",
      "months_range                             1,12\n",
      "geoissue                                False\n",
      "coordinate                               True\n",
      "country                                    US\n",
      "geometry                                 None\n",
      "creator                             M. Rubino\n",
      "notes           amphibian evaluation reque...\n",
      "Name: 0, dtype: object\n"
     ]
    }
   ],
   "source": [
    "request_df = pd.read_sql_query(sql=\"SELECT * FROM gbif_requests WHERE request_id = '{0}'\".format(gbif_req_id), con=connjup)\n",
    "print(\"THE REQUEST FILTER SET\")\n",
    "print(request_df.loc[0])"
   ]
  },
  {
   "cell_type": "markdown",
   "metadata": {},
   "source": [
    "Display the parameters of the post-request filter set.  These are deployed after the records are retrieved from the API, but before they are stored in the occurrence record sqlite database."
   ]
  },
  {
   "cell_type": "code",
   "execution_count": 5,
   "metadata": {},
   "outputs": [
    {
     "name": "stdout",
     "output_type": "stream",
     "text": [
      "THE POST REQUEST FILTER SET\n",
      "filter_id                                    EvalGBIFFilter\n",
      "dataset                                                GBIF\n",
      "institutions_omit                                      None\n",
      "collection_codes_omit                                  None\n",
      "datasets_omit                                          None\n",
      "has_coordinate_uncertainty                                1\n",
      "max_coordinate_uncertainty                            10000\n",
      "bases_omit                                  FOSSIL_SPECIMEN\n",
      "sampling_protocols_omit                                None\n",
      "issues_omit                                            None\n",
      "duplicates_OK                                         False\n",
      "creator                                           M. Rubino\n",
      "notes                         amphibian evaluation filte...\n",
      "Name: 0, dtype: object\n"
     ]
    }
   ],
   "source": [
    "filter_df = pd.read_sql_query(sql=\"SELECT * FROM gbif_filters WHERE filter_id = '{0}'\".format(gbif_filter_id), con=connjup)\n",
    "print(\"THE POST REQUEST FILTER SET\")\n",
    "print(filter_df.loc[0])"
   ]
  },
  {
   "cell_type": "code",
   "execution_count": 6,
   "metadata": {
    "scrolled": false
   },
   "outputs": [
    {
     "name": "stdout",
     "output_type": "stream",
     "text": [
      "SPATIALITE_SECURITY set to relaxed\n",
      "Created occurrence db: 0:00:00.218762\n",
      "Got request params and sorted out geometry constraints: 0:00:00\n",
      "1774 records available\n",
      "Downloaded records: 0:00:12.753213\n",
      "Summarized fields returned: 0:01:28.698441\n",
      "Created summary table of request results: 0:00:00.062506\n",
      "Performed post-request filtering: 0:00:00.031257\n",
      "Calculated new columns, deleted some too: 0:00:00.046868\n",
      "42 duplicate records dropped: 0:00:00.750045\n",
      "Inserted records into table: 0:00:00.046875\n",
      "Summarized unique values retained: 0:00:00\n",
      "Updated occurrences table geometry column: 0:00:00.156269\n",
      "Buffered points: 0:00:00.781279\n"
     ]
    }
   ],
   "source": [
    "functions.retrieve_gbif_occurrences(codeDir, species_id, inDir, paramdb, spdb, gbif_req_id, gbif_filter_id, \n",
    "                                    default_coordUncertainty, outDir, summary_name, username,\n",
    "                                   password, email)"
   ]
  },
  {
   "cell_type": "code",
   "execution_count": 7,
   "metadata": {},
   "outputs": [
    {
     "name": "stdout",
     "output_type": "stream",
     "text": [
      "codeDir: D:/USGS Analyses/GAP-Habitat-Map-Assessment/Scripts/\n",
      " species_id: antlsx0\n",
      " inDir: D:/USGS Analyses/GAP-Habitat-Map-Assessment/Inputs/\n",
      " paramdb: D:/USGS Analyses/GAP-Habitat-Map-Assessment/db/wildlife-wrangler.sqlite\n",
      " spdb: D:/USGS Analyses/GAP-Habitat-Map-Assessment/Outputs/antlsx0EvalGBIFRequestEvalGBIFFilter.sqlite\n",
      " gbif_req_id: EvalGBIFRequest\n",
      " gbif_filter_id: EvalGBIFFilter\n",
      " default_coordUncertainty: False\n",
      " outDir: D:/USGS Analyses/GAP-Habitat-Map-Assessment/Outputs/\n",
      " summary_name: Northern Two-lined Salamander\n",
      " username: gapper\n",
      " password: metspirates\n",
      " email: pythonprocessing@gmail.com\n"
     ]
    }
   ],
   "source": [
    "print('codeDir: '+codeDir+'\\n', \n",
    "'species_id: '+species_id+'\\n', \n",
    "'inDir: '+inDir+'\\n', \n",
    "'paramdb: '+paramdb+'\\n', \n",
    "'spdb: '+spdb+'\\n', \n",
    "'gbif_req_id: '+gbif_req_id+'\\n', \n",
    "'gbif_filter_id: '+gbif_filter_id+'\\n', \n",
    "'default_coordUncertainty: '+str(default_coordUncertainty)+'\\n', \n",
    "'outDir: '+outDir+'\\n', \n",
    "'summary_name: '+summary_name+'\\n', \n",
    "'username: '+username+'\\n',\n",
    "'password: '+password+'\\n', \n",
    "'email: '+email)"
   ]
  },
  {
   "cell_type": "markdown",
   "metadata": {},
   "source": [
    "### Connect to output database, record species and filter info."
   ]
  },
  {
   "cell_type": "code",
   "execution_count": 8,
   "metadata": {},
   "outputs": [],
   "source": [
    "conn_occ= sqlite3.connect(spdb)\n",
    "curs_occ = conn_occ.cursor()\n",
    "sp_df.to_sql(name='species_concept', con=conn_occ, if_exists='replace')\n",
    "request_df.to_sql(name=gbif_req_id, con=conn_occ, if_exists='replace')\n",
    "filter_df.to_sql(name=gbif_filter_id, con=conn_occ, if_exists='replace')"
   ]
  },
  {
   "cell_type": "markdown",
   "metadata": {},
   "source": [
    "### How many records made it through the filters?\n",
    "This is the number that was actually saved in the occurrence record sqlite database."
   ]
  },
  {
   "cell_type": "code",
   "execution_count": 9,
   "metadata": {},
   "outputs": [
    {
     "name": "stdout",
     "output_type": "stream",
     "text": [
      "942 records\n"
     ]
    }
   ],
   "source": [
    "record_count = curs_occ.execute(\"SELECT COUNT(occ_id) FROM occurrences WHERE species_id = '{0}'\".format(species_id)).fetchone()\n",
    "print(str(record_count[0]) + \" records\")"
   ]
  },
  {
   "cell_type": "markdown",
   "metadata": {},
   "source": [
    "# Sources\n",
    "#### Pre-filters"
   ]
  },
  {
   "cell_type": "code",
   "execution_count": 10,
   "metadata": {},
   "outputs": [
    {
     "name": "stdout",
     "output_type": "stream",
     "text": [
      "GBIF\n",
      "   institutionCode                 collectionCode                    datasetName     0\n",
      "0              CAS                           HERP                        UNKNOWN    12\n",
      "1               CM                          Herps                        UNKNOWN     3\n",
      "2             CUMV                          Herps                        UNKNOWN     4\n",
      "3              MCZ                           Herp                        UNKNOWN    29\n",
      "4              MCZ                        HerpOBS                        UNKNOWN     1\n",
      "5              MSB  Amphibian and reptile spec...                        UNKNOWN     4\n",
      "6             NBMB                          Herps                        UNKNOWN     6\n",
      "7             NCSM                           Herp    NCSM Herpetology Collection    47\n",
      "8             TCWC                    Herpetology                        UNKNOWN    15\n",
      "9          UNKNOWN                        UNKNOWN                        UNKNOWN     1\n",
      "10            USNM          Amphibians & Reptiles            NMNH Extant Biology     4\n",
      "11            UTEP  Amphibian and reptile spec...                        UNKNOWN     2\n",
      "12             YPM                             VZ                        UNKNOWN   223\n",
      "13     iNaturalist                   Observations  iNaturalist research-grade...  1423\n"
     ]
    }
   ],
   "source": [
    "tables = cursorjup.execute(\"SELECT table_name FROM table_descriptions\").fetchall()\n",
    "tables = [x[0] for x in tables]\n",
    "\n",
    "filter_sets = [gbif_req_id, gbif_filter_id]\n",
    "\n",
    "sources = []\n",
    "for s in filter_sets:\n",
    "    s = s.strip()\n",
    "    for tab in tables:\n",
    "        columns = cursorjup.execute(\"SELECT column_name FROM column_descriptions WHERE table_name = '{0}'\".format(tab)).fetchall()\n",
    "        columns = [x[0] for x in columns]\n",
    "        for col in columns:\n",
    "            try:\n",
    "                a = cursorjup.execute(\"SELECT source FROM {1} WHERE {2} = '{0}'\".format(s, tab, col)).fetchone()[0]\n",
    "                sources.append(a)\n",
    "            except:\n",
    "                pass\n",
    "print(list(set(sources))[0])\n",
    "\n",
    "sources = pd.read_sql(sql=\"SELECT * FROM pre_filter_source_counts;\", con=conn_occ)\n",
    "print(sources)"
   ]
  },
  {
   "cell_type": "markdown",
   "metadata": {},
   "source": [
    "#### Post-filters"
   ]
  },
  {
   "cell_type": "code",
   "execution_count": 11,
   "metadata": {},
   "outputs": [
    {
     "name": "stdout",
     "output_type": "stream",
     "text": [
      "GBIF\n",
      "  institutionCode collectionCode                    datasetName  COUNT(occ_id)\n",
      "0              CM          Herps                        UNKNOWN              3\n",
      "1             MCZ           Herp                        UNKNOWN             17\n",
      "2             MCZ        HerpOBS                        UNKNOWN              1\n",
      "3            NCSM           Herp    NCSM Herpetology Collection             25\n",
      "4             YPM             VZ                        UNKNOWN             37\n",
      "5     iNaturalist   Observations  iNaturalist research-grade...            859\n"
     ]
    }
   ],
   "source": [
    "tables = cursorjup.execute(\"SELECT table_name FROM table_descriptions\").fetchall()\n",
    "tables = [x[0] for x in tables]\n",
    "\n",
    "filter_sets = [gbif_req_id, gbif_filter_id]\n",
    "\n",
    "sources = []\n",
    "for s in filter_sets:\n",
    "    s = s.strip()\n",
    "    for tab in tables:\n",
    "        columns = cursorjup.execute(\"SELECT column_name FROM column_descriptions WHERE table_name = '{0}'\".format(tab)).fetchall()\n",
    "        columns = [x[0] for x in columns]\n",
    "        for col in columns:\n",
    "            try:\n",
    "                a = cursorjup.execute(\"SELECT source FROM {1} WHERE {2} = '{0}'\".format(s, tab, col)).fetchone()[0]\n",
    "                sources.append(a)\n",
    "            except:\n",
    "                pass\n",
    "print(list(set(sources))[0])\n",
    "\n",
    "sql = \"SELECT institutionCode, collectionCode, datasetName, COUNT(occ_id) FROM occurrences GROUP BY institutionCode, collectionCode, datasetName;\"\n",
    "sources = pd.read_sql(sql=sql, con=conn_occ)\n",
    "print(sources)"
   ]
  },
  {
   "cell_type": "markdown",
   "metadata": {},
   "source": [
    "# Bases\n",
    "#### Pre-filter"
   ]
  },
  {
   "cell_type": "code",
   "execution_count": 12,
   "metadata": {},
   "outputs": [
    {
     "name": "stdout",
     "output_type": "stream",
     "text": [
      "        basisOfRecord  count\n",
      "0   HUMAN_OBSERVATION   1424\n",
      "1     MATERIAL_SAMPLE      1\n",
      "2  PRESERVED_SPECIMEN    349\n"
     ]
    }
   ],
   "source": [
    "bases = pd.read_sql(sql=\"SELECT value as basisOfRecord, count FROM pre_filter_value_counts WHERE attribute = 'bases';\", con=conn_occ)\n",
    "print(bases)"
   ]
  },
  {
   "cell_type": "markdown",
   "metadata": {},
   "source": [
    "#### Post-filters"
   ]
  },
  {
   "cell_type": "code",
   "execution_count": 13,
   "metadata": {
    "scrolled": true
   },
   "outputs": [
    {
     "name": "stdout",
     "output_type": "stream",
     "text": [
      "        basisOfRecord  count\n",
      "0   HUMAN_OBSERVATION    860\n",
      "1  PRESERVED_SPECIMEN     82\n"
     ]
    }
   ],
   "source": [
    "sql = \"SELECT basisOfRecord, COUNT(occ_id) as count FROM occurrences GROUP BY basisOfRecord;\"\n",
    "bases = pd.read_sql(sql=sql, con=conn_occ)\n",
    "print(bases)"
   ]
  },
  {
   "cell_type": "markdown",
   "metadata": {},
   "source": [
    "# Protocols\n",
    "#### Pre-filters"
   ]
  },
  {
   "cell_type": "code",
   "execution_count": 14,
   "metadata": {
    "scrolled": true
   },
   "outputs": [
    {
     "name": "stdout",
     "output_type": "stream",
     "text": [
      "  samplingProtocol  count\n",
      "0          UNKNOWN   1774\n"
     ]
    }
   ],
   "source": [
    "protocol = pd.read_sql(sql=\"SELECT value as samplingProtocol, count FROM pre_filter_value_counts WHERE attribute = 'samplingProtocols';\", con=conn_occ)\n",
    "print(protocol)"
   ]
  },
  {
   "cell_type": "markdown",
   "metadata": {},
   "source": [
    "#### Post-filters"
   ]
  },
  {
   "cell_type": "code",
   "execution_count": 15,
   "metadata": {},
   "outputs": [
    {
     "name": "stdout",
     "output_type": "stream",
     "text": [
      "  samplingProtocol  count\n",
      "0          UNKNOWN    942\n"
     ]
    }
   ],
   "source": [
    "sql = \"SELECT samplingProtocol, COUNT(occ_id) as count FROM occurrences GROUP BY samplingProtocol;\"\n",
    "print(pd.read_sql(sql=sql, con=conn_occ))"
   ]
  },
  {
   "cell_type": "markdown",
   "metadata": {},
   "source": [
    "# Issues\n",
    "#### Pre-filters"
   ]
  },
  {
   "cell_type": "code",
   "execution_count": 16,
   "metadata": {
    "scrolled": true
   },
   "outputs": [
    {
     "name": "stdout",
     "output_type": "stream",
     "text": [
      "                                                                             issues  count\n",
      "0                                                        ['COORDINATE_REPROJECTED']      1\n",
      "1                                  ['COORDINATE_ROUNDED', 'COORDINATE_REPROJECTED']      5\n",
      "2   ['COORDINATE_ROUNDED', 'GEODETIC_DATUM_ASSUMED_WGS84', 'COORDINATE_UNCERTAIN...      2\n",
      "3   ['COORDINATE_ROUNDED', 'GEODETIC_DATUM_ASSUMED_WGS84', 'MULTIMEDIA_DATE_INVA...      1\n",
      "4                            ['COORDINATE_ROUNDED', 'GEODETIC_DATUM_ASSUMED_WGS84']   1306\n",
      "5   ['COORDINATE_ROUNDED', 'GEODETIC_DATUM_INVALID', 'GEODETIC_DATUM_ASSUMED_WGS...     28\n",
      "6                                                            ['COORDINATE_ROUNDED']     96\n",
      "7              ['GEODETIC_DATUM_ASSUMED_WGS84', 'COUNTRY_DERIVED_FROM_COORDINATES']      1\n",
      "8                                                  ['GEODETIC_DATUM_ASSUMED_WGS84']    257\n",
      "9                        ['GEODETIC_DATUM_INVALID', 'GEODETIC_DATUM_ASSUMED_WGS84']      4\n",
      "10                                                                               []     73\n"
     ]
    }
   ],
   "source": [
    "iss = pd.read_sql(sql=\"SELECT value as issues, count FROM pre_filter_value_counts WHERE attribute = 'issues';\", con=conn_occ)\n",
    "pd.set_option('display.max_colwidth', 80)\n",
    "print(iss)"
   ]
  },
  {
   "cell_type": "markdown",
   "metadata": {},
   "source": [
    "#### Post-filters"
   ]
  },
  {
   "cell_type": "code",
   "execution_count": 17,
   "metadata": {
    "scrolled": true
   },
   "outputs": [
    {
     "name": "stdout",
     "output_type": "stream",
     "text": [
      "                                                                    issues  count\n",
      "0                                                                              30\n",
      "1                                                   COORDINATE_REPROJECTED      1\n",
      "2                                                       COORDINATE_ROUNDED     38\n",
      "3                          COORDINATE_ROUNDED;GEODETIC_DATUM_ASSUMED_WGS84    761\n",
      "4  COORDINATE_ROUNDED;GEODETIC_DATUM_ASSUMED_WGS84;MULTIMEDIA_DATE_INVALID      1\n",
      "5   COORDINATE_ROUNDED;GEODETIC_DATUM_INVALID;GEODETIC_DATUM_ASSUMED_WGS84     14\n",
      "6                                             GEODETIC_DATUM_ASSUMED_WGS84     97\n"
     ]
    }
   ],
   "source": [
    "sql = \"SELECT issues, COUNT(occ_id) as count FROM occurrences GROUP BY issues;\"\n",
    "print(pd.read_sql(sql=sql, con=conn_occ))"
   ]
  },
  {
   "cell_type": "markdown",
   "metadata": {},
   "source": [
    "# Descriptions of filtered records"
   ]
  },
  {
   "cell_type": "markdown",
   "metadata": {},
   "source": [
    "### Years represented"
   ]
  },
  {
   "cell_type": "code",
   "execution_count": 18,
   "metadata": {},
   "outputs": [
    {
     "data": {
      "text/plain": [
       "Text(0.5, 1.0, 'Occurrences per Year')"
      ]
     },
     "execution_count": 18,
     "metadata": {},
     "output_type": "execute_result"
    },
    {
     "data": {
      "image/png": "[encoded data removed]",
      "text/plain": [
       "<Figure size 432x288 with 1 Axes>"
      ]
     },
     "metadata": {
      "needs_background": "light"
     },
     "output_type": "display_data"
    }
   ],
   "source": [
    "occ_years = [int(x[0]) for x in curs_occ.execute(\"SELECT strftime('%Y', occurrenceDate) FROM occurrences\").fetchall()]\n",
    "years = connjup.execute(\"SELECT years_range FROM gbif_requests WHERE request_id = '{0}'\".format(gbif_req_id)).fetchone()[0]\n",
    "years = years.split(',')\n",
    "yearsrng = list(range(int(years[0]), int(years[1]), 1))\n",
    "binsnum = int(years[1]) - int(years[0])\n",
    "plt.hist(occ_years, bins=binsnum)\n",
    "plt.ylabel(\"number of records\")\n",
    "plt.xlabel(\"year\")\n",
    "plt.xticks(yearsrng, rotation=90)\n",
    "plt.title(\"Occurrences per Year\")"
   ]
  },
  {
   "cell_type": "markdown",
   "metadata": {},
   "source": [
    "### Months represented"
   ]
  },
  {
   "cell_type": "code",
   "execution_count": 19,
   "metadata": {},
   "outputs": [
    {
     "data": {
      "text/plain": [
       "Text(0.5, 1.0, 'Occurrences per Month')"
      ]
     },
     "execution_count": 19,
     "metadata": {},
     "output_type": "execute_result"
    },
    {
     "data": {
      "image/png": "[encoded data removed]",
      "text/plain": [
       "<Figure size 432x288 with 1 Axes>"
      ]
     },
     "metadata": {
      "needs_background": "light"
     },
     "output_type": "display_data"
    }
   ],
   "source": [
    "occ_months = [int(x[0]) for x in curs_occ.execute(\"SELECT strftime('%m', occurrenceDate) FROM occurrences\").fetchall()]\n",
    "plt.hist(occ_months, bins=range(1, 14), color=\"g\")\n",
    "plt.ylabel(\"number of records\")\n",
    "plt.xlabel(\"month\")\n",
    "plt.xticks(range(1, 13))\n",
    "plt.title(\"Occurrences per Month\")"
   ]
  },
  {
   "cell_type": "markdown",
   "metadata": {},
   "source": [
    "### Distribution of coordinate uncertainty values"
   ]
  },
  {
   "cell_type": "code",
   "execution_count": 20,
   "metadata": {
    "scrolled": true
   },
   "outputs": [
    {
     "data": {
      "text/plain": [
       "Text(0.5, 1.0, 'Coordinate Uncertainty')"
      ]
     },
     "execution_count": 20,
     "metadata": {},
     "output_type": "execute_result"
    },
    {
     "data": {
      "image/png": "[encoded data removed]",
      "text/plain": [
       "<Figure size 1152x288 with 1 Axes>"
      ]
     },
     "metadata": {
      "needs_background": "light"
     },
     "output_type": "display_data"
    }
   ],
   "source": [
    "occ_cert = [int(x[0]) for x in curs_occ.execute(\"SELECT coordinateUncertaintyInMeters FROM occurrences\").fetchall()]\n",
    "maxi = np.max(occ_cert)\n",
    "plt.figure(figsize=(16,4))\n",
    "plt.hist(occ_cert, bins=50, color=\"r\")\n",
    "plt.xticks(range(0, maxi, int(maxi/50)), rotation=90)\n",
    "plt.ylabel(\"number of records\")\n",
    "plt.xlabel(\"coordinate uncertainty\")\n",
    "plt.title(\"Coordinate Uncertainty\")"
   ]
  },
  {
   "cell_type": "code",
   "execution_count": 21,
   "metadata": {},
   "outputs": [
    {
     "data": {
      "text/plain": [
       "Text(0.5, 1.0, 'Coordinate Uncertainty - Zoomed In')"
      ]
     },
     "execution_count": 21,
     "metadata": {},
     "output_type": "execute_result"
    },
    {
     "data": {
      "image/png": "[encoded data removed]",
      "text/plain": [
       "<Figure size 864x288 with 1 Axes>"
      ]
     },
     "metadata": {
      "needs_background": "light"
     },
     "output_type": "display_data"
    }
   ],
   "source": [
    "rng_max = 2000\n",
    "occ_cert2 = [x for x in occ_cert if x <= rng_max]\n",
    "plt.figure(figsize=(12,4))\n",
    "plt.hist(occ_cert2, bins=30, color=\"m\", align='mid')\n",
    "plt.xticks(range(0, rng_max + 100, int(rng_max/30.)), rotation=90)\n",
    "plt.ylabel(\"number of records\")\n",
    "plt.xlabel(\"coordinate uncertainty\")\n",
    "plt.title(\"Coordinate Uncertainty - Zoomed In\")"
   ]
  },
  {
   "cell_type": "markdown",
   "metadata": {},
   "source": [
    "### Establishment means reported"
   ]
  },
  {
   "cell_type": "code",
   "execution_count": 22,
   "metadata": {},
   "outputs": [
    {
     "name": "stdout",
     "output_type": "stream",
     "text": [
      "NATIVE, UNKNOWN\n"
     ]
    }
   ],
   "source": [
    "establishment = curs_occ.execute(\"SELECT vals FROM unique_values WHERE field = 'establishment' AND step = 'filter';\").fetchall()[0]\n",
    "for est in establishment:\n",
    "    est = est.replace('[', '').strip().replace(']', '').replace(\"'\", \"\")\n",
    "    print(est)"
   ]
  },
  {
   "cell_type": "markdown",
   "metadata": {},
   "source": [
    "### Identification qualifiers included"
   ]
  },
  {
   "cell_type": "code",
   "execution_count": 23,
   "metadata": {},
   "outputs": [
    {
     "name": "stdout",
     "output_type": "stream",
     "text": [
      "UNKNOWN\n"
     ]
    }
   ],
   "source": [
    "quali = curs_occ.execute(\"SELECT DISTINCT vals FROM unique_values WHERE field = 'IDqualifier' AND step = 'filter';\").fetchall()[0]\n",
    "for q in quali:\n",
    "    q = q.replace('[', '').strip().replace(']', '').replace(\"'\", \"\")\n",
    "    print(q)"
   ]
  },
  {
   "cell_type": "markdown",
   "metadata": {},
   "source": [
    "### Remarks included"
   ]
  },
  {
   "cell_type": "code",
   "execution_count": 24,
   "metadata": {
    "scrolled": true
   },
   "outputs": [
    {
     "name": "stdout",
     "output_type": "stream",
     "text": [
      "More than 20 remarks, consult the occurrence database.\n"
     ]
    }
   ],
   "source": [
    "remarks = curs_occ.execute(\"SELECT DISTINCT remarks FROM occurrences;\").fetchall()\n",
    "if len(remarks) <= 20:\n",
    "    try:\n",
    "        for rem in remarks:\n",
    "            if rem[0][0:1] == ';':\n",
    "                print(rem[0][2:])\n",
    "            else:\n",
    "                print(rem[0])\n",
    "    except:\n",
    "        pass\n",
    "else:\n",
    "    print(\"More than 20 remarks, consult the occurrence database.\")"
   ]
  },
  {
   "cell_type": "markdown",
   "metadata": {},
   "source": [
    "### Attributes returned for the records in the request (pre-filters)"
   ]
  },
  {
   "cell_type": "code",
   "execution_count": 25,
   "metadata": {
    "scrolled": false
   },
   "outputs": [
    {
     "name": "stdout",
     "output_type": "stream",
     "text": [
      "                                  attribute  included(n)  populated(n)\n",
      "Field                                                                 \n",
      "0                    acceptedScientificName         1774          1774\n",
      "1                          acceptedTaxonKey         1774          1774\n",
      "2                              accessRights          304           304\n",
      "3                     associatedOccurrences            7             7\n",
      "4                      associatedReferences           15            15\n",
      "5                       associatedSequences            1             1\n",
      "6                            associatedTaxa            2             2\n",
      "7                             basisOfRecord         1774          1774\n",
      "8                     bibliographicCitation          289           289\n",
      "9                             catalogNumber         1773          1773\n",
      "10                                    class         1774          1774\n",
      "11                                 classKey         1774          1774\n",
      "12                           collectionCode         1773          1773\n",
      "13                             collectionID           25            25\n",
      "14                                continent          350           350\n",
      "15            coordinateUncertaintyInMeters         1229          1229\n",
      "16                                  country         1774          1774\n",
      "17                              countryCode         1774          1774\n",
      "18                                   county          344           344\n",
      "19                                  crawlId         1774          1774\n",
      "20                                  created            1             1\n",
      "21                                datasetID           47            47\n",
      "22                               datasetKey         1774          1774\n",
      "23                              datasetName         1474          1474\n",
      "24                           dateIdentified         1399          1399\n",
      "25                                      day         1773          1773\n",
      "26                          decimalLatitude         1774          1774\n",
      "27                         decimalLongitude         1774          1774\n",
      "28                              disposition           77            77\n",
      "29                        dynamicProperties          259           259\n",
      "30                                elevation           13            13\n",
      "31                        elevationAccuracy            5             5\n",
      "32                             endDayOfYear           38            38\n",
      "33                       establishmentMeans           28            28\n",
      "34                                eventDate         1774          1774\n",
      "35                                eventTime         1312          1312\n",
      "36                               extensions         1774             0\n",
      "37                                    facts         1774             0\n",
      "38                                   family         1774          1774\n",
      "39                                familyKey         1774          1774\n",
      "40                              fieldNumber          177           177\n",
      "41                                   gbifID         1774          1774\n",
      "42                              genericName         1774          1774\n",
      "43                                    genus         1774          1774\n",
      "44                                 genusKey         1774          1774\n",
      "45                            geodeticDatum         1774          1774\n",
      "46                     georeferenceProtocol          254           254\n",
      "47                      georeferenceRemarks          102           102\n",
      "48                      georeferenceSources          325           325\n",
      "49           georeferenceVerificationStatus           64            64\n",
      "50                          georeferencedBy          141           141\n",
      "51                        georeferencedDate           35            35\n",
      "52                                  habitat            8             8\n",
      "53                     higherClassification          304           304\n",
      "54                          higherGeography          303           303\n",
      "55                  http://unknown.org/nick         1423          1423\n",
      "56     http://unknown.org/occurrenceDetails         1423          1423\n",
      "57                         identificationID         1369          1369\n",
      "58                  identificationQualifier            6             6\n",
      "59                    identificationRemarks           16            16\n",
      "60         identificationVerificationStatus            6             6\n",
      "61                             identifiedBy           68            68\n",
      "62                          identifiedByIDs         1774            12\n",
      "63                               identifier         1774          1774\n",
      "64                              identifiers         1774             0\n",
      "65                          individualCount          313           313\n",
      "66                      informationWithheld          269           269\n",
      "67                     infraspecificEpithet           27            27\n",
      "68                          installationKey         1774          1774\n",
      "69                          institutionCode         1773          1773\n",
      "70                            institutionID          127           127\n",
      "71                                   issues         1774          1701\n",
      "72                                      key         1774          1774\n",
      "73                                  kingdom         1774          1774\n",
      "74                               kingdomKey         1774          1774\n",
      "75                                 language          346           346\n",
      "76                              lastCrawled         1774          1774\n",
      "77                          lastInterpreted         1774          1774\n",
      "78                               lastParsed         1774          1774\n",
      "79                                  license         1774          1774\n",
      "80                                lifeStage          160           160\n",
      "81                                 locality          347           347\n",
      "82                      locationAccordingTo            6             6\n",
      "83                          locationRemarks           21            21\n",
      "84                                    media         1774          1360\n",
      "85                                 modified         1770          1770\n",
      "86                                    month         1774          1774\n",
      "87                             municipality          220           220\n",
      "88                              networkKeys            6             6\n",
      "89                        nomenclaturalCode          287           287\n",
      "90                             occurrenceID         1774          1774\n",
      "91                        occurrenceRemarks          487           487\n",
      "92                         occurrenceStatus           28            28\n",
      "93                                    order         1774          1774\n",
      "94                                 orderKey         1774          1774\n",
      "95                               organismID            6             6\n",
      "96                      otherCatalogNumbers           69            69\n",
      "97                     ownerInstitutionCode          300           300\n",
      "98                                   phylum         1774          1774\n",
      "99                                phylumKey         1774          1774\n",
      "100                            preparations          303           303\n",
      "101                 previousIdentifications          229           229\n",
      "102                                protocol         1774          1774\n",
      "103                       publishingCountry         1774          1774\n",
      "104                        publishingOrgKey         1774          1774\n",
      "105                            recordNumber           57            57\n",
      "106                              recordedBy         1722          1722\n",
      "107                           recordedByIDs         1774            16\n",
      "108                              references         1758          1758\n",
      "109                               relations         1774             0\n",
      "110                                  rights         1423          1423\n",
      "111                            rightsHolder         1723          1723\n",
      "112                          scientificName         1774          1774\n",
      "113                                     sex            4             4\n",
      "114                                 species         1774          1774\n",
      "115                              speciesKey         1774          1774\n",
      "116                         specificEpithet         1774          1774\n",
      "117                          startDayOfYear           62            62\n",
      "118                           stateProvince         1773          1773\n",
      "119                                 taxonID         1424          1424\n",
      "120                                taxonKey         1774          1774\n",
      "121                               taxonRank         1774          1774\n",
      "122                            taxonRemarks          223           223\n",
      "123                         taxonomicStatus         1774          1774\n",
      "124                                    type          350           350\n",
      "125                verbatimCoordinateSystem           44            44\n",
      "126                       verbatimElevation           10            10\n",
      "127                       verbatimEventDate         1500          1500\n",
      "128                        verbatimLocality         1497          1497\n",
      "129                          vernacularName          270           270\n",
      "130                                    year         1774          1774\n"
     ]
    }
   ],
   "source": [
    "fields_summary = pd.read_sql(\"SELECT * FROM gbif_fields_returned\", conn_occ)#, index_col='index')\n",
    "fields_summary.index.name = 'Field'\n",
    "pd.set_option('display.max_rows', 250)\n",
    "print(fields_summary)"
   ]
  },
  {
   "cell_type": "markdown",
   "metadata": {},
   "source": [
    "### Runtime"
   ]
  },
  {
   "cell_type": "code",
   "execution_count": 26,
   "metadata": {},
   "outputs": [
    {
     "name": "stdout",
     "output_type": "stream",
     "text": [
      "0:01:47.378567\n"
     ]
    }
   ],
   "source": [
    "t2 = datetime.now()\n",
    "print(t2 - t1)"
   ]
  },
  {
   "cell_type": "code",
   "execution_count": null,
   "metadata": {},
   "outputs": [],
   "source": []
  }
 ],
 "metadata": {
  "kernelspec": {
   "display_name": "Python 3",
   "language": "python",
   "name": "python3"
  },
  "language_info": {
   "codemirror_mode": {
    "name": "ipython",
    "version": 3
   },
   "file_extension": ".py",
   "mimetype": "text/x-python",
   "name": "python",
   "nbconvert_exporter": "python",
   "pygments_lexer": "ipython3",
   "version": "3.6.5"
  }
 },
 "nbformat": 4,
 "nbformat_minor": 2
}
