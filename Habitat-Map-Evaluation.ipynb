{
 "cells": [
  {
   "cell_type": "markdown",
   "metadata": {},
   "source": [
    "# Table of contents\n",
    "1. [Purpose](#purpose)\n",
    "2. [Evaluation Metrics](#metrics)\n",
    "3. [Inputs](#inputs)\n",
    "    * [3.1 Occurrence Filters Database](#subinput1)\n",
    "    * [3.2 Point Occurrence Database](#subinput2)\n",
    "    * [3.3 GAP Species Habitat Maps](#subinput3)\n",
    "4. [Outputs](#outputs)\n",
    "5. [Constraints](#constraints)\n",
    "6. [Dependencies](#dependencies)\n",
    "    * [5.1 Code Language](#codelanguage)\n",
    "      * [5.1.1 package requirements](#packagerequirements)\n",
    "\n",
    "7. [Code](#code)\n",
    "    * [6.1 Python Package Import](#code61)\n",
    "    * [6.2 Connect to SQLite Database of Species Occurrences](#code62)\n",
    "    * [6.3 Looping Over Point Buffers to Mask Species Raster](#code63)\n",
    "    * [6.4 Make Dataframe for Buffer Proportion Assessment (BPA)](#code64)\n",
    "    * [6.5 Make Dataframe for Buffer Sensitivity Metric (BSM)](#code65)\n",
    "    * [6.6 Buffer Proportion Assessment Plot](#code66)\n",
    "    * [6.6 Buffer Sensitivity Metric Plot](#code67)\n",
    "\n",
    "8. [Discussion](#discussion)\n",
    "\n",
    "9. [Citations](#citations)\n",
    "\n",
    "---\n",
    "\n",
    "# Evaluating GAP Habitat Maps Using Presence-only Occurrence Data\n",
    "<br/>\n",
    "\n",
    "## Purpose <a name=\"purpose\"></a>\n",
    "Model generated maps of suitable species’ habitat to aid biodiversity conservation need to be evaluated for utility to end users and to inform future modeling in a quantitative way. Recently, species location data repositories with enormous numbers of records (i.e. billions) have become ubiquitously available online allowing rapid programmatic access through application interfaces (APIs). However, these location occurrence datasets are usually gathered opportunistically (i.e. museum records, citizen science efforts) and therefore only represent species presence and not absence. Presence-only data are problematic because they eliminate the use of confusion matrix-based metrics such as Kappa that discriminate between where species or habitats **are**  and **are not** located. Additionally, many of these occurrences are not georeferenced, that is, they have no spatial information such as longitude and latitude (x, y). When records do have x-y locations, they often either lack information regarding their spatial accuracy or the accuracy is very low (e.g. $\\gt5$ km). Points with such high positional uncertainty are only directly comparable to model outputs of similar scale/resolution.\n",
    "\n",
    "The U.S. Geological Survey Gap Analysis Project (GAP) focuses on modeling species habitat distributions for all terrestrial vertebrates in the US. Model outputs are binary habitat maps (suitable/unsuitable) created at a relatively fine resolution (30 meters)(McKerrow et al. 2018). We developed two evaluation methods that incorporate presence-only point occurrence records and their locational uncertainty to assess habitat maps at their native resolution. These metrics avoid either removing large numbers of occurrences because of low accuracy and/or “enlarging” map resolution to match greater numbers of records. The first, buffer proportion, is based on the proportion of habitat in the range relative to mean proportion of habitat around each occurrence record. It is a modification of Rondinini et al.’s (2011) model prevalence vs. point prevalence metric. The second measures true presence fraction (sensitivity) at varying distances from occurrences. This notebook illustrates the workflow used to compile and filter species occurrence records from on-line resources (e.g. [Global Biodiversity Information Facility](https://www.gbif.org/) and [Biodiversity Serving Our Nation](https://bison.usgs.gov/#home)).\n",
    "\n",
    "## Evaluation Metrics <a name=\"metrics\"></a>\n",
    "### Buffer Proportion Assessment (BPA)\n",
    "Rondinini et al. (2011) created deductive habitat suitability models (high, medium, unsuitable) for more than 5000 terrestrial mammals globally at a spatial grain of 300 meters to examine patterns of richness and protection. They conducted model evaluation on a subset of only 263 species because detailed occurrence data are lacking for most mammal taxa. The occurrence data used contains information on species presence only, limiting assessment methodologies. Therefore, Rondinini et al. chose to compare what they term ‘model prevalence’ and ‘point prevalence’ to species’ landscapes of randomly distributed habitat at a spatial grain of 1 km<sup>2</sup> (the assumed accuracy of their point locality data). Point prevalence is defined as the proportion of 1 km<sup>2</sup> cells containing one or more occurrences and one or more 300 meter cells with high and/or medium suitability (i.e. proportion of correctly predicted occurrences). Model prevalence is defined as the proportion of 1 km<sup>2</sup> cells with high or medium suitability within the species’ range. As they describe: “If predicted suitable cells were distributed randomly with respect to species occurrences, the expectation would be that the point prevalence equals the model prevalence.” Hence, the comparison assumes a random habitat landscape is one in which any given location contains habitat at proportions equal to model predicted habitat across the entire species’ range. When point prevalence is greater than model prevalence, the model predicts habitat at species locations better than the range “because it tends to correctly flag as unsuitable the cells that do not contain occurrences.”\n",
    "\n",
    "GAP species maps include geographic range along with distribution of potential habitat generated at a spatial raster resolution of 30 meters. Therefore, each species has a measurement of model prevalence, which is simply the areal proportion of predicted habitat within the delineated range. However, in order to calculate point prevalence at a 30 meter spatial grain, point occurrences would need to have an equivalent spatial accuracy. Point prevalence calculations at a 30 meter spatial grain will be available only for a very limited number of species and with very few data points because most point occurrence datasets (e.g. GBIF, BiSON, eBird) have either no information regarding individual location accuracy or vary widely in coordinate uncertainty (e.g. $\\lt 100$ meters to province-level centroids). However, buffering point occurrences by the degree of uncertainty of presence locations and calculating the proportion of habitat within those buffers would allow for comparisons to random habitat landscapes using range alone. As with point prevalence vs. model prevalence, models that predict habitat better than random would have a mean proportion of habitat in point buffers greater than the proportion of habitat throughout the species’ range.\n",
    "<img src=\"BPAGraphic.png\">\n",
    "\n",
    "### Buffer Sensitivity Metric (BSM)\n",
    "Since occurrence points have varying amounts of uncertainty associated with their geographic location, comparing them with the habitat map will result in a varying degree of assessment. Illustrating this variation across a number of scales can help model users determine which scale is most suitable for their intended use. The accuracy assessment measure ‘sensitivity’ is also referred to as the true positive fraction in model validation. For habitat map assessment, it is a measure of locations correctly predicted to be habitat. Sensitivity is calculated as the count of true positives divided by the sum of true positive plus false negative counts:\n",
    "\n",
    "$$\\displaystyle Sensitivity = \\frac{True Positive}{True Positive+False Negative}$$\n",
    "\n",
    "Using occurrence points in GAP habitat map evaluation, a true positive is recorded when at least one predicted habitat cell occurs within an occurrence point uncertainty buffer. A false negative is recorded when no habitat cells occur within an occurrence point buffer because occurrence points only record presence of a species and not absence. A sensitivity measure can be calculated for increasing buffer distances (i.e. scales) where a cumulative count of true positive (at least one habitat cell) and false negative (no habitat cells) are made for buffer sizes less than or equal to one of several size categories (for example 30, 100, 500, 1000, 2000, 5000, and 10000 meters). High sensitivity is indicative of a low omission rate or false positive fraction because sensitivity and omission rate sum to one.\n",
    "\n",
    "#### Statistical significance tests\n",
    "A map of randomly distributed habitat would be equal in proportion to the model predicted proportion of habitat within the species range. Models better than random will predict habitat adjacent to species locations at proportions greater than proportions throughout the range. Statistical significance tests can be made comparing the sensitivity (omission rate) to the model prevalence (proportion of habitat in the species range) using an exact one-sided binomial test (Anderson et al. 2002, Pearson 2007). Since sensitivity can be calculated for each buffer distance category, a test can be performed for each category.\n",
    "\n",
    "#### Note\n",
    "The rule wherein an occurrence location is counted as a true positive for habitat if **at least one cell** is within the point buffer could be altered to increase stringency. Any arbitrary value such as at least 15% of the buffer area could be used for all species or the threshold could be species specific such as the percentage of habitat predicted within the range.\n",
    "\n",
    "\n",
    "## Inputs <a name=\"inputs\"></a>\n",
    "The code in this notebook illustrates a workflow for a quantitative evaluation of model derived binary habitat maps. The independent data utilized are presence-only occurrence records acquired from online data repositories/aggregators such as the Global Biodiversity Information Facility [(GBIF)](https://www.gbif.org/). In order for these datasets to be useful for analyses such as habitat map evaluation, occurrence records need \"cleaning\" to address issues like duplication, date range, spatial inaccuracies, taxonomic changes and uncertainty, etc. A framework has been developed using Python and Jupter Notebooks (currently dubbed [The Wildlife Wrangler](https://github.com/nmtarr/wildlife-wrangler)) that attempts to address such complex issues when downloading and organizing occurrence records using automated, transparent, and reproducible methods. A major component of the framework are open source, [SQLite](https://www.sqlite.org/index.html) databases that store both user defined filtering criteria and the downloaded occurrence records themselves. \n",
    "\n",
    "\n",
    "* **Occurrence Filters Database** <a name=\"subinput1\"></a><br/>\n",
    "A SQLite database locally available that stores all filtering information supplied by the user.\n",
    "\n",
    "* **Point Occurrence Database** <a name=\"subinput2\"></a><br/>\n",
    "A SQLite database generated and stored locally that houses downloaded and filtered occurrence records and their spatial geometries. One database is generated for each species and its associated occurrence records.\n",
    "\n",
    "* **GAP Species Habitat Maps** <a name=\"subinput3\"></a><br/>\n",
    "Binary habitat maps in raster (GeoTIFF) format stored locally. Cell values must be **$\\geq 1$** indicating suitable habitat, and **$0$** indicating unsuitable habitat.\n",
    "\n",
    "\n",
    "\n",
    "## Outputs <a name=\"outputs\"></a>\n",
    "\n",
    "* [Buffer Proportion Assessment Scatterplot:](#BPA)\n",
    "This chart visualizes the comparisons between the proportion of habitat in a species range and the mean proportion of habitat with buffered point occurrences. Values above the x=y line indicate modeled habitat is **'better than random'** at predicting habitat at species locations across the species' range; while values below the x=y line indicate a model that is **'worse than random'** at predicting suitable habitat at species point occurrence locations.\n",
    "\n",
    "\n",
    "* [Buffer Sensitivity Metric Chart:](#BSM)\n",
    "This chart visualizes the Sensitivity measure for each of several buffer distance categories along with stacked bars showing the number of point occurrences and the number of True Positives. P-values for exact one-sided binomial tests comparing true positive fraction to model prevalence are indicated above each buffer category.\n",
    "\n",
    "## Constraints <a name=\"constraints\"></a>\n",
    "Habitat mapping constraints. See user constraints section on the USGS ScienceBase [GAP Species Habitat Maps](https://www.sciencebase.gov/catalog/item/527d0a83e4b0850ea0518326) page\n",
    "\n",
    "## Dependencies <a name=\"dependencies\"></a>\n",
    "Code execution and output visualization dependencies\n",
    "\n",
    "* **Code Language** <a name=\"codelanguage\"></a>  \n",
    "This code was written uing Python 3.6.5. Earlier versions may be compatible given slight alterations in syntax and package components.\n",
    "  * **Python package requirements** <a name=\"packagerequirements\"></a>  \n",
    "  The required packages for proper code execution inlclude:\n",
    "    - Pandas version 1.0x or above\n",
    "    - GeoPandas version 0.4x or above\n",
    "    - numpy version 1.18.x or above\n",
    "    - SQLite3 version 3.31.x or above\n",
    "    - Scipy (scientific library) version 1.4x or above\n",
    "    - matplotlib (figures library) version 3.1.x or above\n",
    "    - RasterIO (geospatial raster dataset package) version 1.1 or above\n",
    "    - GDAL (geospatial data abstraction library) version 3.0 or above\n",
    "    - LibTIFF (Tiff read/write library) version 4.1 or above\n"
   ]
  },
  {
   "cell_type": "markdown",
   "metadata": {},
   "source": [
    "## Code <a name=\"code\"></a>\n",
    "\n",
    "### Import required Python packages <a name=\"code61\"></a>"
   ]
  },
  {
   "cell_type": "code",
   "execution_count": 1,
   "metadata": {},
   "outputs": [],
   "source": [
    "import rasterio\n",
    "import rasterio.mask\n",
    "from shapely.geometry import mapping\n",
    "import sqlite3\n",
    "import pandas as pd\n",
    "import geopandas as gpd\n",
    "import numpy as np\n",
    "from datetime import datetime\n",
    "import math\n",
    "from scipy import stats\n",
    "import matplotlib.pyplot as plt\n",
    "import glob\n",
    "\n",
    "pd.set_option('display.max_columns', 10)\n",
    "pd.set_option('display.max_rows', 100)\n",
    "\n",
    "t0 = datetime.now()"
   ]
  },
  {
   "cell_type": "markdown",
   "metadata": {},
   "source": [
    "### This notebook will illustrate the evaluation workflow for a single species - Black-bellied Salamander *(Desmognathus quadramaculatus)* - to highlight individual components of the process. As such, the variables set are hard-coded just for the single species. Workflow for multiple species is available as a separate Python script. \n",
    "---\n",
    "### Setup directory locations and species specific variables "
   ]
  },
  {
   "cell_type": "code",
   "execution_count": 2,
   "metadata": {},
   "outputs": [],
   "source": [
    "# +++++++++++++++++++++++++++++++++++++++++++++++++++++++++\n",
    "#            ++++ Directory Locations ++++\n",
    "#\n",
    "# Mac specific\n",
    "#workDir = '/Users/matthewrubino/GAP-Habitat-Map-Assessment/'\n",
    "# Windows specific\n",
    "workDir = \"D:/USGS Analyses/GAP-Habitat-Map-Assessment/\"\n",
    "dbDir = workDir + 'Outputs/'\n",
    "sppDir = workDir + 'species/'\n",
    "\n",
    "# The variable prophab is the proportion of habitat in the species range estimated\n",
    "# by the habitat model. It is compared with the mean proportion of habitat within\n",
    "# point buffers - BPA. It is also used in a binomial test of each buffer distance\n",
    "# sensitivity measurement (true positive fraction) of occurrence points with at\n",
    "# least one (or >= proportion habitat in range threshold) habitat cell within the\n",
    "# coordinate uncertainty buffer area - BSM\n",
    "sppcode = 'aBESAx'\n",
    "prophab = 0.040\n",
    "# Using the occurrence db naming convention, set a variable using\n",
    "# the species code in the designated db that was searched\n",
    "# This is the 'species_id' in the species_concept table from the\n",
    "# Wildlife-wrangler parameters database.\n",
    "species_id = 'abesax0'\n",
    "\n",
    "# Suitable habitat raster value\n",
    "# For original GAP habitat map rasters values are seasonal:\n",
    "#  1 = summer only\n",
    "#  2 = winter only\n",
    "#  3 = year-round\n",
    "# NOTE: these values could be altered to just 1s if all seasons are used\n",
    "habval = 1"
   ]
  },
  {
   "cell_type": "markdown",
   "metadata": {},
   "source": [
    "### Make a variable for the GAP species habitat map"
   ]
  },
  {
   "cell_type": "code",
   "execution_count": 3,
   "metadata": {},
   "outputs": [],
   "source": [
    "# This TIF raster is a 0-1 species habitat map. It assumes that all habitat\n",
    "# cells in the raster are 1s and all non-habitat cells are 0s. If different\n",
    "# habitat TIFs are used, the code will need to be altered.\n",
    "HabMap = sppDir + f'{sppcode}_CONUS_01A_2001v1.tif'"
   ]
  },
  {
   "cell_type": "code",
   "execution_count": 4,
   "metadata": {},
   "outputs": [
    {
     "name": "stdout",
     "output_type": "stream",
     "text": [
      "\n",
      "Working on the Following Species Code: aBESAx\n",
      "\n",
      "  Opening Point Buffer Geometries into a GeoPandas Dataframe ....\n"
     ]
    }
   ],
   "source": [
    "print('\\nWorking on the Following Species Code:',sppcode)\n",
    "print('\\n  Opening Point Buffer Geometries into a GeoPandas Dataframe ....')"
   ]
  },
  {
   "cell_type": "markdown",
   "metadata": {},
   "source": [
    "### Connect to the species SQLite db generated by the Wrangler and get necessary columns from the occurrences table. This will pull out 4 columns:\n",
    "   * **occ_id**\n",
    "   * **latitude**\n",
    "   * **longitude**\n",
    "   * **coordinateUncertaintyInMeters**\n",
    "\n",
    "### Then generate a GeoPandas dataframe from latitude-longitude coordinates and buffers these point using the coordinate uncertainty column as the buffer distance in meters. <a name=\"code62\"></a>"
   ]
  },
  {
   "cell_type": "code",
   "execution_count": 5,
   "metadata": {},
   "outputs": [],
   "source": [
    "'''\n",
    " This uses a point buffer shapefile as the data source\n",
    "\n",
    "# Open the point buffer shapefile with GeoPandas\n",
    "gdfPtBuffs = gpd.read_file(shpBuff)\n",
    "# Extract the geometries in GeoJSON format\n",
    "geoms = gdfPtBuffs.geometry.values\n",
    "'''\n",
    "\n",
    "'''\n",
    " This opens a GeoPandas Dataframe directly from a SQLite db\n",
    " located in the workDir/db directory and pulls out 4 columns\n",
    " from the 'occurrences' table:\n",
    "   occ_id,\n",
    "   longitude,\n",
    "   latitude,\n",
    "   coordinateUncertaintyInMeters\n",
    " A geometery column is created using each record's latitude and longitude\n",
    " and then resets the CRS from WGS84 (EPSG:4326) to Albers EA (EPSG:5070)\n",
    " Another column is created (buff_dist) to set buffer distance for each point\n",
    " with a minimum of 30 meters based on coordinate uncertainty.\n",
    "'''\n",
    "\n",
    "db = glob.glob(dbDir + f\"{species_id}*.sqlite\")[0]\n",
    "conn = sqlite3.connect(db, isolation_level='DEFERRED')\n",
    "# Bring the occurrence id, latitude and longitude, and coordinate uncertainty\n",
    "# in the species SQLite db into a Pandas dataframe\n",
    "# Set the column data types using a dictionary\n",
    "dtdict = {'occ_id':'str','longitude':'float','latitude':'float',\n",
    "          'coordinateUncertaintyInMeters':'int16'} \n",
    "\n",
    "df = pd.read_sql_query(\"SELECT occ_id, longitude, latitude, \\\n",
    "                        coordinateUncertaintyInMeters FROM occurrences\", conn)\n",
    "\n",
    "df = df.astype(dtdict)\n",
    "# Some duplicate points may have gotten through. Keep the ones with\n",
    "# the lowest coordinate uncertainty.\n",
    "dfPts = df.sort_values('coordinateUncertaintyInMeters').drop_duplicates(subset=['longitude', 'latitude'], keep='first')\n",
    "dfPts = dfPts.reset_index()\n",
    "\n",
    "# Bring the lat-longs into a geometry for GeoPandas\n",
    "gdf = gpd.GeoDataFrame(dfPts, geometry=gpd.points_from_xy(dfPts.longitude, dfPts.latitude),\n",
    "                       crs=\"EPSG:4326\")\n",
    "\n",
    "# Reset the CRS to EPSG:5070\n",
    "gdfPtBuffs = gdf.to_crs(\"EPSG:5070\")\n",
    "\n",
    "# Make a new polygon geometry column of point buffers using coordinate uncertainty\n",
    "# --> Point buffers must be a minimum of 30 meters for proper overlay with species raster\n",
    "#     so make a new column 'buff_dist' with all values < 30 as 30\n",
    "gdfPtBuffs['buff_dist'] = np.where(gdfPtBuffs.coordinateUncertaintyInMeters < 30, 30,\n",
    "                                gdfPtBuffs.coordinateUncertaintyInMeters)\n",
    "gdfPtBuffs['poly_buff'] = gdfPtBuffs.apply(lambda row:\n",
    "                                     row.geometry.buffer(row.buff_dist),\n",
    "                                     axis=1)\n",
    "# Get the geometry values of the point buffer polygons\n",
    "geoms = gdfPtBuffs.poly_buff.values"
   ]
  },
  {
   "cell_type": "code",
   "execution_count": 6,
   "metadata": {},
   "outputs": [
    {
     "data": {
      "image/svg+xml": [
       "<svg xmlns=\"http://www.w3.org/2000/svg\" xmlns:xlink=\"http://www.w3.org/1999/xlink\" width=\"100.0\" height=\"100.0\" viewBox=\"1114804.1126086502 1476647.3214585849 64.79999999981374 64.79999999981374\" preserveAspectRatio=\"xMinYMin meet\"><g transform=\"matrix(1,0,0,-1,0,2953359.4429171695)\"><path fill-rule=\"evenodd\" fill=\"#66cc99\" stroke=\"#555555\" stroke-width=\"1.2959999999962748\" opacity=\"0.6\" d=\"M 1114866.5126086501,1476679.7214585848 L 1114866.3681504503,1476676.7809443749 L 1114865.9361670623,1476673.8687489242 L 1114865.2208187222,1476671.0129182672 L 1114864.2289946254,1476668.2409556138 L 1114862.9702465807,1476665.57955648 L 1114861.4566970193,1476663.054351594 L 1114859.702922251,1476660.6896600598 L 1114857.7258120857,1476658.5082551492 L 1114855.5444071752,1476656.5311449838 L 1114853.1797156408,1476654.7773702156 L 1114850.6545107549,1476653.2638206542 L 1114847.9931116211,1476652.0050726095 L 1114845.2211489677,1476651.0132485128 L 1114842.3653183107,1476650.2979001726 L 1114839.45312286,1476649.8659167846 L 1114836.5126086501,1476649.7214585848 L 1114833.5720944402,1476649.8659167846 L 1114830.6598989896,1476650.2979001726 L 1114827.8040683325,1476651.0132485128 L 1114825.0321056792,1476652.0050726095 L 1114822.3707065454,1476653.2638206542 L 1114819.8455016594,1476654.7773702156 L 1114817.4808101251,1476656.5311449838 L 1114815.2994052146,1476658.5082551492 L 1114813.3222950492,1476660.6896600598 L 1114811.568520281,1476663.054351594 L 1114810.0549707196,1476665.57955648 L 1114808.796222675,1476668.2409556138 L 1114807.8043985781,1476671.0129182672 L 1114807.089050238,1476673.8687489242 L 1114806.65706685,1476676.7809443749 L 1114806.5126086501,1476679.7214585848 L 1114806.65706685,1476682.6619727947 L 1114807.089050238,1476685.5741682453 L 1114807.8043985781,1476688.4299989024 L 1114808.796222675,1476691.2019615558 L 1114810.0549707196,1476693.8633606895 L 1114811.568520281,1476696.3885655755 L 1114813.3222950492,1476698.7532571098 L 1114815.2994052146,1476700.9346620203 L 1114817.4808101251,1476702.9117721857 L 1114819.8455016594,1476704.665546954 L 1114822.3707065454,1476706.1790965153 L 1114825.0321056792,1476707.43784456 L 1114827.8040683325,1476708.4296686568 L 1114830.6598989896,1476709.145016997 L 1114833.5720944402,1476709.577000385 L 1114836.5126086501,1476709.7214585848 L 1114839.45312286,1476709.577000385 L 1114842.3653183107,1476709.145016997 L 1114845.2211489677,1476708.4296686568 L 1114847.9931116211,1476707.43784456 L 1114850.6545107549,1476706.1790965153 L 1114853.1797156408,1476704.665546954 L 1114855.5444071752,1476702.9117721857 L 1114857.7258120857,1476700.9346620203 L 1114859.702922251,1476698.7532571098 L 1114861.4566970193,1476696.3885655755 L 1114862.9702465807,1476693.8633606895 L 1114864.2289946254,1476691.2019615558 L 1114865.2208187222,1476688.4299989024 L 1114865.9361670623,1476685.5741682453 L 1114866.3681504503,1476682.6619727947 L 1114866.5126086501,1476679.7214585848 z\" /></g></svg>"
      ],
      "text/plain": [
       "<shapely.geometry.polygon.Polygon at 0x27c79735cc0>"
      ]
     },
     "execution_count": 6,
     "metadata": {},
     "output_type": "execute_result"
    }
   ],
   "source": [
    "geoms[0]"
   ]
  },
  {
   "cell_type": "markdown",
   "metadata": {},
   "source": [
    "#### Make some empty lists for holding data"
   ]
  },
  {
   "cell_type": "code",
   "execution_count": 7,
   "metadata": {},
   "outputs": [],
   "source": [
    "# Make an empty final habitat/non-habitat stats list\n",
    "statslst = []\n",
    "statcols = ['BufferDist','nCellsHab',\n",
    "        'nCellsNon','nCells',\n",
    "        'PropHab','PropNonHab']\n",
    "\n",
    "# Make an empty list of non-overlapping buffers\n",
    "nonlst = []\n",
    "noncols = ['OccID','OrigIndex','BufferDist']\n"
   ]
  },
  {
   "cell_type": "markdown",
   "metadata": {},
   "source": [
    "### Loop over each point buffer and mask the species habitat raster <a name=\"code63\"></a>"
   ]
  },
  {
   "cell_type": "code",
   "execution_count": 8,
   "metadata": {},
   "outputs": [
    {
     "name": "stdout",
     "output_type": "stream",
     "text": [
      "  Masking species habitat map with each point buffer ....\n"
     ]
    }
   ],
   "source": [
    "# Loop over each point buffer to mask the species habitat raster\n",
    "print('  Masking species habitat map with each point buffer ....')\n",
    "for i in gdfPtBuffs.index:\n",
    "\n",
    "    # Select a single point buffer from an index value in dataframe geometries\n",
    "    buff = [mapping(geoms[i])]\n",
    "\n",
    "    # Get the buffer distance value\n",
    "    dist = gdfPtBuffs.at[i,'buff_dist']\n",
    "\n",
    "    try:\n",
    "\n",
    "        # Mask with the species habitat map raster\n",
    "        with rasterio.open(HabMap) as habras:\n",
    "            mask_arr, mask_transform = rasterio.mask.mask(habras, buff, crop=True)\n",
    "\n",
    "        # Get the count of the number of habitat cells: habval variable set above\n",
    "        cnt1 = len(mask_arr[mask_arr==habval])\n",
    "        # Get the count of the number of non-habitat cells: in this case = 0\n",
    "        cnt0 = len(mask_arr[mask_arr==0])\n",
    "        # Get the total number of cells in the point buffer mask\n",
    "        ncells = cnt0 +  cnt1\n",
    "        # Get the proportion of habitat and non-habitat in the point buffer\n",
    "        propHab = (cnt1/ncells)\n",
    "        propNon = (cnt0/ncells)\n",
    "        # Append to the stats list\n",
    "        statslst.append([dist,cnt1,cnt0,ncells,propHab,propNon])\n",
    "\n",
    "    except ValueError:\n",
    "        print('   Buffer does not overlap with species habitat raster')\n",
    "        # Assemble info on the buffers that did not overlap into a dataframe\n",
    "        oid = gdfPtBuffs.at[i,'occ_id']\n",
    "        idx = gdfPtBuffs.at[i,'index']\n",
    "        nonlst.append([oid,idx,dist])\n",
    "        dfNonOverlaps = pd.DataFrame(nonlst, columns=noncols)\n"
   ]
  },
  {
   "cell_type": "markdown",
   "metadata": {},
   "source": [
    "### Make the dataframe to run BPA evaluations <a name=\"code64\"></a>"
   ]
  },
  {
   "cell_type": "code",
   "execution_count": 9,
   "metadata": {},
   "outputs": [
    {
     "name": "stdout",
     "output_type": "stream",
     "text": [
      "\n",
      "\n",
      "Creating DataFrame dfHabStats\n",
      "\n",
      "\n",
      "~~~~~~~~~ DONE ~~~~~~~~~~\n"
     ]
    }
   ],
   "source": [
    "# Make the DataFrame by using the appended raster data list and export to CSV\n",
    "print(\"\\n\\nCreating DataFrame dfHabStats\")\n",
    "dfHabStats = pd.DataFrame(statslst, columns=statcols)\n",
    "\n",
    "print(\"\\n\\n~~~~~~~~~ DONE ~~~~~~~~~~\")"
   ]
  },
  {
   "cell_type": "code",
   "execution_count": 10,
   "metadata": {},
   "outputs": [
    {
     "data": {
      "text/html": [
       "<div>\n",
       "<style scoped>\n",
       "    .dataframe tbody tr th:only-of-type {\n",
       "        vertical-align: middle;\n",
       "    }\n",
       "\n",
       "    .dataframe tbody tr th {\n",
       "        vertical-align: top;\n",
       "    }\n",
       "\n",
       "    .dataframe thead th {\n",
       "        text-align: right;\n",
       "    }\n",
       "</style>\n",
       "<table border=\"1\" class=\"dataframe\">\n",
       "  <thead>\n",
       "    <tr style=\"text-align: right;\">\n",
       "      <th></th>\n",
       "      <th>BufferDist</th>\n",
       "      <th>nCellsHab</th>\n",
       "      <th>nCellsNon</th>\n",
       "      <th>nCells</th>\n",
       "      <th>PropHab</th>\n",
       "      <th>PropNonHab</th>\n",
       "    </tr>\n",
       "  </thead>\n",
       "  <tbody>\n",
       "    <tr>\n",
       "      <th>0</th>\n",
       "      <td>30</td>\n",
       "      <td>0</td>\n",
       "      <td>2</td>\n",
       "      <td>2</td>\n",
       "      <td>0.00</td>\n",
       "      <td>1.00</td>\n",
       "    </tr>\n",
       "    <tr>\n",
       "      <th>1</th>\n",
       "      <td>30</td>\n",
       "      <td>0</td>\n",
       "      <td>2</td>\n",
       "      <td>2</td>\n",
       "      <td>0.00</td>\n",
       "      <td>1.00</td>\n",
       "    </tr>\n",
       "    <tr>\n",
       "      <th>2</th>\n",
       "      <td>30</td>\n",
       "      <td>0</td>\n",
       "      <td>2</td>\n",
       "      <td>2</td>\n",
       "      <td>0.00</td>\n",
       "      <td>1.00</td>\n",
       "    </tr>\n",
       "    <tr>\n",
       "      <th>3</th>\n",
       "      <td>30</td>\n",
       "      <td>2</td>\n",
       "      <td>0</td>\n",
       "      <td>2</td>\n",
       "      <td>1.00</td>\n",
       "      <td>0.00</td>\n",
       "    </tr>\n",
       "    <tr>\n",
       "      <th>4</th>\n",
       "      <td>30</td>\n",
       "      <td>1</td>\n",
       "      <td>3</td>\n",
       "      <td>4</td>\n",
       "      <td>0.25</td>\n",
       "      <td>0.75</td>\n",
       "    </tr>\n",
       "  </tbody>\n",
       "</table>\n",
       "</div>"
      ],
      "text/plain": [
       "   BufferDist  nCellsHab  nCellsNon  nCells  PropHab  PropNonHab\n",
       "0          30          0          2       2     0.00        1.00\n",
       "1          30          0          2       2     0.00        1.00\n",
       "2          30          0          2       2     0.00        1.00\n",
       "3          30          2          0       2     1.00        0.00\n",
       "4          30          1          3       4     0.25        0.75"
      ]
     },
     "execution_count": 10,
     "metadata": {},
     "output_type": "execute_result"
    }
   ],
   "source": [
    "dfHabStats.head(5)"
   ]
  },
  {
   "cell_type": "code",
   "execution_count": 11,
   "metadata": {},
   "outputs": [
    {
     "data": {
      "text/html": [
       "<div>\n",
       "<style scoped>\n",
       "    .dataframe tbody tr th:only-of-type {\n",
       "        vertical-align: middle;\n",
       "    }\n",
       "\n",
       "    .dataframe tbody tr th {\n",
       "        vertical-align: top;\n",
       "    }\n",
       "\n",
       "    .dataframe thead th {\n",
       "        text-align: right;\n",
       "    }\n",
       "</style>\n",
       "<table border=\"1\" class=\"dataframe\">\n",
       "  <thead>\n",
       "    <tr style=\"text-align: right;\">\n",
       "      <th></th>\n",
       "      <th>BufferDist</th>\n",
       "      <th>nCellsHab</th>\n",
       "      <th>nCellsNon</th>\n",
       "      <th>nCells</th>\n",
       "      <th>PropHab</th>\n",
       "      <th>PropNonHab</th>\n",
       "    </tr>\n",
       "  </thead>\n",
       "  <tbody>\n",
       "    <tr>\n",
       "      <th>295</th>\n",
       "      <td>4023</td>\n",
       "      <td>2210</td>\n",
       "      <td>54195</td>\n",
       "      <td>56405</td>\n",
       "      <td>0.039181</td>\n",
       "      <td>0.960819</td>\n",
       "    </tr>\n",
       "    <tr>\n",
       "      <th>296</th>\n",
       "      <td>4023</td>\n",
       "      <td>1581</td>\n",
       "      <td>54821</td>\n",
       "      <td>56402</td>\n",
       "      <td>0.028031</td>\n",
       "      <td>0.971969</td>\n",
       "    </tr>\n",
       "    <tr>\n",
       "      <th>297</th>\n",
       "      <td>4023</td>\n",
       "      <td>4559</td>\n",
       "      <td>51859</td>\n",
       "      <td>56418</td>\n",
       "      <td>0.080808</td>\n",
       "      <td>0.919192</td>\n",
       "    </tr>\n",
       "    <tr>\n",
       "      <th>298</th>\n",
       "      <td>4023</td>\n",
       "      <td>746</td>\n",
       "      <td>55659</td>\n",
       "      <td>56405</td>\n",
       "      <td>0.013226</td>\n",
       "      <td>0.986774</td>\n",
       "    </tr>\n",
       "    <tr>\n",
       "      <th>299</th>\n",
       "      <td>5000</td>\n",
       "      <td>7638</td>\n",
       "      <td>79480</td>\n",
       "      <td>87118</td>\n",
       "      <td>0.087674</td>\n",
       "      <td>0.912326</td>\n",
       "    </tr>\n",
       "    <tr>\n",
       "      <th>300</th>\n",
       "      <td>5589</td>\n",
       "      <td>5303</td>\n",
       "      <td>103567</td>\n",
       "      <td>108870</td>\n",
       "      <td>0.048709</td>\n",
       "      <td>0.951291</td>\n",
       "    </tr>\n",
       "    <tr>\n",
       "      <th>301</th>\n",
       "      <td>5612</td>\n",
       "      <td>15491</td>\n",
       "      <td>94269</td>\n",
       "      <td>109760</td>\n",
       "      <td>0.141135</td>\n",
       "      <td>0.858865</td>\n",
       "    </tr>\n",
       "    <tr>\n",
       "      <th>302</th>\n",
       "      <td>7075</td>\n",
       "      <td>19332</td>\n",
       "      <td>155098</td>\n",
       "      <td>174430</td>\n",
       "      <td>0.110830</td>\n",
       "      <td>0.889170</td>\n",
       "    </tr>\n",
       "    <tr>\n",
       "      <th>303</th>\n",
       "      <td>8405</td>\n",
       "      <td>22225</td>\n",
       "      <td>223977</td>\n",
       "      <td>246202</td>\n",
       "      <td>0.090271</td>\n",
       "      <td>0.909729</td>\n",
       "    </tr>\n",
       "    <tr>\n",
       "      <th>304</th>\n",
       "      <td>8486</td>\n",
       "      <td>27085</td>\n",
       "      <td>223882</td>\n",
       "      <td>250967</td>\n",
       "      <td>0.107923</td>\n",
       "      <td>0.892077</td>\n",
       "    </tr>\n",
       "  </tbody>\n",
       "</table>\n",
       "</div>"
      ],
      "text/plain": [
       "     BufferDist  nCellsHab  nCellsNon  nCells   PropHab  PropNonHab\n",
       "295        4023       2210      54195   56405  0.039181    0.960819\n",
       "296        4023       1581      54821   56402  0.028031    0.971969\n",
       "297        4023       4559      51859   56418  0.080808    0.919192\n",
       "298        4023        746      55659   56405  0.013226    0.986774\n",
       "299        5000       7638      79480   87118  0.087674    0.912326\n",
       "300        5589       5303     103567  108870  0.048709    0.951291\n",
       "301        5612      15491      94269  109760  0.141135    0.858865\n",
       "302        7075      19332     155098  174430  0.110830    0.889170\n",
       "303        8405      22225     223977  246202  0.090271    0.909729\n",
       "304        8486      27085     223882  250967  0.107923    0.892077"
      ]
     },
     "execution_count": 11,
     "metadata": {},
     "output_type": "execute_result"
    }
   ],
   "source": [
    "dfHabStats.tail(10)"
   ]
  },
  {
   "cell_type": "markdown",
   "metadata": {},
   "source": [
    "#### Make empty stats list for BSM plotting"
   ]
  },
  {
   "cell_type": "code",
   "execution_count": 12,
   "metadata": {},
   "outputs": [],
   "source": [
    "statlst = []\n",
    "buffcats = [30,100,500,1000,2000,5000,10000]\n",
    "plotcols = ['BufferCat','TruePos','FalseNeg','Sensitivity','nPts','p-Value']\n"
   ]
  },
  {
   "cell_type": "markdown",
   "metadata": {},
   "source": [
    "### Generate the dataframe holding BSM evaluation metrics <a name=\"code65\"></a>"
   ]
  },
  {
   "cell_type": "code",
   "execution_count": 13,
   "metadata": {},
   "outputs": [
    {
     "name": "stdout",
     "output_type": "stream",
     "text": [
      "\n",
      "Looping over 7 buffer distance categories to get sensitivity plot data ...\n"
     ]
    }
   ],
   "source": [
    "print('\\nLooping over 7 buffer distance categories to get sensitivity plot data ...')\n",
    "# Loop over each buffer distance category to generate data for sensitivity plot\n",
    "for c in buffcats:\n",
    "    # Subset the dataframe by buffer distance category\n",
    "    df = dfHabStats[dfHabStats['BufferDist'] <= c]\n",
    "    # Calculate buffer category sensitivity stats\n",
    "    n = len(df)\n",
    "    if n > 0:\n",
    "        # Count 'habitat presence' as anything not 0 in hab cell count\n",
    "        fn = df.loc[df['nCellsHab'] == 0, 'nCellsHab'].count()\n",
    "        tp = n - fn\n",
    "        # Count 'habitat presence' using a threshold (prop hab in range)\n",
    "        #tp = df.loc[df['PropHab'] >= prophab, 'nCellsHab'].count()\n",
    "        #fn = n - tp\n",
    "        sens = tp / n\n",
    "    else:\n",
    "        tp = 0\n",
    "        fn = 0\n",
    "        sens = 0\n",
    "    # Calculate an exact one-sided binomial test for each buffer distance\n",
    "    p = stats.binom_test(tp, n=n, p=prophab, alternative='greater')\n",
    "    if p < 0.0001:\n",
    "        pv = \"< 0.0001\"\n",
    "    else:\n",
    "        pv = \"= \" + str(round(p,4))\n",
    "    # Add to the stats list\n",
    "    statlst.append([c,tp,fn,sens,n,pv])\n",
    "\n",
    "# Make the final dataframe of the sensitivity stats\n",
    "dfSens = pd.DataFrame(statlst, columns=plotcols)\n"
   ]
  },
  {
   "cell_type": "code",
   "execution_count": 14,
   "metadata": {},
   "outputs": [
    {
     "data": {
      "text/html": [
       "<div>\n",
       "<style scoped>\n",
       "    .dataframe tbody tr th:only-of-type {\n",
       "        vertical-align: middle;\n",
       "    }\n",
       "\n",
       "    .dataframe tbody tr th {\n",
       "        vertical-align: top;\n",
       "    }\n",
       "\n",
       "    .dataframe thead th {\n",
       "        text-align: right;\n",
       "    }\n",
       "</style>\n",
       "<table border=\"1\" class=\"dataframe\">\n",
       "  <thead>\n",
       "    <tr style=\"text-align: right;\">\n",
       "      <th></th>\n",
       "      <th>BufferCat</th>\n",
       "      <th>TruePos</th>\n",
       "      <th>FalseNeg</th>\n",
       "      <th>Sensitivity</th>\n",
       "      <th>nPts</th>\n",
       "      <th>p-Value</th>\n",
       "    </tr>\n",
       "  </thead>\n",
       "  <tbody>\n",
       "    <tr>\n",
       "      <th>0</th>\n",
       "      <td>30</td>\n",
       "      <td>52</td>\n",
       "      <td>41</td>\n",
       "      <td>0.559140</td>\n",
       "      <td>93</td>\n",
       "      <td>&lt; 0.0001</td>\n",
       "    </tr>\n",
       "    <tr>\n",
       "      <th>1</th>\n",
       "      <td>100</td>\n",
       "      <td>65</td>\n",
       "      <td>68</td>\n",
       "      <td>0.488722</td>\n",
       "      <td>133</td>\n",
       "      <td>&lt; 0.0001</td>\n",
       "    </tr>\n",
       "    <tr>\n",
       "      <th>2</th>\n",
       "      <td>500</td>\n",
       "      <td>124</td>\n",
       "      <td>83</td>\n",
       "      <td>0.599034</td>\n",
       "      <td>207</td>\n",
       "      <td>&lt; 0.0001</td>\n",
       "    </tr>\n",
       "    <tr>\n",
       "      <th>3</th>\n",
       "      <td>1000</td>\n",
       "      <td>156</td>\n",
       "      <td>83</td>\n",
       "      <td>0.652720</td>\n",
       "      <td>239</td>\n",
       "      <td>&lt; 0.0001</td>\n",
       "    </tr>\n",
       "    <tr>\n",
       "      <th>4</th>\n",
       "      <td>2000</td>\n",
       "      <td>201</td>\n",
       "      <td>83</td>\n",
       "      <td>0.707746</td>\n",
       "      <td>284</td>\n",
       "      <td>&lt; 0.0001</td>\n",
       "    </tr>\n",
       "    <tr>\n",
       "      <th>5</th>\n",
       "      <td>5000</td>\n",
       "      <td>217</td>\n",
       "      <td>83</td>\n",
       "      <td>0.723333</td>\n",
       "      <td>300</td>\n",
       "      <td>&lt; 0.0001</td>\n",
       "    </tr>\n",
       "    <tr>\n",
       "      <th>6</th>\n",
       "      <td>10000</td>\n",
       "      <td>222</td>\n",
       "      <td>83</td>\n",
       "      <td>0.727869</td>\n",
       "      <td>305</td>\n",
       "      <td>&lt; 0.0001</td>\n",
       "    </tr>\n",
       "  </tbody>\n",
       "</table>\n",
       "</div>"
      ],
      "text/plain": [
       "   BufferCat  TruePos  FalseNeg  Sensitivity  nPts   p-Value\n",
       "0         30       52        41     0.559140    93  < 0.0001\n",
       "1        100       65        68     0.488722   133  < 0.0001\n",
       "2        500      124        83     0.599034   207  < 0.0001\n",
       "3       1000      156        83     0.652720   239  < 0.0001\n",
       "4       2000      201        83     0.707746   284  < 0.0001\n",
       "5       5000      217        83     0.723333   300  < 0.0001\n",
       "6      10000      222        83     0.727869   305  < 0.0001"
      ]
     },
     "execution_count": 14,
     "metadata": {},
     "output_type": "execute_result"
    }
   ],
   "source": [
    "dfSens"
   ]
  },
  {
   "cell_type": "markdown",
   "metadata": {},
   "source": [
    "### Plot Buffer Proportion Assessment (BPA) graphic <a name=\"code66\"></a><a name=\"BPA\"></a>"
   ]
  },
  {
   "cell_type": "code",
   "execution_count": 19,
   "metadata": {
    "scrolled": true
   },
   "outputs": [
    {
     "name": "stdout",
     "output_type": "stream",
     "text": [
      "\n",
      "\n",
      " >>>>>>>>>>>>>>>>>>>>>>>>>>>>>>>>>>> BPA and BSM PLOTS <<<<<<<<<<<<<<<<<<<<<<<<<<<<<<<<<<<\n"
     ]
    },
    {
     "data": {
      "text/plain": [
       "<matplotlib.collections.PathCollection at 0x27c79fa3ac8>"
      ]
     },
     "execution_count": 19,
     "metadata": {},
     "output_type": "execute_result"
    },
    {
     "data": {
      "image/png": "[encoded data removed]",
      "text/plain": [
       "<Figure size 576x576 with 1 Axes>"
      ]
     },
     "metadata": {
      "needs_background": "light"
     },
     "output_type": "display_data"
    }
   ],
   "source": [
    "#################################### Start plotting BPA #######################################################\n",
    "print('\\n\\n','>'*35, 'BPA and BSM PLOTS', '<'*35)\n",
    "# Get the mean proportion of habitat in point buffers and its standard deviation\n",
    "pbmean = round(dfHabStats['PropHab'].mean(),3)\n",
    "pbsd = round(dfHabStats['PropHab'].std(),3)\n",
    "nRecs = len(dfHabStats)\n",
    "\n",
    "#colors = np.random.rand()\n",
    "\n",
    "fig, ax = plt.subplots(figsize=(8,8))\n",
    "# Set axes limits and labels\n",
    "ax.set_xlim(0,1)\n",
    "ax.set_ylim(0,1)\n",
    "ax.set_xlabel(\"Proportion Habitat in Range\")\n",
    "ax.set_ylabel(\"Mean Proportion Habitat in Point Buffers\")\n",
    "ax.set_title('Buffer Proportion Assessment - {0}'.format(sppcode))\n",
    "\n",
    "# Draw a y=x line to illustrate 'better than random'\n",
    "# and 'worse than random' parts of the plot\n",
    "ax.plot([0,1],[0,1], transform=ax.transAxes, c='dimgray')\n",
    "# Plot prop. hab in range on x and mean prop. hab in buffers on y\n",
    "# and a standard deviation 'error' line\n",
    "# Use the number of records for the species for the marker size\n",
    "ax.scatter(prophab, pbmean, s=nRecs, c='forestgreen', alpha=0.5)\n",
    "#ax.errorbar(prophab, pbmean, yerr=pbsd, marker='o', c='forestgreen', ms=math.sqrt(nRecs), alpha=0.5)\n"
   ]
  },
  {
   "cell_type": "markdown",
   "metadata": {},
   "source": [
    "### Plot Buffer Sensivity Metric (BSM) graphic <a name=\"code67\"></a><a name=\"BSM\"></a>"
   ]
  },
  {
   "cell_type": "code",
   "execution_count": 17,
   "metadata": {},
   "outputs": [
    {
     "data": {
      "image/png": "[encoded data removed]",
      "text/plain": [
       "<Figure size 720x576 with 2 Axes>"
      ]
     },
     "metadata": {
      "needs_background": "light"
     },
     "output_type": "display_data"
    },
    {
     "name": "stdout",
     "output_type": "stream",
     "text": [
      "+++++ Processing time was 0:01:45.300966 +++++\n"
     ]
    }
   ],
   "source": [
    "#################################### Start plotting BSM #######################################################\n",
    "\n",
    "fig, ax1 = plt.subplots(figsize=(10,8))\n",
    "ax2 = ax1.twinx()\n",
    "# Get the maximum number of occurrence points to set the right y limit in plot\n",
    "nmax = dfSens['nPts'].max()\n",
    "ymax = 10**(int(np.log10(nmax))+1)\n",
    "# Set data and parameters for each set of axes NOTE: axis 2 draws last i.e. on top\n",
    "ln = ax2.plot(dfSens['BufferCat'].astype(str), dfSens['Sensitivity'], marker='o', label='Sensitivity')\n",
    "br = ax1.bar(dfSens['BufferCat'].astype(str), dfSens['nPts'], color='steelblue', label='Number of Points')\n",
    "br2 = ax1.bar(dfSens['BufferCat'].astype(str), dfSens['TruePos'], color='lightblue', label='True Positives')\n",
    "ax2.yaxis.tick_left()\n",
    "ax1.yaxis.tick_right()\n",
    "\n",
    "ax2.set_ylim(0,1.1)\n",
    "ax1.set_ylim(0,ymax)\n",
    "\n",
    "ax1.set_xlabel(\"Buffer Distance Category (m)\")\n",
    "ax1.set_ylabel(\"Sensitiviy\",labelpad=35)\n",
    "ax2.set_ylabel(\"Number of Occurrence Points\",labelpad=35)\n",
    "ax1.set_title('Sensitivity by Buffer Distance - {0}'.format(sppcode))\n",
    "# Make a single legend for both axes plots\n",
    "lb = ln+[br]+[br2]\n",
    "labs = [l.get_label() for l in lb]\n",
    "ax2.legend(lb, labs, loc='upper left', fontsize=12)\n",
    "bars, labels = ax1.get_legend_handles_labels()\n",
    "\n",
    "# Define a function that will insert p-values above each bar of buffer categories\n",
    "# The p-values are taken from the dfSens dataframe and represent a test of\n",
    "# significance using an exact one-sided binomial test of number of TPs and\n",
    "# total number of points used in each buffer category\n",
    "def plabel(a, rects, pvalue, xpos='center'):\n",
    "    \"\"\"\n",
    "    Attach a text label above each bar.\n",
    "\n",
    "    *xpos* indicates which side to place the text with respect to\n",
    "    the center of the bar. It can be one of the following:\n",
    "    {'center', 'right', 'left'}.\n",
    "    \n",
    "    parameters:\n",
    "    a = matplotlib axis to plot on\n",
    "    rects = the rectangles representing the bars in the chart\n",
    "    pvalue = the label values to insert\n",
    "    xpos = center, right, left postion\n",
    "    \"\"\"\n",
    "\n",
    "    xpos = xpos.lower()  # normalize the case of the parameter\n",
    "    ha = {'center': 'center', 'right': 'left', 'left': 'right'}\n",
    "    offset = {'center': 0.5, 'right': 0.57, 'left': 0.43}  # x_txt = x + w*off\n",
    "\n",
    "    for i, rect in enumerate(rects):\n",
    "        height = rect.get_height()\n",
    "        a.text(rect.get_x() + rect.get_width()*offset[xpos], 1.0*height,\n",
    "                r'$p {}$'.format(pvalue[i]), ha=ha[xpos], va='bottom')\n",
    "\n",
    "pvals = dfSens['p-Value']\n",
    "plabel(ax1,br,pvals,'center')\n",
    "\n",
    "plt.show()\n",
    "\n",
    "t1 = datetime.now()\n",
    "print(\"+++++ Processing time was\", t1 - t0, '+++++')\n"
   ]
  },
  {
   "cell_type": "markdown",
   "metadata": {},
   "source": [
    "### Discussion <a name=\"discussion\"></a>"
   ]
  },
  {
   "cell_type": "markdown",
   "metadata": {},
   "source": [
    "**Buffer Proportion Assessment**\n",
    "\n",
    "The plot comparing the proportion of habitat throughout the species range (0.040) vs. the mean proportion of habitat with occurrence point buffers (0.229) indicates the model as better than random in predicting habitat adjacent to species locations. On average, the model predicts greater than 5 times more habitat adjacent to species locations than across the entire species' range.\n",
    "\n",
    "If the GAP model predicts that 4% of the black-bellied salamander range is suitable habitat, then a finite number of cells in the range could be considered habitat pixels. If these cells were distributed randomly across the range, the probability of any given cell being identified as habitat would be 0.04. Likewise, if we used point buffers to clip the random habitat landscape, the percentage of habitat cells in those buffers would be very close or equal to 4%. Assume that occurrence point locations are indicative of suitable habitat for the species. If a cell predicted by the model as habitat falls within the occurrence point buffer, because the number of habitat cells is finite, that means a “non-habitat” cell outside the buffer was correctly **not** identified as habitat. The higher the proportion of cells identified as habitat within occurrence point buffers, the better the model was at identifying areas of the range not considered habitat. The model is identifying parts of the range where there are occurrences and by extension, habitat.\n",
    "\n",
    "\n",
    "**Buffer Sensitivity Metric**\n",
    "\n",
    "Sensitivity (true positive fraction) of point locations at all but one buffer distance (100m - 0.489) is greater than 0.5. P-values of exact one-sided binomial tests for each buffer distance category indicates sensitivity values are all highly significant.\n",
    "\n",
    "Expectedly, as the buffer distance increases, sensitivity increases. In practical model use, sensitivity should be relatively high (> 0.7) because it is inversely related to omission rate (**not** predicting a species to occur when it was in fact observed at that location). In this example for the black-bellied salamander, model sensitivity approaches 0.7 somewhere between 1000 and 2000 meters indicating this model is most likely best suited to analyses where scales exceed 1000 meters.\n"
   ]
  },
  {
   "cell_type": "markdown",
   "metadata": {},
   "source": [
    "## Citations <a name=\"citations\"></a>\n",
    "\n",
    "Anderson, R.P., M. Gomez-Laverde, and A.T. Peterson. (2002). Geographical distributions of spiny pocket mice in South America: Insights from predictive models. Global Ecology and Biogeography 11, 131-141.  https://doi.org/10.1046/j.1466-822X.2002.00275.x.\n",
    "\n",
    "McKerrow A.J., N.M. Tarr M.J. Rubino and S.G. Williams. (2018). Patterns of species richness hotspots and estimates of their protection are sensitive to spatial resolution. Diversity and Distributions 24:1461-1477. https://doi.org/10.1111/ddi.12779.\n",
    "\n",
    "Pearson, R.G. (2007). Species’ distribution modeling for conservation educators and practitioners. Available at: http://biodiversityinformatics.amnh.org.\n",
    "\n",
    "Rondinini, C., Di Marco, M., Chiozza, F., Santulli, G., Baisero, D., Visconti, P., ... Boitani, L. (2011). Global habitat suitability models of terrestrial mammals. Philosophical Transaction of the Royal Society B: Biological Sciences, 366, 2633-2641. https://doi.org/10.1098/rstb.2011.0113."
   ]
  },
  {
   "cell_type": "code",
   "execution_count": null,
   "metadata": {},
   "outputs": [],
   "source": []
  }
 ],
 "metadata": {
  "kernelspec": {
   "display_name": "Python 3",
   "language": "python",
   "name": "python3"
  },
  "language_info": {
   "codemirror_mode": {
    "name": "ipython",
    "version": 3
   },
   "file_extension": ".py",
   "mimetype": "text/x-python",
   "name": "python",
   "nbconvert_exporter": "python",
   "pygments_lexer": "ipython3",
   "version": "3.6.5"
  }
 },
 "nbformat": 4,
 "nbformat_minor": 2
}
